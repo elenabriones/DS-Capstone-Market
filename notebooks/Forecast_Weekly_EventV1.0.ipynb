{
 "cells": [
  {
   "cell_type": "markdown",
   "metadata": {},
   "source": [
    "\n",
    "# Importamos Librerias"
   ]
  },
  {
   "cell_type": "code",
   "execution_count": 1,
   "metadata": {},
   "outputs": [],
   "source": [
    "# imports time series\n",
    "import pandas as pd\n",
    "import numpy as np\n",
    "\n",
    "# plots\n",
    "import matplotlib.pyplot as plt\n",
    "%matplotlib inline\n",
    "import seaborn as sns\n",
    "import plotly.express as px\n",
    "from random import random\n",
    "\n",
    "# Preprocessing\n",
    "from sklearn.preprocessing import OrdinalEncoder\n",
    "from sklearn.preprocessing import StandardScaler, PolynomialFeatures\n",
    "from sklearn.feature_selection import VarianceThreshold\n",
    "from scipy import stats\n",
    "from sklearn.preprocessing import LabelEncoder\n",
    "from sklearn.preprocessing import OneHotEncoder\n",
    "\n",
    "# Evaluacion\n",
    "from sklearn.metrics import mean_absolute_error, r2_score\n",
    "from sklearn.model_selection import train_test_split, cross_val_score\n",
    "from sklearn import metrics\n",
    "from sklearn.metrics import mean_squared_error\n",
    "\n",
    "# misc\n",
    "import os\n",
    "import time\n",
    "import itertools\n",
    "import warnings\n",
    "warnings.filterwarnings(\"ignore\")\n",
    "\n",
    "# apartado ts\n",
    "import statsmodels.api as sm\n",
    "from statsmodels.tsa.stattools import adfuller\n",
    "from statsmodels.tsa.stattools import acf, pacf\n",
    "from statsmodels.graphics.tsaplots import plot_acf, plot_pacf\n",
    "from statsmodels.tsa.seasonal import seasonal_decompose\n",
    "from statsmodels.tsa.holtwinters import SimpleExpSmoothing, ExponentialSmoothing, Holt\n",
    "from statsmodels.tsa.arima.model import ARIMA\n",
    "\n",
    "#Otros Modelos\n",
    "\n",
    "# Modelos ML de Regresion\n",
    "\n",
    "import xgboost as xgb\n",
    "from sklearn.linear_model import LinearRegression, Ridge, Lasso, ElasticNet, SGDRegressor\n",
    "from sklearn.tree import DecisionTreeRegressor\n",
    "from sklearn.neighbors import KNeighborsRegressor\n",
    "from sklearn.ensemble import RandomForestRegressor\n",
    "from sklearn.naive_bayes import GaussianNB\n",
    "from xgboost import XGBRegressor\n",
    "\n",
    "from sklearn.model_selection import cross_val_score\n",
    "from sklearn.linear_model import LinearRegression\n",
    "\n",
    "from prophet import Prophet\n",
    "\n",
    "import pickle\n",
    "import os\n",
    "\n",
    "from datetime import datetime\n",
    "\n",
    "from sklearn.model_selection import RandomizedSearchCV\n",
    "\n",
    "\n",
    "#Tamño default de los plots\n",
    "plt.rcParams[\"figure.figsize\"] = [10,6]\n",
    "\n"
   ]
  },
  {
   "cell_type": "markdown",
   "metadata": {},
   "source": [
    "# Importamos DATASET"
   ]
  },
  {
   "cell_type": "code",
   "execution_count": 2,
   "metadata": {},
   "outputs": [],
   "source": [
    "# Leemos los ficheros\n",
    "DATA_PATH = 'C:/Users/mpgir/Desktop/Data Science/Capstone/DS-Capstone-Market/data/'\n",
    "df_forecast= pd.read_csv(DATA_PATH+'weekly_sales_cleandata.csv')"
   ]
  },
  {
   "cell_type": "code",
   "execution_count": 3,
   "metadata": {},
   "outputs": [],
   "source": [
    "# Leemos los ficheros\n",
    "DATA_PATH = 'C:/Users/mpgir/Desktop/Data Science/Capstone/DS-Capstone-Market/data/'\n",
    "df_events= pd.read_csv(DATA_PATH+'daily_calendar_with_events.csv')"
   ]
  },
  {
   "cell_type": "code",
   "execution_count": 4,
   "metadata": {},
   "outputs": [
    {
     "name": "stdout",
     "output_type": "stream",
     "text": [
      "<class 'pandas.core.frame.DataFrame'>\n",
      "RangeIndex: 1913 entries, 0 to 1912\n",
      "Data columns (total 5 columns):\n",
      " #   Column       Non-Null Count  Dtype \n",
      "---  ------       --------------  ----- \n",
      " 0   date         1913 non-null   object\n",
      " 1   weekday      1913 non-null   object\n",
      " 2   weekday_int  1913 non-null   int64 \n",
      " 3   d            1913 non-null   object\n",
      " 4   event        26 non-null     object\n",
      "dtypes: int64(1), object(4)\n",
      "memory usage: 74.9+ KB\n"
     ]
    }
   ],
   "source": [
    "df_events.info() #Miramos el df_events"
   ]
  },
  {
   "cell_type": "code",
   "execution_count": 5,
   "metadata": {},
   "outputs": [],
   "source": [
    "#Agrupamos por \"yearweek\", para despues cruzar con el otro df\n",
    "df_events['date'] = pd.to_datetime(df_events['date'])\n",
    "df_events['yearweek'] = df_events['date'].dt.strftime('%Y%U').astype(int)"
   ]
  },
  {
   "cell_type": "code",
   "execution_count": 6,
   "metadata": {},
   "outputs": [
    {
     "data": {
      "text/html": [
       "<div>\n",
       "<style scoped>\n",
       "    .dataframe tbody tr th:only-of-type {\n",
       "        vertical-align: middle;\n",
       "    }\n",
       "\n",
       "    .dataframe tbody tr th {\n",
       "        vertical-align: top;\n",
       "    }\n",
       "\n",
       "    .dataframe thead th {\n",
       "        text-align: right;\n",
       "    }\n",
       "</style>\n",
       "<table border=\"1\" class=\"dataframe\">\n",
       "  <thead>\n",
       "    <tr style=\"text-align: right;\">\n",
       "      <th></th>\n",
       "      <th>date</th>\n",
       "      <th>weekday</th>\n",
       "      <th>weekday_int</th>\n",
       "      <th>d</th>\n",
       "      <th>event</th>\n",
       "      <th>yearweek</th>\n",
       "    </tr>\n",
       "  </thead>\n",
       "  <tbody>\n",
       "    <tr>\n",
       "      <th>0</th>\n",
       "      <td>2011-01-29</td>\n",
       "      <td>Saturday</td>\n",
       "      <td>1</td>\n",
       "      <td>d_1</td>\n",
       "      <td>NaN</td>\n",
       "      <td>201104</td>\n",
       "    </tr>\n",
       "    <tr>\n",
       "      <th>1</th>\n",
       "      <td>2011-01-30</td>\n",
       "      <td>Sunday</td>\n",
       "      <td>2</td>\n",
       "      <td>d_2</td>\n",
       "      <td>NaN</td>\n",
       "      <td>201105</td>\n",
       "    </tr>\n",
       "    <tr>\n",
       "      <th>2</th>\n",
       "      <td>2011-01-31</td>\n",
       "      <td>Monday</td>\n",
       "      <td>3</td>\n",
       "      <td>d_3</td>\n",
       "      <td>NaN</td>\n",
       "      <td>201105</td>\n",
       "    </tr>\n",
       "    <tr>\n",
       "      <th>3</th>\n",
       "      <td>2011-02-01</td>\n",
       "      <td>Tuesday</td>\n",
       "      <td>4</td>\n",
       "      <td>d_4</td>\n",
       "      <td>NaN</td>\n",
       "      <td>201105</td>\n",
       "    </tr>\n",
       "    <tr>\n",
       "      <th>4</th>\n",
       "      <td>2011-02-02</td>\n",
       "      <td>Wednesday</td>\n",
       "      <td>5</td>\n",
       "      <td>d_5</td>\n",
       "      <td>NaN</td>\n",
       "      <td>201105</td>\n",
       "    </tr>\n",
       "  </tbody>\n",
       "</table>\n",
       "</div>"
      ],
      "text/plain": [
       "        date    weekday  weekday_int    d event  yearweek\n",
       "0 2011-01-29   Saturday            1  d_1   NaN    201104\n",
       "1 2011-01-30     Sunday            2  d_2   NaN    201105\n",
       "2 2011-01-31     Monday            3  d_3   NaN    201105\n",
       "3 2011-02-01    Tuesday            4  d_4   NaN    201105\n",
       "4 2011-02-02  Wednesday            5  d_5   NaN    201105"
      ]
     },
     "execution_count": 6,
     "metadata": {},
     "output_type": "execute_result"
    }
   ],
   "source": [
    "df_events.head()"
   ]
  },
  {
   "cell_type": "code",
   "execution_count": 7,
   "metadata": {},
   "outputs": [
    {
     "data": {
      "text/plain": [
       "date           0\n",
       "weekday        0\n",
       "weekday_int    0\n",
       "d              0\n",
       "event          0\n",
       "yearweek       0\n",
       "dtype: int64"
      ]
     },
     "execution_count": 7,
     "metadata": {},
     "output_type": "execute_result"
    }
   ],
   "source": [
    "df_events.fillna(0, inplace=True) #Llenamos los NA para que cuando hagamos el merge, salga bien\n",
    "df_events.isnull().sum()"
   ]
  },
  {
   "cell_type": "code",
   "execution_count": 8,
   "metadata": {},
   "outputs": [],
   "source": [
    "#convertimos a String y agrupamos porque ambos df tienen distinta granularidad\n",
    "df_events= df_events.groupby('yearweek')['event'].apply(lambda x: ','.join(x.astype(str))).reset_index() "
   ]
  },
  {
   "cell_type": "code",
   "execution_count": 9,
   "metadata": {},
   "outputs": [
    {
     "name": "stdout",
     "output_type": "stream",
     "text": [
      "(8354260, 10)\n"
     ]
    },
    {
     "name": "stdout",
     "output_type": "stream",
     "text": [
      "(8354260, 11)\n"
     ]
    }
   ],
   "source": [
    "#Hacemos el \"left\" para no aumentar filas, pero si una columna\n",
    "print(df_forecast.shape) \n",
    "\n",
    "df = pd.merge(df_forecast, df_events[['yearweek', 'event']], on='yearweek', how='left')\n",
    "\n",
    "print(df.shape)"
   ]
  },
  {
   "cell_type": "code",
   "execution_count": 10,
   "metadata": {},
   "outputs": [],
   "source": [
    "#Limpiamos despues del join\n",
    "df['event'] = df['event'].str.replace('0,', '').str.replace(',0', '')"
   ]
  },
  {
   "cell_type": "code",
   "execution_count": 11,
   "metadata": {},
   "outputs": [
    {
     "data": {
      "text/html": [
       "<div>\n",
       "<style scoped>\n",
       "    .dataframe tbody tr th:only-of-type {\n",
       "        vertical-align: middle;\n",
       "    }\n",
       "\n",
       "    .dataframe tbody tr th {\n",
       "        vertical-align: top;\n",
       "    }\n",
       "\n",
       "    .dataframe thead th {\n",
       "        text-align: right;\n",
       "    }\n",
       "</style>\n",
       "<table border=\"1\" class=\"dataframe\">\n",
       "  <thead>\n",
       "    <tr style=\"text-align: right;\">\n",
       "      <th></th>\n",
       "      <th>id</th>\n",
       "      <th>item</th>\n",
       "      <th>category</th>\n",
       "      <th>department</th>\n",
       "      <th>store</th>\n",
       "      <th>store_code</th>\n",
       "      <th>region</th>\n",
       "      <th>yearweek</th>\n",
       "      <th>qty_sold</th>\n",
       "      <th>sell_price</th>\n",
       "      <th>event</th>\n",
       "    </tr>\n",
       "  </thead>\n",
       "  <tbody>\n",
       "    <tr>\n",
       "      <th>257</th>\n",
       "      <td>ACCESORIES_1_001_BOS_1</td>\n",
       "      <td>ACCESORIES_1_001</td>\n",
       "      <td>ACCESORIES</td>\n",
       "      <td>ACCESORIES_1</td>\n",
       "      <td>South_End</td>\n",
       "      <td>BOS_1</td>\n",
       "      <td>Boston</td>\n",
       "      <td>201553</td>\n",
       "      <td>4</td>\n",
       "      <td>10.9858</td>\n",
       "      <td>NaN</td>\n",
       "    </tr>\n",
       "    <tr>\n",
       "      <th>531</th>\n",
       "      <td>ACCESORIES_1_001_BOS_2</td>\n",
       "      <td>ACCESORIES_1_001</td>\n",
       "      <td>ACCESORIES</td>\n",
       "      <td>ACCESORIES_1</td>\n",
       "      <td>Roxbury</td>\n",
       "      <td>BOS_2</td>\n",
       "      <td>Boston</td>\n",
       "      <td>201553</td>\n",
       "      <td>5</td>\n",
       "      <td>10.9858</td>\n",
       "      <td>NaN</td>\n",
       "    </tr>\n",
       "    <tr>\n",
       "      <th>805</th>\n",
       "      <td>ACCESORIES_1_001_BOS_3</td>\n",
       "      <td>ACCESORIES_1_001</td>\n",
       "      <td>ACCESORIES</td>\n",
       "      <td>ACCESORIES_1</td>\n",
       "      <td>Back_Bay</td>\n",
       "      <td>BOS_3</td>\n",
       "      <td>Boston</td>\n",
       "      <td>201553</td>\n",
       "      <td>9</td>\n",
       "      <td>10.9858</td>\n",
       "      <td>NaN</td>\n",
       "    </tr>\n",
       "    <tr>\n",
       "      <th>1079</th>\n",
       "      <td>ACCESORIES_1_001_NYC_1</td>\n",
       "      <td>ACCESORIES_1_001</td>\n",
       "      <td>ACCESORIES</td>\n",
       "      <td>ACCESORIES_1</td>\n",
       "      <td>Greenwich_Village</td>\n",
       "      <td>NYC_1</td>\n",
       "      <td>New York</td>\n",
       "      <td>201553</td>\n",
       "      <td>6</td>\n",
       "      <td>10.9858</td>\n",
       "      <td>NaN</td>\n",
       "    </tr>\n",
       "    <tr>\n",
       "      <th>1353</th>\n",
       "      <td>ACCESORIES_1_001_NYC_2</td>\n",
       "      <td>ACCESORIES_1_001</td>\n",
       "      <td>ACCESORIES</td>\n",
       "      <td>ACCESORIES_1</td>\n",
       "      <td>Harlem</td>\n",
       "      <td>NYC_2</td>\n",
       "      <td>New York</td>\n",
       "      <td>201553</td>\n",
       "      <td>0</td>\n",
       "      <td>10.9858</td>\n",
       "      <td>NaN</td>\n",
       "    </tr>\n",
       "    <tr>\n",
       "      <th>...</th>\n",
       "      <td>...</td>\n",
       "      <td>...</td>\n",
       "      <td>...</td>\n",
       "      <td>...</td>\n",
       "      <td>...</td>\n",
       "      <td>...</td>\n",
       "      <td>...</td>\n",
       "      <td>...</td>\n",
       "      <td>...</td>\n",
       "      <td>...</td>\n",
       "      <td>...</td>\n",
       "    </tr>\n",
       "    <tr>\n",
       "      <th>8353147</th>\n",
       "      <td>SUPERMARKET_3_827_NYC_3</td>\n",
       "      <td>SUPERMARKET_3_827</td>\n",
       "      <td>SUPERMARKET</td>\n",
       "      <td>SUPERMARKET_3</td>\n",
       "      <td>Tribeca</td>\n",
       "      <td>NYC_3</td>\n",
       "      <td>New York</td>\n",
       "      <td>201553</td>\n",
       "      <td>41</td>\n",
       "      <td>1.2000</td>\n",
       "      <td>NaN</td>\n",
       "    </tr>\n",
       "    <tr>\n",
       "      <th>8353421</th>\n",
       "      <td>SUPERMARKET_3_827_NYC_4</td>\n",
       "      <td>SUPERMARKET_3_827</td>\n",
       "      <td>SUPERMARKET</td>\n",
       "      <td>SUPERMARKET_3</td>\n",
       "      <td>Brooklyn</td>\n",
       "      <td>NYC_4</td>\n",
       "      <td>New York</td>\n",
       "      <td>201553</td>\n",
       "      <td>0</td>\n",
       "      <td>1.2000</td>\n",
       "      <td>NaN</td>\n",
       "    </tr>\n",
       "    <tr>\n",
       "      <th>8353695</th>\n",
       "      <td>SUPERMARKET_3_827_PHI_1</td>\n",
       "      <td>SUPERMARKET_3_827</td>\n",
       "      <td>SUPERMARKET</td>\n",
       "      <td>SUPERMARKET_3</td>\n",
       "      <td>Midtown_Village</td>\n",
       "      <td>PHI_1</td>\n",
       "      <td>Philadelphia</td>\n",
       "      <td>201553</td>\n",
       "      <td>26</td>\n",
       "      <td>1.2000</td>\n",
       "      <td>NaN</td>\n",
       "    </tr>\n",
       "    <tr>\n",
       "      <th>8353969</th>\n",
       "      <td>SUPERMARKET_3_827_PHI_2</td>\n",
       "      <td>SUPERMARKET_3_827</td>\n",
       "      <td>SUPERMARKET</td>\n",
       "      <td>SUPERMARKET_3</td>\n",
       "      <td>Yorktown</td>\n",
       "      <td>PHI_2</td>\n",
       "      <td>Philadelphia</td>\n",
       "      <td>201553</td>\n",
       "      <td>11</td>\n",
       "      <td>1.2000</td>\n",
       "      <td>NaN</td>\n",
       "    </tr>\n",
       "    <tr>\n",
       "      <th>8354243</th>\n",
       "      <td>SUPERMARKET_3_827_PHI_3</td>\n",
       "      <td>SUPERMARKET_3_827</td>\n",
       "      <td>SUPERMARKET</td>\n",
       "      <td>SUPERMARKET_3</td>\n",
       "      <td>Queen_Village</td>\n",
       "      <td>PHI_3</td>\n",
       "      <td>Philadelphia</td>\n",
       "      <td>201553</td>\n",
       "      <td>0</td>\n",
       "      <td>1.2000</td>\n",
       "      <td>NaN</td>\n",
       "    </tr>\n",
       "  </tbody>\n",
       "</table>\n",
       "<p>30490 rows × 11 columns</p>\n",
       "</div>"
      ],
      "text/plain": [
       "                              id               item     category  \\\n",
       "257       ACCESORIES_1_001_BOS_1   ACCESORIES_1_001   ACCESORIES   \n",
       "531       ACCESORIES_1_001_BOS_2   ACCESORIES_1_001   ACCESORIES   \n",
       "805       ACCESORIES_1_001_BOS_3   ACCESORIES_1_001   ACCESORIES   \n",
       "1079      ACCESORIES_1_001_NYC_1   ACCESORIES_1_001   ACCESORIES   \n",
       "1353      ACCESORIES_1_001_NYC_2   ACCESORIES_1_001   ACCESORIES   \n",
       "...                          ...                ...          ...   \n",
       "8353147  SUPERMARKET_3_827_NYC_3  SUPERMARKET_3_827  SUPERMARKET   \n",
       "8353421  SUPERMARKET_3_827_NYC_4  SUPERMARKET_3_827  SUPERMARKET   \n",
       "8353695  SUPERMARKET_3_827_PHI_1  SUPERMARKET_3_827  SUPERMARKET   \n",
       "8353969  SUPERMARKET_3_827_PHI_2  SUPERMARKET_3_827  SUPERMARKET   \n",
       "8354243  SUPERMARKET_3_827_PHI_3  SUPERMARKET_3_827  SUPERMARKET   \n",
       "\n",
       "            department              store store_code        region  yearweek  \\\n",
       "257       ACCESORIES_1          South_End      BOS_1        Boston    201553   \n",
       "531       ACCESORIES_1            Roxbury      BOS_2        Boston    201553   \n",
       "805       ACCESORIES_1           Back_Bay      BOS_3        Boston    201553   \n",
       "1079      ACCESORIES_1  Greenwich_Village      NYC_1      New York    201553   \n",
       "1353      ACCESORIES_1             Harlem      NYC_2      New York    201553   \n",
       "...                ...                ...        ...           ...       ...   \n",
       "8353147  SUPERMARKET_3            Tribeca      NYC_3      New York    201553   \n",
       "8353421  SUPERMARKET_3           Brooklyn      NYC_4      New York    201553   \n",
       "8353695  SUPERMARKET_3    Midtown_Village      PHI_1  Philadelphia    201553   \n",
       "8353969  SUPERMARKET_3           Yorktown      PHI_2  Philadelphia    201553   \n",
       "8354243  SUPERMARKET_3      Queen_Village      PHI_3  Philadelphia    201553   \n",
       "\n",
       "         qty_sold  sell_price event  \n",
       "257             4     10.9858   NaN  \n",
       "531             5     10.9858   NaN  \n",
       "805             9     10.9858   NaN  \n",
       "1079            6     10.9858   NaN  \n",
       "1353            0     10.9858   NaN  \n",
       "...           ...         ...   ...  \n",
       "8353147        41      1.2000   NaN  \n",
       "8353421         0      1.2000   NaN  \n",
       "8353695        26      1.2000   NaN  \n",
       "8353969        11      1.2000   NaN  \n",
       "8354243         0      1.2000   NaN  \n",
       "\n",
       "[30490 rows x 11 columns]"
      ]
     },
     "execution_count": 11,
     "metadata": {},
     "output_type": "execute_result"
    }
   ],
   "source": [
    "df[df[\"event\"].isnull()] #Miramos la semana 201553, que no tenemos registros de eventos"
   ]
  },
  {
   "cell_type": "code",
   "execution_count": 12,
   "metadata": {},
   "outputs": [
    {
     "data": {
      "text/plain": [
       "id            0\n",
       "item          0\n",
       "category      0\n",
       "department    0\n",
       "store         0\n",
       "store_code    0\n",
       "region        0\n",
       "yearweek      0\n",
       "qty_sold      0\n",
       "sell_price    0\n",
       "event         0\n",
       "dtype: int64"
      ]
     },
     "execution_count": 12,
     "metadata": {},
     "output_type": "execute_result"
    }
   ],
   "source": [
    "df[\"event\"].fillna(\"0\", inplace=True) #Llenamos los NA de la semana 201553\n",
    "df.isnull().sum()"
   ]
  },
  {
   "cell_type": "code",
   "execution_count": 13,
   "metadata": {},
   "outputs": [
    {
     "data": {
      "text/plain": [
       "event\n",
       "0                 7683480\n",
       "SuperBowl          182940\n",
       "Ramadan starts     152450\n",
       "Thanksgiving       152450\n",
       "Easter             152450\n",
       "NewYear             30490\n",
       "Name: count, dtype: int64"
      ]
     },
     "execution_count": 13,
     "metadata": {},
     "output_type": "execute_result"
    }
   ],
   "source": [
    "df[\"event\"].value_counts()"
   ]
  },
  {
   "cell_type": "code",
   "execution_count": 14,
   "metadata": {},
   "outputs": [],
   "source": [
    "df_forecast=df.copy()"
   ]
  },
  {
   "cell_type": "code",
   "execution_count": 15,
   "metadata": {},
   "outputs": [
    {
     "name": "stdout",
     "output_type": "stream",
     "text": [
      "<class 'pandas.core.frame.DataFrame'>\n",
      "RangeIndex: 8354260 entries, 0 to 8354259\n",
      "Data columns (total 11 columns):\n",
      " #   Column      Dtype  \n",
      "---  ------      -----  \n",
      " 0   id          object \n",
      " 1   item        object \n",
      " 2   category    object \n",
      " 3   department  object \n",
      " 4   store       object \n",
      " 5   store_code  object \n",
      " 6   region      object \n",
      " 7   yearweek    int64  \n",
      " 8   qty_sold    int64  \n",
      " 9   sell_price  float64\n",
      " 10  event       object \n",
      "dtypes: float64(1), int64(2), object(8)\n",
      "memory usage: 701.1+ MB\n"
     ]
    }
   ],
   "source": [
    "#Miramos cuantas filas y columnas tiene el df Weekly_sales_clean_data\n",
    "df_forecast.info()"
   ]
  },
  {
   "cell_type": "code",
   "execution_count": 16,
   "metadata": {},
   "outputs": [
    {
     "data": {
      "text/html": [
       "<div>\n",
       "<style scoped>\n",
       "    .dataframe tbody tr th:only-of-type {\n",
       "        vertical-align: middle;\n",
       "    }\n",
       "\n",
       "    .dataframe tbody tr th {\n",
       "        vertical-align: top;\n",
       "    }\n",
       "\n",
       "    .dataframe thead th {\n",
       "        text-align: right;\n",
       "    }\n",
       "</style>\n",
       "<table border=\"1\" class=\"dataframe\">\n",
       "  <thead>\n",
       "    <tr style=\"text-align: right;\">\n",
       "      <th></th>\n",
       "      <th>id</th>\n",
       "      <th>item</th>\n",
       "      <th>category</th>\n",
       "      <th>department</th>\n",
       "      <th>store</th>\n",
       "      <th>store_code</th>\n",
       "      <th>region</th>\n",
       "      <th>yearweek</th>\n",
       "      <th>qty_sold</th>\n",
       "      <th>sell_price</th>\n",
       "      <th>event</th>\n",
       "    </tr>\n",
       "  </thead>\n",
       "  <tbody>\n",
       "    <tr>\n",
       "      <th>0</th>\n",
       "      <td>ACCESORIES_1_001_BOS_1</td>\n",
       "      <td>ACCESORIES_1_001</td>\n",
       "      <td>ACCESORIES</td>\n",
       "      <td>ACCESORIES_1</td>\n",
       "      <td>South_End</td>\n",
       "      <td>BOS_1</td>\n",
       "      <td>Boston</td>\n",
       "      <td>201104</td>\n",
       "      <td>0</td>\n",
       "      <td>12.7414</td>\n",
       "      <td>0</td>\n",
       "    </tr>\n",
       "    <tr>\n",
       "      <th>1</th>\n",
       "      <td>ACCESORIES_1_001_BOS_1</td>\n",
       "      <td>ACCESORIES_1_001</td>\n",
       "      <td>ACCESORIES</td>\n",
       "      <td>ACCESORIES_1</td>\n",
       "      <td>South_End</td>\n",
       "      <td>BOS_1</td>\n",
       "      <td>Boston</td>\n",
       "      <td>201105</td>\n",
       "      <td>0</td>\n",
       "      <td>12.7414</td>\n",
       "      <td>0</td>\n",
       "    </tr>\n",
       "    <tr>\n",
       "      <th>2</th>\n",
       "      <td>ACCESORIES_1_001_BOS_1</td>\n",
       "      <td>ACCESORIES_1_001</td>\n",
       "      <td>ACCESORIES</td>\n",
       "      <td>ACCESORIES_1</td>\n",
       "      <td>South_End</td>\n",
       "      <td>BOS_1</td>\n",
       "      <td>Boston</td>\n",
       "      <td>201106</td>\n",
       "      <td>0</td>\n",
       "      <td>12.7414</td>\n",
       "      <td>SuperBowl</td>\n",
       "    </tr>\n",
       "    <tr>\n",
       "      <th>3</th>\n",
       "      <td>ACCESORIES_1_001_BOS_1</td>\n",
       "      <td>ACCESORIES_1_001</td>\n",
       "      <td>ACCESORIES</td>\n",
       "      <td>ACCESORIES_1</td>\n",
       "      <td>South_End</td>\n",
       "      <td>BOS_1</td>\n",
       "      <td>Boston</td>\n",
       "      <td>201107</td>\n",
       "      <td>0</td>\n",
       "      <td>12.7414</td>\n",
       "      <td>0</td>\n",
       "    </tr>\n",
       "    <tr>\n",
       "      <th>4</th>\n",
       "      <td>ACCESORIES_1_001_BOS_1</td>\n",
       "      <td>ACCESORIES_1_001</td>\n",
       "      <td>ACCESORIES</td>\n",
       "      <td>ACCESORIES_1</td>\n",
       "      <td>South_End</td>\n",
       "      <td>BOS_1</td>\n",
       "      <td>Boston</td>\n",
       "      <td>201108</td>\n",
       "      <td>0</td>\n",
       "      <td>12.7414</td>\n",
       "      <td>0</td>\n",
       "    </tr>\n",
       "  </tbody>\n",
       "</table>\n",
       "</div>"
      ],
      "text/plain": [
       "                       id              item    category    department  \\\n",
       "0  ACCESORIES_1_001_BOS_1  ACCESORIES_1_001  ACCESORIES  ACCESORIES_1   \n",
       "1  ACCESORIES_1_001_BOS_1  ACCESORIES_1_001  ACCESORIES  ACCESORIES_1   \n",
       "2  ACCESORIES_1_001_BOS_1  ACCESORIES_1_001  ACCESORIES  ACCESORIES_1   \n",
       "3  ACCESORIES_1_001_BOS_1  ACCESORIES_1_001  ACCESORIES  ACCESORIES_1   \n",
       "4  ACCESORIES_1_001_BOS_1  ACCESORIES_1_001  ACCESORIES  ACCESORIES_1   \n",
       "\n",
       "       store store_code  region  yearweek  qty_sold  sell_price      event  \n",
       "0  South_End      BOS_1  Boston    201104         0     12.7414          0  \n",
       "1  South_End      BOS_1  Boston    201105         0     12.7414          0  \n",
       "2  South_End      BOS_1  Boston    201106         0     12.7414  SuperBowl  \n",
       "3  South_End      BOS_1  Boston    201107         0     12.7414          0  \n",
       "4  South_End      BOS_1  Boston    201108         0     12.7414          0  "
      ]
     },
     "execution_count": 16,
     "metadata": {},
     "output_type": "execute_result"
    }
   ],
   "source": [
    "df_forecast.head()"
   ]
  },
  {
   "cell_type": "code",
   "execution_count": 17,
   "metadata": {},
   "outputs": [],
   "source": [
    "# 3.363.362 rows × 10 columns registros con venta cero, que son el 40% del total de registros.\n",
    "venta_cero=df_forecast [df_forecast['qty_sold']<=0]"
   ]
  },
  {
   "cell_type": "code",
   "execution_count": 18,
   "metadata": {},
   "outputs": [
    {
     "data": {
      "text/plain": [
       "id\n",
       "HOME_&_GARDEN_1_020_NYC_3    270\n",
       "HOME_&_GARDEN_1_400_NYC_4    270\n",
       "HOME_&_GARDEN_1_032_BOS_1    269\n",
       "SUPERMARKET_3_778_NYC_2      269\n",
       "SUPERMARKET_3_135_PHI_2      269\n",
       "                            ... \n",
       "SUPERMARKET_3_534_PHI_3        1\n",
       "ACCESORIES_1_319_PHI_1         1\n",
       "SUPERMARKET_3_109_NYC_3        1\n",
       "SUPERMARKET_3_107_NYC_3        1\n",
       "HOME_&_GARDEN_1_243_PHI_2      1\n",
       "Name: count, Length: 30131, dtype: int64"
      ]
     },
     "execution_count": 18,
     "metadata": {},
     "output_type": "execute_result"
    }
   ],
   "source": [
    "venta_cero[\"id\"].value_counts() #vemos que no es un producto en especial, sino varios."
   ]
  },
  {
   "cell_type": "code",
   "execution_count": 19,
   "metadata": {},
   "outputs": [
    {
     "data": {
      "text/plain": [
       "yearweek\n",
       "201104    21742\n",
       "201105    19543\n",
       "201107    19404\n",
       "201108    19358\n",
       "201109    19307\n",
       "          ...  \n",
       "201612     5730\n",
       "201613     5341\n",
       "201615     5244\n",
       "201614     5039\n",
       "201616     4890\n",
       "Name: count, Length: 274, dtype: int64"
      ]
     },
     "execution_count": 19,
     "metadata": {},
     "output_type": "execute_result"
    }
   ],
   "source": [
    "venta_cero[\"yearweek\"].value_counts() #también son varias semanas y años."
   ]
  },
  {
   "cell_type": "code",
   "execution_count": 20,
   "metadata": {},
   "outputs": [],
   "source": [
    "#Creamos columnas Year y Week para  analizar después\n",
    "df_forecast['year'] = df_forecast['yearweek'] // 100 \n",
    "df_forecast['week'] = df_forecast['yearweek'] % 100 \n"
   ]
  },
  {
   "cell_type": "code",
   "execution_count": 21,
   "metadata": {},
   "outputs": [],
   "source": [
    "#Convertimos Columna \"yearweek\"a formato datetime.\n",
    "#Primero convertimos todo a objeto para despues aplicar datetime\n",
    "\n",
    "df_forecast[['yearweek', 'year', 'week']] = df_forecast[['yearweek', 'year', 'week']].apply(lambda x: x.astype(str))\n",
    "\n",
    "#aplicamos un \"0\" para que tenga formato Día y se pueda aplica el formato datetime\n",
    "df_forecast['yearweek'] = df_forecast['yearweek'] + '0'\n",
    "df_forecast['yearweek'] = pd.to_datetime(df_forecast['yearweek'], format='%Y%W%w')\n"
   ]
  },
  {
   "cell_type": "code",
   "execution_count": 22,
   "metadata": {},
   "outputs": [],
   "source": [
    "df_forecast[['year', 'week']] = df_forecast[['year', 'week']].apply(pd.to_numeric)\n"
   ]
  },
  {
   "cell_type": "code",
   "execution_count": 23,
   "metadata": {},
   "outputs": [
    {
     "data": {
      "text/plain": [
       "30490"
      ]
     },
     "execution_count": 23,
     "metadata": {},
     "output_type": "execute_result"
    }
   ],
   "source": [
    "#Tenemos 30.490 series temporales\n",
    "df_forecast[\"id\"].nunique()"
   ]
  },
  {
   "cell_type": "code",
   "execution_count": 24,
   "metadata": {},
   "outputs": [],
   "source": [
    "MIN_DATE = df_forecast[\"yearweek\"].min()\n",
    "MAX_DATE = df_forecast[\"yearweek\"].max()"
   ]
  },
  {
   "cell_type": "code",
   "execution_count": 25,
   "metadata": {},
   "outputs": [
    {
     "name": "stdout",
     "output_type": "stream",
     "text": [
      "Min date is 2011-01-30 00:00:00\n",
      "Max date is 2016-04-24 00:00:00\n"
     ]
    }
   ],
   "source": [
    "print(f\"Min date is {MIN_DATE}\\nMax date is {MAX_DATE}\") "
   ]
  },
  {
   "cell_type": "code",
   "execution_count": 26,
   "metadata": {},
   "outputs": [
    {
     "data": {
      "text/plain": [
       "id            0\n",
       "item          0\n",
       "category      0\n",
       "department    0\n",
       "store         0\n",
       "store_code    0\n",
       "region        0\n",
       "yearweek      0\n",
       "qty_sold      0\n",
       "sell_price    0\n",
       "event         0\n",
       "year          0\n",
       "week          0\n",
       "dtype: int64"
      ]
     },
     "execution_count": 26,
     "metadata": {},
     "output_type": "execute_result"
    }
   ],
   "source": [
    "df_forecast.isnull().sum() #No tenemos nulos porque anteriormente los imputamos con el bfil y ffill en notebook dataclean"
   ]
  },
  {
   "cell_type": "markdown",
   "metadata": {},
   "source": [
    "\n",
    "# Data Imputation\n"
   ]
  },
  {
   "cell_type": "code",
   "execution_count": 27,
   "metadata": {},
   "outputs": [],
   "source": [
    "sample_ts = \"HOME_&_GARDEN_1_020_NYC_3\" # selecionamos una serie temporal, para analizar despues"
   ]
  },
  {
   "cell_type": "code",
   "execution_count": 28,
   "metadata": {},
   "outputs": [
    {
     "data": {
      "text/html": [
       "<div>\n",
       "<style scoped>\n",
       "    .dataframe tbody tr th:only-of-type {\n",
       "        vertical-align: middle;\n",
       "    }\n",
       "\n",
       "    .dataframe tbody tr th {\n",
       "        vertical-align: top;\n",
       "    }\n",
       "\n",
       "    .dataframe thead th {\n",
       "        text-align: right;\n",
       "    }\n",
       "</style>\n",
       "<table border=\"1\" class=\"dataframe\">\n",
       "  <thead>\n",
       "    <tr style=\"text-align: right;\">\n",
       "      <th></th>\n",
       "      <th>id</th>\n",
       "      <th>item</th>\n",
       "      <th>category</th>\n",
       "      <th>department</th>\n",
       "      <th>store</th>\n",
       "      <th>store_code</th>\n",
       "      <th>region</th>\n",
       "      <th>yearweek</th>\n",
       "      <th>qty_sold</th>\n",
       "      <th>sell_price</th>\n",
       "      <th>event</th>\n",
       "      <th>year</th>\n",
       "      <th>week</th>\n",
       "    </tr>\n",
       "  </thead>\n",
       "  <tbody>\n",
       "    <tr>\n",
       "      <th>1601530</th>\n",
       "      <td>HOME_&amp;_GARDEN_1_020_NYC_3</td>\n",
       "      <td>HOME_&amp;_GARDEN_1_020</td>\n",
       "      <td>HOME_&amp;_GARDEN</td>\n",
       "      <td>HOME_&amp;_GARDEN_1</td>\n",
       "      <td>Tribeca</td>\n",
       "      <td>NYC_3</td>\n",
       "      <td>New York</td>\n",
       "      <td>2011-01-30</td>\n",
       "      <td>0</td>\n",
       "      <td>8.7125</td>\n",
       "      <td>0</td>\n",
       "      <td>2011</td>\n",
       "      <td>4</td>\n",
       "    </tr>\n",
       "    <tr>\n",
       "      <th>1601531</th>\n",
       "      <td>HOME_&amp;_GARDEN_1_020_NYC_3</td>\n",
       "      <td>HOME_&amp;_GARDEN_1_020</td>\n",
       "      <td>HOME_&amp;_GARDEN</td>\n",
       "      <td>HOME_&amp;_GARDEN_1</td>\n",
       "      <td>Tribeca</td>\n",
       "      <td>NYC_3</td>\n",
       "      <td>New York</td>\n",
       "      <td>2011-02-06</td>\n",
       "      <td>0</td>\n",
       "      <td>8.7125</td>\n",
       "      <td>0</td>\n",
       "      <td>2011</td>\n",
       "      <td>5</td>\n",
       "    </tr>\n",
       "    <tr>\n",
       "      <th>1601532</th>\n",
       "      <td>HOME_&amp;_GARDEN_1_020_NYC_3</td>\n",
       "      <td>HOME_&amp;_GARDEN_1_020</td>\n",
       "      <td>HOME_&amp;_GARDEN</td>\n",
       "      <td>HOME_&amp;_GARDEN_1</td>\n",
       "      <td>Tribeca</td>\n",
       "      <td>NYC_3</td>\n",
       "      <td>New York</td>\n",
       "      <td>2011-02-13</td>\n",
       "      <td>0</td>\n",
       "      <td>8.7125</td>\n",
       "      <td>SuperBowl</td>\n",
       "      <td>2011</td>\n",
       "      <td>6</td>\n",
       "    </tr>\n",
       "    <tr>\n",
       "      <th>1601533</th>\n",
       "      <td>HOME_&amp;_GARDEN_1_020_NYC_3</td>\n",
       "      <td>HOME_&amp;_GARDEN_1_020</td>\n",
       "      <td>HOME_&amp;_GARDEN</td>\n",
       "      <td>HOME_&amp;_GARDEN_1</td>\n",
       "      <td>Tribeca</td>\n",
       "      <td>NYC_3</td>\n",
       "      <td>New York</td>\n",
       "      <td>2011-02-20</td>\n",
       "      <td>0</td>\n",
       "      <td>8.7125</td>\n",
       "      <td>0</td>\n",
       "      <td>2011</td>\n",
       "      <td>7</td>\n",
       "    </tr>\n",
       "    <tr>\n",
       "      <th>1601534</th>\n",
       "      <td>HOME_&amp;_GARDEN_1_020_NYC_3</td>\n",
       "      <td>HOME_&amp;_GARDEN_1_020</td>\n",
       "      <td>HOME_&amp;_GARDEN</td>\n",
       "      <td>HOME_&amp;_GARDEN_1</td>\n",
       "      <td>Tribeca</td>\n",
       "      <td>NYC_3</td>\n",
       "      <td>New York</td>\n",
       "      <td>2011-02-27</td>\n",
       "      <td>0</td>\n",
       "      <td>8.7125</td>\n",
       "      <td>0</td>\n",
       "      <td>2011</td>\n",
       "      <td>8</td>\n",
       "    </tr>\n",
       "    <tr>\n",
       "      <th>...</th>\n",
       "      <td>...</td>\n",
       "      <td>...</td>\n",
       "      <td>...</td>\n",
       "      <td>...</td>\n",
       "      <td>...</td>\n",
       "      <td>...</td>\n",
       "      <td>...</td>\n",
       "      <td>...</td>\n",
       "      <td>...</td>\n",
       "      <td>...</td>\n",
       "      <td>...</td>\n",
       "      <td>...</td>\n",
       "      <td>...</td>\n",
       "    </tr>\n",
       "    <tr>\n",
       "      <th>1601799</th>\n",
       "      <td>HOME_&amp;_GARDEN_1_020_NYC_3</td>\n",
       "      <td>HOME_&amp;_GARDEN_1_020</td>\n",
       "      <td>HOME_&amp;_GARDEN</td>\n",
       "      <td>HOME_&amp;_GARDEN_1</td>\n",
       "      <td>Tribeca</td>\n",
       "      <td>NYC_3</td>\n",
       "      <td>New York</td>\n",
       "      <td>2016-03-27</td>\n",
       "      <td>2</td>\n",
       "      <td>8.7125</td>\n",
       "      <td>0</td>\n",
       "      <td>2016</td>\n",
       "      <td>12</td>\n",
       "    </tr>\n",
       "    <tr>\n",
       "      <th>1601800</th>\n",
       "      <td>HOME_&amp;_GARDEN_1_020_NYC_3</td>\n",
       "      <td>HOME_&amp;_GARDEN_1_020</td>\n",
       "      <td>HOME_&amp;_GARDEN</td>\n",
       "      <td>HOME_&amp;_GARDEN_1</td>\n",
       "      <td>Tribeca</td>\n",
       "      <td>NYC_3</td>\n",
       "      <td>New York</td>\n",
       "      <td>2016-04-03</td>\n",
       "      <td>6</td>\n",
       "      <td>8.7125</td>\n",
       "      <td>Easter</td>\n",
       "      <td>2016</td>\n",
       "      <td>13</td>\n",
       "    </tr>\n",
       "    <tr>\n",
       "      <th>1601801</th>\n",
       "      <td>HOME_&amp;_GARDEN_1_020_NYC_3</td>\n",
       "      <td>HOME_&amp;_GARDEN_1_020</td>\n",
       "      <td>HOME_&amp;_GARDEN</td>\n",
       "      <td>HOME_&amp;_GARDEN_1</td>\n",
       "      <td>Tribeca</td>\n",
       "      <td>NYC_3</td>\n",
       "      <td>New York</td>\n",
       "      <td>2016-04-10</td>\n",
       "      <td>0</td>\n",
       "      <td>8.7125</td>\n",
       "      <td>0</td>\n",
       "      <td>2016</td>\n",
       "      <td>14</td>\n",
       "    </tr>\n",
       "    <tr>\n",
       "      <th>1601802</th>\n",
       "      <td>HOME_&amp;_GARDEN_1_020_NYC_3</td>\n",
       "      <td>HOME_&amp;_GARDEN_1_020</td>\n",
       "      <td>HOME_&amp;_GARDEN</td>\n",
       "      <td>HOME_&amp;_GARDEN_1</td>\n",
       "      <td>Tribeca</td>\n",
       "      <td>NYC_3</td>\n",
       "      <td>New York</td>\n",
       "      <td>2016-04-17</td>\n",
       "      <td>0</td>\n",
       "      <td>8.7125</td>\n",
       "      <td>0</td>\n",
       "      <td>2016</td>\n",
       "      <td>15</td>\n",
       "    </tr>\n",
       "    <tr>\n",
       "      <th>1601803</th>\n",
       "      <td>HOME_&amp;_GARDEN_1_020_NYC_3</td>\n",
       "      <td>HOME_&amp;_GARDEN_1_020</td>\n",
       "      <td>HOME_&amp;_GARDEN</td>\n",
       "      <td>HOME_&amp;_GARDEN_1</td>\n",
       "      <td>Tribeca</td>\n",
       "      <td>NYC_3</td>\n",
       "      <td>New York</td>\n",
       "      <td>2016-04-24</td>\n",
       "      <td>1</td>\n",
       "      <td>8.7125</td>\n",
       "      <td>0</td>\n",
       "      <td>2016</td>\n",
       "      <td>16</td>\n",
       "    </tr>\n",
       "  </tbody>\n",
       "</table>\n",
       "<p>274 rows × 13 columns</p>\n",
       "</div>"
      ],
      "text/plain": [
       "                                id                 item       category  \\\n",
       "1601530  HOME_&_GARDEN_1_020_NYC_3  HOME_&_GARDEN_1_020  HOME_&_GARDEN   \n",
       "1601531  HOME_&_GARDEN_1_020_NYC_3  HOME_&_GARDEN_1_020  HOME_&_GARDEN   \n",
       "1601532  HOME_&_GARDEN_1_020_NYC_3  HOME_&_GARDEN_1_020  HOME_&_GARDEN   \n",
       "1601533  HOME_&_GARDEN_1_020_NYC_3  HOME_&_GARDEN_1_020  HOME_&_GARDEN   \n",
       "1601534  HOME_&_GARDEN_1_020_NYC_3  HOME_&_GARDEN_1_020  HOME_&_GARDEN   \n",
       "...                            ...                  ...            ...   \n",
       "1601799  HOME_&_GARDEN_1_020_NYC_3  HOME_&_GARDEN_1_020  HOME_&_GARDEN   \n",
       "1601800  HOME_&_GARDEN_1_020_NYC_3  HOME_&_GARDEN_1_020  HOME_&_GARDEN   \n",
       "1601801  HOME_&_GARDEN_1_020_NYC_3  HOME_&_GARDEN_1_020  HOME_&_GARDEN   \n",
       "1601802  HOME_&_GARDEN_1_020_NYC_3  HOME_&_GARDEN_1_020  HOME_&_GARDEN   \n",
       "1601803  HOME_&_GARDEN_1_020_NYC_3  HOME_&_GARDEN_1_020  HOME_&_GARDEN   \n",
       "\n",
       "              department    store store_code    region   yearweek  qty_sold  \\\n",
       "1601530  HOME_&_GARDEN_1  Tribeca      NYC_3  New York 2011-01-30         0   \n",
       "1601531  HOME_&_GARDEN_1  Tribeca      NYC_3  New York 2011-02-06         0   \n",
       "1601532  HOME_&_GARDEN_1  Tribeca      NYC_3  New York 2011-02-13         0   \n",
       "1601533  HOME_&_GARDEN_1  Tribeca      NYC_3  New York 2011-02-20         0   \n",
       "1601534  HOME_&_GARDEN_1  Tribeca      NYC_3  New York 2011-02-27         0   \n",
       "...                  ...      ...        ...       ...        ...       ...   \n",
       "1601799  HOME_&_GARDEN_1  Tribeca      NYC_3  New York 2016-03-27         2   \n",
       "1601800  HOME_&_GARDEN_1  Tribeca      NYC_3  New York 2016-04-03         6   \n",
       "1601801  HOME_&_GARDEN_1  Tribeca      NYC_3  New York 2016-04-10         0   \n",
       "1601802  HOME_&_GARDEN_1  Tribeca      NYC_3  New York 2016-04-17         0   \n",
       "1601803  HOME_&_GARDEN_1  Tribeca      NYC_3  New York 2016-04-24         1   \n",
       "\n",
       "         sell_price      event  year  week  \n",
       "1601530      8.7125          0  2011     4  \n",
       "1601531      8.7125          0  2011     5  \n",
       "1601532      8.7125  SuperBowl  2011     6  \n",
       "1601533      8.7125          0  2011     7  \n",
       "1601534      8.7125          0  2011     8  \n",
       "...             ...        ...   ...   ...  \n",
       "1601799      8.7125          0  2016    12  \n",
       "1601800      8.7125     Easter  2016    13  \n",
       "1601801      8.7125          0  2016    14  \n",
       "1601802      8.7125          0  2016    15  \n",
       "1601803      8.7125          0  2016    16  \n",
       "\n",
       "[274 rows x 13 columns]"
      ]
     },
     "execution_count": 28,
     "metadata": {},
     "output_type": "execute_result"
    }
   ],
   "source": [
    "df_forecast[df_forecast[\"id\"] == sample_ts]"
   ]
  },
  {
   "cell_type": "code",
   "execution_count": 29,
   "metadata": {},
   "outputs": [],
   "source": [
    "# Ordenar el DataFrame por las columnas \"id\" y \"yearweek\"\n",
    "df_forecast.sort_values([\"id\", \"yearweek\"], ascending=True, inplace=True)"
   ]
  },
  {
   "cell_type": "code",
   "execution_count": 30,
   "metadata": {},
   "outputs": [
    {
     "data": {
      "text/html": [
       "<div>\n",
       "<style scoped>\n",
       "    .dataframe tbody tr th:only-of-type {\n",
       "        vertical-align: middle;\n",
       "    }\n",
       "\n",
       "    .dataframe tbody tr th {\n",
       "        vertical-align: top;\n",
       "    }\n",
       "\n",
       "    .dataframe thead th {\n",
       "        text-align: right;\n",
       "    }\n",
       "</style>\n",
       "<table border=\"1\" class=\"dataframe\">\n",
       "  <thead>\n",
       "    <tr style=\"text-align: right;\">\n",
       "      <th></th>\n",
       "      <th>id</th>\n",
       "      <th>item</th>\n",
       "      <th>category</th>\n",
       "      <th>department</th>\n",
       "      <th>store</th>\n",
       "      <th>store_code</th>\n",
       "      <th>region</th>\n",
       "      <th>yearweek</th>\n",
       "      <th>qty_sold</th>\n",
       "      <th>sell_price</th>\n",
       "      <th>event</th>\n",
       "      <th>year</th>\n",
       "      <th>week</th>\n",
       "    </tr>\n",
       "  </thead>\n",
       "  <tbody>\n",
       "    <tr>\n",
       "      <th>0</th>\n",
       "      <td>ACCESORIES_1_001_BOS_1</td>\n",
       "      <td>ACCESORIES_1_001</td>\n",
       "      <td>ACCESORIES</td>\n",
       "      <td>ACCESORIES_1</td>\n",
       "      <td>South_End</td>\n",
       "      <td>BOS_1</td>\n",
       "      <td>Boston</td>\n",
       "      <td>2011-01-30</td>\n",
       "      <td>0</td>\n",
       "      <td>12.7414</td>\n",
       "      <td>0</td>\n",
       "      <td>2011</td>\n",
       "      <td>4</td>\n",
       "    </tr>\n",
       "    <tr>\n",
       "      <th>1</th>\n",
       "      <td>ACCESORIES_1_001_BOS_1</td>\n",
       "      <td>ACCESORIES_1_001</td>\n",
       "      <td>ACCESORIES</td>\n",
       "      <td>ACCESORIES_1</td>\n",
       "      <td>South_End</td>\n",
       "      <td>BOS_1</td>\n",
       "      <td>Boston</td>\n",
       "      <td>2011-02-06</td>\n",
       "      <td>0</td>\n",
       "      <td>12.7414</td>\n",
       "      <td>0</td>\n",
       "      <td>2011</td>\n",
       "      <td>5</td>\n",
       "    </tr>\n",
       "    <tr>\n",
       "      <th>2</th>\n",
       "      <td>ACCESORIES_1_001_BOS_1</td>\n",
       "      <td>ACCESORIES_1_001</td>\n",
       "      <td>ACCESORIES</td>\n",
       "      <td>ACCESORIES_1</td>\n",
       "      <td>South_End</td>\n",
       "      <td>BOS_1</td>\n",
       "      <td>Boston</td>\n",
       "      <td>2011-02-13</td>\n",
       "      <td>0</td>\n",
       "      <td>12.7414</td>\n",
       "      <td>SuperBowl</td>\n",
       "      <td>2011</td>\n",
       "      <td>6</td>\n",
       "    </tr>\n",
       "    <tr>\n",
       "      <th>3</th>\n",
       "      <td>ACCESORIES_1_001_BOS_1</td>\n",
       "      <td>ACCESORIES_1_001</td>\n",
       "      <td>ACCESORIES</td>\n",
       "      <td>ACCESORIES_1</td>\n",
       "      <td>South_End</td>\n",
       "      <td>BOS_1</td>\n",
       "      <td>Boston</td>\n",
       "      <td>2011-02-20</td>\n",
       "      <td>0</td>\n",
       "      <td>12.7414</td>\n",
       "      <td>0</td>\n",
       "      <td>2011</td>\n",
       "      <td>7</td>\n",
       "    </tr>\n",
       "    <tr>\n",
       "      <th>4</th>\n",
       "      <td>ACCESORIES_1_001_BOS_1</td>\n",
       "      <td>ACCESORIES_1_001</td>\n",
       "      <td>ACCESORIES</td>\n",
       "      <td>ACCESORIES_1</td>\n",
       "      <td>South_End</td>\n",
       "      <td>BOS_1</td>\n",
       "      <td>Boston</td>\n",
       "      <td>2011-02-27</td>\n",
       "      <td>0</td>\n",
       "      <td>12.7414</td>\n",
       "      <td>0</td>\n",
       "      <td>2011</td>\n",
       "      <td>8</td>\n",
       "    </tr>\n",
       "  </tbody>\n",
       "</table>\n",
       "</div>"
      ],
      "text/plain": [
       "                       id              item    category    department  \\\n",
       "0  ACCESORIES_1_001_BOS_1  ACCESORIES_1_001  ACCESORIES  ACCESORIES_1   \n",
       "1  ACCESORIES_1_001_BOS_1  ACCESORIES_1_001  ACCESORIES  ACCESORIES_1   \n",
       "2  ACCESORIES_1_001_BOS_1  ACCESORIES_1_001  ACCESORIES  ACCESORIES_1   \n",
       "3  ACCESORIES_1_001_BOS_1  ACCESORIES_1_001  ACCESORIES  ACCESORIES_1   \n",
       "4  ACCESORIES_1_001_BOS_1  ACCESORIES_1_001  ACCESORIES  ACCESORIES_1   \n",
       "\n",
       "       store store_code  region   yearweek  qty_sold  sell_price      event  \\\n",
       "0  South_End      BOS_1  Boston 2011-01-30         0     12.7414          0   \n",
       "1  South_End      BOS_1  Boston 2011-02-06         0     12.7414          0   \n",
       "2  South_End      BOS_1  Boston 2011-02-13         0     12.7414  SuperBowl   \n",
       "3  South_End      BOS_1  Boston 2011-02-20         0     12.7414          0   \n",
       "4  South_End      BOS_1  Boston 2011-02-27         0     12.7414          0   \n",
       "\n",
       "   year  week  \n",
       "0  2011     4  \n",
       "1  2011     5  \n",
       "2  2011     6  \n",
       "3  2011     7  \n",
       "4  2011     8  "
      ]
     },
     "execution_count": 30,
     "metadata": {},
     "output_type": "execute_result"
    }
   ],
   "source": [
    "df_forecast.head()"
   ]
  },
  {
   "cell_type": "code",
   "execution_count": 31,
   "metadata": {},
   "outputs": [
    {
     "name": "stdout",
     "output_type": "stream",
     "text": [
      "<class 'pandas.core.frame.DataFrame'>\n",
      "RangeIndex: 8354260 entries, 0 to 8354259\n",
      "Data columns (total 13 columns):\n",
      " #   Column      Dtype         \n",
      "---  ------      -----         \n",
      " 0   id          object        \n",
      " 1   item        object        \n",
      " 2   category    object        \n",
      " 3   department  object        \n",
      " 4   store       object        \n",
      " 5   store_code  object        \n",
      " 6   region      object        \n",
      " 7   yearweek    datetime64[ns]\n",
      " 8   qty_sold    int64         \n",
      " 9   sell_price  float64       \n",
      " 10  event       object        \n",
      " 11  year        int64         \n",
      " 12  week        int64         \n",
      "dtypes: datetime64[ns](1), float64(1), int64(3), object(8)\n",
      "memory usage: 828.6+ MB\n"
     ]
    }
   ],
   "source": [
    "df_forecast.info()"
   ]
  },
  {
   "cell_type": "code",
   "execution_count": 32,
   "metadata": {},
   "outputs": [],
   "source": [
    "yearweek_column = df_forecast.pop('yearweek')\n",
    "id_column = df_forecast.pop('id')\n",
    "df_forecast.insert(0, 'yearweek', yearweek_column)\n",
    "df_forecast.insert(1, 'id', id_column)"
   ]
  },
  {
   "cell_type": "code",
   "execution_count": 33,
   "metadata": {},
   "outputs": [
    {
     "data": {
      "text/html": [
       "<div>\n",
       "<style scoped>\n",
       "    .dataframe tbody tr th:only-of-type {\n",
       "        vertical-align: middle;\n",
       "    }\n",
       "\n",
       "    .dataframe tbody tr th {\n",
       "        vertical-align: top;\n",
       "    }\n",
       "\n",
       "    .dataframe thead th {\n",
       "        text-align: right;\n",
       "    }\n",
       "</style>\n",
       "<table border=\"1\" class=\"dataframe\">\n",
       "  <thead>\n",
       "    <tr style=\"text-align: right;\">\n",
       "      <th></th>\n",
       "      <th>yearweek</th>\n",
       "      <th>id</th>\n",
       "      <th>item</th>\n",
       "      <th>category</th>\n",
       "      <th>department</th>\n",
       "      <th>store</th>\n",
       "      <th>store_code</th>\n",
       "      <th>region</th>\n",
       "      <th>qty_sold</th>\n",
       "      <th>sell_price</th>\n",
       "      <th>event</th>\n",
       "      <th>year</th>\n",
       "      <th>week</th>\n",
       "    </tr>\n",
       "  </thead>\n",
       "  <tbody>\n",
       "    <tr>\n",
       "      <th>1601530</th>\n",
       "      <td>2011-01-30</td>\n",
       "      <td>HOME_&amp;_GARDEN_1_020_NYC_3</td>\n",
       "      <td>HOME_&amp;_GARDEN_1_020</td>\n",
       "      <td>HOME_&amp;_GARDEN</td>\n",
       "      <td>HOME_&amp;_GARDEN_1</td>\n",
       "      <td>Tribeca</td>\n",
       "      <td>NYC_3</td>\n",
       "      <td>New York</td>\n",
       "      <td>0</td>\n",
       "      <td>8.7125</td>\n",
       "      <td>0</td>\n",
       "      <td>2011</td>\n",
       "      <td>4</td>\n",
       "    </tr>\n",
       "    <tr>\n",
       "      <th>1601531</th>\n",
       "      <td>2011-02-06</td>\n",
       "      <td>HOME_&amp;_GARDEN_1_020_NYC_3</td>\n",
       "      <td>HOME_&amp;_GARDEN_1_020</td>\n",
       "      <td>HOME_&amp;_GARDEN</td>\n",
       "      <td>HOME_&amp;_GARDEN_1</td>\n",
       "      <td>Tribeca</td>\n",
       "      <td>NYC_3</td>\n",
       "      <td>New York</td>\n",
       "      <td>0</td>\n",
       "      <td>8.7125</td>\n",
       "      <td>0</td>\n",
       "      <td>2011</td>\n",
       "      <td>5</td>\n",
       "    </tr>\n",
       "    <tr>\n",
       "      <th>1601532</th>\n",
       "      <td>2011-02-13</td>\n",
       "      <td>HOME_&amp;_GARDEN_1_020_NYC_3</td>\n",
       "      <td>HOME_&amp;_GARDEN_1_020</td>\n",
       "      <td>HOME_&amp;_GARDEN</td>\n",
       "      <td>HOME_&amp;_GARDEN_1</td>\n",
       "      <td>Tribeca</td>\n",
       "      <td>NYC_3</td>\n",
       "      <td>New York</td>\n",
       "      <td>0</td>\n",
       "      <td>8.7125</td>\n",
       "      <td>SuperBowl</td>\n",
       "      <td>2011</td>\n",
       "      <td>6</td>\n",
       "    </tr>\n",
       "    <tr>\n",
       "      <th>1601533</th>\n",
       "      <td>2011-02-20</td>\n",
       "      <td>HOME_&amp;_GARDEN_1_020_NYC_3</td>\n",
       "      <td>HOME_&amp;_GARDEN_1_020</td>\n",
       "      <td>HOME_&amp;_GARDEN</td>\n",
       "      <td>HOME_&amp;_GARDEN_1</td>\n",
       "      <td>Tribeca</td>\n",
       "      <td>NYC_3</td>\n",
       "      <td>New York</td>\n",
       "      <td>0</td>\n",
       "      <td>8.7125</td>\n",
       "      <td>0</td>\n",
       "      <td>2011</td>\n",
       "      <td>7</td>\n",
       "    </tr>\n",
       "    <tr>\n",
       "      <th>1601534</th>\n",
       "      <td>2011-02-27</td>\n",
       "      <td>HOME_&amp;_GARDEN_1_020_NYC_3</td>\n",
       "      <td>HOME_&amp;_GARDEN_1_020</td>\n",
       "      <td>HOME_&amp;_GARDEN</td>\n",
       "      <td>HOME_&amp;_GARDEN_1</td>\n",
       "      <td>Tribeca</td>\n",
       "      <td>NYC_3</td>\n",
       "      <td>New York</td>\n",
       "      <td>0</td>\n",
       "      <td>8.7125</td>\n",
       "      <td>0</td>\n",
       "      <td>2011</td>\n",
       "      <td>8</td>\n",
       "    </tr>\n",
       "    <tr>\n",
       "      <th>...</th>\n",
       "      <td>...</td>\n",
       "      <td>...</td>\n",
       "      <td>...</td>\n",
       "      <td>...</td>\n",
       "      <td>...</td>\n",
       "      <td>...</td>\n",
       "      <td>...</td>\n",
       "      <td>...</td>\n",
       "      <td>...</td>\n",
       "      <td>...</td>\n",
       "      <td>...</td>\n",
       "      <td>...</td>\n",
       "      <td>...</td>\n",
       "    </tr>\n",
       "    <tr>\n",
       "      <th>1601799</th>\n",
       "      <td>2016-03-27</td>\n",
       "      <td>HOME_&amp;_GARDEN_1_020_NYC_3</td>\n",
       "      <td>HOME_&amp;_GARDEN_1_020</td>\n",
       "      <td>HOME_&amp;_GARDEN</td>\n",
       "      <td>HOME_&amp;_GARDEN_1</td>\n",
       "      <td>Tribeca</td>\n",
       "      <td>NYC_3</td>\n",
       "      <td>New York</td>\n",
       "      <td>2</td>\n",
       "      <td>8.7125</td>\n",
       "      <td>0</td>\n",
       "      <td>2016</td>\n",
       "      <td>12</td>\n",
       "    </tr>\n",
       "    <tr>\n",
       "      <th>1601800</th>\n",
       "      <td>2016-04-03</td>\n",
       "      <td>HOME_&amp;_GARDEN_1_020_NYC_3</td>\n",
       "      <td>HOME_&amp;_GARDEN_1_020</td>\n",
       "      <td>HOME_&amp;_GARDEN</td>\n",
       "      <td>HOME_&amp;_GARDEN_1</td>\n",
       "      <td>Tribeca</td>\n",
       "      <td>NYC_3</td>\n",
       "      <td>New York</td>\n",
       "      <td>6</td>\n",
       "      <td>8.7125</td>\n",
       "      <td>Easter</td>\n",
       "      <td>2016</td>\n",
       "      <td>13</td>\n",
       "    </tr>\n",
       "    <tr>\n",
       "      <th>1601801</th>\n",
       "      <td>2016-04-10</td>\n",
       "      <td>HOME_&amp;_GARDEN_1_020_NYC_3</td>\n",
       "      <td>HOME_&amp;_GARDEN_1_020</td>\n",
       "      <td>HOME_&amp;_GARDEN</td>\n",
       "      <td>HOME_&amp;_GARDEN_1</td>\n",
       "      <td>Tribeca</td>\n",
       "      <td>NYC_3</td>\n",
       "      <td>New York</td>\n",
       "      <td>0</td>\n",
       "      <td>8.7125</td>\n",
       "      <td>0</td>\n",
       "      <td>2016</td>\n",
       "      <td>14</td>\n",
       "    </tr>\n",
       "    <tr>\n",
       "      <th>1601802</th>\n",
       "      <td>2016-04-17</td>\n",
       "      <td>HOME_&amp;_GARDEN_1_020_NYC_3</td>\n",
       "      <td>HOME_&amp;_GARDEN_1_020</td>\n",
       "      <td>HOME_&amp;_GARDEN</td>\n",
       "      <td>HOME_&amp;_GARDEN_1</td>\n",
       "      <td>Tribeca</td>\n",
       "      <td>NYC_3</td>\n",
       "      <td>New York</td>\n",
       "      <td>0</td>\n",
       "      <td>8.7125</td>\n",
       "      <td>0</td>\n",
       "      <td>2016</td>\n",
       "      <td>15</td>\n",
       "    </tr>\n",
       "    <tr>\n",
       "      <th>1601803</th>\n",
       "      <td>2016-04-24</td>\n",
       "      <td>HOME_&amp;_GARDEN_1_020_NYC_3</td>\n",
       "      <td>HOME_&amp;_GARDEN_1_020</td>\n",
       "      <td>HOME_&amp;_GARDEN</td>\n",
       "      <td>HOME_&amp;_GARDEN_1</td>\n",
       "      <td>Tribeca</td>\n",
       "      <td>NYC_3</td>\n",
       "      <td>New York</td>\n",
       "      <td>1</td>\n",
       "      <td>8.7125</td>\n",
       "      <td>0</td>\n",
       "      <td>2016</td>\n",
       "      <td>16</td>\n",
       "    </tr>\n",
       "  </tbody>\n",
       "</table>\n",
       "<p>274 rows × 13 columns</p>\n",
       "</div>"
      ],
      "text/plain": [
       "          yearweek                         id                 item  \\\n",
       "1601530 2011-01-30  HOME_&_GARDEN_1_020_NYC_3  HOME_&_GARDEN_1_020   \n",
       "1601531 2011-02-06  HOME_&_GARDEN_1_020_NYC_3  HOME_&_GARDEN_1_020   \n",
       "1601532 2011-02-13  HOME_&_GARDEN_1_020_NYC_3  HOME_&_GARDEN_1_020   \n",
       "1601533 2011-02-20  HOME_&_GARDEN_1_020_NYC_3  HOME_&_GARDEN_1_020   \n",
       "1601534 2011-02-27  HOME_&_GARDEN_1_020_NYC_3  HOME_&_GARDEN_1_020   \n",
       "...            ...                        ...                  ...   \n",
       "1601799 2016-03-27  HOME_&_GARDEN_1_020_NYC_3  HOME_&_GARDEN_1_020   \n",
       "1601800 2016-04-03  HOME_&_GARDEN_1_020_NYC_3  HOME_&_GARDEN_1_020   \n",
       "1601801 2016-04-10  HOME_&_GARDEN_1_020_NYC_3  HOME_&_GARDEN_1_020   \n",
       "1601802 2016-04-17  HOME_&_GARDEN_1_020_NYC_3  HOME_&_GARDEN_1_020   \n",
       "1601803 2016-04-24  HOME_&_GARDEN_1_020_NYC_3  HOME_&_GARDEN_1_020   \n",
       "\n",
       "              category       department    store store_code    region  \\\n",
       "1601530  HOME_&_GARDEN  HOME_&_GARDEN_1  Tribeca      NYC_3  New York   \n",
       "1601531  HOME_&_GARDEN  HOME_&_GARDEN_1  Tribeca      NYC_3  New York   \n",
       "1601532  HOME_&_GARDEN  HOME_&_GARDEN_1  Tribeca      NYC_3  New York   \n",
       "1601533  HOME_&_GARDEN  HOME_&_GARDEN_1  Tribeca      NYC_3  New York   \n",
       "1601534  HOME_&_GARDEN  HOME_&_GARDEN_1  Tribeca      NYC_3  New York   \n",
       "...                ...              ...      ...        ...       ...   \n",
       "1601799  HOME_&_GARDEN  HOME_&_GARDEN_1  Tribeca      NYC_3  New York   \n",
       "1601800  HOME_&_GARDEN  HOME_&_GARDEN_1  Tribeca      NYC_3  New York   \n",
       "1601801  HOME_&_GARDEN  HOME_&_GARDEN_1  Tribeca      NYC_3  New York   \n",
       "1601802  HOME_&_GARDEN  HOME_&_GARDEN_1  Tribeca      NYC_3  New York   \n",
       "1601803  HOME_&_GARDEN  HOME_&_GARDEN_1  Tribeca      NYC_3  New York   \n",
       "\n",
       "         qty_sold  sell_price      event  year  week  \n",
       "1601530         0      8.7125          0  2011     4  \n",
       "1601531         0      8.7125          0  2011     5  \n",
       "1601532         0      8.7125  SuperBowl  2011     6  \n",
       "1601533         0      8.7125          0  2011     7  \n",
       "1601534         0      8.7125          0  2011     8  \n",
       "...           ...         ...        ...   ...   ...  \n",
       "1601799         2      8.7125          0  2016    12  \n",
       "1601800         6      8.7125     Easter  2016    13  \n",
       "1601801         0      8.7125          0  2016    14  \n",
       "1601802         0      8.7125          0  2016    15  \n",
       "1601803         1      8.7125          0  2016    16  \n",
       "\n",
       "[274 rows x 13 columns]"
      ]
     },
     "execution_count": 33,
     "metadata": {},
     "output_type": "execute_result"
    }
   ],
   "source": [
    "df_forecast[df_forecast[\"id\"] == sample_ts]"
   ]
  },
  {
   "cell_type": "markdown",
   "metadata": {},
   "source": [
    "# EDA"
   ]
  },
  {
   "cell_type": "markdown",
   "metadata": {},
   "source": [
    "### --> 1. EDA: Global Sales"
   ]
  },
  {
   "cell_type": "code",
   "execution_count": 34,
   "metadata": {},
   "outputs": [],
   "source": [
    "def plot_ts_acf_pacf(y, title):\n",
    "    '''\n",
    "    Plots the ts you pass and the acf and pacf.\n",
    "    '''\n",
    "    fig = plt.figure(figsize = (12, 10))\n",
    "    ax1, ax2, ax3 = fig.subplots(3, 1)\n",
    "\n",
    "    ax1.plot(y)\n",
    "    plot_acf(x = y, ax = ax2, lags = 14)\n",
    "    plot_pacf(x = y, ax = ax3, lags = 14)\n",
    "\n",
    "    plt.suptitle(t = title, fontsize = 20)\n",
    "    "
   ]
  },
  {
   "cell_type": "code",
   "execution_count": 35,
   "metadata": {},
   "outputs": [],
   "source": [
    "y = df_forecast.groupby(\"yearweek\")[\"qty_sold\"].sum()"
   ]
  },
  {
   "cell_type": "code",
   "execution_count": 36,
   "metadata": {},
   "outputs": [],
   "source": [
    "y = y.iloc[:-4]"
   ]
  },
  {
   "cell_type": "code",
   "execution_count": 37,
   "metadata": {},
   "outputs": [
    {
     "data": {
      "image/png": "[encoded data removed]",
      "text/plain": [
       "<Figure size 1200x1000 with 3 Axes>"
      ]
     },
     "metadata": {},
     "output_type": "display_data"
    }
   ],
   "source": [
    "plot_ts_acf_pacf(y = y, title = \"Weekly Sales for all items in all shops\");"
   ]
  },
  {
   "cell_type": "markdown",
   "metadata": {},
   "source": [
    "Analizamos los peaks en ventas del 2016. probablemente Reyes!!"
   ]
  },
  {
   "cell_type": "code",
   "execution_count": 38,
   "metadata": {},
   "outputs": [
    {
     "data": {
      "text/plain": [
       "<Axes: xlabel='yearweek'>"
      ]
     },
     "execution_count": 38,
     "metadata": {},
     "output_type": "execute_result"
    },
    {
     "data": {
      "image/png": "[encoded data removed]",
      "text/plain": [
       "<Figure size 1200x400 with 1 Axes>"
      ]
     },
     "metadata": {},
     "output_type": "display_data"
    }
   ],
   "source": [
    "(df_forecast[(df_forecast['yearweek'].dt.year == 2015) | (df_forecast['yearweek'].dt.year == 2016)]\n",
    " .groupby([\"yearweek\"])[\"qty_sold\"].sum()\n",
    " .sort_index()  # Ordena en orden cronológico\n",
    " .plot(kind=\"bar\", figsize=(12, 4))\n",
    ")"
   ]
  },
  {
   "cell_type": "code",
   "execution_count": 39,
   "metadata": {},
   "outputs": [
    {
     "data": {
      "text/html": [
       "<div>\n",
       "<style scoped>\n",
       "    .dataframe tbody tr th:only-of-type {\n",
       "        vertical-align: middle;\n",
       "    }\n",
       "\n",
       "    .dataframe tbody tr th {\n",
       "        vertical-align: top;\n",
       "    }\n",
       "\n",
       "    .dataframe thead th {\n",
       "        text-align: right;\n",
       "    }\n",
       "</style>\n",
       "<table border=\"1\" class=\"dataframe\">\n",
       "  <thead>\n",
       "    <tr style=\"text-align: right;\">\n",
       "      <th></th>\n",
       "      <th>yearweek</th>\n",
       "      <th>id</th>\n",
       "      <th>item</th>\n",
       "      <th>category</th>\n",
       "      <th>department</th>\n",
       "      <th>store</th>\n",
       "      <th>store_code</th>\n",
       "      <th>region</th>\n",
       "      <th>qty_sold</th>\n",
       "      <th>sell_price</th>\n",
       "      <th>event</th>\n",
       "      <th>year</th>\n",
       "      <th>week</th>\n",
       "    </tr>\n",
       "  </thead>\n",
       "  <tbody>\n",
       "    <tr>\n",
       "      <th>6424187</th>\n",
       "      <td>2016-01-10</td>\n",
       "      <td>SUPERMARKET_3_120_NYC_3</td>\n",
       "      <td>SUPERMARKET_3_120</td>\n",
       "      <td>SUPERMARKET</td>\n",
       "      <td>SUPERMARKET_3</td>\n",
       "      <td>Tribeca</td>\n",
       "      <td>NYC_3</td>\n",
       "      <td>New York</td>\n",
       "      <td>629</td>\n",
       "      <td>5.9760</td>\n",
       "      <td>0</td>\n",
       "      <td>2015</td>\n",
       "      <td>53</td>\n",
       "    </tr>\n",
       "    <tr>\n",
       "      <th>6424188</th>\n",
       "      <td>2016-01-10</td>\n",
       "      <td>SUPERMARKET_3_120_NYC_3</td>\n",
       "      <td>SUPERMARKET_3_120</td>\n",
       "      <td>SUPERMARKET</td>\n",
       "      <td>SUPERMARKET_3</td>\n",
       "      <td>Tribeca</td>\n",
       "      <td>NYC_3</td>\n",
       "      <td>New York</td>\n",
       "      <td>612</td>\n",
       "      <td>5.9760</td>\n",
       "      <td>0</td>\n",
       "      <td>2016</td>\n",
       "      <td>1</td>\n",
       "    </tr>\n",
       "    <tr>\n",
       "      <th>7699931</th>\n",
       "      <td>2016-01-10</td>\n",
       "      <td>SUPERMARKET_3_586_BOS_2</td>\n",
       "      <td>SUPERMARKET_3_586</td>\n",
       "      <td>SUPERMARKET</td>\n",
       "      <td>SUPERMARKET_3</td>\n",
       "      <td>Roxbury</td>\n",
       "      <td>BOS_2</td>\n",
       "      <td>Boston</td>\n",
       "      <td>551</td>\n",
       "      <td>2.0160</td>\n",
       "      <td>0</td>\n",
       "      <td>2015</td>\n",
       "      <td>53</td>\n",
       "    </tr>\n",
       "    <tr>\n",
       "      <th>6341988</th>\n",
       "      <td>2016-01-10</td>\n",
       "      <td>SUPERMARKET_3_090_NYC_3</td>\n",
       "      <td>SUPERMARKET_3_090</td>\n",
       "      <td>SUPERMARKET</td>\n",
       "      <td>SUPERMARKET_3</td>\n",
       "      <td>Tribeca</td>\n",
       "      <td>NYC_3</td>\n",
       "      <td>New York</td>\n",
       "      <td>547</td>\n",
       "      <td>1.9200</td>\n",
       "      <td>0</td>\n",
       "      <td>2016</td>\n",
       "      <td>1</td>\n",
       "    </tr>\n",
       "    <tr>\n",
       "      <th>6737369</th>\n",
       "      <td>2016-01-10</td>\n",
       "      <td>SUPERMARKET_3_234_PHI_2</td>\n",
       "      <td>SUPERMARKET_3_234</td>\n",
       "      <td>SUPERMARKET</td>\n",
       "      <td>SUPERMARKET_3</td>\n",
       "      <td>Yorktown</td>\n",
       "      <td>PHI_2</td>\n",
       "      <td>Philadelphia</td>\n",
       "      <td>519</td>\n",
       "      <td>0.2400</td>\n",
       "      <td>0</td>\n",
       "      <td>2015</td>\n",
       "      <td>53</td>\n",
       "    </tr>\n",
       "    <tr>\n",
       "      <th>...</th>\n",
       "      <td>...</td>\n",
       "      <td>...</td>\n",
       "      <td>...</td>\n",
       "      <td>...</td>\n",
       "      <td>...</td>\n",
       "      <td>...</td>\n",
       "      <td>...</td>\n",
       "      <td>...</td>\n",
       "      <td>...</td>\n",
       "      <td>...</td>\n",
       "      <td>...</td>\n",
       "      <td>...</td>\n",
       "      <td>...</td>\n",
       "    </tr>\n",
       "    <tr>\n",
       "      <th>1308881</th>\n",
       "      <td>2016-01-10</td>\n",
       "      <td>ACCESORIES_2_062_NYC_4</td>\n",
       "      <td>ACCESORIES_2_062</td>\n",
       "      <td>ACCESORIES</td>\n",
       "      <td>ACCESORIES_2</td>\n",
       "      <td>Brooklyn</td>\n",
       "      <td>NYC_4</td>\n",
       "      <td>New York</td>\n",
       "      <td>0</td>\n",
       "      <td>7.8204</td>\n",
       "      <td>0</td>\n",
       "      <td>2015</td>\n",
       "      <td>53</td>\n",
       "    </tr>\n",
       "    <tr>\n",
       "      <th>6845325</th>\n",
       "      <td>2016-01-10</td>\n",
       "      <td>SUPERMARKET_3_274_BOS_3</td>\n",
       "      <td>SUPERMARKET_3_274</td>\n",
       "      <td>SUPERMARKET</td>\n",
       "      <td>SUPERMARKET_3</td>\n",
       "      <td>Back_Bay</td>\n",
       "      <td>BOS_3</td>\n",
       "      <td>Boston</td>\n",
       "      <td>0</td>\n",
       "      <td>1.8000</td>\n",
       "      <td>0</td>\n",
       "      <td>2015</td>\n",
       "      <td>53</td>\n",
       "    </tr>\n",
       "    <tr>\n",
       "      <th>4117656</th>\n",
       "      <td>2016-01-10</td>\n",
       "      <td>HOME_&amp;_GARDEN_2_407_PHI_1</td>\n",
       "      <td>HOME_&amp;_GARDEN_2_407</td>\n",
       "      <td>HOME_&amp;_GARDEN</td>\n",
       "      <td>HOME_&amp;_GARDEN_2</td>\n",
       "      <td>Midtown_Village</td>\n",
       "      <td>PHI_1</td>\n",
       "      <td>Philadelphia</td>\n",
       "      <td>0</td>\n",
       "      <td>6.1750</td>\n",
       "      <td>0</td>\n",
       "      <td>2016</td>\n",
       "      <td>1</td>\n",
       "    </tr>\n",
       "    <tr>\n",
       "      <th>6845599</th>\n",
       "      <td>2016-01-10</td>\n",
       "      <td>SUPERMARKET_3_274_NYC_1</td>\n",
       "      <td>SUPERMARKET_3_274</td>\n",
       "      <td>SUPERMARKET</td>\n",
       "      <td>SUPERMARKET_3</td>\n",
       "      <td>Greenwich_Village</td>\n",
       "      <td>NYC_1</td>\n",
       "      <td>New York</td>\n",
       "      <td>0</td>\n",
       "      <td>1.9200</td>\n",
       "      <td>0</td>\n",
       "      <td>2015</td>\n",
       "      <td>53</td>\n",
       "    </tr>\n",
       "    <tr>\n",
       "      <th>2062382</th>\n",
       "      <td>2016-01-10</td>\n",
       "      <td>HOME_&amp;_GARDEN_1_192_NYC_4</td>\n",
       "      <td>HOME_&amp;_GARDEN_1_192</td>\n",
       "      <td>HOME_&amp;_GARDEN</td>\n",
       "      <td>HOME_&amp;_GARDEN_1</td>\n",
       "      <td>Brooklyn</td>\n",
       "      <td>NYC_4</td>\n",
       "      <td>New York</td>\n",
       "      <td>0</td>\n",
       "      <td>4.5250</td>\n",
       "      <td>0</td>\n",
       "      <td>2016</td>\n",
       "      <td>1</td>\n",
       "    </tr>\n",
       "  </tbody>\n",
       "</table>\n",
       "<p>60980 rows × 13 columns</p>\n",
       "</div>"
      ],
      "text/plain": [
       "          yearweek                         id                 item  \\\n",
       "6424187 2016-01-10    SUPERMARKET_3_120_NYC_3    SUPERMARKET_3_120   \n",
       "6424188 2016-01-10    SUPERMARKET_3_120_NYC_3    SUPERMARKET_3_120   \n",
       "7699931 2016-01-10    SUPERMARKET_3_586_BOS_2    SUPERMARKET_3_586   \n",
       "6341988 2016-01-10    SUPERMARKET_3_090_NYC_3    SUPERMARKET_3_090   \n",
       "6737369 2016-01-10    SUPERMARKET_3_234_PHI_2    SUPERMARKET_3_234   \n",
       "...            ...                        ...                  ...   \n",
       "1308881 2016-01-10     ACCESORIES_2_062_NYC_4     ACCESORIES_2_062   \n",
       "6845325 2016-01-10    SUPERMARKET_3_274_BOS_3    SUPERMARKET_3_274   \n",
       "4117656 2016-01-10  HOME_&_GARDEN_2_407_PHI_1  HOME_&_GARDEN_2_407   \n",
       "6845599 2016-01-10    SUPERMARKET_3_274_NYC_1    SUPERMARKET_3_274   \n",
       "2062382 2016-01-10  HOME_&_GARDEN_1_192_NYC_4  HOME_&_GARDEN_1_192   \n",
       "\n",
       "              category       department              store store_code  \\\n",
       "6424187    SUPERMARKET    SUPERMARKET_3            Tribeca      NYC_3   \n",
       "6424188    SUPERMARKET    SUPERMARKET_3            Tribeca      NYC_3   \n",
       "7699931    SUPERMARKET    SUPERMARKET_3            Roxbury      BOS_2   \n",
       "6341988    SUPERMARKET    SUPERMARKET_3            Tribeca      NYC_3   \n",
       "6737369    SUPERMARKET    SUPERMARKET_3           Yorktown      PHI_2   \n",
       "...                ...              ...                ...        ...   \n",
       "1308881     ACCESORIES     ACCESORIES_2           Brooklyn      NYC_4   \n",
       "6845325    SUPERMARKET    SUPERMARKET_3           Back_Bay      BOS_3   \n",
       "4117656  HOME_&_GARDEN  HOME_&_GARDEN_2    Midtown_Village      PHI_1   \n",
       "6845599    SUPERMARKET    SUPERMARKET_3  Greenwich_Village      NYC_1   \n",
       "2062382  HOME_&_GARDEN  HOME_&_GARDEN_1           Brooklyn      NYC_4   \n",
       "\n",
       "               region  qty_sold  sell_price event  year  week  \n",
       "6424187      New York       629      5.9760     0  2015    53  \n",
       "6424188      New York       612      5.9760     0  2016     1  \n",
       "7699931        Boston       551      2.0160     0  2015    53  \n",
       "6341988      New York       547      1.9200     0  2016     1  \n",
       "6737369  Philadelphia       519      0.2400     0  2015    53  \n",
       "...               ...       ...         ...   ...   ...   ...  \n",
       "1308881      New York         0      7.8204     0  2015    53  \n",
       "6845325        Boston         0      1.8000     0  2015    53  \n",
       "4117656  Philadelphia         0      6.1750     0  2016     1  \n",
       "6845599      New York         0      1.9200     0  2015    53  \n",
       "2062382      New York         0      4.5250     0  2016     1  \n",
       "\n",
       "[60980 rows x 13 columns]"
      ]
     },
     "execution_count": 39,
     "metadata": {},
     "output_type": "execute_result"
    }
   ],
   "source": [
    "df_forecast[df_forecast[\"yearweek\"]== \"2016-01-10\"].sort_values (by=\"qty_sold\", ascending=False)\n"
   ]
  },
  {
   "cell_type": "code",
   "execution_count": 40,
   "metadata": {},
   "outputs": [
    {
     "data": {
      "text/plain": [
       "<Axes: xlabel='yearweek,item'>"
      ]
     },
     "execution_count": 40,
     "metadata": {},
     "output_type": "execute_result"
    },
    {
     "data": {
      "image/png": "[encoded data removed]",
      "text/plain": [
       "<Figure size 1200x400 with 1 Axes>"
      ]
     },
     "metadata": {},
     "output_type": "display_data"
    }
   ],
   "source": [
    "(df_forecast[(df_forecast['yearweek'].dt.year == 2016) & (df_forecast['item'] == \"SUPERMARKET_3_120\")]\n",
    "               .groupby([\"yearweek\", \"item\"])[\"qty_sold\"].sum()\n",
    "               .sort_index()  # Ordena en orden cronológico\n",
    "               .plot(kind=\"bar\", figsize=(12, 4))\n",
    "              )\n",
    "#Miramos este producto como ejemplo, venta por semanas y evolución de precio"
   ]
  },
  {
   "cell_type": "code",
   "execution_count": 41,
   "metadata": {},
   "outputs": [
    {
     "data": {
      "text/plain": [
       "<Axes: xlabel='id'>"
      ]
     },
     "execution_count": 41,
     "metadata": {},
     "output_type": "execute_result"
    },
    {
     "data": {
      "image/png": "[encoded data removed]",
      "text/plain": [
       "<Figure size 1200x400 with 1 Axes>"
      ]
     },
     "metadata": {},
     "output_type": "display_data"
    }
   ],
   "source": [
    "top_10_items = (df_forecast[df_forecast['yearweek'].dt.year == 2016]\n",
    "                .groupby([\"id\"])[\"qty_sold\"].sum()\n",
    "                .sort_values(ascending=False)  # Ordena en orden descendente\n",
    "                .head(10)  # Selecciona los top 10\n",
    "               )\n",
    "top_10_items.plot(kind=\"bar\", figsize=(12, 4))"
   ]
  },
  {
   "cell_type": "markdown",
   "metadata": {},
   "source": [
    "### --> 2. EDA: Top 3 Stores"
   ]
  },
  {
   "cell_type": "code",
   "execution_count": 42,
   "metadata": {},
   "outputs": [
    {
     "data": {
      "image/png": "[encoded data removed]",
      "text/plain": [
       "<Figure size 1200x400 with 1 Axes>"
      ]
     },
     "metadata": {},
     "output_type": "display_data"
    }
   ],
   "source": [
    "(\n",
    "    df_forecast.\n",
    "    groupby([\"store\"])\n",
    "    [\"qty_sold\"].sum()\n",
    "    .sort_values(ascending = False)\n",
    "    .plot(kind = \"bar\", figsize = (12, 4))\n",
    ");"
   ]
  },
  {
   "cell_type": "code",
   "execution_count": 43,
   "metadata": {},
   "outputs": [
    {
     "data": {
      "text/plain": [
       "store\n",
       "South_End            835426\n",
       "Roxbury              835426\n",
       "Back_Bay             835426\n",
       "Greenwich_Village    835426\n",
       "Harlem               835426\n",
       "Tribeca              835426\n",
       "Brooklyn             835426\n",
       "Midtown_Village      835426\n",
       "Yorktown             835426\n",
       "Queen_Village        835426\n",
       "Name: count, dtype: int64"
      ]
     },
     "execution_count": 43,
     "metadata": {},
     "output_type": "execute_result"
    }
   ],
   "source": [
    "df_forecast[\"store\"].value_counts() #10 tiendas"
   ]
  },
  {
   "cell_type": "code",
   "execution_count": 44,
   "metadata": {},
   "outputs": [
    {
     "data": {
      "text/plain": [
       "item\n",
       "ACCESORIES_1_001       2740\n",
       "SUPERMARKET_2_210      2740\n",
       "SUPERMARKET_2_201      2740\n",
       "SUPERMARKET_2_202      2740\n",
       "SUPERMARKET_2_203      2740\n",
       "                       ... \n",
       "HOME_&_GARDEN_1_464    2740\n",
       "HOME_&_GARDEN_1_465    2740\n",
       "HOME_&_GARDEN_1_466    2740\n",
       "HOME_&_GARDEN_1_467    2740\n",
       "SUPERMARKET_3_827      2740\n",
       "Name: count, Length: 3049, dtype: int64"
      ]
     },
     "execution_count": 44,
     "metadata": {},
     "output_type": "execute_result"
    }
   ],
   "source": [
    "df_forecast[\"item\"].value_counts() #3049 ítems"
   ]
  },
  {
   "cell_type": "markdown",
   "metadata": {},
   "source": [
    "\n",
    "### --> 3. EDA: Top 3 Departments\n"
   ]
  },
  {
   "cell_type": "code",
   "execution_count": 45,
   "metadata": {},
   "outputs": [
    {
     "data": {
      "image/png": "[encoded data removed]",
      "text/plain": [
       "<Figure size 1200x400 with 1 Axes>"
      ]
     },
     "metadata": {},
     "output_type": "display_data"
    }
   ],
   "source": [
    "(\n",
    "    df_forecast.\n",
    "    groupby([\"department\"])\n",
    "    [\"qty_sold\"].sum()\n",
    "    .sort_values(ascending = False)\n",
    "    .plot(kind = \"bar\", figsize = (12, 4))\n",
    ");"
   ]
  },
  {
   "cell_type": "markdown",
   "metadata": {},
   "source": [
    "# Build Time Series Features"
   ]
  },
  {
   "cell_type": "code",
   "execution_count": 46,
   "metadata": {},
   "outputs": [],
   "source": [
    "def build_ts_vars(df, gb_list, target_column, agg_func, agg_func_name):\n",
    "    \n",
    "    assert \"yearweek\" in df.columns.tolist(), \"yearweek must be in df columns\"\n",
    "    \n",
    "    new_name = \"_\".join(gb_list + [target_column] + [agg_func_name])\n",
    "\n",
    "    gb_df_ = (\n",
    "        df_forecast\n",
    "        .set_index(\"yearweek\")\n",
    "        .groupby(gb_list)\n",
    "        .resample(\"W\")[target_column]\n",
    "        .apply(agg_func)\n",
    "        .to_frame()\n",
    "        .reset_index()\n",
    "        .rename(\n",
    "            columns = {\n",
    "                target_column : new_name\n",
    "            }\n",
    "        )\n",
    "    )\n",
    "        \n",
    "    gb_df_[f\"{new_name}_lag1\"] = gb_df_.groupby(gb_list)[new_name].transform(\n",
    "        lambda series: series.shift(1)\n",
    "    )\n",
    "\n",
    "    \"\"\"gb_df_[f\"{new_name}_lag2\"] = gb_df_.groupby(gb_list)[new_name].transform(\n",
    "        lambda series: series.shift(2)\n",
    "    )\n",
    "    gb_df_[f\"{new_name}_lag3\"] = gb_df_.groupby(gb_list)[new_name].transform(\n",
    "        lambda series: series.shift(3)\n",
    "    )\n",
    "    \n",
    "    print(f\"Dropping columns that might cause target leakage {new_name}\")\n",
    "    gb_df_.drop(new_name, inplace = True, axis = 1)\"\"\"\n",
    "    \n",
    "    return gb_df_"
   ]
  },
  {
   "cell_type": "code",
   "execution_count": 47,
   "metadata": {},
   "outputs": [
    {
     "data": {
      "text/html": [
       "<div>\n",
       "<style scoped>\n",
       "    .dataframe tbody tr th:only-of-type {\n",
       "        vertical-align: middle;\n",
       "    }\n",
       "\n",
       "    .dataframe tbody tr th {\n",
       "        vertical-align: top;\n",
       "    }\n",
       "\n",
       "    .dataframe thead th {\n",
       "        text-align: right;\n",
       "    }\n",
       "</style>\n",
       "<table border=\"1\" class=\"dataframe\">\n",
       "  <thead>\n",
       "    <tr style=\"text-align: right;\">\n",
       "      <th></th>\n",
       "      <th>item</th>\n",
       "      <th>yearweek</th>\n",
       "      <th>item_qty_sold_sum</th>\n",
       "      <th>item_qty_sold_sum_lag1</th>\n",
       "    </tr>\n",
       "  </thead>\n",
       "  <tbody>\n",
       "    <tr>\n",
       "      <th>0</th>\n",
       "      <td>ACCESORIES_1_001</td>\n",
       "      <td>2011-01-30</td>\n",
       "      <td>0</td>\n",
       "      <td>NaN</td>\n",
       "    </tr>\n",
       "    <tr>\n",
       "      <th>1</th>\n",
       "      <td>ACCESORIES_1_001</td>\n",
       "      <td>2011-02-06</td>\n",
       "      <td>0</td>\n",
       "      <td>0.0</td>\n",
       "    </tr>\n",
       "    <tr>\n",
       "      <th>2</th>\n",
       "      <td>ACCESORIES_1_001</td>\n",
       "      <td>2011-02-13</td>\n",
       "      <td>0</td>\n",
       "      <td>0.0</td>\n",
       "    </tr>\n",
       "    <tr>\n",
       "      <th>3</th>\n",
       "      <td>ACCESORIES_1_001</td>\n",
       "      <td>2011-02-20</td>\n",
       "      <td>0</td>\n",
       "      <td>0.0</td>\n",
       "    </tr>\n",
       "    <tr>\n",
       "      <th>4</th>\n",
       "      <td>ACCESORIES_1_001</td>\n",
       "      <td>2011-02-27</td>\n",
       "      <td>0</td>\n",
       "      <td>0.0</td>\n",
       "    </tr>\n",
       "    <tr>\n",
       "      <th>5</th>\n",
       "      <td>ACCESORIES_1_001</td>\n",
       "      <td>2011-03-06</td>\n",
       "      <td>0</td>\n",
       "      <td>0.0</td>\n",
       "    </tr>\n",
       "    <tr>\n",
       "      <th>6</th>\n",
       "      <td>ACCESORIES_1_001</td>\n",
       "      <td>2011-03-13</td>\n",
       "      <td>0</td>\n",
       "      <td>0.0</td>\n",
       "    </tr>\n",
       "    <tr>\n",
       "      <th>7</th>\n",
       "      <td>ACCESORIES_1_001</td>\n",
       "      <td>2011-03-20</td>\n",
       "      <td>0</td>\n",
       "      <td>0.0</td>\n",
       "    </tr>\n",
       "    <tr>\n",
       "      <th>8</th>\n",
       "      <td>ACCESORIES_1_001</td>\n",
       "      <td>2011-03-27</td>\n",
       "      <td>0</td>\n",
       "      <td>0.0</td>\n",
       "    </tr>\n",
       "    <tr>\n",
       "      <th>9</th>\n",
       "      <td>ACCESORIES_1_001</td>\n",
       "      <td>2011-04-03</td>\n",
       "      <td>0</td>\n",
       "      <td>0.0</td>\n",
       "    </tr>\n",
       "  </tbody>\n",
       "</table>\n",
       "</div>"
      ],
      "text/plain": [
       "               item   yearweek  item_qty_sold_sum  item_qty_sold_sum_lag1\n",
       "0  ACCESORIES_1_001 2011-01-30                  0                     NaN\n",
       "1  ACCESORIES_1_001 2011-02-06                  0                     0.0\n",
       "2  ACCESORIES_1_001 2011-02-13                  0                     0.0\n",
       "3  ACCESORIES_1_001 2011-02-20                  0                     0.0\n",
       "4  ACCESORIES_1_001 2011-02-27                  0                     0.0\n",
       "5  ACCESORIES_1_001 2011-03-06                  0                     0.0\n",
       "6  ACCESORIES_1_001 2011-03-13                  0                     0.0\n",
       "7  ACCESORIES_1_001 2011-03-20                  0                     0.0\n",
       "8  ACCESORIES_1_001 2011-03-27                  0                     0.0\n",
       "9  ACCESORIES_1_001 2011-04-03                  0                     0.0"
      ]
     },
     "execution_count": 47,
     "metadata": {},
     "output_type": "execute_result"
    }
   ],
   "source": [
    "GB_LIST = [\"item\"]\n",
    "TARGET_COLUMN = \"qty_sold\"\n",
    "AGG_FUNC = np.sum\n",
    "AGG_FUNC_NAME = \"sum\"\n",
    "\n",
    "vars_ts_ = build_ts_vars(\n",
    "    df = df_forecast,\n",
    "    gb_list = GB_LIST,\n",
    "    target_column = TARGET_COLUMN,\n",
    "    agg_func = AGG_FUNC,\n",
    "    agg_func_name =  AGG_FUNC_NAME\n",
    "    \n",
    ")\n",
    "\n",
    "vars_ts_.head(10)"
   ]
  },
  {
   "cell_type": "markdown",
   "metadata": {},
   "source": [
    "### Join TS Features"
   ]
  },
  {
   "cell_type": "code",
   "execution_count": 48,
   "metadata": {},
   "outputs": [
    {
     "name": "stdout",
     "output_type": "stream",
     "text": [
      "(8354260, 13)\n"
     ]
    },
    {
     "name": "stdout",
     "output_type": "stream",
     "text": [
      "(8354260, 15)\n"
     ]
    }
   ],
   "source": [
    "print(df_forecast.shape)\n",
    "\n",
    "df = pd.merge(df_forecast, vars_ts_, on = [\"yearweek\"] + GB_LIST, how = \"left\")\n",
    "\n",
    "print(df.shape)"
   ]
  },
  {
   "cell_type": "code",
   "execution_count": 49,
   "metadata": {},
   "outputs": [
    {
     "name": "stdout",
     "output_type": "stream",
     "text": [
      "<class 'pandas.core.frame.DataFrame'>\n",
      "RangeIndex: 8354260 entries, 0 to 8354259\n",
      "Data columns (total 15 columns):\n",
      " #   Column                  Dtype         \n",
      "---  ------                  -----         \n",
      " 0   yearweek                datetime64[ns]\n",
      " 1   id                      object        \n",
      " 2   item                    object        \n",
      " 3   category                object        \n",
      " 4   department              object        \n",
      " 5   store                   object        \n",
      " 6   store_code              object        \n",
      " 7   region                  object        \n",
      " 8   qty_sold                int64         \n",
      " 9   sell_price              float64       \n",
      " 10  event                   object        \n",
      " 11  year                    int64         \n",
      " 12  week                    int64         \n",
      " 13  item_qty_sold_sum       int64         \n",
      " 14  item_qty_sold_sum_lag1  float64       \n",
      "dtypes: datetime64[ns](1), float64(2), int64(4), object(8)\n",
      "memory usage: 956.1+ MB\n"
     ]
    }
   ],
   "source": [
    "df.info()"
   ]
  },
  {
   "cell_type": "code",
   "execution_count": 50,
   "metadata": {},
   "outputs": [
    {
     "data": {
      "text/plain": [
       "yearweek                      0\n",
       "id                            0\n",
       "item                          0\n",
       "category                      0\n",
       "department                    0\n",
       "store                         0\n",
       "store_code                    0\n",
       "region                        0\n",
       "qty_sold                      0\n",
       "sell_price                    0\n",
       "event                         0\n",
       "year                          0\n",
       "week                          0\n",
       "item_qty_sold_sum             0\n",
       "item_qty_sold_sum_lag1    30490\n",
       "dtype: int64"
      ]
     },
     "execution_count": 50,
     "metadata": {},
     "output_type": "execute_result"
    }
   ],
   "source": [
    "df.isnull().sum() #Revisamos Nulos, que solo tienen que estar en el registro 1 de nuestro dataset"
   ]
  },
  {
   "cell_type": "code",
   "execution_count": 51,
   "metadata": {},
   "outputs": [
    {
     "data": {
      "text/plain": [
       "'df[\"item_qty_sold_sum_lag1\"].fillna(-999, inplace = True)\\ndf[\"item_qty_sold_sum_lag2\"].fillna(-999, inplace = True)\\ndf[\"item_qty_sold_sum_lag3\"].fillna(-999, inplace = True)'"
      ]
     },
     "execution_count": 51,
     "metadata": {},
     "output_type": "execute_result"
    }
   ],
   "source": [
    "\"\"\"df[\"item_qty_sold_sum_lag1\"].fillna(-999, inplace = True)\n",
    "df[\"item_qty_sold_sum_lag2\"].fillna(-999, inplace = True)\n",
    "df[\"item_qty_sold_sum_lag3\"].fillna(-999, inplace = True)\"\"\""
   ]
  },
  {
   "cell_type": "code",
   "execution_count": 52,
   "metadata": {},
   "outputs": [
    {
     "data": {
      "text/html": [
       "<div>\n",
       "<style scoped>\n",
       "    .dataframe tbody tr th:only-of-type {\n",
       "        vertical-align: middle;\n",
       "    }\n",
       "\n",
       "    .dataframe tbody tr th {\n",
       "        vertical-align: top;\n",
       "    }\n",
       "\n",
       "    .dataframe thead th {\n",
       "        text-align: right;\n",
       "    }\n",
       "</style>\n",
       "<table border=\"1\" class=\"dataframe\">\n",
       "  <thead>\n",
       "    <tr style=\"text-align: right;\">\n",
       "      <th></th>\n",
       "      <th>yearweek</th>\n",
       "      <th>id</th>\n",
       "      <th>item</th>\n",
       "      <th>category</th>\n",
       "      <th>department</th>\n",
       "      <th>store</th>\n",
       "      <th>store_code</th>\n",
       "      <th>region</th>\n",
       "      <th>qty_sold</th>\n",
       "      <th>sell_price</th>\n",
       "      <th>event</th>\n",
       "      <th>year</th>\n",
       "      <th>week</th>\n",
       "      <th>item_qty_sold_sum</th>\n",
       "      <th>item_qty_sold_sum_lag1</th>\n",
       "    </tr>\n",
       "  </thead>\n",
       "  <tbody>\n",
       "    <tr>\n",
       "      <th>0</th>\n",
       "      <td>2011-01-30</td>\n",
       "      <td>ACCESORIES_1_001_BOS_1</td>\n",
       "      <td>ACCESORIES_1_001</td>\n",
       "      <td>ACCESORIES</td>\n",
       "      <td>ACCESORIES_1</td>\n",
       "      <td>South_End</td>\n",
       "      <td>BOS_1</td>\n",
       "      <td>Boston</td>\n",
       "      <td>0</td>\n",
       "      <td>12.7414</td>\n",
       "      <td>0</td>\n",
       "      <td>2011</td>\n",
       "      <td>4</td>\n",
       "      <td>0</td>\n",
       "      <td>NaN</td>\n",
       "    </tr>\n",
       "    <tr>\n",
       "      <th>1</th>\n",
       "      <td>2011-02-06</td>\n",
       "      <td>ACCESORIES_1_001_BOS_1</td>\n",
       "      <td>ACCESORIES_1_001</td>\n",
       "      <td>ACCESORIES</td>\n",
       "      <td>ACCESORIES_1</td>\n",
       "      <td>South_End</td>\n",
       "      <td>BOS_1</td>\n",
       "      <td>Boston</td>\n",
       "      <td>0</td>\n",
       "      <td>12.7414</td>\n",
       "      <td>0</td>\n",
       "      <td>2011</td>\n",
       "      <td>5</td>\n",
       "      <td>0</td>\n",
       "      <td>0.0</td>\n",
       "    </tr>\n",
       "    <tr>\n",
       "      <th>2</th>\n",
       "      <td>2011-02-13</td>\n",
       "      <td>ACCESORIES_1_001_BOS_1</td>\n",
       "      <td>ACCESORIES_1_001</td>\n",
       "      <td>ACCESORIES</td>\n",
       "      <td>ACCESORIES_1</td>\n",
       "      <td>South_End</td>\n",
       "      <td>BOS_1</td>\n",
       "      <td>Boston</td>\n",
       "      <td>0</td>\n",
       "      <td>12.7414</td>\n",
       "      <td>SuperBowl</td>\n",
       "      <td>2011</td>\n",
       "      <td>6</td>\n",
       "      <td>0</td>\n",
       "      <td>0.0</td>\n",
       "    </tr>\n",
       "    <tr>\n",
       "      <th>3</th>\n",
       "      <td>2011-02-20</td>\n",
       "      <td>ACCESORIES_1_001_BOS_1</td>\n",
       "      <td>ACCESORIES_1_001</td>\n",
       "      <td>ACCESORIES</td>\n",
       "      <td>ACCESORIES_1</td>\n",
       "      <td>South_End</td>\n",
       "      <td>BOS_1</td>\n",
       "      <td>Boston</td>\n",
       "      <td>0</td>\n",
       "      <td>12.7414</td>\n",
       "      <td>0</td>\n",
       "      <td>2011</td>\n",
       "      <td>7</td>\n",
       "      <td>0</td>\n",
       "      <td>0.0</td>\n",
       "    </tr>\n",
       "    <tr>\n",
       "      <th>4</th>\n",
       "      <td>2011-02-27</td>\n",
       "      <td>ACCESORIES_1_001_BOS_1</td>\n",
       "      <td>ACCESORIES_1_001</td>\n",
       "      <td>ACCESORIES</td>\n",
       "      <td>ACCESORIES_1</td>\n",
       "      <td>South_End</td>\n",
       "      <td>BOS_1</td>\n",
       "      <td>Boston</td>\n",
       "      <td>0</td>\n",
       "      <td>12.7414</td>\n",
       "      <td>0</td>\n",
       "      <td>2011</td>\n",
       "      <td>8</td>\n",
       "      <td>0</td>\n",
       "      <td>0.0</td>\n",
       "    </tr>\n",
       "  </tbody>\n",
       "</table>\n",
       "</div>"
      ],
      "text/plain": [
       "    yearweek                      id              item    category  \\\n",
       "0 2011-01-30  ACCESORIES_1_001_BOS_1  ACCESORIES_1_001  ACCESORIES   \n",
       "1 2011-02-06  ACCESORIES_1_001_BOS_1  ACCESORIES_1_001  ACCESORIES   \n",
       "2 2011-02-13  ACCESORIES_1_001_BOS_1  ACCESORIES_1_001  ACCESORIES   \n",
       "3 2011-02-20  ACCESORIES_1_001_BOS_1  ACCESORIES_1_001  ACCESORIES   \n",
       "4 2011-02-27  ACCESORIES_1_001_BOS_1  ACCESORIES_1_001  ACCESORIES   \n",
       "\n",
       "     department      store store_code  region  qty_sold  sell_price  \\\n",
       "0  ACCESORIES_1  South_End      BOS_1  Boston         0     12.7414   \n",
       "1  ACCESORIES_1  South_End      BOS_1  Boston         0     12.7414   \n",
       "2  ACCESORIES_1  South_End      BOS_1  Boston         0     12.7414   \n",
       "3  ACCESORIES_1  South_End      BOS_1  Boston         0     12.7414   \n",
       "4  ACCESORIES_1  South_End      BOS_1  Boston         0     12.7414   \n",
       "\n",
       "       event  year  week  item_qty_sold_sum  item_qty_sold_sum_lag1  \n",
       "0          0  2011     4                  0                     NaN  \n",
       "1          0  2011     5                  0                     0.0  \n",
       "2  SuperBowl  2011     6                  0                     0.0  \n",
       "3          0  2011     7                  0                     0.0  \n",
       "4          0  2011     8                  0                     0.0  "
      ]
     },
     "execution_count": 52,
     "metadata": {},
     "output_type": "execute_result"
    }
   ],
   "source": [
    "df.head()"
   ]
  },
  {
   "cell_type": "markdown",
   "metadata": {},
   "source": [
    "Para hacer el subsample, teniendo en cuenta los últimos 2 años y medio de los productos que hacen el 60% de la venta"
   ]
  },
  {
   "cell_type": "code",
   "execution_count": 53,
   "metadata": {},
   "outputs": [
    {
     "data": {
      "text/plain": [
       "\"#Definimos fecha máx. calculamos ultimos 2 años y medio recientes y aplicamos fórmula cumsum\\nmax_yearweek = df['yearweek'].max()\\ndf_2years = max_yearweek - pd.DateOffset(years=2, months=6)\\ndf_2MAT= df[df['yearweek']>= df_2years]\\ndf_sample= df_2MAT.copy()\""
      ]
     },
     "execution_count": 53,
     "metadata": {},
     "output_type": "execute_result"
    }
   ],
   "source": [
    "\"\"\"#Definimos fecha máx. calculamos ultimos 2 años y medio recientes y aplicamos fórmula cumsum\n",
    "max_yearweek = df['yearweek'].max()\n",
    "df_2years = max_yearweek - pd.DateOffset(years=2, months=6)\n",
    "df_2MAT= df[df['yearweek']>= df_2years]\n",
    "df_sample= df_2MAT.copy()\"\"\""
   ]
  },
  {
   "cell_type": "code",
   "execution_count": 54,
   "metadata": {},
   "outputs": [
    {
     "data": {
      "text/plain": [
       "'# Aplica la lógica existente para obtener los productos que representan el 60% de las ventas\\ndf_sample_id= df_2MAT.groupby(\"id\")[\"qty_sold\"].sum().sort_values(ascending=False).cumsum().div(df_2MAT[\"qty_sold\"].sum()).loc[lambda x: x <= 0.6].index'"
      ]
     },
     "execution_count": 54,
     "metadata": {},
     "output_type": "execute_result"
    }
   ],
   "source": [
    "\"\"\"# Aplica la lógica existente para obtener los productos que representan el 60% de las ventas\n",
    "df_sample_id= df_2MAT.groupby(\"id\")[\"qty_sold\"].sum().sort_values(ascending=False).cumsum().div(df_2MAT[\"qty_sold\"].sum()).loc[lambda x: x <= 0.6].index\"\"\""
   ]
  },
  {
   "cell_type": "code",
   "execution_count": 55,
   "metadata": {},
   "outputs": [
    {
     "data": {
      "text/plain": [
       "'df_sample_top60 = df[df[\"id\"].isin(df_sample_id)]'"
      ]
     },
     "execution_count": 55,
     "metadata": {},
     "output_type": "execute_result"
    }
   ],
   "source": [
    "\"\"\"df_sample_top60 = df[df[\"id\"].isin(df_sample_id)]\"\"\""
   ]
  },
  {
   "cell_type": "code",
   "execution_count": 56,
   "metadata": {},
   "outputs": [
    {
     "data": {
      "text/plain": [
       "'df_sample.head()'"
      ]
     },
     "execution_count": 56,
     "metadata": {},
     "output_type": "execute_result"
    }
   ],
   "source": [
    "\"\"\"df_sample.head()\"\"\""
   ]
  },
  {
   "cell_type": "code",
   "execution_count": 57,
   "metadata": {},
   "outputs": [
    {
     "data": {
      "text/plain": [
       "'MIN_DATE = df_sample[\"yearweek\"].min()\\nMAX_DATE = df_sample[\"yearweek\"].max()'"
      ]
     },
     "execution_count": 57,
     "metadata": {},
     "output_type": "execute_result"
    }
   ],
   "source": [
    "\"\"\"MIN_DATE = df_sample[\"yearweek\"].min()\n",
    "MAX_DATE = df_sample[\"yearweek\"].max()\"\"\""
   ]
  },
  {
   "cell_type": "code",
   "execution_count": 58,
   "metadata": {},
   "outputs": [
    {
     "data": {
      "text/plain": [
       "'print(f\"Min date is {MIN_DATE}\\nMax date is {MAX_DATE}\") '"
      ]
     },
     "execution_count": 58,
     "metadata": {},
     "output_type": "execute_result"
    }
   ],
   "source": [
    "\"\"\"print(f\"Min date is {MIN_DATE}\\nMax date is {MAX_DATE}\") \"\"\""
   ]
  },
  {
   "cell_type": "code",
   "execution_count": 59,
   "metadata": {},
   "outputs": [
    {
     "data": {
      "text/plain": [
       "'df_sample.info()'"
      ]
     },
     "execution_count": 59,
     "metadata": {},
     "output_type": "execute_result"
    }
   ],
   "source": [
    "\"\"\"df_sample.info()\"\"\""
   ]
  },
  {
   "cell_type": "code",
   "execution_count": 60,
   "metadata": {},
   "outputs": [
    {
     "data": {
      "text/plain": [
       "'df_sample.shape'"
      ]
     },
     "execution_count": 60,
     "metadata": {},
     "output_type": "execute_result"
    }
   ],
   "source": [
    "\"\"\"df_sample.shape\"\"\""
   ]
  },
  {
   "cell_type": "code",
   "execution_count": 61,
   "metadata": {},
   "outputs": [],
   "source": [
    "df_encoded = df.copy()"
   ]
  },
  {
   "cell_type": "code",
   "execution_count": 62,
   "metadata": {},
   "outputs": [
    {
     "data": {
      "text/plain": [
       "item\n",
       "ACCESORIES_1_001       2740\n",
       "SUPERMARKET_2_210      2740\n",
       "SUPERMARKET_2_201      2740\n",
       "SUPERMARKET_2_202      2740\n",
       "SUPERMARKET_2_203      2740\n",
       "                       ... \n",
       "HOME_&_GARDEN_1_464    2740\n",
       "HOME_&_GARDEN_1_465    2740\n",
       "HOME_&_GARDEN_1_466    2740\n",
       "HOME_&_GARDEN_1_467    2740\n",
       "SUPERMARKET_3_827      2740\n",
       "Name: count, Length: 3049, dtype: int64"
      ]
     },
     "execution_count": 62,
     "metadata": {},
     "output_type": "execute_result"
    }
   ],
   "source": [
    "df_encoded[\"item\"].value_counts()"
   ]
  },
  {
   "cell_type": "markdown",
   "metadata": {},
   "source": [
    "# Encoding categoricos"
   ]
  },
  {
   "cell_type": "code",
   "execution_count": 63,
   "metadata": {},
   "outputs": [
    {
     "data": {
      "text/plain": [
       "['item', 'category', 'department', 'store', 'store_code', 'region', 'event']"
      ]
     },
     "execution_count": 63,
     "metadata": {},
     "output_type": "execute_result"
    }
   ],
   "source": [
    "# Print categoricos\n",
    "cat_cols = list(df_encoded.select_dtypes(include=['object','category']).columns)\n",
    "if 'id' in cat_cols:\n",
    "    cat_cols.remove('id')\n",
    "cat_cols"
   ]
  },
  {
   "cell_type": "markdown",
   "metadata": {},
   "source": [
    "Creamos Diccionarios con bucles por si existen nuevos registros y para hacer más eficiente"
   ]
  },
  {
   "cell_type": "code",
   "execution_count": 64,
   "metadata": {},
   "outputs": [
    {
     "name": "stdout",
     "output_type": "stream",
     "text": [
      "Codificación para la columna 'item': {'ACCESORIES_1_001': 0, 'ACCESORIES_1_002': 1, 'ACCESORIES_1_003': 2, 'ACCESORIES_1_004': 3, 'ACCESORIES_1_005': 4, 'ACCESORIES_1_006': 5, 'ACCESORIES_1_007': 6, 'ACCESORIES_1_008': 7, 'ACCESORIES_1_009': 8, 'ACCESORIES_1_010': 9, 'ACCESORIES_1_011': 10, 'ACCESORIES_1_012': 11, 'ACCESORIES_1_013': 12, 'ACCESORIES_1_014': 13, 'ACCESORIES_1_015': 14, 'ACCESORIES_1_016': 15, 'ACCESORIES_1_017': 16, 'ACCESORIES_1_018': 17, 'ACCESORIES_1_019': 18, 'ACCESORIES_1_020': 19, 'ACCESORIES_1_021': 20, 'ACCESORIES_1_022': 21, 'ACCESORIES_1_023': 22, 'ACCESORIES_1_024': 23, 'ACCESORIES_1_025': 24, 'ACCESORIES_1_026': 25, 'ACCESORIES_1_027': 26, 'ACCESORIES_1_028': 27, 'ACCESORIES_1_029': 28, 'ACCESORIES_1_030': 29, 'ACCESORIES_1_031': 30, 'ACCESORIES_1_032': 31, 'ACCESORIES_1_033': 32, 'ACCESORIES_1_034': 33, 'ACCESORIES_1_035': 34, 'ACCESORIES_1_036': 35, 'ACCESORIES_1_037': 36, 'ACCESORIES_1_038': 37, 'ACCESORIES_1_039': 38, 'ACCESORIES_1_040': 39, 'ACCESORIES_1_041': 40, 'ACCESORIES_1_042': 41, 'ACCESORIES_1_043': 42, 'ACCESORIES_1_044': 43, 'ACCESORIES_1_045': 44, 'ACCESORIES_1_046': 45, 'ACCESORIES_1_047': 46, 'ACCESORIES_1_048': 47, 'ACCESORIES_1_049': 48, 'ACCESORIES_1_050': 49, 'ACCESORIES_1_051': 50, 'ACCESORIES_1_052': 51, 'ACCESORIES_1_053': 52, 'ACCESORIES_1_054': 53, 'ACCESORIES_1_055': 54, 'ACCESORIES_1_056': 55, 'ACCESORIES_1_057': 56, 'ACCESORIES_1_058': 57, 'ACCESORIES_1_060': 58, 'ACCESORIES_1_061': 59, 'ACCESORIES_1_062': 60, 'ACCESORIES_1_063': 61, 'ACCESORIES_1_064': 62, 'ACCESORIES_1_065': 63, 'ACCESORIES_1_066': 64, 'ACCESORIES_1_067': 65, 'ACCESORIES_1_068': 66, 'ACCESORIES_1_069': 67, 'ACCESORIES_1_070': 68, 'ACCESORIES_1_072': 69, 'ACCESORIES_1_073': 70, 'ACCESORIES_1_074': 71, 'ACCESORIES_1_075': 72, 'ACCESORIES_1_076': 73, 'ACCESORIES_1_077': 74, 'ACCESORIES_1_078': 75, 'ACCESORIES_1_079': 76, 'ACCESORIES_1_080': 77, 'ACCESORIES_1_081': 78, 'ACCESORIES_1_082': 79, 'ACCESORIES_1_083': 80, 'ACCESORIES_1_084': 81, 'ACCESORIES_1_085': 82, 'ACCESORIES_1_086': 83, 'ACCESORIES_1_087': 84, 'ACCESORIES_1_088': 85, 'ACCESORIES_1_089': 86, 'ACCESORIES_1_090': 87, 'ACCESORIES_1_091': 88, 'ACCESORIES_1_092': 89, 'ACCESORIES_1_093': 90, 'ACCESORIES_1_094': 91, 'ACCESORIES_1_095': 92, 'ACCESORIES_1_097': 93, 'ACCESORIES_1_098': 94, 'ACCESORIES_1_099': 95, 'ACCESORIES_1_100': 96, 'ACCESORIES_1_102': 97, 'ACCESORIES_1_103': 98, 'ACCESORIES_1_104': 99, 'ACCESORIES_1_105': 100, 'ACCESORIES_1_106': 101, 'ACCESORIES_1_107': 102, 'ACCESORIES_1_108': 103, 'ACCESORIES_1_109': 104, 'ACCESORIES_1_110': 105, 'ACCESORIES_1_111': 106, 'ACCESORIES_1_112': 107, 'ACCESORIES_1_113': 108, 'ACCESORIES_1_114': 109, 'ACCESORIES_1_115': 110, 'ACCESORIES_1_116': 111, 'ACCESORIES_1_117': 112, 'ACCESORIES_1_118': 113, 'ACCESORIES_1_119': 114, 'ACCESORIES_1_120': 115, 'ACCESORIES_1_121': 116, 'ACCESORIES_1_122': 117, 'ACCESORIES_1_123': 118, 'ACCESORIES_1_124': 119, 'ACCESORIES_1_125': 120, 'ACCESORIES_1_126': 121, 'ACCESORIES_1_127': 122, 'ACCESORIES_1_128': 123, 'ACCESORIES_1_129': 124, 'ACCESORIES_1_130': 125, 'ACCESORIES_1_131': 126, 'ACCESORIES_1_132': 127, 'ACCESORIES_1_133': 128, 'ACCESORIES_1_134': 129, 'ACCESORIES_1_135': 130, 'ACCESORIES_1_136': 131, 'ACCESORIES_1_137': 132, 'ACCESORIES_1_138': 133, 'ACCESORIES_1_139': 134, 'ACCESORIES_1_140': 135, 'ACCESORIES_1_141': 136, 'ACCESORIES_1_142': 137, 'ACCESORIES_1_143': 138, 'ACCESORIES_1_144': 139, 'ACCESORIES_1_145': 140, 'ACCESORIES_1_146': 141, 'ACCESORIES_1_147': 142, 'ACCESORIES_1_148': 143, 'ACCESORIES_1_149': 144, 'ACCESORIES_1_150': 145, 'ACCESORIES_1_151': 146, 'ACCESORIES_1_152': 147, 'ACCESORIES_1_153': 148, 'ACCESORIES_1_154': 149, 'ACCESORIES_1_155': 150, 'ACCESORIES_1_156': 151, 'ACCESORIES_1_157': 152, 'ACCESORIES_1_158': 153, 'ACCESORIES_1_159': 154, 'ACCESORIES_1_160': 155, 'ACCESORIES_1_161': 156, 'ACCESORIES_1_162': 157, 'ACCESORIES_1_163': 158, 'ACCESORIES_1_164': 159, 'ACCESORIES_1_165': 160, 'ACCESORIES_1_166': 161, 'ACCESORIES_1_167': 162, 'ACCESORIES_1_168': 163, 'ACCESORIES_1_169': 164, 'ACCESORIES_1_170': 165, 'ACCESORIES_1_171': 166, 'ACCESORIES_1_172': 167, 'ACCESORIES_1_173': 168, 'ACCESORIES_1_174': 169, 'ACCESORIES_1_175': 170, 'ACCESORIES_1_176': 171, 'ACCESORIES_1_177': 172, 'ACCESORIES_1_178': 173, 'ACCESORIES_1_179': 174, 'ACCESORIES_1_180': 175, 'ACCESORIES_1_181': 176, 'ACCESORIES_1_183': 177, 'ACCESORIES_1_184': 178, 'ACCESORIES_1_185': 179, 'ACCESORIES_1_186': 180, 'ACCESORIES_1_187': 181, 'ACCESORIES_1_188': 182, 'ACCESORIES_1_189': 183, 'ACCESORIES_1_190': 184, 'ACCESORIES_1_191': 185, 'ACCESORIES_1_192': 186, 'ACCESORIES_1_193': 187, 'ACCESORIES_1_194': 188, 'ACCESORIES_1_195': 189, 'ACCESORIES_1_197': 190, 'ACCESORIES_1_198': 191, 'ACCESORIES_1_199': 192, 'ACCESORIES_1_200': 193, 'ACCESORIES_1_201': 194, 'ACCESORIES_1_202': 195, 'ACCESORIES_1_203': 196, 'ACCESORIES_1_204': 197, 'ACCESORIES_1_205': 198, 'ACCESORIES_1_206': 199, 'ACCESORIES_1_207': 200, 'ACCESORIES_1_208': 201, 'ACCESORIES_1_209': 202, 'ACCESORIES_1_210': 203, 'ACCESORIES_1_211': 204, 'ACCESORIES_1_212': 205, 'ACCESORIES_1_213': 206, 'ACCESORIES_1_214': 207, 'ACCESORIES_1_215': 208, 'ACCESORIES_1_216': 209, 'ACCESORIES_1_217': 210, 'ACCESORIES_1_218': 211, 'ACCESORIES_1_219': 212, 'ACCESORIES_1_220': 213, 'ACCESORIES_1_221': 214, 'ACCESORIES_1_223': 215, 'ACCESORIES_1_224': 216, 'ACCESORIES_1_225': 217, 'ACCESORIES_1_226': 218, 'ACCESORIES_1_227': 219, 'ACCESORIES_1_228': 220, 'ACCESORIES_1_229': 221, 'ACCESORIES_1_230': 222, 'ACCESORIES_1_231': 223, 'ACCESORIES_1_232': 224, 'ACCESORIES_1_233': 225, 'ACCESORIES_1_234': 226, 'ACCESORIES_1_235': 227, 'ACCESORIES_1_236': 228, 'ACCESORIES_1_237': 229, 'ACCESORIES_1_238': 230, 'ACCESORIES_1_239': 231, 'ACCESORIES_1_240': 232, 'ACCESORIES_1_241': 233, 'ACCESORIES_1_242': 234, 'ACCESORIES_1_243': 235, 'ACCESORIES_1_244': 236, 'ACCESORIES_1_245': 237, 'ACCESORIES_1_246': 238, 'ACCESORIES_1_247': 239, 'ACCESORIES_1_248': 240, 'ACCESORIES_1_249': 241, 'ACCESORIES_1_250': 242, 'ACCESORIES_1_251': 243, 'ACCESORIES_1_252': 244, 'ACCESORIES_1_253': 245, 'ACCESORIES_1_254': 246, 'ACCESORIES_1_255': 247, 'ACCESORIES_1_256': 248, 'ACCESORIES_1_257': 249, 'ACCESORIES_1_258': 250, 'ACCESORIES_1_259': 251, 'ACCESORIES_1_260': 252, 'ACCESORIES_1_261': 253, 'ACCESORIES_1_262': 254, 'ACCESORIES_1_263': 255, 'ACCESORIES_1_264': 256, 'ACCESORIES_1_265': 257, 'ACCESORIES_1_266': 258, 'ACCESORIES_1_267': 259, 'ACCESORIES_1_268': 260, 'ACCESORIES_1_269': 261, 'ACCESORIES_1_270': 262, 'ACCESORIES_1_271': 263, 'ACCESORIES_1_272': 264, 'ACCESORIES_1_273': 265, 'ACCESORIES_1_274': 266, 'ACCESORIES_1_275': 267, 'ACCESORIES_1_276': 268, 'ACCESORIES_1_277': 269, 'ACCESORIES_1_278': 270, 'ACCESORIES_1_279': 271, 'ACCESORIES_1_280': 272, 'ACCESORIES_1_281': 273, 'ACCESORIES_1_282': 274, 'ACCESORIES_1_283': 275, 'ACCESORIES_1_284': 276, 'ACCESORIES_1_285': 277, 'ACCESORIES_1_286': 278, 'ACCESORIES_1_287': 279, 'ACCESORIES_1_288': 280, 'ACCESORIES_1_289': 281, 'ACCESORIES_1_290': 282, 'ACCESORIES_1_292': 283, 'ACCESORIES_1_293': 284, 'ACCESORIES_1_294': 285, 'ACCESORIES_1_295': 286, 'ACCESORIES_1_296': 287, 'ACCESORIES_1_297': 288, 'ACCESORIES_1_298': 289, 'ACCESORIES_1_299': 290, 'ACCESORIES_1_300': 291, 'ACCESORIES_1_301': 292, 'ACCESORIES_1_302': 293, 'ACCESORIES_1_303': 294, 'ACCESORIES_1_304': 295, 'ACCESORIES_1_305': 296, 'ACCESORIES_1_306': 297, 'ACCESORIES_1_307': 298, 'ACCESORIES_1_308': 299, 'ACCESORIES_1_309': 300, 'ACCESORIES_1_310': 301, 'ACCESORIES_1_311': 302, 'ACCESORIES_1_312': 303, 'ACCESORIES_1_313': 304, 'ACCESORIES_1_314': 305, 'ACCESORIES_1_315': 306, 'ACCESORIES_1_316': 307, 'ACCESORIES_1_317': 308, 'ACCESORIES_1_318': 309, 'ACCESORIES_1_319': 310, 'ACCESORIES_1_320': 311, 'ACCESORIES_1_321': 312, 'ACCESORIES_1_322': 313, 'ACCESORIES_1_323': 314, 'ACCESORIES_1_324': 315, 'ACCESORIES_1_325': 316, 'ACCESORIES_1_326': 317, 'ACCESORIES_1_327': 318, 'ACCESORIES_1_328': 319, 'ACCESORIES_1_329': 320, 'ACCESORIES_1_330': 321, 'ACCESORIES_1_331': 322, 'ACCESORIES_1_332': 323, 'ACCESORIES_1_333': 324, 'ACCESORIES_1_334': 325, 'ACCESORIES_1_335': 326, 'ACCESORIES_1_336': 327, 'ACCESORIES_1_337': 328, 'ACCESORIES_1_338': 329, 'ACCESORIES_1_339': 330, 'ACCESORIES_1_340': 331, 'ACCESORIES_1_341': 332, 'ACCESORIES_1_342': 333, 'ACCESORIES_1_343': 334, 'ACCESORIES_1_344': 335, 'ACCESORIES_1_345': 336, 'ACCESORIES_1_346': 337, 'ACCESORIES_1_347': 338, 'ACCESORIES_1_348': 339, 'ACCESORIES_1_349': 340, 'ACCESORIES_1_350': 341, 'ACCESORIES_1_351': 342, 'ACCESORIES_1_352': 343, 'ACCESORIES_1_353': 344, 'ACCESORIES_1_354': 345, 'ACCESORIES_1_355': 346, 'ACCESORIES_1_356': 347, 'ACCESORIES_1_357': 348, 'ACCESORIES_1_358': 349, 'ACCESORIES_1_359': 350, 'ACCESORIES_1_360': 351, 'ACCESORIES_1_361': 352, 'ACCESORIES_1_362': 353, 'ACCESORIES_1_363': 354, 'ACCESORIES_1_364': 355, 'ACCESORIES_1_365': 356, 'ACCESORIES_1_366': 357, 'ACCESORIES_1_367': 358, 'ACCESORIES_1_368': 359, 'ACCESORIES_1_369': 360, 'ACCESORIES_1_370': 361, 'ACCESORIES_1_371': 362, 'ACCESORIES_1_372': 363, 'ACCESORIES_1_373': 364, 'ACCESORIES_1_374': 365, 'ACCESORIES_1_375': 366, 'ACCESORIES_1_376': 367, 'ACCESORIES_1_377': 368, 'ACCESORIES_1_378': 369, 'ACCESORIES_1_379': 370, 'ACCESORIES_1_380': 371, 'ACCESORIES_1_381': 372, 'ACCESORIES_1_382': 373, 'ACCESORIES_1_383': 374, 'ACCESORIES_1_384': 375, 'ACCESORIES_1_385': 376, 'ACCESORIES_1_386': 377, 'ACCESORIES_1_387': 378, 'ACCESORIES_1_388': 379, 'ACCESORIES_1_389': 380, 'ACCESORIES_1_390': 381, 'ACCESORIES_1_391': 382, 'ACCESORIES_1_392': 383, 'ACCESORIES_1_393': 384, 'ACCESORIES_1_394': 385, 'ACCESORIES_1_395': 386, 'ACCESORIES_1_396': 387, 'ACCESORIES_1_397': 388, 'ACCESORIES_1_398': 389, 'ACCESORIES_1_399': 390, 'ACCESORIES_1_400': 391, 'ACCESORIES_1_401': 392, 'ACCESORIES_1_402': 393, 'ACCESORIES_1_403': 394, 'ACCESORIES_1_404': 395, 'ACCESORIES_1_405': 396, 'ACCESORIES_1_406': 397, 'ACCESORIES_1_407': 398, 'ACCESORIES_1_408': 399, 'ACCESORIES_1_409': 400, 'ACCESORIES_1_410': 401, 'ACCESORIES_1_411': 402, 'ACCESORIES_1_412': 403, 'ACCESORIES_1_413': 404, 'ACCESORIES_1_414': 405, 'ACCESORIES_1_415': 406, 'ACCESORIES_1_416': 407, 'ACCESORIES_1_417': 408, 'ACCESORIES_1_418': 409, 'ACCESORIES_1_419': 410, 'ACCESORIES_1_420': 411, 'ACCESORIES_1_421': 412, 'ACCESORIES_1_422': 413, 'ACCESORIES_1_423': 414, 'ACCESORIES_1_424': 415, 'ACCESORIES_2_001': 416, 'ACCESORIES_2_002': 417, 'ACCESORIES_2_003': 418, 'ACCESORIES_2_004': 419, 'ACCESORIES_2_005': 420, 'ACCESORIES_2_006': 421, 'ACCESORIES_2_007': 422, 'ACCESORIES_2_008': 423, 'ACCESORIES_2_009': 424, 'ACCESORIES_2_010': 425, 'ACCESORIES_2_011': 426, 'ACCESORIES_2_012': 427, 'ACCESORIES_2_013': 428, 'ACCESORIES_2_014': 429, 'ACCESORIES_2_015': 430, 'ACCESORIES_2_016': 431, 'ACCESORIES_2_017': 432, 'ACCESORIES_2_018': 433, 'ACCESORIES_2_019': 434, 'ACCESORIES_2_020': 435, 'ACCESORIES_2_021': 436, 'ACCESORIES_2_022': 437, 'ACCESORIES_2_023': 438, 'ACCESORIES_2_024': 439, 'ACCESORIES_2_025': 440, 'ACCESORIES_2_026': 441, 'ACCESORIES_2_027': 442, 'ACCESORIES_2_028': 443, 'ACCESORIES_2_029': 444, 'ACCESORIES_2_030': 445, 'ACCESORIES_2_031': 446, 'ACCESORIES_2_032': 447, 'ACCESORIES_2_033': 448, 'ACCESORIES_2_034': 449, 'ACCESORIES_2_035': 450, 'ACCESORIES_2_036': 451, 'ACCESORIES_2_037': 452, 'ACCESORIES_2_038': 453, 'ACCESORIES_2_039': 454, 'ACCESORIES_2_040': 455, 'ACCESORIES_2_041': 456, 'ACCESORIES_2_042': 457, 'ACCESORIES_2_043': 458, 'ACCESORIES_2_044': 459, 'ACCESORIES_2_045': 460, 'ACCESORIES_2_046': 461, 'ACCESORIES_2_047': 462, 'ACCESORIES_2_048': 463, 'ACCESORIES_2_049': 464, 'ACCESORIES_2_050': 465, 'ACCESORIES_2_051': 466, 'ACCESORIES_2_052': 467, 'ACCESORIES_2_053': 468, 'ACCESORIES_2_054': 469, 'ACCESORIES_2_055': 470, 'ACCESORIES_2_056': 471, 'ACCESORIES_2_057': 472, 'ACCESORIES_2_058': 473, 'ACCESORIES_2_059': 474, 'ACCESORIES_2_060': 475, 'ACCESORIES_2_061': 476, 'ACCESORIES_2_062': 477, 'ACCESORIES_2_063': 478, 'ACCESORIES_2_064': 479, 'ACCESORIES_2_065': 480, 'ACCESORIES_2_066': 481, 'ACCESORIES_2_067': 482, 'ACCESORIES_2_068': 483, 'ACCESORIES_2_069': 484, 'ACCESORIES_2_070': 485, 'ACCESORIES_2_071': 486, 'ACCESORIES_2_072': 487, 'ACCESORIES_2_073': 488, 'ACCESORIES_2_074': 489, 'ACCESORIES_2_075': 490, 'ACCESORIES_2_076': 491, 'ACCESORIES_2_077': 492, 'ACCESORIES_2_078': 493, 'ACCESORIES_2_079': 494, 'ACCESORIES_2_080': 495, 'ACCESORIES_2_081': 496, 'ACCESORIES_2_082': 497, 'ACCESORIES_2_083': 498, 'ACCESORIES_2_084': 499, 'ACCESORIES_2_085': 500, 'ACCESORIES_2_086': 501, 'ACCESORIES_2_087': 502, 'ACCESORIES_2_088': 503, 'ACCESORIES_2_089': 504, 'ACCESORIES_2_090': 505, 'ACCESORIES_2_091': 506, 'ACCESORIES_2_092': 507, 'ACCESORIES_2_093': 508, 'ACCESORIES_2_094': 509, 'ACCESORIES_2_095': 510, 'ACCESORIES_2_096': 511, 'ACCESORIES_2_097': 512, 'ACCESORIES_2_098': 513, 'ACCESORIES_2_099': 514, 'ACCESORIES_2_100': 515, 'ACCESORIES_2_101': 516, 'ACCESORIES_2_102': 517, 'ACCESORIES_2_103': 518, 'ACCESORIES_2_104': 519, 'ACCESORIES_2_105': 520, 'ACCESORIES_2_106': 521, 'ACCESORIES_2_107': 522, 'ACCESORIES_2_108': 523, 'ACCESORIES_2_109': 524, 'ACCESORIES_2_110': 525, 'ACCESORIES_2_111': 526, 'ACCESORIES_2_112': 527, 'ACCESORIES_2_113': 528, 'ACCESORIES_2_114': 529, 'ACCESORIES_2_115': 530, 'ACCESORIES_2_116': 531, 'ACCESORIES_2_117': 532, 'ACCESORIES_2_118': 533, 'ACCESORIES_2_119': 534, 'ACCESORIES_2_120': 535, 'ACCESORIES_2_121': 536, 'ACCESORIES_2_122': 537, 'ACCESORIES_2_123': 538, 'ACCESORIES_2_124': 539, 'ACCESORIES_2_125': 540, 'ACCESORIES_2_126': 541, 'ACCESORIES_2_127': 542, 'ACCESORIES_2_128': 543, 'ACCESORIES_2_129': 544, 'ACCESORIES_2_130': 545, 'ACCESORIES_2_131': 546, 'ACCESORIES_2_132': 547, 'ACCESORIES_2_133': 548, 'ACCESORIES_2_134': 549, 'ACCESORIES_2_135': 550, 'ACCESORIES_2_136': 551, 'ACCESORIES_2_137': 552, 'ACCESORIES_2_138': 553, 'ACCESORIES_2_139': 554, 'ACCESORIES_2_140': 555, 'ACCESORIES_2_141': 556, 'ACCESORIES_2_142': 557, 'ACCESORIES_2_143': 558, 'ACCESORIES_2_144': 559, 'ACCESORIES_2_145': 560, 'ACCESORIES_2_146': 561, 'ACCESORIES_2_147': 562, 'ACCESORIES_2_148': 563, 'ACCESORIES_2_149': 564, 'HOME_&_GARDEN_1_001': 565, 'HOME_&_GARDEN_1_002': 566, 'HOME_&_GARDEN_1_003': 567, 'HOME_&_GARDEN_1_004': 568, 'HOME_&_GARDEN_1_005': 569, 'HOME_&_GARDEN_1_006': 570, 'HOME_&_GARDEN_1_007': 571, 'HOME_&_GARDEN_1_008': 572, 'HOME_&_GARDEN_1_009': 573, 'HOME_&_GARDEN_1_010': 574, 'HOME_&_GARDEN_1_011': 575, 'HOME_&_GARDEN_1_012': 576, 'HOME_&_GARDEN_1_013': 577, 'HOME_&_GARDEN_1_014': 578, 'HOME_&_GARDEN_1_015': 579, 'HOME_&_GARDEN_1_016': 580, 'HOME_&_GARDEN_1_017': 581, 'HOME_&_GARDEN_1_018': 582, 'HOME_&_GARDEN_1_019': 583, 'HOME_&_GARDEN_1_020': 584, 'HOME_&_GARDEN_1_021': 585, 'HOME_&_GARDEN_1_022': 586, 'HOME_&_GARDEN_1_023': 587, 'HOME_&_GARDEN_1_024': 588, 'HOME_&_GARDEN_1_025': 589, 'HOME_&_GARDEN_1_026': 590, 'HOME_&_GARDEN_1_027': 591, 'HOME_&_GARDEN_1_028': 592, 'HOME_&_GARDEN_1_029': 593, 'HOME_&_GARDEN_1_030': 594, 'HOME_&_GARDEN_1_032': 595, 'HOME_&_GARDEN_1_033': 596, 'HOME_&_GARDEN_1_034': 597, 'HOME_&_GARDEN_1_035': 598, 'HOME_&_GARDEN_1_036': 599, 'HOME_&_GARDEN_1_037': 600, 'HOME_&_GARDEN_1_038': 601, 'HOME_&_GARDEN_1_039': 602, 'HOME_&_GARDEN_1_040': 603, 'HOME_&_GARDEN_1_042': 604, 'HOME_&_GARDEN_1_043': 605, 'HOME_&_GARDEN_1_044': 606, 'HOME_&_GARDEN_1_045': 607, 'HOME_&_GARDEN_1_046': 608, 'HOME_&_GARDEN_1_047': 609, 'HOME_&_GARDEN_1_048': 610, 'HOME_&_GARDEN_1_049': 611, 'HOME_&_GARDEN_1_050': 612, 'HOME_&_GARDEN_1_051': 613, 'HOME_&_GARDEN_1_052': 614, 'HOME_&_GARDEN_1_053': 615, 'HOME_&_GARDEN_1_054': 616, 'HOME_&_GARDEN_1_055': 617, 'HOME_&_GARDEN_1_056': 618, 'HOME_&_GARDEN_1_057': 619, 'HOME_&_GARDEN_1_058': 620, 'HOME_&_GARDEN_1_059': 621, 'HOME_&_GARDEN_1_060': 622, 'HOME_&_GARDEN_1_061': 623, 'HOME_&_GARDEN_1_062': 624, 'HOME_&_GARDEN_1_063': 625, 'HOME_&_GARDEN_1_064': 626, 'HOME_&_GARDEN_1_065': 627, 'HOME_&_GARDEN_1_066': 628, 'HOME_&_GARDEN_1_067': 629, 'HOME_&_GARDEN_1_068': 630, 'HOME_&_GARDEN_1_069': 631, 'HOME_&_GARDEN_1_070': 632, 'HOME_&_GARDEN_1_071': 633, 'HOME_&_GARDEN_1_072': 634, 'HOME_&_GARDEN_1_073': 635, 'HOME_&_GARDEN_1_074': 636, 'HOME_&_GARDEN_1_075': 637, 'HOME_&_GARDEN_1_076': 638, 'HOME_&_GARDEN_1_077': 639, 'HOME_&_GARDEN_1_078': 640, 'HOME_&_GARDEN_1_079': 641, 'HOME_&_GARDEN_1_080': 642, 'HOME_&_GARDEN_1_081': 643, 'HOME_&_GARDEN_1_082': 644, 'HOME_&_GARDEN_1_083': 645, 'HOME_&_GARDEN_1_085': 646, 'HOME_&_GARDEN_1_086': 647, 'HOME_&_GARDEN_1_087': 648, 'HOME_&_GARDEN_1_088': 649, 'HOME_&_GARDEN_1_089': 650, 'HOME_&_GARDEN_1_090': 651, 'HOME_&_GARDEN_1_091': 652, 'HOME_&_GARDEN_1_092': 653, 'HOME_&_GARDEN_1_093': 654, 'HOME_&_GARDEN_1_094': 655, 'HOME_&_GARDEN_1_095': 656, 'HOME_&_GARDEN_1_096': 657, 'HOME_&_GARDEN_1_097': 658, 'HOME_&_GARDEN_1_098': 659, 'HOME_&_GARDEN_1_099': 660, 'HOME_&_GARDEN_1_100': 661, 'HOME_&_GARDEN_1_101': 662, 'HOME_&_GARDEN_1_102': 663, 'HOME_&_GARDEN_1_103': 664, 'HOME_&_GARDEN_1_104': 665, 'HOME_&_GARDEN_1_105': 666, 'HOME_&_GARDEN_1_106': 667, 'HOME_&_GARDEN_1_107': 668, 'HOME_&_GARDEN_1_108': 669, 'HOME_&_GARDEN_1_109': 670, 'HOME_&_GARDEN_1_110': 671, 'HOME_&_GARDEN_1_112': 672, 'HOME_&_GARDEN_1_113': 673, 'HOME_&_GARDEN_1_114': 674, 'HOME_&_GARDEN_1_115': 675, 'HOME_&_GARDEN_1_116': 676, 'HOME_&_GARDEN_1_117': 677, 'HOME_&_GARDEN_1_118': 678, 'HOME_&_GARDEN_1_119': 679, 'HOME_&_GARDEN_1_120': 680, 'HOME_&_GARDEN_1_121': 681, 'HOME_&_GARDEN_1_122': 682, 'HOME_&_GARDEN_1_123': 683, 'HOME_&_GARDEN_1_124': 684, 'HOME_&_GARDEN_1_125': 685, 'HOME_&_GARDEN_1_126': 686, 'HOME_&_GARDEN_1_127': 687, 'HOME_&_GARDEN_1_128': 688, 'HOME_&_GARDEN_1_129': 689, 'HOME_&_GARDEN_1_130': 690, 'HOME_&_GARDEN_1_131': 691, 'HOME_&_GARDEN_1_132': 692, 'HOME_&_GARDEN_1_133': 693, 'HOME_&_GARDEN_1_134': 694, 'HOME_&_GARDEN_1_135': 695, 'HOME_&_GARDEN_1_136': 696, 'HOME_&_GARDEN_1_137': 697, 'HOME_&_GARDEN_1_138': 698, 'HOME_&_GARDEN_1_139': 699, 'HOME_&_GARDEN_1_140': 700, 'HOME_&_GARDEN_1_141': 701, 'HOME_&_GARDEN_1_142': 702, 'HOME_&_GARDEN_1_143': 703, 'HOME_&_GARDEN_1_144': 704, 'HOME_&_GARDEN_1_145': 705, 'HOME_&_GARDEN_1_146': 706, 'HOME_&_GARDEN_1_147': 707, 'HOME_&_GARDEN_1_148': 708, 'HOME_&_GARDEN_1_149': 709, 'HOME_&_GARDEN_1_150': 710, 'HOME_&_GARDEN_1_151': 711, 'HOME_&_GARDEN_1_152': 712, 'HOME_&_GARDEN_1_153': 713, 'HOME_&_GARDEN_1_154': 714, 'HOME_&_GARDEN_1_155': 715, 'HOME_&_GARDEN_1_156': 716, 'HOME_&_GARDEN_1_157': 717, 'HOME_&_GARDEN_1_158': 718, 'HOME_&_GARDEN_1_159': 719, 'HOME_&_GARDEN_1_160': 720, 'HOME_&_GARDEN_1_161': 721, 'HOME_&_GARDEN_1_162': 722, 'HOME_&_GARDEN_1_163': 723, 'HOME_&_GARDEN_1_164': 724, 'HOME_&_GARDEN_1_165': 725, 'HOME_&_GARDEN_1_166': 726, 'HOME_&_GARDEN_1_167': 727, 'HOME_&_GARDEN_1_168': 728, 'HOME_&_GARDEN_1_169': 729, 'HOME_&_GARDEN_1_170': 730, 'HOME_&_GARDEN_1_171': 731, 'HOME_&_GARDEN_1_172': 732, 'HOME_&_GARDEN_1_173': 733, 'HOME_&_GARDEN_1_174': 734, 'HOME_&_GARDEN_1_175': 735, 'HOME_&_GARDEN_1_176': 736, 'HOME_&_GARDEN_1_177': 737, 'HOME_&_GARDEN_1_178': 738, 'HOME_&_GARDEN_1_179': 739, 'HOME_&_GARDEN_1_180': 740, 'HOME_&_GARDEN_1_181': 741, 'HOME_&_GARDEN_1_182': 742, 'HOME_&_GARDEN_1_183': 743, 'HOME_&_GARDEN_1_184': 744, 'HOME_&_GARDEN_1_185': 745, 'HOME_&_GARDEN_1_186': 746, 'HOME_&_GARDEN_1_187': 747, 'HOME_&_GARDEN_1_188': 748, 'HOME_&_GARDEN_1_189': 749, 'HOME_&_GARDEN_1_190': 750, 'HOME_&_GARDEN_1_191': 751, 'HOME_&_GARDEN_1_192': 752, 'HOME_&_GARDEN_1_193': 753, 'HOME_&_GARDEN_1_194': 754, 'HOME_&_GARDEN_1_195': 755, 'HOME_&_GARDEN_1_196': 756, 'HOME_&_GARDEN_1_197': 757, 'HOME_&_GARDEN_1_198': 758, 'HOME_&_GARDEN_1_199': 759, 'HOME_&_GARDEN_1_200': 760, 'HOME_&_GARDEN_1_201': 761, 'HOME_&_GARDEN_1_202': 762, 'HOME_&_GARDEN_1_203': 763, 'HOME_&_GARDEN_1_204': 764, 'HOME_&_GARDEN_1_205': 765, 'HOME_&_GARDEN_1_206': 766, 'HOME_&_GARDEN_1_207': 767, 'HOME_&_GARDEN_1_208': 768, 'HOME_&_GARDEN_1_209': 769, 'HOME_&_GARDEN_1_210': 770, 'HOME_&_GARDEN_1_211': 771, 'HOME_&_GARDEN_1_212': 772, 'HOME_&_GARDEN_1_213': 773, 'HOME_&_GARDEN_1_214': 774, 'HOME_&_GARDEN_1_215': 775, 'HOME_&_GARDEN_1_216': 776, 'HOME_&_GARDEN_1_217': 777, 'HOME_&_GARDEN_1_218': 778, 'HOME_&_GARDEN_1_219': 779, 'HOME_&_GARDEN_1_220': 780, 'HOME_&_GARDEN_1_221': 781, 'HOME_&_GARDEN_1_222': 782, 'HOME_&_GARDEN_1_223': 783, 'HOME_&_GARDEN_1_224': 784, 'HOME_&_GARDEN_1_225': 785, 'HOME_&_GARDEN_1_226': 786, 'HOME_&_GARDEN_1_227': 787, 'HOME_&_GARDEN_1_228': 788, 'HOME_&_GARDEN_1_229': 789, 'HOME_&_GARDEN_1_230': 790, 'HOME_&_GARDEN_1_231': 791, 'HOME_&_GARDEN_1_232': 792, 'HOME_&_GARDEN_1_233': 793, 'HOME_&_GARDEN_1_234': 794, 'HOME_&_GARDEN_1_235': 795, 'HOME_&_GARDEN_1_236': 796, 'HOME_&_GARDEN_1_237': 797, 'HOME_&_GARDEN_1_238': 798, 'HOME_&_GARDEN_1_239': 799, 'HOME_&_GARDEN_1_241': 800, 'HOME_&_GARDEN_1_242': 801, 'HOME_&_GARDEN_1_243': 802, 'HOME_&_GARDEN_1_244': 803, 'HOME_&_GARDEN_1_245': 804, 'HOME_&_GARDEN_1_246': 805, 'HOME_&_GARDEN_1_247': 806, 'HOME_&_GARDEN_1_248': 807, 'HOME_&_GARDEN_1_249': 808, 'HOME_&_GARDEN_1_250': 809, 'HOME_&_GARDEN_1_251': 810, 'HOME_&_GARDEN_1_252': 811, 'HOME_&_GARDEN_1_253': 812, 'HOME_&_GARDEN_1_254': 813, 'HOME_&_GARDEN_1_255': 814, 'HOME_&_GARDEN_1_256': 815, 'HOME_&_GARDEN_1_257': 816, 'HOME_&_GARDEN_1_258': 817, 'HOME_&_GARDEN_1_259': 818, 'HOME_&_GARDEN_1_260': 819, 'HOME_&_GARDEN_1_261': 820, 'HOME_&_GARDEN_1_262': 821, 'HOME_&_GARDEN_1_263': 822, 'HOME_&_GARDEN_1_264': 823, 'HOME_&_GARDEN_1_265': 824, 'HOME_&_GARDEN_1_266': 825, 'HOME_&_GARDEN_1_267': 826, 'HOME_&_GARDEN_1_268': 827, 'HOME_&_GARDEN_1_269': 828, 'HOME_&_GARDEN_1_270': 829, 'HOME_&_GARDEN_1_271': 830, 'HOME_&_GARDEN_1_272': 831, 'HOME_&_GARDEN_1_274': 832, 'HOME_&_GARDEN_1_275': 833, 'HOME_&_GARDEN_1_276': 834, 'HOME_&_GARDEN_1_277': 835, 'HOME_&_GARDEN_1_278': 836, 'HOME_&_GARDEN_1_279': 837, 'HOME_&_GARDEN_1_280': 838, 'HOME_&_GARDEN_1_281': 839, 'HOME_&_GARDEN_1_282': 840, 'HOME_&_GARDEN_1_283': 841, 'HOME_&_GARDEN_1_284': 842, 'HOME_&_GARDEN_1_285': 843, 'HOME_&_GARDEN_1_286': 844, 'HOME_&_GARDEN_1_287': 845, 'HOME_&_GARDEN_1_288': 846, 'HOME_&_GARDEN_1_289': 847, 'HOME_&_GARDEN_1_290': 848, 'HOME_&_GARDEN_1_291': 849, 'HOME_&_GARDEN_1_292': 850, 'HOME_&_GARDEN_1_293': 851, 'HOME_&_GARDEN_1_294': 852, 'HOME_&_GARDEN_1_295': 853, 'HOME_&_GARDEN_1_296': 854, 'HOME_&_GARDEN_1_297': 855, 'HOME_&_GARDEN_1_298': 856, 'HOME_&_GARDEN_1_299': 857, 'HOME_&_GARDEN_1_300': 858, 'HOME_&_GARDEN_1_301': 859, 'HOME_&_GARDEN_1_302': 860, 'HOME_&_GARDEN_1_303': 861, 'HOME_&_GARDEN_1_304': 862, 'HOME_&_GARDEN_1_305': 863, 'HOME_&_GARDEN_1_306': 864, 'HOME_&_GARDEN_1_307': 865, 'HOME_&_GARDEN_1_308': 866, 'HOME_&_GARDEN_1_309': 867, 'HOME_&_GARDEN_1_310': 868, 'HOME_&_GARDEN_1_311': 869, 'HOME_&_GARDEN_1_312': 870, 'HOME_&_GARDEN_1_313': 871, 'HOME_&_GARDEN_1_314': 872, 'HOME_&_GARDEN_1_315': 873, 'HOME_&_GARDEN_1_316': 874, 'HOME_&_GARDEN_1_317': 875, 'HOME_&_GARDEN_1_318': 876, 'HOME_&_GARDEN_1_319': 877, 'HOME_&_GARDEN_1_320': 878, 'HOME_&_GARDEN_1_321': 879, 'HOME_&_GARDEN_1_322': 880, 'HOME_&_GARDEN_1_323': 881, 'HOME_&_GARDEN_1_324': 882, 'HOME_&_GARDEN_1_325': 883, 'HOME_&_GARDEN_1_326': 884, 'HOME_&_GARDEN_1_327': 885, 'HOME_&_GARDEN_1_328': 886, 'HOME_&_GARDEN_1_329': 887, 'HOME_&_GARDEN_1_330': 888, 'HOME_&_GARDEN_1_331': 889, 'HOME_&_GARDEN_1_332': 890, 'HOME_&_GARDEN_1_333': 891, 'HOME_&_GARDEN_1_334': 892, 'HOME_&_GARDEN_1_335': 893, 'HOME_&_GARDEN_1_336': 894, 'HOME_&_GARDEN_1_337': 895, 'HOME_&_GARDEN_1_338': 896, 'HOME_&_GARDEN_1_339': 897, 'HOME_&_GARDEN_1_340': 898, 'HOME_&_GARDEN_1_341': 899, 'HOME_&_GARDEN_1_342': 900, 'HOME_&_GARDEN_1_343': 901, 'HOME_&_GARDEN_1_344': 902, 'HOME_&_GARDEN_1_345': 903, 'HOME_&_GARDEN_1_346': 904, 'HOME_&_GARDEN_1_347': 905, 'HOME_&_GARDEN_1_348': 906, 'HOME_&_GARDEN_1_349': 907, 'HOME_&_GARDEN_1_350': 908, 'HOME_&_GARDEN_1_351': 909, 'HOME_&_GARDEN_1_353': 910, 'HOME_&_GARDEN_1_354': 911, 'HOME_&_GARDEN_1_355': 912, 'HOME_&_GARDEN_1_356': 913, 'HOME_&_GARDEN_1_357': 914, 'HOME_&_GARDEN_1_358': 915, 'HOME_&_GARDEN_1_359': 916, 'HOME_&_GARDEN_1_360': 917, 'HOME_&_GARDEN_1_361': 918, 'HOME_&_GARDEN_1_362': 919, 'HOME_&_GARDEN_1_363': 920, 'HOME_&_GARDEN_1_364': 921, 'HOME_&_GARDEN_1_365': 922, 'HOME_&_GARDEN_1_366': 923, 'HOME_&_GARDEN_1_367': 924, 'HOME_&_GARDEN_1_368': 925, 'HOME_&_GARDEN_1_369': 926, 'HOME_&_GARDEN_1_370': 927, 'HOME_&_GARDEN_1_371': 928, 'HOME_&_GARDEN_1_372': 929, 'HOME_&_GARDEN_1_373': 930, 'HOME_&_GARDEN_1_374': 931, 'HOME_&_GARDEN_1_375': 932, 'HOME_&_GARDEN_1_376': 933, 'HOME_&_GARDEN_1_377': 934, 'HOME_&_GARDEN_1_378': 935, 'HOME_&_GARDEN_1_379': 936, 'HOME_&_GARDEN_1_380': 937, 'HOME_&_GARDEN_1_381': 938, 'HOME_&_GARDEN_1_382': 939, 'HOME_&_GARDEN_1_383': 940, 'HOME_&_GARDEN_1_384': 941, 'HOME_&_GARDEN_1_385': 942, 'HOME_&_GARDEN_1_386': 943, 'HOME_&_GARDEN_1_387': 944, 'HOME_&_GARDEN_1_388': 945, 'HOME_&_GARDEN_1_389': 946, 'HOME_&_GARDEN_1_390': 947, 'HOME_&_GARDEN_1_393': 948, 'HOME_&_GARDEN_1_394': 949, 'HOME_&_GARDEN_1_395': 950, 'HOME_&_GARDEN_1_396': 951, 'HOME_&_GARDEN_1_397': 952, 'HOME_&_GARDEN_1_398': 953, 'HOME_&_GARDEN_1_399': 954, 'HOME_&_GARDEN_1_400': 955, 'HOME_&_GARDEN_1_401': 956, 'HOME_&_GARDEN_1_402': 957, 'HOME_&_GARDEN_1_403': 958, 'HOME_&_GARDEN_1_404': 959, 'HOME_&_GARDEN_1_405': 960, 'HOME_&_GARDEN_1_406': 961, 'HOME_&_GARDEN_1_407': 962, 'HOME_&_GARDEN_1_408': 963, 'HOME_&_GARDEN_1_409': 964, 'HOME_&_GARDEN_1_410': 965, 'HOME_&_GARDEN_1_411': 966, 'HOME_&_GARDEN_1_412': 967, 'HOME_&_GARDEN_1_413': 968, 'HOME_&_GARDEN_1_414': 969, 'HOME_&_GARDEN_1_415': 970, 'HOME_&_GARDEN_1_416': 971, 'HOME_&_GARDEN_1_417': 972, 'HOME_&_GARDEN_1_418': 973, 'HOME_&_GARDEN_1_419': 974, 'HOME_&_GARDEN_1_420': 975, 'HOME_&_GARDEN_1_421': 976, 'HOME_&_GARDEN_1_422': 977, 'HOME_&_GARDEN_1_423': 978, 'HOME_&_GARDEN_1_424': 979, 'HOME_&_GARDEN_1_425': 980, 'HOME_&_GARDEN_1_426': 981, 'HOME_&_GARDEN_1_427': 982, 'HOME_&_GARDEN_1_428': 983, 'HOME_&_GARDEN_1_429': 984, 'HOME_&_GARDEN_1_430': 985, 'HOME_&_GARDEN_1_431': 986, 'HOME_&_GARDEN_1_432': 987, 'HOME_&_GARDEN_1_433': 988, 'HOME_&_GARDEN_1_434': 989, 'HOME_&_GARDEN_1_435': 990, 'HOME_&_GARDEN_1_436': 991, 'HOME_&_GARDEN_1_437': 992, 'HOME_&_GARDEN_1_438': 993, 'HOME_&_GARDEN_1_439': 994, 'HOME_&_GARDEN_1_440': 995, 'HOME_&_GARDEN_1_441': 996, 'HOME_&_GARDEN_1_442': 997, 'HOME_&_GARDEN_1_443': 998, 'HOME_&_GARDEN_1_444': 999, 'HOME_&_GARDEN_1_445': 1000, 'HOME_&_GARDEN_1_446': 1001, 'HOME_&_GARDEN_1_447': 1002, 'HOME_&_GARDEN_1_448': 1003, 'HOME_&_GARDEN_1_449': 1004, 'HOME_&_GARDEN_1_450': 1005, 'HOME_&_GARDEN_1_451': 1006, 'HOME_&_GARDEN_1_452': 1007, 'HOME_&_GARDEN_1_453': 1008, 'HOME_&_GARDEN_1_454': 1009, 'HOME_&_GARDEN_1_455': 1010, 'HOME_&_GARDEN_1_456': 1011, 'HOME_&_GARDEN_1_457': 1012, 'HOME_&_GARDEN_1_458': 1013, 'HOME_&_GARDEN_1_459': 1014, 'HOME_&_GARDEN_1_460': 1015, 'HOME_&_GARDEN_1_461': 1016, 'HOME_&_GARDEN_1_462': 1017, 'HOME_&_GARDEN_1_463': 1018, 'HOME_&_GARDEN_1_464': 1019, 'HOME_&_GARDEN_1_465': 1020, 'HOME_&_GARDEN_1_466': 1021, 'HOME_&_GARDEN_1_467': 1022, 'HOME_&_GARDEN_1_468': 1023, 'HOME_&_GARDEN_1_469': 1024, 'HOME_&_GARDEN_1_470': 1025, 'HOME_&_GARDEN_1_471': 1026, 'HOME_&_GARDEN_1_472': 1027, 'HOME_&_GARDEN_1_473': 1028, 'HOME_&_GARDEN_1_474': 1029, 'HOME_&_GARDEN_1_475': 1030, 'HOME_&_GARDEN_1_476': 1031, 'HOME_&_GARDEN_1_477': 1032, 'HOME_&_GARDEN_1_478': 1033, 'HOME_&_GARDEN_1_479': 1034, 'HOME_&_GARDEN_1_480': 1035, 'HOME_&_GARDEN_1_481': 1036, 'HOME_&_GARDEN_1_482': 1037, 'HOME_&_GARDEN_1_483': 1038, 'HOME_&_GARDEN_1_484': 1039, 'HOME_&_GARDEN_1_485': 1040, 'HOME_&_GARDEN_1_486': 1041, 'HOME_&_GARDEN_1_487': 1042, 'HOME_&_GARDEN_1_488': 1043, 'HOME_&_GARDEN_1_489': 1044, 'HOME_&_GARDEN_1_490': 1045, 'HOME_&_GARDEN_1_491': 1046, 'HOME_&_GARDEN_1_492': 1047, 'HOME_&_GARDEN_1_493': 1048, 'HOME_&_GARDEN_1_494': 1049, 'HOME_&_GARDEN_1_495': 1050, 'HOME_&_GARDEN_1_496': 1051, 'HOME_&_GARDEN_1_497': 1052, 'HOME_&_GARDEN_1_498': 1053, 'HOME_&_GARDEN_1_499': 1054, 'HOME_&_GARDEN_1_500': 1055, 'HOME_&_GARDEN_1_501': 1056, 'HOME_&_GARDEN_1_502': 1057, 'HOME_&_GARDEN_1_503': 1058, 'HOME_&_GARDEN_1_504': 1059, 'HOME_&_GARDEN_1_505': 1060, 'HOME_&_GARDEN_1_506': 1061, 'HOME_&_GARDEN_1_507': 1062, 'HOME_&_GARDEN_1_508': 1063, 'HOME_&_GARDEN_1_509': 1064, 'HOME_&_GARDEN_1_510': 1065, 'HOME_&_GARDEN_1_511': 1066, 'HOME_&_GARDEN_1_512': 1067, 'HOME_&_GARDEN_1_513': 1068, 'HOME_&_GARDEN_1_514': 1069, 'HOME_&_GARDEN_1_515': 1070, 'HOME_&_GARDEN_1_516': 1071, 'HOME_&_GARDEN_1_517': 1072, 'HOME_&_GARDEN_1_518': 1073, 'HOME_&_GARDEN_1_519': 1074, 'HOME_&_GARDEN_1_520': 1075, 'HOME_&_GARDEN_1_521': 1076, 'HOME_&_GARDEN_1_522': 1077, 'HOME_&_GARDEN_1_523': 1078, 'HOME_&_GARDEN_1_524': 1079, 'HOME_&_GARDEN_1_525': 1080, 'HOME_&_GARDEN_1_526': 1081, 'HOME_&_GARDEN_1_527': 1082, 'HOME_&_GARDEN_1_528': 1083, 'HOME_&_GARDEN_1_529': 1084, 'HOME_&_GARDEN_1_530': 1085, 'HOME_&_GARDEN_1_531': 1086, 'HOME_&_GARDEN_1_532': 1087, 'HOME_&_GARDEN_1_533': 1088, 'HOME_&_GARDEN_1_534': 1089, 'HOME_&_GARDEN_1_535': 1090, 'HOME_&_GARDEN_1_536': 1091, 'HOME_&_GARDEN_1_537': 1092, 'HOME_&_GARDEN_1_538': 1093, 'HOME_&_GARDEN_1_539': 1094, 'HOME_&_GARDEN_1_540': 1095, 'HOME_&_GARDEN_1_541': 1096, 'HOME_&_GARDEN_2_001': 1097, 'HOME_&_GARDEN_2_002': 1098, 'HOME_&_GARDEN_2_003': 1099, 'HOME_&_GARDEN_2_004': 1100, 'HOME_&_GARDEN_2_005': 1101, 'HOME_&_GARDEN_2_006': 1102, 'HOME_&_GARDEN_2_007': 1103, 'HOME_&_GARDEN_2_008': 1104, 'HOME_&_GARDEN_2_009': 1105, 'HOME_&_GARDEN_2_010': 1106, 'HOME_&_GARDEN_2_011': 1107, 'HOME_&_GARDEN_2_012': 1108, 'HOME_&_GARDEN_2_013': 1109, 'HOME_&_GARDEN_2_014': 1110, 'HOME_&_GARDEN_2_015': 1111, 'HOME_&_GARDEN_2_016': 1112, 'HOME_&_GARDEN_2_017': 1113, 'HOME_&_GARDEN_2_018': 1114, 'HOME_&_GARDEN_2_019': 1115, 'HOME_&_GARDEN_2_020': 1116, 'HOME_&_GARDEN_2_021': 1117, 'HOME_&_GARDEN_2_022': 1118, 'HOME_&_GARDEN_2_023': 1119, 'HOME_&_GARDEN_2_024': 1120, 'HOME_&_GARDEN_2_025': 1121, 'HOME_&_GARDEN_2_026': 1122, 'HOME_&_GARDEN_2_027': 1123, 'HOME_&_GARDEN_2_028': 1124, 'HOME_&_GARDEN_2_029': 1125, 'HOME_&_GARDEN_2_030': 1126, 'HOME_&_GARDEN_2_031': 1127, 'HOME_&_GARDEN_2_032': 1128, 'HOME_&_GARDEN_2_033': 1129, 'HOME_&_GARDEN_2_034': 1130, 'HOME_&_GARDEN_2_035': 1131, 'HOME_&_GARDEN_2_036': 1132, 'HOME_&_GARDEN_2_037': 1133, 'HOME_&_GARDEN_2_038': 1134, 'HOME_&_GARDEN_2_039': 1135, 'HOME_&_GARDEN_2_040': 1136, 'HOME_&_GARDEN_2_041': 1137, 'HOME_&_GARDEN_2_042': 1138, 'HOME_&_GARDEN_2_043': 1139, 'HOME_&_GARDEN_2_044': 1140, 'HOME_&_GARDEN_2_045': 1141, 'HOME_&_GARDEN_2_046': 1142, 'HOME_&_GARDEN_2_047': 1143, 'HOME_&_GARDEN_2_048': 1144, 'HOME_&_GARDEN_2_049': 1145, 'HOME_&_GARDEN_2_050': 1146, 'HOME_&_GARDEN_2_051': 1147, 'HOME_&_GARDEN_2_052': 1148, 'HOME_&_GARDEN_2_053': 1149, 'HOME_&_GARDEN_2_054': 1150, 'HOME_&_GARDEN_2_055': 1151, 'HOME_&_GARDEN_2_056': 1152, 'HOME_&_GARDEN_2_057': 1153, 'HOME_&_GARDEN_2_058': 1154, 'HOME_&_GARDEN_2_059': 1155, 'HOME_&_GARDEN_2_060': 1156, 'HOME_&_GARDEN_2_061': 1157, 'HOME_&_GARDEN_2_062': 1158, 'HOME_&_GARDEN_2_063': 1159, 'HOME_&_GARDEN_2_064': 1160, 'HOME_&_GARDEN_2_065': 1161, 'HOME_&_GARDEN_2_066': 1162, 'HOME_&_GARDEN_2_067': 1163, 'HOME_&_GARDEN_2_068': 1164, 'HOME_&_GARDEN_2_069': 1165, 'HOME_&_GARDEN_2_070': 1166, 'HOME_&_GARDEN_2_071': 1167, 'HOME_&_GARDEN_2_072': 1168, 'HOME_&_GARDEN_2_073': 1169, 'HOME_&_GARDEN_2_074': 1170, 'HOME_&_GARDEN_2_075': 1171, 'HOME_&_GARDEN_2_076': 1172, 'HOME_&_GARDEN_2_077': 1173, 'HOME_&_GARDEN_2_078': 1174, 'HOME_&_GARDEN_2_079': 1175, 'HOME_&_GARDEN_2_080': 1176, 'HOME_&_GARDEN_2_081': 1177, 'HOME_&_GARDEN_2_082': 1178, 'HOME_&_GARDEN_2_083': 1179, 'HOME_&_GARDEN_2_084': 1180, 'HOME_&_GARDEN_2_085': 1181, 'HOME_&_GARDEN_2_086': 1182, 'HOME_&_GARDEN_2_087': 1183, 'HOME_&_GARDEN_2_088': 1184, 'HOME_&_GARDEN_2_089': 1185, 'HOME_&_GARDEN_2_090': 1186, 'HOME_&_GARDEN_2_091': 1187, 'HOME_&_GARDEN_2_092': 1188, 'HOME_&_GARDEN_2_093': 1189, 'HOME_&_GARDEN_2_094': 1190, 'HOME_&_GARDEN_2_095': 1191, 'HOME_&_GARDEN_2_096': 1192, 'HOME_&_GARDEN_2_097': 1193, 'HOME_&_GARDEN_2_098': 1194, 'HOME_&_GARDEN_2_099': 1195, 'HOME_&_GARDEN_2_100': 1196, 'HOME_&_GARDEN_2_101': 1197, 'HOME_&_GARDEN_2_102': 1198, 'HOME_&_GARDEN_2_103': 1199, 'HOME_&_GARDEN_2_104': 1200, 'HOME_&_GARDEN_2_105': 1201, 'HOME_&_GARDEN_2_106': 1202, 'HOME_&_GARDEN_2_107': 1203, 'HOME_&_GARDEN_2_108': 1204, 'HOME_&_GARDEN_2_109': 1205, 'HOME_&_GARDEN_2_110': 1206, 'HOME_&_GARDEN_2_111': 1207, 'HOME_&_GARDEN_2_112': 1208, 'HOME_&_GARDEN_2_113': 1209, 'HOME_&_GARDEN_2_114': 1210, 'HOME_&_GARDEN_2_115': 1211, 'HOME_&_GARDEN_2_116': 1212, 'HOME_&_GARDEN_2_117': 1213, 'HOME_&_GARDEN_2_118': 1214, 'HOME_&_GARDEN_2_119': 1215, 'HOME_&_GARDEN_2_120': 1216, 'HOME_&_GARDEN_2_121': 1217, 'HOME_&_GARDEN_2_122': 1218, 'HOME_&_GARDEN_2_123': 1219, 'HOME_&_GARDEN_2_124': 1220, 'HOME_&_GARDEN_2_125': 1221, 'HOME_&_GARDEN_2_126': 1222, 'HOME_&_GARDEN_2_127': 1223, 'HOME_&_GARDEN_2_128': 1224, 'HOME_&_GARDEN_2_129': 1225, 'HOME_&_GARDEN_2_130': 1226, 'HOME_&_GARDEN_2_131': 1227, 'HOME_&_GARDEN_2_132': 1228, 'HOME_&_GARDEN_2_133': 1229, 'HOME_&_GARDEN_2_134': 1230, 'HOME_&_GARDEN_2_135': 1231, 'HOME_&_GARDEN_2_136': 1232, 'HOME_&_GARDEN_2_137': 1233, 'HOME_&_GARDEN_2_138': 1234, 'HOME_&_GARDEN_2_139': 1235, 'HOME_&_GARDEN_2_140': 1236, 'HOME_&_GARDEN_2_141': 1237, 'HOME_&_GARDEN_2_142': 1238, 'HOME_&_GARDEN_2_143': 1239, 'HOME_&_GARDEN_2_144': 1240, 'HOME_&_GARDEN_2_145': 1241, 'HOME_&_GARDEN_2_146': 1242, 'HOME_&_GARDEN_2_147': 1243, 'HOME_&_GARDEN_2_148': 1244, 'HOME_&_GARDEN_2_149': 1245, 'HOME_&_GARDEN_2_150': 1246, 'HOME_&_GARDEN_2_151': 1247, 'HOME_&_GARDEN_2_152': 1248, 'HOME_&_GARDEN_2_153': 1249, 'HOME_&_GARDEN_2_154': 1250, 'HOME_&_GARDEN_2_155': 1251, 'HOME_&_GARDEN_2_156': 1252, 'HOME_&_GARDEN_2_157': 1253, 'HOME_&_GARDEN_2_158': 1254, 'HOME_&_GARDEN_2_159': 1255, 'HOME_&_GARDEN_2_160': 1256, 'HOME_&_GARDEN_2_161': 1257, 'HOME_&_GARDEN_2_162': 1258, 'HOME_&_GARDEN_2_163': 1259, 'HOME_&_GARDEN_2_164': 1260, 'HOME_&_GARDEN_2_165': 1261, 'HOME_&_GARDEN_2_166': 1262, 'HOME_&_GARDEN_2_167': 1263, 'HOME_&_GARDEN_2_168': 1264, 'HOME_&_GARDEN_2_169': 1265, 'HOME_&_GARDEN_2_170': 1266, 'HOME_&_GARDEN_2_171': 1267, 'HOME_&_GARDEN_2_172': 1268, 'HOME_&_GARDEN_2_173': 1269, 'HOME_&_GARDEN_2_174': 1270, 'HOME_&_GARDEN_2_175': 1271, 'HOME_&_GARDEN_2_176': 1272, 'HOME_&_GARDEN_2_177': 1273, 'HOME_&_GARDEN_2_178': 1274, 'HOME_&_GARDEN_2_179': 1275, 'HOME_&_GARDEN_2_180': 1276, 'HOME_&_GARDEN_2_182': 1277, 'HOME_&_GARDEN_2_183': 1278, 'HOME_&_GARDEN_2_184': 1279, 'HOME_&_GARDEN_2_185': 1280, 'HOME_&_GARDEN_2_186': 1281, 'HOME_&_GARDEN_2_187': 1282, 'HOME_&_GARDEN_2_188': 1283, 'HOME_&_GARDEN_2_189': 1284, 'HOME_&_GARDEN_2_190': 1285, 'HOME_&_GARDEN_2_191': 1286, 'HOME_&_GARDEN_2_192': 1287, 'HOME_&_GARDEN_2_193': 1288, 'HOME_&_GARDEN_2_194': 1289, 'HOME_&_GARDEN_2_195': 1290, 'HOME_&_GARDEN_2_196': 1291, 'HOME_&_GARDEN_2_197': 1292, 'HOME_&_GARDEN_2_198': 1293, 'HOME_&_GARDEN_2_199': 1294, 'HOME_&_GARDEN_2_200': 1295, 'HOME_&_GARDEN_2_201': 1296, 'HOME_&_GARDEN_2_202': 1297, 'HOME_&_GARDEN_2_203': 1298, 'HOME_&_GARDEN_2_204': 1299, 'HOME_&_GARDEN_2_205': 1300, 'HOME_&_GARDEN_2_206': 1301, 'HOME_&_GARDEN_2_207': 1302, 'HOME_&_GARDEN_2_208': 1303, 'HOME_&_GARDEN_2_209': 1304, 'HOME_&_GARDEN_2_210': 1305, 'HOME_&_GARDEN_2_211': 1306, 'HOME_&_GARDEN_2_212': 1307, 'HOME_&_GARDEN_2_213': 1308, 'HOME_&_GARDEN_2_214': 1309, 'HOME_&_GARDEN_2_215': 1310, 'HOME_&_GARDEN_2_216': 1311, 'HOME_&_GARDEN_2_217': 1312, 'HOME_&_GARDEN_2_218': 1313, 'HOME_&_GARDEN_2_219': 1314, 'HOME_&_GARDEN_2_220': 1315, 'HOME_&_GARDEN_2_221': 1316, 'HOME_&_GARDEN_2_222': 1317, 'HOME_&_GARDEN_2_223': 1318, 'HOME_&_GARDEN_2_224': 1319, 'HOME_&_GARDEN_2_225': 1320, 'HOME_&_GARDEN_2_226': 1321, 'HOME_&_GARDEN_2_227': 1322, 'HOME_&_GARDEN_2_228': 1323, 'HOME_&_GARDEN_2_229': 1324, 'HOME_&_GARDEN_2_230': 1325, 'HOME_&_GARDEN_2_231': 1326, 'HOME_&_GARDEN_2_232': 1327, 'HOME_&_GARDEN_2_233': 1328, 'HOME_&_GARDEN_2_234': 1329, 'HOME_&_GARDEN_2_235': 1330, 'HOME_&_GARDEN_2_236': 1331, 'HOME_&_GARDEN_2_237': 1332, 'HOME_&_GARDEN_2_238': 1333, 'HOME_&_GARDEN_2_239': 1334, 'HOME_&_GARDEN_2_240': 1335, 'HOME_&_GARDEN_2_241': 1336, 'HOME_&_GARDEN_2_242': 1337, 'HOME_&_GARDEN_2_243': 1338, 'HOME_&_GARDEN_2_244': 1339, 'HOME_&_GARDEN_2_245': 1340, 'HOME_&_GARDEN_2_246': 1341, 'HOME_&_GARDEN_2_247': 1342, 'HOME_&_GARDEN_2_248': 1343, 'HOME_&_GARDEN_2_249': 1344, 'HOME_&_GARDEN_2_250': 1345, 'HOME_&_GARDEN_2_251': 1346, 'HOME_&_GARDEN_2_252': 1347, 'HOME_&_GARDEN_2_253': 1348, 'HOME_&_GARDEN_2_254': 1349, 'HOME_&_GARDEN_2_255': 1350, 'HOME_&_GARDEN_2_256': 1351, 'HOME_&_GARDEN_2_257': 1352, 'HOME_&_GARDEN_2_258': 1353, 'HOME_&_GARDEN_2_259': 1354, 'HOME_&_GARDEN_2_260': 1355, 'HOME_&_GARDEN_2_261': 1356, 'HOME_&_GARDEN_2_262': 1357, 'HOME_&_GARDEN_2_263': 1358, 'HOME_&_GARDEN_2_264': 1359, 'HOME_&_GARDEN_2_265': 1360, 'HOME_&_GARDEN_2_266': 1361, 'HOME_&_GARDEN_2_267': 1362, 'HOME_&_GARDEN_2_268': 1363, 'HOME_&_GARDEN_2_269': 1364, 'HOME_&_GARDEN_2_270': 1365, 'HOME_&_GARDEN_2_271': 1366, 'HOME_&_GARDEN_2_272': 1367, 'HOME_&_GARDEN_2_273': 1368, 'HOME_&_GARDEN_2_274': 1369, 'HOME_&_GARDEN_2_275': 1370, 'HOME_&_GARDEN_2_276': 1371, 'HOME_&_GARDEN_2_277': 1372, 'HOME_&_GARDEN_2_278': 1373, 'HOME_&_GARDEN_2_279': 1374, 'HOME_&_GARDEN_2_280': 1375, 'HOME_&_GARDEN_2_281': 1376, 'HOME_&_GARDEN_2_282': 1377, 'HOME_&_GARDEN_2_283': 1378, 'HOME_&_GARDEN_2_284': 1379, 'HOME_&_GARDEN_2_285': 1380, 'HOME_&_GARDEN_2_286': 1381, 'HOME_&_GARDEN_2_287': 1382, 'HOME_&_GARDEN_2_288': 1383, 'HOME_&_GARDEN_2_289': 1384, 'HOME_&_GARDEN_2_290': 1385, 'HOME_&_GARDEN_2_291': 1386, 'HOME_&_GARDEN_2_292': 1387, 'HOME_&_GARDEN_2_293': 1388, 'HOME_&_GARDEN_2_294': 1389, 'HOME_&_GARDEN_2_295': 1390, 'HOME_&_GARDEN_2_296': 1391, 'HOME_&_GARDEN_2_297': 1392, 'HOME_&_GARDEN_2_298': 1393, 'HOME_&_GARDEN_2_299': 1394, 'HOME_&_GARDEN_2_300': 1395, 'HOME_&_GARDEN_2_301': 1396, 'HOME_&_GARDEN_2_302': 1397, 'HOME_&_GARDEN_2_303': 1398, 'HOME_&_GARDEN_2_304': 1399, 'HOME_&_GARDEN_2_305': 1400, 'HOME_&_GARDEN_2_306': 1401, 'HOME_&_GARDEN_2_307': 1402, 'HOME_&_GARDEN_2_308': 1403, 'HOME_&_GARDEN_2_309': 1404, 'HOME_&_GARDEN_2_310': 1405, 'HOME_&_GARDEN_2_311': 1406, 'HOME_&_GARDEN_2_312': 1407, 'HOME_&_GARDEN_2_313': 1408, 'HOME_&_GARDEN_2_314': 1409, 'HOME_&_GARDEN_2_315': 1410, 'HOME_&_GARDEN_2_316': 1411, 'HOME_&_GARDEN_2_317': 1412, 'HOME_&_GARDEN_2_318': 1413, 'HOME_&_GARDEN_2_319': 1414, 'HOME_&_GARDEN_2_320': 1415, 'HOME_&_GARDEN_2_321': 1416, 'HOME_&_GARDEN_2_322': 1417, 'HOME_&_GARDEN_2_323': 1418, 'HOME_&_GARDEN_2_324': 1419, 'HOME_&_GARDEN_2_325': 1420, 'HOME_&_GARDEN_2_326': 1421, 'HOME_&_GARDEN_2_327': 1422, 'HOME_&_GARDEN_2_328': 1423, 'HOME_&_GARDEN_2_329': 1424, 'HOME_&_GARDEN_2_330': 1425, 'HOME_&_GARDEN_2_331': 1426, 'HOME_&_GARDEN_2_332': 1427, 'HOME_&_GARDEN_2_333': 1428, 'HOME_&_GARDEN_2_334': 1429, 'HOME_&_GARDEN_2_335': 1430, 'HOME_&_GARDEN_2_336': 1431, 'HOME_&_GARDEN_2_337': 1432, 'HOME_&_GARDEN_2_338': 1433, 'HOME_&_GARDEN_2_339': 1434, 'HOME_&_GARDEN_2_340': 1435, 'HOME_&_GARDEN_2_341': 1436, 'HOME_&_GARDEN_2_342': 1437, 'HOME_&_GARDEN_2_343': 1438, 'HOME_&_GARDEN_2_344': 1439, 'HOME_&_GARDEN_2_345': 1440, 'HOME_&_GARDEN_2_346': 1441, 'HOME_&_GARDEN_2_347': 1442, 'HOME_&_GARDEN_2_348': 1443, 'HOME_&_GARDEN_2_349': 1444, 'HOME_&_GARDEN_2_350': 1445, 'HOME_&_GARDEN_2_351': 1446, 'HOME_&_GARDEN_2_352': 1447, 'HOME_&_GARDEN_2_353': 1448, 'HOME_&_GARDEN_2_354': 1449, 'HOME_&_GARDEN_2_355': 1450, 'HOME_&_GARDEN_2_356': 1451, 'HOME_&_GARDEN_2_357': 1452, 'HOME_&_GARDEN_2_358': 1453, 'HOME_&_GARDEN_2_359': 1454, 'HOME_&_GARDEN_2_360': 1455, 'HOME_&_GARDEN_2_361': 1456, 'HOME_&_GARDEN_2_362': 1457, 'HOME_&_GARDEN_2_363': 1458, 'HOME_&_GARDEN_2_364': 1459, 'HOME_&_GARDEN_2_365': 1460, 'HOME_&_GARDEN_2_366': 1461, 'HOME_&_GARDEN_2_367': 1462, 'HOME_&_GARDEN_2_368': 1463, 'HOME_&_GARDEN_2_369': 1464, 'HOME_&_GARDEN_2_370': 1465, 'HOME_&_GARDEN_2_371': 1466, 'HOME_&_GARDEN_2_372': 1467, 'HOME_&_GARDEN_2_373': 1468, 'HOME_&_GARDEN_2_374': 1469, 'HOME_&_GARDEN_2_375': 1470, 'HOME_&_GARDEN_2_376': 1471, 'HOME_&_GARDEN_2_377': 1472, 'HOME_&_GARDEN_2_378': 1473, 'HOME_&_GARDEN_2_379': 1474, 'HOME_&_GARDEN_2_380': 1475, 'HOME_&_GARDEN_2_381': 1476, 'HOME_&_GARDEN_2_382': 1477, 'HOME_&_GARDEN_2_383': 1478, 'HOME_&_GARDEN_2_384': 1479, 'HOME_&_GARDEN_2_385': 1480, 'HOME_&_GARDEN_2_386': 1481, 'HOME_&_GARDEN_2_387': 1482, 'HOME_&_GARDEN_2_388': 1483, 'HOME_&_GARDEN_2_389': 1484, 'HOME_&_GARDEN_2_390': 1485, 'HOME_&_GARDEN_2_391': 1486, 'HOME_&_GARDEN_2_392': 1487, 'HOME_&_GARDEN_2_393': 1488, 'HOME_&_GARDEN_2_394': 1489, 'HOME_&_GARDEN_2_395': 1490, 'HOME_&_GARDEN_2_396': 1491, 'HOME_&_GARDEN_2_397': 1492, 'HOME_&_GARDEN_2_398': 1493, 'HOME_&_GARDEN_2_399': 1494, 'HOME_&_GARDEN_2_400': 1495, 'HOME_&_GARDEN_2_401': 1496, 'HOME_&_GARDEN_2_402': 1497, 'HOME_&_GARDEN_2_403': 1498, 'HOME_&_GARDEN_2_404': 1499, 'HOME_&_GARDEN_2_405': 1500, 'HOME_&_GARDEN_2_406': 1501, 'HOME_&_GARDEN_2_407': 1502, 'HOME_&_GARDEN_2_408': 1503, 'HOME_&_GARDEN_2_409': 1504, 'HOME_&_GARDEN_2_410': 1505, 'HOME_&_GARDEN_2_411': 1506, 'HOME_&_GARDEN_2_412': 1507, 'HOME_&_GARDEN_2_413': 1508, 'HOME_&_GARDEN_2_414': 1509, 'HOME_&_GARDEN_2_415': 1510, 'HOME_&_GARDEN_2_416': 1511, 'HOME_&_GARDEN_2_417': 1512, 'HOME_&_GARDEN_2_418': 1513, 'HOME_&_GARDEN_2_419': 1514, 'HOME_&_GARDEN_2_420': 1515, 'HOME_&_GARDEN_2_421': 1516, 'HOME_&_GARDEN_2_422': 1517, 'HOME_&_GARDEN_2_423': 1518, 'HOME_&_GARDEN_2_424': 1519, 'HOME_&_GARDEN_2_425': 1520, 'HOME_&_GARDEN_2_426': 1521, 'HOME_&_GARDEN_2_427': 1522, 'HOME_&_GARDEN_2_428': 1523, 'HOME_&_GARDEN_2_429': 1524, 'HOME_&_GARDEN_2_430': 1525, 'HOME_&_GARDEN_2_431': 1526, 'HOME_&_GARDEN_2_432': 1527, 'HOME_&_GARDEN_2_433': 1528, 'HOME_&_GARDEN_2_434': 1529, 'HOME_&_GARDEN_2_435': 1530, 'HOME_&_GARDEN_2_436': 1531, 'HOME_&_GARDEN_2_437': 1532, 'HOME_&_GARDEN_2_438': 1533, 'HOME_&_GARDEN_2_439': 1534, 'HOME_&_GARDEN_2_440': 1535, 'HOME_&_GARDEN_2_441': 1536, 'HOME_&_GARDEN_2_442': 1537, 'HOME_&_GARDEN_2_443': 1538, 'HOME_&_GARDEN_2_444': 1539, 'HOME_&_GARDEN_2_445': 1540, 'HOME_&_GARDEN_2_446': 1541, 'HOME_&_GARDEN_2_447': 1542, 'HOME_&_GARDEN_2_448': 1543, 'HOME_&_GARDEN_2_449': 1544, 'HOME_&_GARDEN_2_450': 1545, 'HOME_&_GARDEN_2_451': 1546, 'HOME_&_GARDEN_2_452': 1547, 'HOME_&_GARDEN_2_453': 1548, 'HOME_&_GARDEN_2_454': 1549, 'HOME_&_GARDEN_2_455': 1550, 'HOME_&_GARDEN_2_456': 1551, 'HOME_&_GARDEN_2_457': 1552, 'HOME_&_GARDEN_2_458': 1553, 'HOME_&_GARDEN_2_459': 1554, 'HOME_&_GARDEN_2_460': 1555, 'HOME_&_GARDEN_2_461': 1556, 'HOME_&_GARDEN_2_462': 1557, 'HOME_&_GARDEN_2_463': 1558, 'HOME_&_GARDEN_2_464': 1559, 'HOME_&_GARDEN_2_465': 1560, 'HOME_&_GARDEN_2_466': 1561, 'HOME_&_GARDEN_2_467': 1562, 'HOME_&_GARDEN_2_468': 1563, 'HOME_&_GARDEN_2_469': 1564, 'HOME_&_GARDEN_2_470': 1565, 'HOME_&_GARDEN_2_471': 1566, 'HOME_&_GARDEN_2_472': 1567, 'HOME_&_GARDEN_2_473': 1568, 'HOME_&_GARDEN_2_474': 1569, 'HOME_&_GARDEN_2_475': 1570, 'HOME_&_GARDEN_2_476': 1571, 'HOME_&_GARDEN_2_477': 1572, 'HOME_&_GARDEN_2_478': 1573, 'HOME_&_GARDEN_2_479': 1574, 'HOME_&_GARDEN_2_480': 1575, 'HOME_&_GARDEN_2_481': 1576, 'HOME_&_GARDEN_2_482': 1577, 'HOME_&_GARDEN_2_483': 1578, 'HOME_&_GARDEN_2_484': 1579, 'HOME_&_GARDEN_2_485': 1580, 'HOME_&_GARDEN_2_486': 1581, 'HOME_&_GARDEN_2_487': 1582, 'HOME_&_GARDEN_2_488': 1583, 'HOME_&_GARDEN_2_489': 1584, 'HOME_&_GARDEN_2_490': 1585, 'HOME_&_GARDEN_2_491': 1586, 'HOME_&_GARDEN_2_492': 1587, 'HOME_&_GARDEN_2_493': 1588, 'HOME_&_GARDEN_2_494': 1589, 'HOME_&_GARDEN_2_495': 1590, 'HOME_&_GARDEN_2_496': 1591, 'HOME_&_GARDEN_2_497': 1592, 'HOME_&_GARDEN_2_498': 1593, 'HOME_&_GARDEN_2_499': 1594, 'HOME_&_GARDEN_2_500': 1595, 'HOME_&_GARDEN_2_501': 1596, 'HOME_&_GARDEN_2_502': 1597, 'HOME_&_GARDEN_2_503': 1598, 'HOME_&_GARDEN_2_504': 1599, 'HOME_&_GARDEN_2_505': 1600, 'HOME_&_GARDEN_2_506': 1601, 'HOME_&_GARDEN_2_507': 1602, 'HOME_&_GARDEN_2_508': 1603, 'HOME_&_GARDEN_2_509': 1604, 'HOME_&_GARDEN_2_510': 1605, 'HOME_&_GARDEN_2_511': 1606, 'HOME_&_GARDEN_2_512': 1607, 'HOME_&_GARDEN_2_513': 1608, 'HOME_&_GARDEN_2_514': 1609, 'HOME_&_GARDEN_2_515': 1610, 'HOME_&_GARDEN_2_516': 1611, 'SUPERMARKET_1_001': 1612, 'SUPERMARKET_1_002': 1613, 'SUPERMARKET_1_003': 1614, 'SUPERMARKET_1_004': 1615, 'SUPERMARKET_1_005': 1616, 'SUPERMARKET_1_006': 1617, 'SUPERMARKET_1_008': 1618, 'SUPERMARKET_1_009': 1619, 'SUPERMARKET_1_010': 1620, 'SUPERMARKET_1_011': 1621, 'SUPERMARKET_1_012': 1622, 'SUPERMARKET_1_013': 1623, 'SUPERMARKET_1_014': 1624, 'SUPERMARKET_1_015': 1625, 'SUPERMARKET_1_016': 1626, 'SUPERMARKET_1_017': 1627, 'SUPERMARKET_1_018': 1628, 'SUPERMARKET_1_019': 1629, 'SUPERMARKET_1_020': 1630, 'SUPERMARKET_1_021': 1631, 'SUPERMARKET_1_022': 1632, 'SUPERMARKET_1_023': 1633, 'SUPERMARKET_1_024': 1634, 'SUPERMARKET_1_025': 1635, 'SUPERMARKET_1_026': 1636, 'SUPERMARKET_1_027': 1637, 'SUPERMARKET_1_028': 1638, 'SUPERMARKET_1_029': 1639, 'SUPERMARKET_1_030': 1640, 'SUPERMARKET_1_031': 1641, 'SUPERMARKET_1_032': 1642, 'SUPERMARKET_1_033': 1643, 'SUPERMARKET_1_034': 1644, 'SUPERMARKET_1_035': 1645, 'SUPERMARKET_1_036': 1646, 'SUPERMARKET_1_037': 1647, 'SUPERMARKET_1_038': 1648, 'SUPERMARKET_1_039': 1649, 'SUPERMARKET_1_040': 1650, 'SUPERMARKET_1_041': 1651, 'SUPERMARKET_1_042': 1652, 'SUPERMARKET_1_043': 1653, 'SUPERMARKET_1_044': 1654, 'SUPERMARKET_1_045': 1655, 'SUPERMARKET_1_046': 1656, 'SUPERMARKET_1_047': 1657, 'SUPERMARKET_1_048': 1658, 'SUPERMARKET_1_049': 1659, 'SUPERMARKET_1_050': 1660, 'SUPERMARKET_1_051': 1661, 'SUPERMARKET_1_052': 1662, 'SUPERMARKET_1_053': 1663, 'SUPERMARKET_1_054': 1664, 'SUPERMARKET_1_055': 1665, 'SUPERMARKET_1_056': 1666, 'SUPERMARKET_1_057': 1667, 'SUPERMARKET_1_058': 1668, 'SUPERMARKET_1_059': 1669, 'SUPERMARKET_1_060': 1670, 'SUPERMARKET_1_061': 1671, 'SUPERMARKET_1_062': 1672, 'SUPERMARKET_1_063': 1673, 'SUPERMARKET_1_064': 1674, 'SUPERMARKET_1_065': 1675, 'SUPERMARKET_1_066': 1676, 'SUPERMARKET_1_067': 1677, 'SUPERMARKET_1_068': 1678, 'SUPERMARKET_1_069': 1679, 'SUPERMARKET_1_070': 1680, 'SUPERMARKET_1_071': 1681, 'SUPERMARKET_1_072': 1682, 'SUPERMARKET_1_073': 1683, 'SUPERMARKET_1_074': 1684, 'SUPERMARKET_1_075': 1685, 'SUPERMARKET_1_076': 1686, 'SUPERMARKET_1_077': 1687, 'SUPERMARKET_1_078': 1688, 'SUPERMARKET_1_079': 1689, 'SUPERMARKET_1_080': 1690, 'SUPERMARKET_1_081': 1691, 'SUPERMARKET_1_082': 1692, 'SUPERMARKET_1_083': 1693, 'SUPERMARKET_1_084': 1694, 'SUPERMARKET_1_085': 1695, 'SUPERMARKET_1_086': 1696, 'SUPERMARKET_1_087': 1697, 'SUPERMARKET_1_088': 1698, 'SUPERMARKET_1_089': 1699, 'SUPERMARKET_1_090': 1700, 'SUPERMARKET_1_091': 1701, 'SUPERMARKET_1_092': 1702, 'SUPERMARKET_1_093': 1703, 'SUPERMARKET_1_094': 1704, 'SUPERMARKET_1_095': 1705, 'SUPERMARKET_1_096': 1706, 'SUPERMARKET_1_097': 1707, 'SUPERMARKET_1_098': 1708, 'SUPERMARKET_1_099': 1709, 'SUPERMARKET_1_101': 1710, 'SUPERMARKET_1_102': 1711, 'SUPERMARKET_1_103': 1712, 'SUPERMARKET_1_104': 1713, 'SUPERMARKET_1_105': 1714, 'SUPERMARKET_1_106': 1715, 'SUPERMARKET_1_107': 1716, 'SUPERMARKET_1_108': 1717, 'SUPERMARKET_1_109': 1718, 'SUPERMARKET_1_110': 1719, 'SUPERMARKET_1_111': 1720, 'SUPERMARKET_1_112': 1721, 'SUPERMARKET_1_113': 1722, 'SUPERMARKET_1_114': 1723, 'SUPERMARKET_1_115': 1724, 'SUPERMARKET_1_116': 1725, 'SUPERMARKET_1_117': 1726, 'SUPERMARKET_1_118': 1727, 'SUPERMARKET_1_119': 1728, 'SUPERMARKET_1_120': 1729, 'SUPERMARKET_1_121': 1730, 'SUPERMARKET_1_122': 1731, 'SUPERMARKET_1_123': 1732, 'SUPERMARKET_1_124': 1733, 'SUPERMARKET_1_125': 1734, 'SUPERMARKET_1_126': 1735, 'SUPERMARKET_1_127': 1736, 'SUPERMARKET_1_128': 1737, 'SUPERMARKET_1_129': 1738, 'SUPERMARKET_1_130': 1739, 'SUPERMARKET_1_131': 1740, 'SUPERMARKET_1_132': 1741, 'SUPERMARKET_1_133': 1742, 'SUPERMARKET_1_134': 1743, 'SUPERMARKET_1_135': 1744, 'SUPERMARKET_1_136': 1745, 'SUPERMARKET_1_137': 1746, 'SUPERMARKET_1_138': 1747, 'SUPERMARKET_1_139': 1748, 'SUPERMARKET_1_140': 1749, 'SUPERMARKET_1_141': 1750, 'SUPERMARKET_1_142': 1751, 'SUPERMARKET_1_143': 1752, 'SUPERMARKET_1_144': 1753, 'SUPERMARKET_1_145': 1754, 'SUPERMARKET_1_146': 1755, 'SUPERMARKET_1_147': 1756, 'SUPERMARKET_1_148': 1757, 'SUPERMARKET_1_149': 1758, 'SUPERMARKET_1_150': 1759, 'SUPERMARKET_1_151': 1760, 'SUPERMARKET_1_152': 1761, 'SUPERMARKET_1_153': 1762, 'SUPERMARKET_1_154': 1763, 'SUPERMARKET_1_155': 1764, 'SUPERMARKET_1_156': 1765, 'SUPERMARKET_1_157': 1766, 'SUPERMARKET_1_158': 1767, 'SUPERMARKET_1_159': 1768, 'SUPERMARKET_1_160': 1769, 'SUPERMARKET_1_161': 1770, 'SUPERMARKET_1_162': 1771, 'SUPERMARKET_1_163': 1772, 'SUPERMARKET_1_164': 1773, 'SUPERMARKET_1_166': 1774, 'SUPERMARKET_1_167': 1775, 'SUPERMARKET_1_168': 1776, 'SUPERMARKET_1_169': 1777, 'SUPERMARKET_1_170': 1778, 'SUPERMARKET_1_171': 1779, 'SUPERMARKET_1_172': 1780, 'SUPERMARKET_1_173': 1781, 'SUPERMARKET_1_174': 1782, 'SUPERMARKET_1_175': 1783, 'SUPERMARKET_1_176': 1784, 'SUPERMARKET_1_177': 1785, 'SUPERMARKET_1_178': 1786, 'SUPERMARKET_1_179': 1787, 'SUPERMARKET_1_180': 1788, 'SUPERMARKET_1_181': 1789, 'SUPERMARKET_1_182': 1790, 'SUPERMARKET_1_183': 1791, 'SUPERMARKET_1_184': 1792, 'SUPERMARKET_1_185': 1793, 'SUPERMARKET_1_186': 1794, 'SUPERMARKET_1_187': 1795, 'SUPERMARKET_1_188': 1796, 'SUPERMARKET_1_189': 1797, 'SUPERMARKET_1_190': 1798, 'SUPERMARKET_1_191': 1799, 'SUPERMARKET_1_192': 1800, 'SUPERMARKET_1_193': 1801, 'SUPERMARKET_1_194': 1802, 'SUPERMARKET_1_195': 1803, 'SUPERMARKET_1_196': 1804, 'SUPERMARKET_1_197': 1805, 'SUPERMARKET_1_198': 1806, 'SUPERMARKET_1_199': 1807, 'SUPERMARKET_1_200': 1808, 'SUPERMARKET_1_201': 1809, 'SUPERMARKET_1_202': 1810, 'SUPERMARKET_1_203': 1811, 'SUPERMARKET_1_204': 1812, 'SUPERMARKET_1_205': 1813, 'SUPERMARKET_1_206': 1814, 'SUPERMARKET_1_207': 1815, 'SUPERMARKET_1_208': 1816, 'SUPERMARKET_1_209': 1817, 'SUPERMARKET_1_210': 1818, 'SUPERMARKET_1_211': 1819, 'SUPERMARKET_1_212': 1820, 'SUPERMARKET_1_213': 1821, 'SUPERMARKET_1_214': 1822, 'SUPERMARKET_1_215': 1823, 'SUPERMARKET_1_216': 1824, 'SUPERMARKET_1_217': 1825, 'SUPERMARKET_1_218': 1826, 'SUPERMARKET_1_219': 1827, 'SUPERMARKET_2_001': 1828, 'SUPERMARKET_2_002': 1829, 'SUPERMARKET_2_003': 1830, 'SUPERMARKET_2_004': 1831, 'SUPERMARKET_2_005': 1832, 'SUPERMARKET_2_006': 1833, 'SUPERMARKET_2_007': 1834, 'SUPERMARKET_2_008': 1835, 'SUPERMARKET_2_009': 1836, 'SUPERMARKET_2_010': 1837, 'SUPERMARKET_2_011': 1838, 'SUPERMARKET_2_012': 1839, 'SUPERMARKET_2_013': 1840, 'SUPERMARKET_2_014': 1841, 'SUPERMARKET_2_015': 1842, 'SUPERMARKET_2_016': 1843, 'SUPERMARKET_2_017': 1844, 'SUPERMARKET_2_018': 1845, 'SUPERMARKET_2_019': 1846, 'SUPERMARKET_2_020': 1847, 'SUPERMARKET_2_021': 1848, 'SUPERMARKET_2_022': 1849, 'SUPERMARKET_2_023': 1850, 'SUPERMARKET_2_024': 1851, 'SUPERMARKET_2_025': 1852, 'SUPERMARKET_2_026': 1853, 'SUPERMARKET_2_027': 1854, 'SUPERMARKET_2_028': 1855, 'SUPERMARKET_2_029': 1856, 'SUPERMARKET_2_030': 1857, 'SUPERMARKET_2_031': 1858, 'SUPERMARKET_2_032': 1859, 'SUPERMARKET_2_033': 1860, 'SUPERMARKET_2_034': 1861, 'SUPERMARKET_2_035': 1862, 'SUPERMARKET_2_036': 1863, 'SUPERMARKET_2_037': 1864, 'SUPERMARKET_2_038': 1865, 'SUPERMARKET_2_039': 1866, 'SUPERMARKET_2_040': 1867, 'SUPERMARKET_2_041': 1868, 'SUPERMARKET_2_042': 1869, 'SUPERMARKET_2_043': 1870, 'SUPERMARKET_2_044': 1871, 'SUPERMARKET_2_045': 1872, 'SUPERMARKET_2_046': 1873, 'SUPERMARKET_2_047': 1874, 'SUPERMARKET_2_048': 1875, 'SUPERMARKET_2_049': 1876, 'SUPERMARKET_2_050': 1877, 'SUPERMARKET_2_051': 1878, 'SUPERMARKET_2_052': 1879, 'SUPERMARKET_2_053': 1880, 'SUPERMARKET_2_054': 1881, 'SUPERMARKET_2_055': 1882, 'SUPERMARKET_2_056': 1883, 'SUPERMARKET_2_057': 1884, 'SUPERMARKET_2_058': 1885, 'SUPERMARKET_2_059': 1886, 'SUPERMARKET_2_060': 1887, 'SUPERMARKET_2_061': 1888, 'SUPERMARKET_2_062': 1889, 'SUPERMARKET_2_063': 1890, 'SUPERMARKET_2_064': 1891, 'SUPERMARKET_2_065': 1892, 'SUPERMARKET_2_066': 1893, 'SUPERMARKET_2_067': 1894, 'SUPERMARKET_2_068': 1895, 'SUPERMARKET_2_069': 1896, 'SUPERMARKET_2_070': 1897, 'SUPERMARKET_2_071': 1898, 'SUPERMARKET_2_072': 1899, 'SUPERMARKET_2_073': 1900, 'SUPERMARKET_2_074': 1901, 'SUPERMARKET_2_075': 1902, 'SUPERMARKET_2_076': 1903, 'SUPERMARKET_2_077': 1904, 'SUPERMARKET_2_078': 1905, 'SUPERMARKET_2_079': 1906, 'SUPERMARKET_2_080': 1907, 'SUPERMARKET_2_081': 1908, 'SUPERMARKET_2_082': 1909, 'SUPERMARKET_2_083': 1910, 'SUPERMARKET_2_084': 1911, 'SUPERMARKET_2_085': 1912, 'SUPERMARKET_2_086': 1913, 'SUPERMARKET_2_087': 1914, 'SUPERMARKET_2_088': 1915, 'SUPERMARKET_2_089': 1916, 'SUPERMARKET_2_090': 1917, 'SUPERMARKET_2_091': 1918, 'SUPERMARKET_2_092': 1919, 'SUPERMARKET_2_093': 1920, 'SUPERMARKET_2_094': 1921, 'SUPERMARKET_2_095': 1922, 'SUPERMARKET_2_096': 1923, 'SUPERMARKET_2_097': 1924, 'SUPERMARKET_2_099': 1925, 'SUPERMARKET_2_100': 1926, 'SUPERMARKET_2_101': 1927, 'SUPERMARKET_2_102': 1928, 'SUPERMARKET_2_103': 1929, 'SUPERMARKET_2_104': 1930, 'SUPERMARKET_2_105': 1931, 'SUPERMARKET_2_106': 1932, 'SUPERMARKET_2_107': 1933, 'SUPERMARKET_2_108': 1934, 'SUPERMARKET_2_109': 1935, 'SUPERMARKET_2_110': 1936, 'SUPERMARKET_2_111': 1937, 'SUPERMARKET_2_112': 1938, 'SUPERMARKET_2_113': 1939, 'SUPERMARKET_2_114': 1940, 'SUPERMARKET_2_115': 1941, 'SUPERMARKET_2_116': 1942, 'SUPERMARKET_2_117': 1943, 'SUPERMARKET_2_118': 1944, 'SUPERMARKET_2_119': 1945, 'SUPERMARKET_2_120': 1946, 'SUPERMARKET_2_121': 1947, 'SUPERMARKET_2_122': 1948, 'SUPERMARKET_2_123': 1949, 'SUPERMARKET_2_124': 1950, 'SUPERMARKET_2_125': 1951, 'SUPERMARKET_2_126': 1952, 'SUPERMARKET_2_127': 1953, 'SUPERMARKET_2_128': 1954, 'SUPERMARKET_2_129': 1955, 'SUPERMARKET_2_130': 1956, 'SUPERMARKET_2_131': 1957, 'SUPERMARKET_2_132': 1958, 'SUPERMARKET_2_133': 1959, 'SUPERMARKET_2_134': 1960, 'SUPERMARKET_2_135': 1961, 'SUPERMARKET_2_136': 1962, 'SUPERMARKET_2_137': 1963, 'SUPERMARKET_2_138': 1964, 'SUPERMARKET_2_139': 1965, 'SUPERMARKET_2_140': 1966, 'SUPERMARKET_2_141': 1967, 'SUPERMARKET_2_142': 1968, 'SUPERMARKET_2_143': 1969, 'SUPERMARKET_2_144': 1970, 'SUPERMARKET_2_145': 1971, 'SUPERMARKET_2_146': 1972, 'SUPERMARKET_2_147': 1973, 'SUPERMARKET_2_148': 1974, 'SUPERMARKET_2_149': 1975, 'SUPERMARKET_2_150': 1976, 'SUPERMARKET_2_151': 1977, 'SUPERMARKET_2_152': 1978, 'SUPERMARKET_2_153': 1979, 'SUPERMARKET_2_154': 1980, 'SUPERMARKET_2_155': 1981, 'SUPERMARKET_2_156': 1982, 'SUPERMARKET_2_157': 1983, 'SUPERMARKET_2_158': 1984, 'SUPERMARKET_2_159': 1985, 'SUPERMARKET_2_160': 1986, 'SUPERMARKET_2_161': 1987, 'SUPERMARKET_2_162': 1988, 'SUPERMARKET_2_163': 1989, 'SUPERMARKET_2_164': 1990, 'SUPERMARKET_2_165': 1991, 'SUPERMARKET_2_166': 1992, 'SUPERMARKET_2_167': 1993, 'SUPERMARKET_2_168': 1994, 'SUPERMARKET_2_169': 1995, 'SUPERMARKET_2_170': 1996, 'SUPERMARKET_2_171': 1997, 'SUPERMARKET_2_172': 1998, 'SUPERMARKET_2_173': 1999, 'SUPERMARKET_2_174': 2000, 'SUPERMARKET_2_175': 2001, 'SUPERMARKET_2_176': 2002, 'SUPERMARKET_2_177': 2003, 'SUPERMARKET_2_178': 2004, 'SUPERMARKET_2_179': 2005, 'SUPERMARKET_2_180': 2006, 'SUPERMARKET_2_181': 2007, 'SUPERMARKET_2_182': 2008, 'SUPERMARKET_2_183': 2009, 'SUPERMARKET_2_184': 2010, 'SUPERMARKET_2_185': 2011, 'SUPERMARKET_2_186': 2012, 'SUPERMARKET_2_187': 2013, 'SUPERMARKET_2_188': 2014, 'SUPERMARKET_2_189': 2015, 'SUPERMARKET_2_190': 2016, 'SUPERMARKET_2_191': 2017, 'SUPERMARKET_2_192': 2018, 'SUPERMARKET_2_193': 2019, 'SUPERMARKET_2_194': 2020, 'SUPERMARKET_2_195': 2021, 'SUPERMARKET_2_196': 2022, 'SUPERMARKET_2_197': 2023, 'SUPERMARKET_2_198': 2024, 'SUPERMARKET_2_199': 2025, 'SUPERMARKET_2_200': 2026, 'SUPERMARKET_2_201': 2027, 'SUPERMARKET_2_202': 2028, 'SUPERMARKET_2_203': 2029, 'SUPERMARKET_2_204': 2030, 'SUPERMARKET_2_205': 2031, 'SUPERMARKET_2_206': 2032, 'SUPERMARKET_2_207': 2033, 'SUPERMARKET_2_208': 2034, 'SUPERMARKET_2_209': 2035, 'SUPERMARKET_2_210': 2036, 'SUPERMARKET_2_211': 2037, 'SUPERMARKET_2_212': 2038, 'SUPERMARKET_2_213': 2039, 'SUPERMARKET_2_214': 2040, 'SUPERMARKET_2_215': 2041, 'SUPERMARKET_2_216': 2042, 'SUPERMARKET_2_217': 2043, 'SUPERMARKET_2_218': 2044, 'SUPERMARKET_2_219': 2045, 'SUPERMARKET_2_220': 2046, 'SUPERMARKET_2_221': 2047, 'SUPERMARKET_2_222': 2048, 'SUPERMARKET_2_223': 2049, 'SUPERMARKET_2_224': 2050, 'SUPERMARKET_2_225': 2051, 'SUPERMARKET_2_226': 2052, 'SUPERMARKET_2_227': 2053, 'SUPERMARKET_2_228': 2054, 'SUPERMARKET_2_229': 2055, 'SUPERMARKET_2_230': 2056, 'SUPERMARKET_2_231': 2057, 'SUPERMARKET_2_232': 2058, 'SUPERMARKET_2_233': 2059, 'SUPERMARKET_2_234': 2060, 'SUPERMARKET_2_235': 2061, 'SUPERMARKET_2_236': 2062, 'SUPERMARKET_2_237': 2063, 'SUPERMARKET_2_238': 2064, 'SUPERMARKET_2_239': 2065, 'SUPERMARKET_2_240': 2066, 'SUPERMARKET_2_241': 2067, 'SUPERMARKET_2_242': 2068, 'SUPERMARKET_2_243': 2069, 'SUPERMARKET_2_244': 2070, 'SUPERMARKET_2_245': 2071, 'SUPERMARKET_2_246': 2072, 'SUPERMARKET_2_247': 2073, 'SUPERMARKET_2_248': 2074, 'SUPERMARKET_2_249': 2075, 'SUPERMARKET_2_250': 2076, 'SUPERMARKET_2_251': 2077, 'SUPERMARKET_2_252': 2078, 'SUPERMARKET_2_253': 2079, 'SUPERMARKET_2_254': 2080, 'SUPERMARKET_2_255': 2081, 'SUPERMARKET_2_256': 2082, 'SUPERMARKET_2_257': 2083, 'SUPERMARKET_2_258': 2084, 'SUPERMARKET_2_259': 2085, 'SUPERMARKET_2_260': 2086, 'SUPERMARKET_2_261': 2087, 'SUPERMARKET_2_262': 2088, 'SUPERMARKET_2_263': 2089, 'SUPERMARKET_2_264': 2090, 'SUPERMARKET_2_265': 2091, 'SUPERMARKET_2_266': 2092, 'SUPERMARKET_2_267': 2093, 'SUPERMARKET_2_268': 2094, 'SUPERMARKET_2_269': 2095, 'SUPERMARKET_2_270': 2096, 'SUPERMARKET_2_271': 2097, 'SUPERMARKET_2_272': 2098, 'SUPERMARKET_2_273': 2099, 'SUPERMARKET_2_274': 2100, 'SUPERMARKET_2_275': 2101, 'SUPERMARKET_2_276': 2102, 'SUPERMARKET_2_277': 2103, 'SUPERMARKET_2_278': 2104, 'SUPERMARKET_2_279': 2105, 'SUPERMARKET_2_280': 2106, 'SUPERMARKET_2_281': 2107, 'SUPERMARKET_2_282': 2108, 'SUPERMARKET_2_283': 2109, 'SUPERMARKET_2_284': 2110, 'SUPERMARKET_2_285': 2111, 'SUPERMARKET_2_286': 2112, 'SUPERMARKET_2_287': 2113, 'SUPERMARKET_2_288': 2114, 'SUPERMARKET_2_289': 2115, 'SUPERMARKET_2_290': 2116, 'SUPERMARKET_2_291': 2117, 'SUPERMARKET_2_292': 2118, 'SUPERMARKET_2_293': 2119, 'SUPERMARKET_2_294': 2120, 'SUPERMARKET_2_295': 2121, 'SUPERMARKET_2_296': 2122, 'SUPERMARKET_2_297': 2123, 'SUPERMARKET_2_298': 2124, 'SUPERMARKET_2_299': 2125, 'SUPERMARKET_2_300': 2126, 'SUPERMARKET_2_301': 2127, 'SUPERMARKET_2_302': 2128, 'SUPERMARKET_2_303': 2129, 'SUPERMARKET_2_304': 2130, 'SUPERMARKET_2_305': 2131, 'SUPERMARKET_2_306': 2132, 'SUPERMARKET_2_307': 2133, 'SUPERMARKET_2_308': 2134, 'SUPERMARKET_2_309': 2135, 'SUPERMARKET_2_310': 2136, 'SUPERMARKET_2_311': 2137, 'SUPERMARKET_2_312': 2138, 'SUPERMARKET_2_313': 2139, 'SUPERMARKET_2_314': 2140, 'SUPERMARKET_2_315': 2141, 'SUPERMARKET_2_316': 2142, 'SUPERMARKET_2_317': 2143, 'SUPERMARKET_2_318': 2144, 'SUPERMARKET_2_319': 2145, 'SUPERMARKET_2_320': 2146, 'SUPERMARKET_2_321': 2147, 'SUPERMARKET_2_322': 2148, 'SUPERMARKET_2_323': 2149, 'SUPERMARKET_2_324': 2150, 'SUPERMARKET_2_325': 2151, 'SUPERMARKET_2_326': 2152, 'SUPERMARKET_2_327': 2153, 'SUPERMARKET_2_328': 2154, 'SUPERMARKET_2_329': 2155, 'SUPERMARKET_2_330': 2156, 'SUPERMARKET_2_331': 2157, 'SUPERMARKET_2_332': 2158, 'SUPERMARKET_2_333': 2159, 'SUPERMARKET_2_334': 2160, 'SUPERMARKET_2_335': 2161, 'SUPERMARKET_2_336': 2162, 'SUPERMARKET_2_337': 2163, 'SUPERMARKET_2_338': 2164, 'SUPERMARKET_2_339': 2165, 'SUPERMARKET_2_340': 2166, 'SUPERMARKET_2_341': 2167, 'SUPERMARKET_2_342': 2168, 'SUPERMARKET_2_343': 2169, 'SUPERMARKET_2_344': 2170, 'SUPERMARKET_2_345': 2171, 'SUPERMARKET_2_346': 2172, 'SUPERMARKET_2_347': 2173, 'SUPERMARKET_2_348': 2174, 'SUPERMARKET_2_349': 2175, 'SUPERMARKET_2_350': 2176, 'SUPERMARKET_2_351': 2177, 'SUPERMARKET_2_352': 2178, 'SUPERMARKET_2_353': 2179, 'SUPERMARKET_2_354': 2180, 'SUPERMARKET_2_355': 2181, 'SUPERMARKET_2_356': 2182, 'SUPERMARKET_2_357': 2183, 'SUPERMARKET_2_358': 2184, 'SUPERMARKET_2_359': 2185, 'SUPERMARKET_2_360': 2186, 'SUPERMARKET_2_361': 2187, 'SUPERMARKET_2_362': 2188, 'SUPERMARKET_2_363': 2189, 'SUPERMARKET_2_364': 2190, 'SUPERMARKET_2_365': 2191, 'SUPERMARKET_2_366': 2192, 'SUPERMARKET_2_367': 2193, 'SUPERMARKET_2_368': 2194, 'SUPERMARKET_2_369': 2195, 'SUPERMARKET_2_370': 2196, 'SUPERMARKET_2_371': 2197, 'SUPERMARKET_2_372': 2198, 'SUPERMARKET_2_373': 2199, 'SUPERMARKET_2_374': 2200, 'SUPERMARKET_2_375': 2201, 'SUPERMARKET_2_376': 2202, 'SUPERMARKET_2_377': 2203, 'SUPERMARKET_2_378': 2204, 'SUPERMARKET_2_379': 2205, 'SUPERMARKET_2_380': 2206, 'SUPERMARKET_2_381': 2207, 'SUPERMARKET_2_382': 2208, 'SUPERMARKET_2_383': 2209, 'SUPERMARKET_2_384': 2210, 'SUPERMARKET_2_385': 2211, 'SUPERMARKET_2_386': 2212, 'SUPERMARKET_2_387': 2213, 'SUPERMARKET_2_388': 2214, 'SUPERMARKET_2_389': 2215, 'SUPERMARKET_2_390': 2216, 'SUPERMARKET_2_391': 2217, 'SUPERMARKET_2_392': 2218, 'SUPERMARKET_2_393': 2219, 'SUPERMARKET_2_394': 2220, 'SUPERMARKET_2_395': 2221, 'SUPERMARKET_2_396': 2222, 'SUPERMARKET_2_397': 2223, 'SUPERMARKET_2_398': 2224, 'SUPERMARKET_2_399': 2225, 'SUPERMARKET_3_001': 2226, 'SUPERMARKET_3_002': 2227, 'SUPERMARKET_3_003': 2228, 'SUPERMARKET_3_004': 2229, 'SUPERMARKET_3_005': 2230, 'SUPERMARKET_3_006': 2231, 'SUPERMARKET_3_007': 2232, 'SUPERMARKET_3_008': 2233, 'SUPERMARKET_3_009': 2234, 'SUPERMARKET_3_010': 2235, 'SUPERMARKET_3_011': 2236, 'SUPERMARKET_3_012': 2237, 'SUPERMARKET_3_013': 2238, 'SUPERMARKET_3_014': 2239, 'SUPERMARKET_3_015': 2240, 'SUPERMARKET_3_016': 2241, 'SUPERMARKET_3_017': 2242, 'SUPERMARKET_3_018': 2243, 'SUPERMARKET_3_019': 2244, 'SUPERMARKET_3_020': 2245, 'SUPERMARKET_3_021': 2246, 'SUPERMARKET_3_022': 2247, 'SUPERMARKET_3_023': 2248, 'SUPERMARKET_3_024': 2249, 'SUPERMARKET_3_025': 2250, 'SUPERMARKET_3_026': 2251, 'SUPERMARKET_3_027': 2252, 'SUPERMARKET_3_028': 2253, 'SUPERMARKET_3_029': 2254, 'SUPERMARKET_3_030': 2255, 'SUPERMARKET_3_031': 2256, 'SUPERMARKET_3_032': 2257, 'SUPERMARKET_3_033': 2258, 'SUPERMARKET_3_034': 2259, 'SUPERMARKET_3_035': 2260, 'SUPERMARKET_3_036': 2261, 'SUPERMARKET_3_037': 2262, 'SUPERMARKET_3_038': 2263, 'SUPERMARKET_3_039': 2264, 'SUPERMARKET_3_040': 2265, 'SUPERMARKET_3_041': 2266, 'SUPERMARKET_3_042': 2267, 'SUPERMARKET_3_043': 2268, 'SUPERMARKET_3_044': 2269, 'SUPERMARKET_3_045': 2270, 'SUPERMARKET_3_046': 2271, 'SUPERMARKET_3_047': 2272, 'SUPERMARKET_3_048': 2273, 'SUPERMARKET_3_049': 2274, 'SUPERMARKET_3_050': 2275, 'SUPERMARKET_3_051': 2276, 'SUPERMARKET_3_053': 2277, 'SUPERMARKET_3_054': 2278, 'SUPERMARKET_3_055': 2279, 'SUPERMARKET_3_056': 2280, 'SUPERMARKET_3_057': 2281, 'SUPERMARKET_3_058': 2282, 'SUPERMARKET_3_059': 2283, 'SUPERMARKET_3_060': 2284, 'SUPERMARKET_3_061': 2285, 'SUPERMARKET_3_062': 2286, 'SUPERMARKET_3_063': 2287, 'SUPERMARKET_3_064': 2288, 'SUPERMARKET_3_065': 2289, 'SUPERMARKET_3_066': 2290, 'SUPERMARKET_3_067': 2291, 'SUPERMARKET_3_068': 2292, 'SUPERMARKET_3_069': 2293, 'SUPERMARKET_3_070': 2294, 'SUPERMARKET_3_071': 2295, 'SUPERMARKET_3_072': 2296, 'SUPERMARKET_3_073': 2297, 'SUPERMARKET_3_074': 2298, 'SUPERMARKET_3_075': 2299, 'SUPERMARKET_3_076': 2300, 'SUPERMARKET_3_077': 2301, 'SUPERMARKET_3_078': 2302, 'SUPERMARKET_3_079': 2303, 'SUPERMARKET_3_080': 2304, 'SUPERMARKET_3_081': 2305, 'SUPERMARKET_3_082': 2306, 'SUPERMARKET_3_083': 2307, 'SUPERMARKET_3_084': 2308, 'SUPERMARKET_3_085': 2309, 'SUPERMARKET_3_086': 2310, 'SUPERMARKET_3_087': 2311, 'SUPERMARKET_3_088': 2312, 'SUPERMARKET_3_089': 2313, 'SUPERMARKET_3_090': 2314, 'SUPERMARKET_3_091': 2315, 'SUPERMARKET_3_092': 2316, 'SUPERMARKET_3_093': 2317, 'SUPERMARKET_3_094': 2318, 'SUPERMARKET_3_095': 2319, 'SUPERMARKET_3_096': 2320, 'SUPERMARKET_3_097': 2321, 'SUPERMARKET_3_098': 2322, 'SUPERMARKET_3_099': 2323, 'SUPERMARKET_3_100': 2324, 'SUPERMARKET_3_101': 2325, 'SUPERMARKET_3_102': 2326, 'SUPERMARKET_3_103': 2327, 'SUPERMARKET_3_104': 2328, 'SUPERMARKET_3_105': 2329, 'SUPERMARKET_3_106': 2330, 'SUPERMARKET_3_107': 2331, 'SUPERMARKET_3_108': 2332, 'SUPERMARKET_3_109': 2333, 'SUPERMARKET_3_110': 2334, 'SUPERMARKET_3_111': 2335, 'SUPERMARKET_3_112': 2336, 'SUPERMARKET_3_113': 2337, 'SUPERMARKET_3_114': 2338, 'SUPERMARKET_3_115': 2339, 'SUPERMARKET_3_116': 2340, 'SUPERMARKET_3_117': 2341, 'SUPERMARKET_3_118': 2342, 'SUPERMARKET_3_119': 2343, 'SUPERMARKET_3_120': 2344, 'SUPERMARKET_3_121': 2345, 'SUPERMARKET_3_122': 2346, 'SUPERMARKET_3_123': 2347, 'SUPERMARKET_3_124': 2348, 'SUPERMARKET_3_125': 2349, 'SUPERMARKET_3_126': 2350, 'SUPERMARKET_3_127': 2351, 'SUPERMARKET_3_128': 2352, 'SUPERMARKET_3_129': 2353, 'SUPERMARKET_3_130': 2354, 'SUPERMARKET_3_131': 2355, 'SUPERMARKET_3_132': 2356, 'SUPERMARKET_3_133': 2357, 'SUPERMARKET_3_134': 2358, 'SUPERMARKET_3_135': 2359, 'SUPERMARKET_3_136': 2360, 'SUPERMARKET_3_137': 2361, 'SUPERMARKET_3_138': 2362, 'SUPERMARKET_3_139': 2363, 'SUPERMARKET_3_140': 2364, 'SUPERMARKET_3_141': 2365, 'SUPERMARKET_3_142': 2366, 'SUPERMARKET_3_143': 2367, 'SUPERMARKET_3_144': 2368, 'SUPERMARKET_3_145': 2369, 'SUPERMARKET_3_146': 2370, 'SUPERMARKET_3_147': 2371, 'SUPERMARKET_3_148': 2372, 'SUPERMARKET_3_149': 2373, 'SUPERMARKET_3_150': 2374, 'SUPERMARKET_3_151': 2375, 'SUPERMARKET_3_152': 2376, 'SUPERMARKET_3_153': 2377, 'SUPERMARKET_3_154': 2378, 'SUPERMARKET_3_155': 2379, 'SUPERMARKET_3_156': 2380, 'SUPERMARKET_3_157': 2381, 'SUPERMARKET_3_158': 2382, 'SUPERMARKET_3_159': 2383, 'SUPERMARKET_3_160': 2384, 'SUPERMARKET_3_161': 2385, 'SUPERMARKET_3_162': 2386, 'SUPERMARKET_3_163': 2387, 'SUPERMARKET_3_164': 2388, 'SUPERMARKET_3_165': 2389, 'SUPERMARKET_3_166': 2390, 'SUPERMARKET_3_167': 2391, 'SUPERMARKET_3_168': 2392, 'SUPERMARKET_3_169': 2393, 'SUPERMARKET_3_170': 2394, 'SUPERMARKET_3_171': 2395, 'SUPERMARKET_3_172': 2396, 'SUPERMARKET_3_173': 2397, 'SUPERMARKET_3_174': 2398, 'SUPERMARKET_3_175': 2399, 'SUPERMARKET_3_176': 2400, 'SUPERMARKET_3_177': 2401, 'SUPERMARKET_3_178': 2402, 'SUPERMARKET_3_179': 2403, 'SUPERMARKET_3_180': 2404, 'SUPERMARKET_3_181': 2405, 'SUPERMARKET_3_182': 2406, 'SUPERMARKET_3_183': 2407, 'SUPERMARKET_3_184': 2408, 'SUPERMARKET_3_185': 2409, 'SUPERMARKET_3_186': 2410, 'SUPERMARKET_3_187': 2411, 'SUPERMARKET_3_188': 2412, 'SUPERMARKET_3_189': 2413, 'SUPERMARKET_3_190': 2414, 'SUPERMARKET_3_191': 2415, 'SUPERMARKET_3_192': 2416, 'SUPERMARKET_3_193': 2417, 'SUPERMARKET_3_194': 2418, 'SUPERMARKET_3_195': 2419, 'SUPERMARKET_3_196': 2420, 'SUPERMARKET_3_197': 2421, 'SUPERMARKET_3_198': 2422, 'SUPERMARKET_3_199': 2423, 'SUPERMARKET_3_200': 2424, 'SUPERMARKET_3_201': 2425, 'SUPERMARKET_3_202': 2426, 'SUPERMARKET_3_203': 2427, 'SUPERMARKET_3_204': 2428, 'SUPERMARKET_3_205': 2429, 'SUPERMARKET_3_206': 2430, 'SUPERMARKET_3_207': 2431, 'SUPERMARKET_3_208': 2432, 'SUPERMARKET_3_209': 2433, 'SUPERMARKET_3_210': 2434, 'SUPERMARKET_3_211': 2435, 'SUPERMARKET_3_212': 2436, 'SUPERMARKET_3_213': 2437, 'SUPERMARKET_3_214': 2438, 'SUPERMARKET_3_215': 2439, 'SUPERMARKET_3_216': 2440, 'SUPERMARKET_3_217': 2441, 'SUPERMARKET_3_218': 2442, 'SUPERMARKET_3_219': 2443, 'SUPERMARKET_3_220': 2444, 'SUPERMARKET_3_221': 2445, 'SUPERMARKET_3_222': 2446, 'SUPERMARKET_3_223': 2447, 'SUPERMARKET_3_224': 2448, 'SUPERMARKET_3_225': 2449, 'SUPERMARKET_3_226': 2450, 'SUPERMARKET_3_227': 2451, 'SUPERMARKET_3_228': 2452, 'SUPERMARKET_3_229': 2453, 'SUPERMARKET_3_230': 2454, 'SUPERMARKET_3_231': 2455, 'SUPERMARKET_3_232': 2456, 'SUPERMARKET_3_233': 2457, 'SUPERMARKET_3_234': 2458, 'SUPERMARKET_3_235': 2459, 'SUPERMARKET_3_236': 2460, 'SUPERMARKET_3_237': 2461, 'SUPERMARKET_3_238': 2462, 'SUPERMARKET_3_239': 2463, 'SUPERMARKET_3_240': 2464, 'SUPERMARKET_3_241': 2465, 'SUPERMARKET_3_242': 2466, 'SUPERMARKET_3_243': 2467, 'SUPERMARKET_3_244': 2468, 'SUPERMARKET_3_245': 2469, 'SUPERMARKET_3_246': 2470, 'SUPERMARKET_3_247': 2471, 'SUPERMARKET_3_248': 2472, 'SUPERMARKET_3_249': 2473, 'SUPERMARKET_3_250': 2474, 'SUPERMARKET_3_251': 2475, 'SUPERMARKET_3_252': 2476, 'SUPERMARKET_3_253': 2477, 'SUPERMARKET_3_254': 2478, 'SUPERMARKET_3_255': 2479, 'SUPERMARKET_3_256': 2480, 'SUPERMARKET_3_257': 2481, 'SUPERMARKET_3_258': 2482, 'SUPERMARKET_3_259': 2483, 'SUPERMARKET_3_260': 2484, 'SUPERMARKET_3_261': 2485, 'SUPERMARKET_3_262': 2486, 'SUPERMARKET_3_263': 2487, 'SUPERMARKET_3_264': 2488, 'SUPERMARKET_3_265': 2489, 'SUPERMARKET_3_266': 2490, 'SUPERMARKET_3_267': 2491, 'SUPERMARKET_3_268': 2492, 'SUPERMARKET_3_269': 2493, 'SUPERMARKET_3_270': 2494, 'SUPERMARKET_3_271': 2495, 'SUPERMARKET_3_272': 2496, 'SUPERMARKET_3_273': 2497, 'SUPERMARKET_3_274': 2498, 'SUPERMARKET_3_275': 2499, 'SUPERMARKET_3_276': 2500, 'SUPERMARKET_3_277': 2501, 'SUPERMARKET_3_278': 2502, 'SUPERMARKET_3_279': 2503, 'SUPERMARKET_3_280': 2504, 'SUPERMARKET_3_281': 2505, 'SUPERMARKET_3_282': 2506, 'SUPERMARKET_3_283': 2507, 'SUPERMARKET_3_284': 2508, 'SUPERMARKET_3_285': 2509, 'SUPERMARKET_3_286': 2510, 'SUPERMARKET_3_287': 2511, 'SUPERMARKET_3_288': 2512, 'SUPERMARKET_3_289': 2513, 'SUPERMARKET_3_290': 2514, 'SUPERMARKET_3_291': 2515, 'SUPERMARKET_3_292': 2516, 'SUPERMARKET_3_293': 2517, 'SUPERMARKET_3_294': 2518, 'SUPERMARKET_3_295': 2519, 'SUPERMARKET_3_296': 2520, 'SUPERMARKET_3_297': 2521, 'SUPERMARKET_3_298': 2522, 'SUPERMARKET_3_299': 2523, 'SUPERMARKET_3_300': 2524, 'SUPERMARKET_3_301': 2525, 'SUPERMARKET_3_302': 2526, 'SUPERMARKET_3_303': 2527, 'SUPERMARKET_3_304': 2528, 'SUPERMARKET_3_305': 2529, 'SUPERMARKET_3_306': 2530, 'SUPERMARKET_3_307': 2531, 'SUPERMARKET_3_308': 2532, 'SUPERMARKET_3_309': 2533, 'SUPERMARKET_3_310': 2534, 'SUPERMARKET_3_311': 2535, 'SUPERMARKET_3_312': 2536, 'SUPERMARKET_3_313': 2537, 'SUPERMARKET_3_314': 2538, 'SUPERMARKET_3_315': 2539, 'SUPERMARKET_3_316': 2540, 'SUPERMARKET_3_317': 2541, 'SUPERMARKET_3_318': 2542, 'SUPERMARKET_3_319': 2543, 'SUPERMARKET_3_320': 2544, 'SUPERMARKET_3_321': 2545, 'SUPERMARKET_3_322': 2546, 'SUPERMARKET_3_323': 2547, 'SUPERMARKET_3_324': 2548, 'SUPERMARKET_3_325': 2549, 'SUPERMARKET_3_326': 2550, 'SUPERMARKET_3_327': 2551, 'SUPERMARKET_3_328': 2552, 'SUPERMARKET_3_329': 2553, 'SUPERMARKET_3_330': 2554, 'SUPERMARKET_3_331': 2555, 'SUPERMARKET_3_332': 2556, 'SUPERMARKET_3_333': 2557, 'SUPERMARKET_3_334': 2558, 'SUPERMARKET_3_335': 2559, 'SUPERMARKET_3_336': 2560, 'SUPERMARKET_3_337': 2561, 'SUPERMARKET_3_338': 2562, 'SUPERMARKET_3_339': 2563, 'SUPERMARKET_3_340': 2564, 'SUPERMARKET_3_341': 2565, 'SUPERMARKET_3_342': 2566, 'SUPERMARKET_3_343': 2567, 'SUPERMARKET_3_344': 2568, 'SUPERMARKET_3_345': 2569, 'SUPERMARKET_3_346': 2570, 'SUPERMARKET_3_347': 2571, 'SUPERMARKET_3_348': 2572, 'SUPERMARKET_3_349': 2573, 'SUPERMARKET_3_350': 2574, 'SUPERMARKET_3_351': 2575, 'SUPERMARKET_3_352': 2576, 'SUPERMARKET_3_353': 2577, 'SUPERMARKET_3_354': 2578, 'SUPERMARKET_3_355': 2579, 'SUPERMARKET_3_356': 2580, 'SUPERMARKET_3_357': 2581, 'SUPERMARKET_3_358': 2582, 'SUPERMARKET_3_359': 2583, 'SUPERMARKET_3_360': 2584, 'SUPERMARKET_3_361': 2585, 'SUPERMARKET_3_362': 2586, 'SUPERMARKET_3_363': 2587, 'SUPERMARKET_3_364': 2588, 'SUPERMARKET_3_365': 2589, 'SUPERMARKET_3_366': 2590, 'SUPERMARKET_3_367': 2591, 'SUPERMARKET_3_368': 2592, 'SUPERMARKET_3_369': 2593, 'SUPERMARKET_3_370': 2594, 'SUPERMARKET_3_371': 2595, 'SUPERMARKET_3_372': 2596, 'SUPERMARKET_3_373': 2597, 'SUPERMARKET_3_374': 2598, 'SUPERMARKET_3_375': 2599, 'SUPERMARKET_3_376': 2600, 'SUPERMARKET_3_377': 2601, 'SUPERMARKET_3_378': 2602, 'SUPERMARKET_3_379': 2603, 'SUPERMARKET_3_380': 2604, 'SUPERMARKET_3_381': 2605, 'SUPERMARKET_3_382': 2606, 'SUPERMARKET_3_383': 2607, 'SUPERMARKET_3_384': 2608, 'SUPERMARKET_3_385': 2609, 'SUPERMARKET_3_386': 2610, 'SUPERMARKET_3_387': 2611, 'SUPERMARKET_3_388': 2612, 'SUPERMARKET_3_389': 2613, 'SUPERMARKET_3_390': 2614, 'SUPERMARKET_3_391': 2615, 'SUPERMARKET_3_392': 2616, 'SUPERMARKET_3_393': 2617, 'SUPERMARKET_3_394': 2618, 'SUPERMARKET_3_395': 2619, 'SUPERMARKET_3_396': 2620, 'SUPERMARKET_3_397': 2621, 'SUPERMARKET_3_398': 2622, 'SUPERMARKET_3_399': 2623, 'SUPERMARKET_3_400': 2624, 'SUPERMARKET_3_401': 2625, 'SUPERMARKET_3_402': 2626, 'SUPERMARKET_3_403': 2627, 'SUPERMARKET_3_404': 2628, 'SUPERMARKET_3_405': 2629, 'SUPERMARKET_3_406': 2630, 'SUPERMARKET_3_407': 2631, 'SUPERMARKET_3_408': 2632, 'SUPERMARKET_3_409': 2633, 'SUPERMARKET_3_410': 2634, 'SUPERMARKET_3_411': 2635, 'SUPERMARKET_3_412': 2636, 'SUPERMARKET_3_413': 2637, 'SUPERMARKET_3_414': 2638, 'SUPERMARKET_3_415': 2639, 'SUPERMARKET_3_416': 2640, 'SUPERMARKET_3_417': 2641, 'SUPERMARKET_3_418': 2642, 'SUPERMARKET_3_419': 2643, 'SUPERMARKET_3_420': 2644, 'SUPERMARKET_3_421': 2645, 'SUPERMARKET_3_422': 2646, 'SUPERMARKET_3_423': 2647, 'SUPERMARKET_3_424': 2648, 'SUPERMARKET_3_425': 2649, 'SUPERMARKET_3_426': 2650, 'SUPERMARKET_3_427': 2651, 'SUPERMARKET_3_428': 2652, 'SUPERMARKET_3_429': 2653, 'SUPERMARKET_3_430': 2654, 'SUPERMARKET_3_431': 2655, 'SUPERMARKET_3_432': 2656, 'SUPERMARKET_3_433': 2657, 'SUPERMARKET_3_434': 2658, 'SUPERMARKET_3_435': 2659, 'SUPERMARKET_3_436': 2660, 'SUPERMARKET_3_437': 2661, 'SUPERMARKET_3_438': 2662, 'SUPERMARKET_3_439': 2663, 'SUPERMARKET_3_440': 2664, 'SUPERMARKET_3_441': 2665, 'SUPERMARKET_3_442': 2666, 'SUPERMARKET_3_443': 2667, 'SUPERMARKET_3_444': 2668, 'SUPERMARKET_3_445': 2669, 'SUPERMARKET_3_446': 2670, 'SUPERMARKET_3_447': 2671, 'SUPERMARKET_3_448': 2672, 'SUPERMARKET_3_449': 2673, 'SUPERMARKET_3_450': 2674, 'SUPERMARKET_3_451': 2675, 'SUPERMARKET_3_452': 2676, 'SUPERMARKET_3_453': 2677, 'SUPERMARKET_3_454': 2678, 'SUPERMARKET_3_455': 2679, 'SUPERMARKET_3_456': 2680, 'SUPERMARKET_3_457': 2681, 'SUPERMARKET_3_458': 2682, 'SUPERMARKET_3_459': 2683, 'SUPERMARKET_3_460': 2684, 'SUPERMARKET_3_461': 2685, 'SUPERMARKET_3_462': 2686, 'SUPERMARKET_3_463': 2687, 'SUPERMARKET_3_464': 2688, 'SUPERMARKET_3_465': 2689, 'SUPERMARKET_3_466': 2690, 'SUPERMARKET_3_467': 2691, 'SUPERMARKET_3_468': 2692, 'SUPERMARKET_3_469': 2693, 'SUPERMARKET_3_470': 2694, 'SUPERMARKET_3_471': 2695, 'SUPERMARKET_3_472': 2696, 'SUPERMARKET_3_473': 2697, 'SUPERMARKET_3_474': 2698, 'SUPERMARKET_3_475': 2699, 'SUPERMARKET_3_476': 2700, 'SUPERMARKET_3_477': 2701, 'SUPERMARKET_3_478': 2702, 'SUPERMARKET_3_479': 2703, 'SUPERMARKET_3_480': 2704, 'SUPERMARKET_3_481': 2705, 'SUPERMARKET_3_482': 2706, 'SUPERMARKET_3_483': 2707, 'SUPERMARKET_3_484': 2708, 'SUPERMARKET_3_485': 2709, 'SUPERMARKET_3_486': 2710, 'SUPERMARKET_3_487': 2711, 'SUPERMARKET_3_488': 2712, 'SUPERMARKET_3_489': 2713, 'SUPERMARKET_3_490': 2714, 'SUPERMARKET_3_491': 2715, 'SUPERMARKET_3_492': 2716, 'SUPERMARKET_3_493': 2717, 'SUPERMARKET_3_494': 2718, 'SUPERMARKET_3_495': 2719, 'SUPERMARKET_3_496': 2720, 'SUPERMARKET_3_497': 2721, 'SUPERMARKET_3_498': 2722, 'SUPERMARKET_3_499': 2723, 'SUPERMARKET_3_500': 2724, 'SUPERMARKET_3_501': 2725, 'SUPERMARKET_3_502': 2726, 'SUPERMARKET_3_503': 2727, 'SUPERMARKET_3_504': 2728, 'SUPERMARKET_3_505': 2729, 'SUPERMARKET_3_506': 2730, 'SUPERMARKET_3_507': 2731, 'SUPERMARKET_3_508': 2732, 'SUPERMARKET_3_509': 2733, 'SUPERMARKET_3_510': 2734, 'SUPERMARKET_3_511': 2735, 'SUPERMARKET_3_512': 2736, 'SUPERMARKET_3_513': 2737, 'SUPERMARKET_3_514': 2738, 'SUPERMARKET_3_515': 2739, 'SUPERMARKET_3_516': 2740, 'SUPERMARKET_3_517': 2741, 'SUPERMARKET_3_518': 2742, 'SUPERMARKET_3_519': 2743, 'SUPERMARKET_3_520': 2744, 'SUPERMARKET_3_521': 2745, 'SUPERMARKET_3_522': 2746, 'SUPERMARKET_3_523': 2747, 'SUPERMARKET_3_524': 2748, 'SUPERMARKET_3_525': 2749, 'SUPERMARKET_3_526': 2750, 'SUPERMARKET_3_527': 2751, 'SUPERMARKET_3_528': 2752, 'SUPERMARKET_3_529': 2753, 'SUPERMARKET_3_530': 2754, 'SUPERMARKET_3_531': 2755, 'SUPERMARKET_3_532': 2756, 'SUPERMARKET_3_533': 2757, 'SUPERMARKET_3_534': 2758, 'SUPERMARKET_3_535': 2759, 'SUPERMARKET_3_536': 2760, 'SUPERMARKET_3_537': 2761, 'SUPERMARKET_3_538': 2762, 'SUPERMARKET_3_539': 2763, 'SUPERMARKET_3_540': 2764, 'SUPERMARKET_3_541': 2765, 'SUPERMARKET_3_542': 2766, 'SUPERMARKET_3_543': 2767, 'SUPERMARKET_3_544': 2768, 'SUPERMARKET_3_545': 2769, 'SUPERMARKET_3_546': 2770, 'SUPERMARKET_3_547': 2771, 'SUPERMARKET_3_548': 2772, 'SUPERMARKET_3_549': 2773, 'SUPERMARKET_3_550': 2774, 'SUPERMARKET_3_551': 2775, 'SUPERMARKET_3_552': 2776, 'SUPERMARKET_3_553': 2777, 'SUPERMARKET_3_554': 2778, 'SUPERMARKET_3_555': 2779, 'SUPERMARKET_3_556': 2780, 'SUPERMARKET_3_557': 2781, 'SUPERMARKET_3_558': 2782, 'SUPERMARKET_3_559': 2783, 'SUPERMARKET_3_560': 2784, 'SUPERMARKET_3_561': 2785, 'SUPERMARKET_3_562': 2786, 'SUPERMARKET_3_563': 2787, 'SUPERMARKET_3_564': 2788, 'SUPERMARKET_3_565': 2789, 'SUPERMARKET_3_566': 2790, 'SUPERMARKET_3_567': 2791, 'SUPERMARKET_3_568': 2792, 'SUPERMARKET_3_569': 2793, 'SUPERMARKET_3_570': 2794, 'SUPERMARKET_3_571': 2795, 'SUPERMARKET_3_572': 2796, 'SUPERMARKET_3_573': 2797, 'SUPERMARKET_3_574': 2798, 'SUPERMARKET_3_575': 2799, 'SUPERMARKET_3_576': 2800, 'SUPERMARKET_3_577': 2801, 'SUPERMARKET_3_578': 2802, 'SUPERMARKET_3_579': 2803, 'SUPERMARKET_3_580': 2804, 'SUPERMARKET_3_581': 2805, 'SUPERMARKET_3_582': 2806, 'SUPERMARKET_3_583': 2807, 'SUPERMARKET_3_584': 2808, 'SUPERMARKET_3_585': 2809, 'SUPERMARKET_3_586': 2810, 'SUPERMARKET_3_587': 2811, 'SUPERMARKET_3_588': 2812, 'SUPERMARKET_3_589': 2813, 'SUPERMARKET_3_590': 2814, 'SUPERMARKET_3_591': 2815, 'SUPERMARKET_3_592': 2816, 'SUPERMARKET_3_593': 2817, 'SUPERMARKET_3_594': 2818, 'SUPERMARKET_3_595': 2819, 'SUPERMARKET_3_596': 2820, 'SUPERMARKET_3_597': 2821, 'SUPERMARKET_3_598': 2822, 'SUPERMARKET_3_599': 2823, 'SUPERMARKET_3_600': 2824, 'SUPERMARKET_3_601': 2825, 'SUPERMARKET_3_602': 2826, 'SUPERMARKET_3_603': 2827, 'SUPERMARKET_3_604': 2828, 'SUPERMARKET_3_605': 2829, 'SUPERMARKET_3_606': 2830, 'SUPERMARKET_3_607': 2831, 'SUPERMARKET_3_608': 2832, 'SUPERMARKET_3_609': 2833, 'SUPERMARKET_3_610': 2834, 'SUPERMARKET_3_611': 2835, 'SUPERMARKET_3_612': 2836, 'SUPERMARKET_3_613': 2837, 'SUPERMARKET_3_614': 2838, 'SUPERMARKET_3_615': 2839, 'SUPERMARKET_3_616': 2840, 'SUPERMARKET_3_617': 2841, 'SUPERMARKET_3_618': 2842, 'SUPERMARKET_3_619': 2843, 'SUPERMARKET_3_620': 2844, 'SUPERMARKET_3_621': 2845, 'SUPERMARKET_3_622': 2846, 'SUPERMARKET_3_623': 2847, 'SUPERMARKET_3_624': 2848, 'SUPERMARKET_3_625': 2849, 'SUPERMARKET_3_626': 2850, 'SUPERMARKET_3_627': 2851, 'SUPERMARKET_3_628': 2852, 'SUPERMARKET_3_629': 2853, 'SUPERMARKET_3_630': 2854, 'SUPERMARKET_3_631': 2855, 'SUPERMARKET_3_632': 2856, 'SUPERMARKET_3_633': 2857, 'SUPERMARKET_3_634': 2858, 'SUPERMARKET_3_635': 2859, 'SUPERMARKET_3_636': 2860, 'SUPERMARKET_3_637': 2861, 'SUPERMARKET_3_638': 2862, 'SUPERMARKET_3_639': 2863, 'SUPERMARKET_3_640': 2864, 'SUPERMARKET_3_641': 2865, 'SUPERMARKET_3_642': 2866, 'SUPERMARKET_3_643': 2867, 'SUPERMARKET_3_644': 2868, 'SUPERMARKET_3_645': 2869, 'SUPERMARKET_3_646': 2870, 'SUPERMARKET_3_647': 2871, 'SUPERMARKET_3_648': 2872, 'SUPERMARKET_3_649': 2873, 'SUPERMARKET_3_650': 2874, 'SUPERMARKET_3_651': 2875, 'SUPERMARKET_3_652': 2876, 'SUPERMARKET_3_653': 2877, 'SUPERMARKET_3_654': 2878, 'SUPERMARKET_3_655': 2879, 'SUPERMARKET_3_656': 2880, 'SUPERMARKET_3_657': 2881, 'SUPERMARKET_3_658': 2882, 'SUPERMARKET_3_659': 2883, 'SUPERMARKET_3_660': 2884, 'SUPERMARKET_3_661': 2885, 'SUPERMARKET_3_662': 2886, 'SUPERMARKET_3_663': 2887, 'SUPERMARKET_3_664': 2888, 'SUPERMARKET_3_665': 2889, 'SUPERMARKET_3_666': 2890, 'SUPERMARKET_3_667': 2891, 'SUPERMARKET_3_668': 2892, 'SUPERMARKET_3_669': 2893, 'SUPERMARKET_3_670': 2894, 'SUPERMARKET_3_671': 2895, 'SUPERMARKET_3_672': 2896, 'SUPERMARKET_3_673': 2897, 'SUPERMARKET_3_674': 2898, 'SUPERMARKET_3_675': 2899, 'SUPERMARKET_3_676': 2900, 'SUPERMARKET_3_677': 2901, 'SUPERMARKET_3_678': 2902, 'SUPERMARKET_3_679': 2903, 'SUPERMARKET_3_680': 2904, 'SUPERMARKET_3_681': 2905, 'SUPERMARKET_3_682': 2906, 'SUPERMARKET_3_683': 2907, 'SUPERMARKET_3_684': 2908, 'SUPERMARKET_3_685': 2909, 'SUPERMARKET_3_686': 2910, 'SUPERMARKET_3_687': 2911, 'SUPERMARKET_3_688': 2912, 'SUPERMARKET_3_689': 2913, 'SUPERMARKET_3_690': 2914, 'SUPERMARKET_3_691': 2915, 'SUPERMARKET_3_692': 2916, 'SUPERMARKET_3_693': 2917, 'SUPERMARKET_3_694': 2918, 'SUPERMARKET_3_695': 2919, 'SUPERMARKET_3_696': 2920, 'SUPERMARKET_3_697': 2921, 'SUPERMARKET_3_698': 2922, 'SUPERMARKET_3_700': 2923, 'SUPERMARKET_3_701': 2924, 'SUPERMARKET_3_702': 2925, 'SUPERMARKET_3_703': 2926, 'SUPERMARKET_3_704': 2927, 'SUPERMARKET_3_705': 2928, 'SUPERMARKET_3_706': 2929, 'SUPERMARKET_3_707': 2930, 'SUPERMARKET_3_708': 2931, 'SUPERMARKET_3_709': 2932, 'SUPERMARKET_3_710': 2933, 'SUPERMARKET_3_711': 2934, 'SUPERMARKET_3_712': 2935, 'SUPERMARKET_3_713': 2936, 'SUPERMARKET_3_714': 2937, 'SUPERMARKET_3_715': 2938, 'SUPERMARKET_3_716': 2939, 'SUPERMARKET_3_717': 2940, 'SUPERMARKET_3_718': 2941, 'SUPERMARKET_3_719': 2942, 'SUPERMARKET_3_720': 2943, 'SUPERMARKET_3_721': 2944, 'SUPERMARKET_3_722': 2945, 'SUPERMARKET_3_723': 2946, 'SUPERMARKET_3_724': 2947, 'SUPERMARKET_3_725': 2948, 'SUPERMARKET_3_726': 2949, 'SUPERMARKET_3_727': 2950, 'SUPERMARKET_3_729': 2951, 'SUPERMARKET_3_730': 2952, 'SUPERMARKET_3_731': 2953, 'SUPERMARKET_3_732': 2954, 'SUPERMARKET_3_733': 2955, 'SUPERMARKET_3_734': 2956, 'SUPERMARKET_3_735': 2957, 'SUPERMARKET_3_736': 2958, 'SUPERMARKET_3_737': 2959, 'SUPERMARKET_3_738': 2960, 'SUPERMARKET_3_739': 2961, 'SUPERMARKET_3_741': 2962, 'SUPERMARKET_3_742': 2963, 'SUPERMARKET_3_743': 2964, 'SUPERMARKET_3_744': 2965, 'SUPERMARKET_3_745': 2966, 'SUPERMARKET_3_746': 2967, 'SUPERMARKET_3_747': 2968, 'SUPERMARKET_3_748': 2969, 'SUPERMARKET_3_749': 2970, 'SUPERMARKET_3_750': 2971, 'SUPERMARKET_3_751': 2972, 'SUPERMARKET_3_752': 2973, 'SUPERMARKET_3_753': 2974, 'SUPERMARKET_3_754': 2975, 'SUPERMARKET_3_755': 2976, 'SUPERMARKET_3_756': 2977, 'SUPERMARKET_3_757': 2978, 'SUPERMARKET_3_758': 2979, 'SUPERMARKET_3_759': 2980, 'SUPERMARKET_3_760': 2981, 'SUPERMARKET_3_761': 2982, 'SUPERMARKET_3_762': 2983, 'SUPERMARKET_3_763': 2984, 'SUPERMARKET_3_764': 2985, 'SUPERMARKET_3_765': 2986, 'SUPERMARKET_3_766': 2987, 'SUPERMARKET_3_767': 2988, 'SUPERMARKET_3_768': 2989, 'SUPERMARKET_3_769': 2990, 'SUPERMARKET_3_770': 2991, 'SUPERMARKET_3_771': 2992, 'SUPERMARKET_3_772': 2993, 'SUPERMARKET_3_773': 2994, 'SUPERMARKET_3_774': 2995, 'SUPERMARKET_3_775': 2996, 'SUPERMARKET_3_776': 2997, 'SUPERMARKET_3_777': 2998, 'SUPERMARKET_3_778': 2999, 'SUPERMARKET_3_779': 3000, 'SUPERMARKET_3_780': 3001, 'SUPERMARKET_3_781': 3002, 'SUPERMARKET_3_782': 3003, 'SUPERMARKET_3_783': 3004, 'SUPERMARKET_3_784': 3005, 'SUPERMARKET_3_785': 3006, 'SUPERMARKET_3_786': 3007, 'SUPERMARKET_3_787': 3008, 'SUPERMARKET_3_788': 3009, 'SUPERMARKET_3_789': 3010, 'SUPERMARKET_3_790': 3011, 'SUPERMARKET_3_791': 3012, 'SUPERMARKET_3_792': 3013, 'SUPERMARKET_3_793': 3014, 'SUPERMARKET_3_794': 3015, 'SUPERMARKET_3_795': 3016, 'SUPERMARKET_3_796': 3017, 'SUPERMARKET_3_797': 3018, 'SUPERMARKET_3_798': 3019, 'SUPERMARKET_3_799': 3020, 'SUPERMARKET_3_800': 3021, 'SUPERMARKET_3_801': 3022, 'SUPERMARKET_3_802': 3023, 'SUPERMARKET_3_803': 3024, 'SUPERMARKET_3_804': 3025, 'SUPERMARKET_3_805': 3026, 'SUPERMARKET_3_806': 3027, 'SUPERMARKET_3_807': 3028, 'SUPERMARKET_3_808': 3029, 'SUPERMARKET_3_809': 3030, 'SUPERMARKET_3_810': 3031, 'SUPERMARKET_3_811': 3032, 'SUPERMARKET_3_812': 3033, 'SUPERMARKET_3_813': 3034, 'SUPERMARKET_3_814': 3035, 'SUPERMARKET_3_815': 3036, 'SUPERMARKET_3_816': 3037, 'SUPERMARKET_3_817': 3038, 'SUPERMARKET_3_818': 3039, 'SUPERMARKET_3_819': 3040, 'SUPERMARKET_3_820': 3041, 'SUPERMARKET_3_821': 3042, 'SUPERMARKET_3_822': 3043, 'SUPERMARKET_3_823': 3044, 'SUPERMARKET_3_824': 3045, 'SUPERMARKET_3_825': 3046, 'SUPERMARKET_3_826': 3047, 'SUPERMARKET_3_827': 3048}\n",
      "Codificación para la columna 'category': {'ACCESORIES': 0, 'HOME_&_GARDEN': 1, 'SUPERMARKET': 2}\n",
      "Codificación para la columna 'department': {'ACCESORIES_1': 0, 'ACCESORIES_2': 1, 'HOME_&_GARDEN_1': 2, 'HOME_&_GARDEN_2': 3, 'SUPERMARKET_1': 4, 'SUPERMARKET_2': 5, 'SUPERMARKET_3': 6}\n",
      "Codificación para la columna 'store': {'South_End': 0, 'Roxbury': 1, 'Back_Bay': 2, 'Greenwich_Village': 3, 'Harlem': 4, 'Tribeca': 5, 'Brooklyn': 6, 'Midtown_Village': 7, 'Yorktown': 8, 'Queen_Village': 9}\n",
      "Codificación para la columna 'store_code': {'BOS_1': 0, 'BOS_2': 1, 'BOS_3': 2, 'NYC_1': 3, 'NYC_2': 4, 'NYC_3': 5, 'NYC_4': 6, 'PHI_1': 7, 'PHI_2': 8, 'PHI_3': 9}\n",
      "Codificación para la columna 'region': {'Boston': 0, 'New York': 1, 'Philadelphia': 2}\n",
      "Codificación para la columna 'event': {'0': 0, 'SuperBowl': 1, 'Ramadan starts': 2, 'Thanksgiving': 3, 'NewYear': 4, 'Easter': 5}\n"
     ]
    }
   ],
   "source": [
    "# Creamos un diccionario vacío para almacenar las codificaciones\n",
    "encoding_dict = {}\n",
    "\n",
    "# Iteramos sobre cada columna categórica\n",
    "for col in cat_cols:\n",
    "    # Creamos un diccionario vacío para esta columna\n",
    "    encoding_dict[col] = {}\n",
    "    \n",
    "    for i, value in enumerate(df_encoded[col].unique()):\n",
    "        encoding_dict[col][value] = i\n",
    "\n",
    "# Imprimimos los diccionarios resultantes\n",
    "for col, codificacion in encoding_dict.items():\n",
    "    print(f\"Codificación para la columna '{col}': {codificacion}\")\n"
   ]
  },
  {
   "cell_type": "code",
   "execution_count": 65,
   "metadata": {},
   "outputs": [
    {
     "name": "stdout",
     "output_type": "stream",
     "text": [
      "          yearweek                       id               item     category  \\\n",
      "0       2011-01-30   ACCESORIES_1_001_BOS_1   ACCESORIES_1_001   ACCESORIES   \n",
      "1       2011-02-06   ACCESORIES_1_001_BOS_1   ACCESORIES_1_001   ACCESORIES   \n",
      "2       2011-02-13   ACCESORIES_1_001_BOS_1   ACCESORIES_1_001   ACCESORIES   \n",
      "3       2011-02-20   ACCESORIES_1_001_BOS_1   ACCESORIES_1_001   ACCESORIES   \n",
      "4       2011-02-27   ACCESORIES_1_001_BOS_1   ACCESORIES_1_001   ACCESORIES   \n",
      "...            ...                      ...                ...          ...   \n",
      "8354255 2016-03-27  SUPERMARKET_3_827_PHI_3  SUPERMARKET_3_827  SUPERMARKET   \n",
      "8354256 2016-04-03  SUPERMARKET_3_827_PHI_3  SUPERMARKET_3_827  SUPERMARKET   \n",
      "8354257 2016-04-10  SUPERMARKET_3_827_PHI_3  SUPERMARKET_3_827  SUPERMARKET   \n",
      "8354258 2016-04-17  SUPERMARKET_3_827_PHI_3  SUPERMARKET_3_827  SUPERMARKET   \n",
      "8354259 2016-04-24  SUPERMARKET_3_827_PHI_3  SUPERMARKET_3_827  SUPERMARKET   \n",
      "\n",
      "            department          store store_code        region  qty_sold  \\\n",
      "0         ACCESORIES_1      South_End      BOS_1        Boston         0   \n",
      "1         ACCESORIES_1      South_End      BOS_1        Boston         0   \n",
      "2         ACCESORIES_1      South_End      BOS_1        Boston         0   \n",
      "3         ACCESORIES_1      South_End      BOS_1        Boston         0   \n",
      "4         ACCESORIES_1      South_End      BOS_1        Boston         0   \n",
      "...                ...            ...        ...           ...       ...   \n",
      "8354255  SUPERMARKET_3  Queen_Village      PHI_3  Philadelphia        17   \n",
      "8354256  SUPERMARKET_3  Queen_Village      PHI_3  Philadelphia        22   \n",
      "8354257  SUPERMARKET_3  Queen_Village      PHI_3  Philadelphia         8   \n",
      "8354258  SUPERMARKET_3  Queen_Village      PHI_3  Philadelphia         0   \n",
      "8354259  SUPERMARKET_3  Queen_Village      PHI_3  Philadelphia         0   \n",
      "\n",
      "         sell_price  ... week  item_qty_sold_sum  item_qty_sold_sum_lag1  \\\n",
      "0           12.7414  ...    4                  0                     NaN   \n",
      "1           12.7414  ...    5                  0                     0.0   \n",
      "2           12.7414  ...    6                  0                     0.0   \n",
      "3           12.7414  ...    7                  0                     0.0   \n",
      "4           12.7414  ...    8                  0                     0.0   \n",
      "...             ...  ...  ...                ...                     ...   \n",
      "8354255      1.2000  ...   12                163                   182.0   \n",
      "8354256      1.2000  ...   13                183                   163.0   \n",
      "8354257      1.2000  ...   14                197                   183.0   \n",
      "8354258      1.2000  ...   15                169                   197.0   \n",
      "8354259      1.2000  ...   16                180                   169.0   \n",
      "\n",
      "         item_encoded  category_encoded  department_encoded  store_encoded  \\\n",
      "0                   0                 0                   0              0   \n",
      "1                   0                 0                   0              0   \n",
      "2                   0                 0                   0              0   \n",
      "3                   0                 0                   0              0   \n",
      "4                   0                 0                   0              0   \n",
      "...               ...               ...                 ...            ...   \n",
      "8354255          3048                 2                   6              9   \n",
      "8354256          3048                 2                   6              9   \n",
      "8354257          3048                 2                   6              9   \n",
      "8354258          3048                 2                   6              9   \n",
      "8354259          3048                 2                   6              9   \n",
      "\n",
      "         store_code_encoded  region_encoded  event_encoded  \n",
      "0                         0               0              0  \n",
      "1                         0               0              0  \n",
      "2                         0               0              1  \n",
      "3                         0               0              0  \n",
      "4                         0               0              0  \n",
      "...                     ...             ...            ...  \n",
      "8354255                   9               2              0  \n",
      "8354256                   9               2              5  \n",
      "8354257                   9               2              0  \n",
      "8354258                   9               2              0  \n",
      "8354259                   9               2              0  \n",
      "\n",
      "[8354260 rows x 22 columns]\n"
     ]
    }
   ],
   "source": [
    "# Aplicamos map para imputar categóricos\n",
    "def encode_column_with_dict(column, encoding_dict):\n",
    "    return column.map(encoding_dict)\n",
    "\n",
    "for col in cat_cols:\n",
    "    df_encoded[col + '_encoded'] = encode_column_with_dict(df_encoded[col], encoding_dict[col])\n",
    "\n",
    "# Mostrar el DataFrame resultante\n",
    "print(df_encoded)\n"
   ]
  },
  {
   "cell_type": "code",
   "execution_count": 66,
   "metadata": {},
   "outputs": [],
   "source": [
    "#Columnas a eliminar, que ya tenemos encodeadas\n",
    "df_encoded.drop(columns=['category', \"item\", \"department\", \"store\", \"store_code\", \"region\", \"event\"], inplace=True)"
   ]
  },
  {
   "cell_type": "code",
   "execution_count": 67,
   "metadata": {},
   "outputs": [
    {
     "data": {
      "text/html": [
       "<div>\n",
       "<style scoped>\n",
       "    .dataframe tbody tr th:only-of-type {\n",
       "        vertical-align: middle;\n",
       "    }\n",
       "\n",
       "    .dataframe tbody tr th {\n",
       "        vertical-align: top;\n",
       "    }\n",
       "\n",
       "    .dataframe thead th {\n",
       "        text-align: right;\n",
       "    }\n",
       "</style>\n",
       "<table border=\"1\" class=\"dataframe\">\n",
       "  <thead>\n",
       "    <tr style=\"text-align: right;\">\n",
       "      <th></th>\n",
       "      <th>yearweek</th>\n",
       "      <th>id</th>\n",
       "      <th>qty_sold</th>\n",
       "      <th>sell_price</th>\n",
       "      <th>year</th>\n",
       "      <th>week</th>\n",
       "      <th>item_qty_sold_sum</th>\n",
       "      <th>item_qty_sold_sum_lag1</th>\n",
       "      <th>item_encoded</th>\n",
       "      <th>category_encoded</th>\n",
       "      <th>department_encoded</th>\n",
       "      <th>store_encoded</th>\n",
       "      <th>store_code_encoded</th>\n",
       "      <th>region_encoded</th>\n",
       "      <th>event_encoded</th>\n",
       "    </tr>\n",
       "  </thead>\n",
       "  <tbody>\n",
       "    <tr>\n",
       "      <th>0</th>\n",
       "      <td>2011-01-30</td>\n",
       "      <td>ACCESORIES_1_001_BOS_1</td>\n",
       "      <td>0</td>\n",
       "      <td>12.7414</td>\n",
       "      <td>2011</td>\n",
       "      <td>4</td>\n",
       "      <td>0</td>\n",
       "      <td>NaN</td>\n",
       "      <td>0</td>\n",
       "      <td>0</td>\n",
       "      <td>0</td>\n",
       "      <td>0</td>\n",
       "      <td>0</td>\n",
       "      <td>0</td>\n",
       "      <td>0</td>\n",
       "    </tr>\n",
       "    <tr>\n",
       "      <th>1</th>\n",
       "      <td>2011-02-06</td>\n",
       "      <td>ACCESORIES_1_001_BOS_1</td>\n",
       "      <td>0</td>\n",
       "      <td>12.7414</td>\n",
       "      <td>2011</td>\n",
       "      <td>5</td>\n",
       "      <td>0</td>\n",
       "      <td>0.0</td>\n",
       "      <td>0</td>\n",
       "      <td>0</td>\n",
       "      <td>0</td>\n",
       "      <td>0</td>\n",
       "      <td>0</td>\n",
       "      <td>0</td>\n",
       "      <td>0</td>\n",
       "    </tr>\n",
       "    <tr>\n",
       "      <th>2</th>\n",
       "      <td>2011-02-13</td>\n",
       "      <td>ACCESORIES_1_001_BOS_1</td>\n",
       "      <td>0</td>\n",
       "      <td>12.7414</td>\n",
       "      <td>2011</td>\n",
       "      <td>6</td>\n",
       "      <td>0</td>\n",
       "      <td>0.0</td>\n",
       "      <td>0</td>\n",
       "      <td>0</td>\n",
       "      <td>0</td>\n",
       "      <td>0</td>\n",
       "      <td>0</td>\n",
       "      <td>0</td>\n",
       "      <td>1</td>\n",
       "    </tr>\n",
       "    <tr>\n",
       "      <th>3</th>\n",
       "      <td>2011-02-20</td>\n",
       "      <td>ACCESORIES_1_001_BOS_1</td>\n",
       "      <td>0</td>\n",
       "      <td>12.7414</td>\n",
       "      <td>2011</td>\n",
       "      <td>7</td>\n",
       "      <td>0</td>\n",
       "      <td>0.0</td>\n",
       "      <td>0</td>\n",
       "      <td>0</td>\n",
       "      <td>0</td>\n",
       "      <td>0</td>\n",
       "      <td>0</td>\n",
       "      <td>0</td>\n",
       "      <td>0</td>\n",
       "    </tr>\n",
       "    <tr>\n",
       "      <th>4</th>\n",
       "      <td>2011-02-27</td>\n",
       "      <td>ACCESORIES_1_001_BOS_1</td>\n",
       "      <td>0</td>\n",
       "      <td>12.7414</td>\n",
       "      <td>2011</td>\n",
       "      <td>8</td>\n",
       "      <td>0</td>\n",
       "      <td>0.0</td>\n",
       "      <td>0</td>\n",
       "      <td>0</td>\n",
       "      <td>0</td>\n",
       "      <td>0</td>\n",
       "      <td>0</td>\n",
       "      <td>0</td>\n",
       "      <td>0</td>\n",
       "    </tr>\n",
       "  </tbody>\n",
       "</table>\n",
       "</div>"
      ],
      "text/plain": [
       "    yearweek                      id  qty_sold  sell_price  year  week  \\\n",
       "0 2011-01-30  ACCESORIES_1_001_BOS_1         0     12.7414  2011     4   \n",
       "1 2011-02-06  ACCESORIES_1_001_BOS_1         0     12.7414  2011     5   \n",
       "2 2011-02-13  ACCESORIES_1_001_BOS_1         0     12.7414  2011     6   \n",
       "3 2011-02-20  ACCESORIES_1_001_BOS_1         0     12.7414  2011     7   \n",
       "4 2011-02-27  ACCESORIES_1_001_BOS_1         0     12.7414  2011     8   \n",
       "\n",
       "   item_qty_sold_sum  item_qty_sold_sum_lag1  item_encoded  category_encoded  \\\n",
       "0                  0                     NaN             0                 0   \n",
       "1                  0                     0.0             0                 0   \n",
       "2                  0                     0.0             0                 0   \n",
       "3                  0                     0.0             0                 0   \n",
       "4                  0                     0.0             0                 0   \n",
       "\n",
       "   department_encoded  store_encoded  store_code_encoded  region_encoded  \\\n",
       "0                   0              0                   0               0   \n",
       "1                   0              0                   0               0   \n",
       "2                   0              0                   0               0   \n",
       "3                   0              0                   0               0   \n",
       "4                   0              0                   0               0   \n",
       "\n",
       "   event_encoded  \n",
       "0              0  \n",
       "1              0  \n",
       "2              1  \n",
       "3              0  \n",
       "4              0  "
      ]
     },
     "execution_count": 67,
     "metadata": {},
     "output_type": "execute_result"
    }
   ],
   "source": [
    "df_encoded.head()"
   ]
  },
  {
   "cell_type": "code",
   "execution_count": 68,
   "metadata": {},
   "outputs": [
    {
     "data": {
      "text/plain": [
       "\"# Inicializamos el codificador de etiquetas\\nlabel_encoder = LabelEncoder()\\n\\n# Iteramos sobre todas las columnas categóricas y aplicamos el Label Encoding\\nfor col in cat_cols:\\n    df_encoded[col + '_encoded'] = label_encoder.fit_transform(df_encoded[col])\\n\\n# Eliminamos las columnas categóricas originales si es necesario\\ndf_encoded.drop(columns=cat_cols, inplace=True)\\n\\n# Imprimimos el DataFrame resultante\\nprint(df_encoded)\""
      ]
     },
     "execution_count": 68,
     "metadata": {},
     "output_type": "execute_result"
    }
   ],
   "source": [
    "\"\"\"# Inicializamos el codificador de etiquetas\n",
    "label_encoder = LabelEncoder()\n",
    "\n",
    "# Iteramos sobre todas las columnas categóricas y aplicamos el Label Encoding\n",
    "for col in cat_cols:\n",
    "    df_encoded[col + '_encoded'] = label_encoder.fit_transform(df_encoded[col])\n",
    "\n",
    "# Eliminamos las columnas categóricas originales si es necesario\n",
    "df_encoded.drop(columns=cat_cols, inplace=True)\n",
    "\n",
    "# Imprimimos el DataFrame resultante\n",
    "print(df_encoded)\"\"\""
   ]
  },
  {
   "cell_type": "code",
   "execution_count": 69,
   "metadata": {},
   "outputs": [
    {
     "data": {
      "text/plain": [
       "'df_encoded = pd.get_dummies(df_encoded, columns=cat_cols)'"
      ]
     },
     "execution_count": 69,
     "metadata": {},
     "output_type": "execute_result"
    }
   ],
   "source": [
    "\"\"\"df_encoded = pd.get_dummies(df_encoded, columns=cat_cols)\"\"\""
   ]
  },
  {
   "cell_type": "code",
   "execution_count": 70,
   "metadata": {},
   "outputs": [
    {
     "name": "stdout",
     "output_type": "stream",
     "text": [
      "<class 'pandas.core.frame.DataFrame'>\n",
      "RangeIndex: 8354260 entries, 0 to 8354259\n",
      "Data columns (total 15 columns):\n",
      " #   Column                  Dtype         \n",
      "---  ------                  -----         \n",
      " 0   yearweek                datetime64[ns]\n",
      " 1   id                      object        \n",
      " 2   qty_sold                int64         \n",
      " 3   sell_price              float64       \n",
      " 4   year                    int64         \n",
      " 5   week                    int64         \n",
      " 6   item_qty_sold_sum       int64         \n",
      " 7   item_qty_sold_sum_lag1  float64       \n",
      " 8   item_encoded            int64         \n",
      " 9   category_encoded        int64         \n",
      " 10  department_encoded      int64         \n",
      " 11  store_encoded           int64         \n",
      " 12  store_code_encoded      int64         \n",
      " 13  region_encoded          int64         \n",
      " 14  event_encoded           int64         \n",
      "dtypes: datetime64[ns](1), float64(2), int64(11), object(1)\n",
      "memory usage: 956.1+ MB\n"
     ]
    }
   ],
   "source": [
    "df_encoded.info()"
   ]
  },
  {
   "cell_type": "code",
   "execution_count": 71,
   "metadata": {},
   "outputs": [
    {
     "data": {
      "text/plain": [
       "(8354260, 15)"
      ]
     },
     "execution_count": 71,
     "metadata": {},
     "output_type": "execute_result"
    }
   ],
   "source": [
    "df_encoded.shape"
   ]
  },
  {
   "cell_type": "markdown",
   "metadata": {},
   "source": [
    "# Eliminamos Alta correlación"
   ]
  },
  {
   "cell_type": "markdown",
   "metadata": {},
   "source": [
    "# Eliminamos Baja Varianza"
   ]
  },
  {
   "cell_type": "markdown",
   "metadata": {},
   "source": [
    "# Train Test Split"
   ]
  },
  {
   "cell_type": "code",
   "execution_count": 72,
   "metadata": {},
   "outputs": [],
   "source": [
    "df2=df_encoded.copy()"
   ]
  },
  {
   "cell_type": "code",
   "execution_count": 73,
   "metadata": {},
   "outputs": [],
   "source": [
    "#df2.fillna(0, inplace=True)"
   ]
  },
  {
   "cell_type": "code",
   "execution_count": 74,
   "metadata": {},
   "outputs": [
    {
     "data": {
      "text/html": [
       "<div>\n",
       "<style scoped>\n",
       "    .dataframe tbody tr th:only-of-type {\n",
       "        vertical-align: middle;\n",
       "    }\n",
       "\n",
       "    .dataframe tbody tr th {\n",
       "        vertical-align: top;\n",
       "    }\n",
       "\n",
       "    .dataframe thead th {\n",
       "        text-align: right;\n",
       "    }\n",
       "</style>\n",
       "<table border=\"1\" class=\"dataframe\">\n",
       "  <thead>\n",
       "    <tr style=\"text-align: right;\">\n",
       "      <th></th>\n",
       "      <th>yearweek</th>\n",
       "      <th>id</th>\n",
       "      <th>qty_sold</th>\n",
       "      <th>sell_price</th>\n",
       "      <th>year</th>\n",
       "      <th>week</th>\n",
       "      <th>item_qty_sold_sum</th>\n",
       "      <th>item_qty_sold_sum_lag1</th>\n",
       "      <th>item_encoded</th>\n",
       "      <th>category_encoded</th>\n",
       "      <th>department_encoded</th>\n",
       "      <th>store_encoded</th>\n",
       "      <th>store_code_encoded</th>\n",
       "      <th>region_encoded</th>\n",
       "      <th>event_encoded</th>\n",
       "    </tr>\n",
       "  </thead>\n",
       "  <tbody>\n",
       "    <tr>\n",
       "      <th>0</th>\n",
       "      <td>2011-01-30</td>\n",
       "      <td>ACCESORIES_1_001_BOS_1</td>\n",
       "      <td>0</td>\n",
       "      <td>12.7414</td>\n",
       "      <td>2011</td>\n",
       "      <td>4</td>\n",
       "      <td>0</td>\n",
       "      <td>NaN</td>\n",
       "      <td>0</td>\n",
       "      <td>0</td>\n",
       "      <td>0</td>\n",
       "      <td>0</td>\n",
       "      <td>0</td>\n",
       "      <td>0</td>\n",
       "      <td>0</td>\n",
       "    </tr>\n",
       "    <tr>\n",
       "      <th>1</th>\n",
       "      <td>2011-02-06</td>\n",
       "      <td>ACCESORIES_1_001_BOS_1</td>\n",
       "      <td>0</td>\n",
       "      <td>12.7414</td>\n",
       "      <td>2011</td>\n",
       "      <td>5</td>\n",
       "      <td>0</td>\n",
       "      <td>0.0</td>\n",
       "      <td>0</td>\n",
       "      <td>0</td>\n",
       "      <td>0</td>\n",
       "      <td>0</td>\n",
       "      <td>0</td>\n",
       "      <td>0</td>\n",
       "      <td>0</td>\n",
       "    </tr>\n",
       "    <tr>\n",
       "      <th>2</th>\n",
       "      <td>2011-02-13</td>\n",
       "      <td>ACCESORIES_1_001_BOS_1</td>\n",
       "      <td>0</td>\n",
       "      <td>12.7414</td>\n",
       "      <td>2011</td>\n",
       "      <td>6</td>\n",
       "      <td>0</td>\n",
       "      <td>0.0</td>\n",
       "      <td>0</td>\n",
       "      <td>0</td>\n",
       "      <td>0</td>\n",
       "      <td>0</td>\n",
       "      <td>0</td>\n",
       "      <td>0</td>\n",
       "      <td>1</td>\n",
       "    </tr>\n",
       "    <tr>\n",
       "      <th>3</th>\n",
       "      <td>2011-02-20</td>\n",
       "      <td>ACCESORIES_1_001_BOS_1</td>\n",
       "      <td>0</td>\n",
       "      <td>12.7414</td>\n",
       "      <td>2011</td>\n",
       "      <td>7</td>\n",
       "      <td>0</td>\n",
       "      <td>0.0</td>\n",
       "      <td>0</td>\n",
       "      <td>0</td>\n",
       "      <td>0</td>\n",
       "      <td>0</td>\n",
       "      <td>0</td>\n",
       "      <td>0</td>\n",
       "      <td>0</td>\n",
       "    </tr>\n",
       "    <tr>\n",
       "      <th>4</th>\n",
       "      <td>2011-02-27</td>\n",
       "      <td>ACCESORIES_1_001_BOS_1</td>\n",
       "      <td>0</td>\n",
       "      <td>12.7414</td>\n",
       "      <td>2011</td>\n",
       "      <td>8</td>\n",
       "      <td>0</td>\n",
       "      <td>0.0</td>\n",
       "      <td>0</td>\n",
       "      <td>0</td>\n",
       "      <td>0</td>\n",
       "      <td>0</td>\n",
       "      <td>0</td>\n",
       "      <td>0</td>\n",
       "      <td>0</td>\n",
       "    </tr>\n",
       "  </tbody>\n",
       "</table>\n",
       "</div>"
      ],
      "text/plain": [
       "    yearweek                      id  qty_sold  sell_price  year  week  \\\n",
       "0 2011-01-30  ACCESORIES_1_001_BOS_1         0     12.7414  2011     4   \n",
       "1 2011-02-06  ACCESORIES_1_001_BOS_1         0     12.7414  2011     5   \n",
       "2 2011-02-13  ACCESORIES_1_001_BOS_1         0     12.7414  2011     6   \n",
       "3 2011-02-20  ACCESORIES_1_001_BOS_1         0     12.7414  2011     7   \n",
       "4 2011-02-27  ACCESORIES_1_001_BOS_1         0     12.7414  2011     8   \n",
       "\n",
       "   item_qty_sold_sum  item_qty_sold_sum_lag1  item_encoded  category_encoded  \\\n",
       "0                  0                     NaN             0                 0   \n",
       "1                  0                     0.0             0                 0   \n",
       "2                  0                     0.0             0                 0   \n",
       "3                  0                     0.0             0                 0   \n",
       "4                  0                     0.0             0                 0   \n",
       "\n",
       "   department_encoded  store_encoded  store_code_encoded  region_encoded  \\\n",
       "0                   0              0                   0               0   \n",
       "1                   0              0                   0               0   \n",
       "2                   0              0                   0               0   \n",
       "3                   0              0                   0               0   \n",
       "4                   0              0                   0               0   \n",
       "\n",
       "   event_encoded  \n",
       "0              0  \n",
       "1              0  \n",
       "2              1  \n",
       "3              0  \n",
       "4              0  "
      ]
     },
     "execution_count": 74,
     "metadata": {},
     "output_type": "execute_result"
    }
   ],
   "source": [
    "df2.head()"
   ]
  },
  {
   "cell_type": "code",
   "execution_count": 75,
   "metadata": {},
   "outputs": [
    {
     "data": {
      "text/plain": [
       "(8354260, 15)"
      ]
     },
     "execution_count": 75,
     "metadata": {},
     "output_type": "execute_result"
    }
   ],
   "source": [
    "df2.shape"
   ]
  },
  {
   "cell_type": "markdown",
   "metadata": {},
   "source": [
    "Eliminamos variables"
   ]
  },
  {
   "cell_type": "code",
   "execution_count": 76,
   "metadata": {},
   "outputs": [
    {
     "data": {
      "text/plain": [
       "['yearweek',\n",
       " 'id',\n",
       " 'qty_sold',\n",
       " 'sell_price',\n",
       " 'year',\n",
       " 'week',\n",
       " 'item_qty_sold_sum',\n",
       " 'item_qty_sold_sum_lag1',\n",
       " 'item_encoded',\n",
       " 'category_encoded',\n",
       " 'department_encoded',\n",
       " 'store_encoded',\n",
       " 'store_code_encoded',\n",
       " 'region_encoded',\n",
       " 'event_encoded']"
      ]
     },
     "execution_count": 76,
     "metadata": {},
     "output_type": "execute_result"
    }
   ],
   "source": [
    "df2.columns.tolist()"
   ]
  },
  {
   "cell_type": "code",
   "execution_count": 77,
   "metadata": {},
   "outputs": [],
   "source": [
    "COLUMNS_TO_DROP = [  \n",
    "]\n",
    "df2.drop(COLUMNS_TO_DROP, inplace = True, axis = 1)"
   ]
  },
  {
   "cell_type": "code",
   "execution_count": 78,
   "metadata": {},
   "outputs": [
    {
     "data": {
      "text/plain": [
       "yearweek                      0\n",
       "id                            0\n",
       "qty_sold                      0\n",
       "sell_price                    0\n",
       "year                          0\n",
       "week                          0\n",
       "item_qty_sold_sum             0\n",
       "item_qty_sold_sum_lag1    30490\n",
       "item_encoded                  0\n",
       "category_encoded              0\n",
       "department_encoded            0\n",
       "store_encoded                 0\n",
       "store_code_encoded            0\n",
       "region_encoded                0\n",
       "event_encoded                 0\n",
       "dtype: int64"
      ]
     },
     "execution_count": 78,
     "metadata": {},
     "output_type": "execute_result"
    }
   ],
   "source": [
    "df2.isnull().sum()"
   ]
  },
  {
   "cell_type": "code",
   "execution_count": 79,
   "metadata": {},
   "outputs": [
    {
     "name": "stdout",
     "output_type": "stream",
     "text": [
      "<class 'pandas.core.frame.DataFrame'>\n",
      "RangeIndex: 8354260 entries, 0 to 8354259\n",
      "Data columns (total 15 columns):\n",
      " #   Column                  Dtype         \n",
      "---  ------                  -----         \n",
      " 0   yearweek                datetime64[ns]\n",
      " 1   id                      object        \n",
      " 2   qty_sold                int64         \n",
      " 3   sell_price              float64       \n",
      " 4   year                    int64         \n",
      " 5   week                    int64         \n",
      " 6   item_qty_sold_sum       int64         \n",
      " 7   item_qty_sold_sum_lag1  float64       \n",
      " 8   item_encoded            int64         \n",
      " 9   category_encoded        int64         \n",
      " 10  department_encoded      int64         \n",
      " 11  store_encoded           int64         \n",
      " 12  store_code_encoded      int64         \n",
      " 13  region_encoded          int64         \n",
      " 14  event_encoded           int64         \n",
      "dtypes: datetime64[ns](1), float64(2), int64(11), object(1)\n",
      "memory usage: 956.1+ MB\n"
     ]
    }
   ],
   "source": [
    "df2.info()"
   ]
  },
  {
   "cell_type": "code",
   "execution_count": 80,
   "metadata": {},
   "outputs": [
    {
     "data": {
      "text/plain": [
       "(8354260, 15)"
      ]
     },
     "execution_count": 80,
     "metadata": {},
     "output_type": "execute_result"
    }
   ],
   "source": [
    "df2.shape"
   ]
  },
  {
   "cell_type": "code",
   "execution_count": 81,
   "metadata": {},
   "outputs": [],
   "source": [
    "#Convertimos \"id\" en Index\n",
    "df2.set_index('id', inplace=True)"
   ]
  },
  {
   "cell_type": "code",
   "execution_count": 82,
   "metadata": {},
   "outputs": [],
   "source": [
    "train_index = sorted(list(df2[\"yearweek\"].unique()))[:-8]\n",
    "\n",
    "valida_index = [sorted(list(df2[\"yearweek\"].unique()))[-8]]\n",
    "\n",
    "test_index = [sorted(list(df2[\"yearweek\"].unique()))[-4]]"
   ]
  },
  {
   "cell_type": "code",
   "execution_count": 83,
   "metadata": {},
   "outputs": [
    {
     "data": {
      "text/plain": [
       "[Timestamp('2016-03-06 00:00:00')]"
      ]
     },
     "execution_count": 83,
     "metadata": {},
     "output_type": "execute_result"
    }
   ],
   "source": [
    "valida_index"
   ]
  },
  {
   "cell_type": "code",
   "execution_count": 84,
   "metadata": {},
   "outputs": [
    {
     "name": "stdout",
     "output_type": "stream",
     "text": [
      "Our train index is [Timestamp('2011-01-30 00:00:00'), Timestamp('2011-02-06 00:00:00')] - ... - [Timestamp('2016-02-21 00:00:00'), Timestamp('2016-02-28 00:00:00')]\n",
      "\n",
      "Our validation index is [Timestamp('2016-03-06 00:00:00')]\n",
      "\n",
      "Our test/prediction index is [Timestamp('2016-04-03 00:00:00')]\n",
      "\n"
     ]
    }
   ],
   "source": [
    "print(f\"Our train index is {train_index[:2]} - ... - {train_index[-2:]}\\n\")\n",
    "print(f\"Our validation index is {valida_index}\\n\")\n",
    "print(f\"Our test/prediction index is {test_index}\\n\")"
   ]
  },
  {
   "cell_type": "code",
   "execution_count": 85,
   "metadata": {},
   "outputs": [],
   "source": [
    "X_train = df2[df2[\"yearweek\"].isin(train_index)].drop(['qty_sold', \"yearweek\"], axis=1)\n",
    "Y_train = df2[df2[\"yearweek\"].isin(train_index)]['qty_sold']\n",
    "\n",
    "X_valida = df2[df2[\"yearweek\"].isin(valida_index)].drop(['qty_sold', \"yearweek\"], axis=1)\n",
    "Y_valida = df2[df2[\"yearweek\"].isin(valida_index)]['qty_sold']\n",
    "\n",
    "X_test = df2[df2[\"yearweek\"].isin(test_index)].drop(['qty_sold', \"yearweek\"], axis = 1)\n",
    "Y_test = df2[df2[\"yearweek\"].isin(test_index)]['qty_sold']"
   ]
  },
  {
   "cell_type": "code",
   "execution_count": 86,
   "metadata": {},
   "outputs": [
    {
     "data": {
      "text/html": [
       "<div>\n",
       "<style scoped>\n",
       "    .dataframe tbody tr th:only-of-type {\n",
       "        vertical-align: middle;\n",
       "    }\n",
       "\n",
       "    .dataframe tbody tr th {\n",
       "        vertical-align: top;\n",
       "    }\n",
       "\n",
       "    .dataframe thead th {\n",
       "        text-align: right;\n",
       "    }\n",
       "</style>\n",
       "<table border=\"1\" class=\"dataframe\">\n",
       "  <thead>\n",
       "    <tr style=\"text-align: right;\">\n",
       "      <th></th>\n",
       "      <th>sell_price</th>\n",
       "      <th>year</th>\n",
       "      <th>week</th>\n",
       "      <th>item_qty_sold_sum</th>\n",
       "      <th>item_qty_sold_sum_lag1</th>\n",
       "      <th>item_encoded</th>\n",
       "      <th>category_encoded</th>\n",
       "      <th>department_encoded</th>\n",
       "      <th>store_encoded</th>\n",
       "      <th>store_code_encoded</th>\n",
       "      <th>region_encoded</th>\n",
       "      <th>event_encoded</th>\n",
       "    </tr>\n",
       "    <tr>\n",
       "      <th>id</th>\n",
       "      <th></th>\n",
       "      <th></th>\n",
       "      <th></th>\n",
       "      <th></th>\n",
       "      <th></th>\n",
       "      <th></th>\n",
       "      <th></th>\n",
       "      <th></th>\n",
       "      <th></th>\n",
       "      <th></th>\n",
       "      <th></th>\n",
       "      <th></th>\n",
       "    </tr>\n",
       "  </thead>\n",
       "  <tbody>\n",
       "    <tr>\n",
       "      <th>ACCESORIES_1_001_BOS_1</th>\n",
       "      <td>12.7414</td>\n",
       "      <td>2011</td>\n",
       "      <td>4</td>\n",
       "      <td>0</td>\n",
       "      <td>NaN</td>\n",
       "      <td>0</td>\n",
       "      <td>0</td>\n",
       "      <td>0</td>\n",
       "      <td>0</td>\n",
       "      <td>0</td>\n",
       "      <td>0</td>\n",
       "      <td>0</td>\n",
       "    </tr>\n",
       "    <tr>\n",
       "      <th>ACCESORIES_1_001_BOS_1</th>\n",
       "      <td>12.7414</td>\n",
       "      <td>2011</td>\n",
       "      <td>5</td>\n",
       "      <td>0</td>\n",
       "      <td>0.0</td>\n",
       "      <td>0</td>\n",
       "      <td>0</td>\n",
       "      <td>0</td>\n",
       "      <td>0</td>\n",
       "      <td>0</td>\n",
       "      <td>0</td>\n",
       "      <td>0</td>\n",
       "    </tr>\n",
       "    <tr>\n",
       "      <th>ACCESORIES_1_001_BOS_1</th>\n",
       "      <td>12.7414</td>\n",
       "      <td>2011</td>\n",
       "      <td>6</td>\n",
       "      <td>0</td>\n",
       "      <td>0.0</td>\n",
       "      <td>0</td>\n",
       "      <td>0</td>\n",
       "      <td>0</td>\n",
       "      <td>0</td>\n",
       "      <td>0</td>\n",
       "      <td>0</td>\n",
       "      <td>1</td>\n",
       "    </tr>\n",
       "    <tr>\n",
       "      <th>ACCESORIES_1_001_BOS_1</th>\n",
       "      <td>12.7414</td>\n",
       "      <td>2011</td>\n",
       "      <td>7</td>\n",
       "      <td>0</td>\n",
       "      <td>0.0</td>\n",
       "      <td>0</td>\n",
       "      <td>0</td>\n",
       "      <td>0</td>\n",
       "      <td>0</td>\n",
       "      <td>0</td>\n",
       "      <td>0</td>\n",
       "      <td>0</td>\n",
       "    </tr>\n",
       "    <tr>\n",
       "      <th>ACCESORIES_1_001_BOS_1</th>\n",
       "      <td>12.7414</td>\n",
       "      <td>2011</td>\n",
       "      <td>8</td>\n",
       "      <td>0</td>\n",
       "      <td>0.0</td>\n",
       "      <td>0</td>\n",
       "      <td>0</td>\n",
       "      <td>0</td>\n",
       "      <td>0</td>\n",
       "      <td>0</td>\n",
       "      <td>0</td>\n",
       "      <td>0</td>\n",
       "    </tr>\n",
       "    <tr>\n",
       "      <th>ACCESORIES_1_001_BOS_1</th>\n",
       "      <td>12.7414</td>\n",
       "      <td>2011</td>\n",
       "      <td>9</td>\n",
       "      <td>0</td>\n",
       "      <td>0.0</td>\n",
       "      <td>0</td>\n",
       "      <td>0</td>\n",
       "      <td>0</td>\n",
       "      <td>0</td>\n",
       "      <td>0</td>\n",
       "      <td>0</td>\n",
       "      <td>0</td>\n",
       "    </tr>\n",
       "    <tr>\n",
       "      <th>ACCESORIES_1_001_BOS_1</th>\n",
       "      <td>12.7414</td>\n",
       "      <td>2011</td>\n",
       "      <td>10</td>\n",
       "      <td>0</td>\n",
       "      <td>0.0</td>\n",
       "      <td>0</td>\n",
       "      <td>0</td>\n",
       "      <td>0</td>\n",
       "      <td>0</td>\n",
       "      <td>0</td>\n",
       "      <td>0</td>\n",
       "      <td>0</td>\n",
       "    </tr>\n",
       "    <tr>\n",
       "      <th>ACCESORIES_1_001_BOS_1</th>\n",
       "      <td>12.7414</td>\n",
       "      <td>2011</td>\n",
       "      <td>11</td>\n",
       "      <td>0</td>\n",
       "      <td>0.0</td>\n",
       "      <td>0</td>\n",
       "      <td>0</td>\n",
       "      <td>0</td>\n",
       "      <td>0</td>\n",
       "      <td>0</td>\n",
       "      <td>0</td>\n",
       "      <td>0</td>\n",
       "    </tr>\n",
       "    <tr>\n",
       "      <th>ACCESORIES_1_001_BOS_1</th>\n",
       "      <td>12.7414</td>\n",
       "      <td>2011</td>\n",
       "      <td>12</td>\n",
       "      <td>0</td>\n",
       "      <td>0.0</td>\n",
       "      <td>0</td>\n",
       "      <td>0</td>\n",
       "      <td>0</td>\n",
       "      <td>0</td>\n",
       "      <td>0</td>\n",
       "      <td>0</td>\n",
       "      <td>0</td>\n",
       "    </tr>\n",
       "    <tr>\n",
       "      <th>ACCESORIES_1_001_BOS_1</th>\n",
       "      <td>12.7414</td>\n",
       "      <td>2011</td>\n",
       "      <td>13</td>\n",
       "      <td>0</td>\n",
       "      <td>0.0</td>\n",
       "      <td>0</td>\n",
       "      <td>0</td>\n",
       "      <td>0</td>\n",
       "      <td>0</td>\n",
       "      <td>0</td>\n",
       "      <td>0</td>\n",
       "      <td>0</td>\n",
       "    </tr>\n",
       "    <tr>\n",
       "      <th>ACCESORIES_1_001_BOS_1</th>\n",
       "      <td>12.7414</td>\n",
       "      <td>2011</td>\n",
       "      <td>14</td>\n",
       "      <td>0</td>\n",
       "      <td>0.0</td>\n",
       "      <td>0</td>\n",
       "      <td>0</td>\n",
       "      <td>0</td>\n",
       "      <td>0</td>\n",
       "      <td>0</td>\n",
       "      <td>0</td>\n",
       "      <td>0</td>\n",
       "    </tr>\n",
       "    <tr>\n",
       "      <th>ACCESORIES_1_001_BOS_1</th>\n",
       "      <td>12.7414</td>\n",
       "      <td>2011</td>\n",
       "      <td>15</td>\n",
       "      <td>0</td>\n",
       "      <td>0.0</td>\n",
       "      <td>0</td>\n",
       "      <td>0</td>\n",
       "      <td>0</td>\n",
       "      <td>0</td>\n",
       "      <td>0</td>\n",
       "      <td>0</td>\n",
       "      <td>0</td>\n",
       "    </tr>\n",
       "    <tr>\n",
       "      <th>ACCESORIES_1_001_BOS_1</th>\n",
       "      <td>12.7414</td>\n",
       "      <td>2011</td>\n",
       "      <td>16</td>\n",
       "      <td>0</td>\n",
       "      <td>0.0</td>\n",
       "      <td>0</td>\n",
       "      <td>0</td>\n",
       "      <td>0</td>\n",
       "      <td>0</td>\n",
       "      <td>0</td>\n",
       "      <td>0</td>\n",
       "      <td>0</td>\n",
       "    </tr>\n",
       "    <tr>\n",
       "      <th>ACCESORIES_1_001_BOS_1</th>\n",
       "      <td>12.7414</td>\n",
       "      <td>2011</td>\n",
       "      <td>17</td>\n",
       "      <td>0</td>\n",
       "      <td>0.0</td>\n",
       "      <td>0</td>\n",
       "      <td>0</td>\n",
       "      <td>0</td>\n",
       "      <td>0</td>\n",
       "      <td>0</td>\n",
       "      <td>0</td>\n",
       "      <td>0</td>\n",
       "    </tr>\n",
       "    <tr>\n",
       "      <th>ACCESORIES_1_001_BOS_1</th>\n",
       "      <td>12.7414</td>\n",
       "      <td>2011</td>\n",
       "      <td>18</td>\n",
       "      <td>0</td>\n",
       "      <td>0.0</td>\n",
       "      <td>0</td>\n",
       "      <td>0</td>\n",
       "      <td>0</td>\n",
       "      <td>0</td>\n",
       "      <td>0</td>\n",
       "      <td>0</td>\n",
       "      <td>0</td>\n",
       "    </tr>\n",
       "    <tr>\n",
       "      <th>ACCESORIES_1_001_BOS_1</th>\n",
       "      <td>12.7414</td>\n",
       "      <td>2011</td>\n",
       "      <td>19</td>\n",
       "      <td>0</td>\n",
       "      <td>0.0</td>\n",
       "      <td>0</td>\n",
       "      <td>0</td>\n",
       "      <td>0</td>\n",
       "      <td>0</td>\n",
       "      <td>0</td>\n",
       "      <td>0</td>\n",
       "      <td>0</td>\n",
       "    </tr>\n",
       "    <tr>\n",
       "      <th>ACCESORIES_1_001_BOS_1</th>\n",
       "      <td>12.7414</td>\n",
       "      <td>2011</td>\n",
       "      <td>20</td>\n",
       "      <td>0</td>\n",
       "      <td>0.0</td>\n",
       "      <td>0</td>\n",
       "      <td>0</td>\n",
       "      <td>0</td>\n",
       "      <td>0</td>\n",
       "      <td>0</td>\n",
       "      <td>0</td>\n",
       "      <td>0</td>\n",
       "    </tr>\n",
       "    <tr>\n",
       "      <th>ACCESORIES_1_001_BOS_1</th>\n",
       "      <td>12.7414</td>\n",
       "      <td>2011</td>\n",
       "      <td>21</td>\n",
       "      <td>0</td>\n",
       "      <td>0.0</td>\n",
       "      <td>0</td>\n",
       "      <td>0</td>\n",
       "      <td>0</td>\n",
       "      <td>0</td>\n",
       "      <td>0</td>\n",
       "      <td>0</td>\n",
       "      <td>0</td>\n",
       "    </tr>\n",
       "    <tr>\n",
       "      <th>ACCESORIES_1_001_BOS_1</th>\n",
       "      <td>12.7414</td>\n",
       "      <td>2011</td>\n",
       "      <td>22</td>\n",
       "      <td>0</td>\n",
       "      <td>0.0</td>\n",
       "      <td>0</td>\n",
       "      <td>0</td>\n",
       "      <td>0</td>\n",
       "      <td>0</td>\n",
       "      <td>0</td>\n",
       "      <td>0</td>\n",
       "      <td>0</td>\n",
       "    </tr>\n",
       "    <tr>\n",
       "      <th>ACCESORIES_1_001_BOS_1</th>\n",
       "      <td>12.7414</td>\n",
       "      <td>2011</td>\n",
       "      <td>23</td>\n",
       "      <td>0</td>\n",
       "      <td>0.0</td>\n",
       "      <td>0</td>\n",
       "      <td>0</td>\n",
       "      <td>0</td>\n",
       "      <td>0</td>\n",
       "      <td>0</td>\n",
       "      <td>0</td>\n",
       "      <td>0</td>\n",
       "    </tr>\n",
       "  </tbody>\n",
       "</table>\n",
       "</div>"
      ],
      "text/plain": [
       "                        sell_price  year  week  item_qty_sold_sum  \\\n",
       "id                                                                  \n",
       "ACCESORIES_1_001_BOS_1     12.7414  2011     4                  0   \n",
       "ACCESORIES_1_001_BOS_1     12.7414  2011     5                  0   \n",
       "ACCESORIES_1_001_BOS_1     12.7414  2011     6                  0   \n",
       "ACCESORIES_1_001_BOS_1     12.7414  2011     7                  0   \n",
       "ACCESORIES_1_001_BOS_1     12.7414  2011     8                  0   \n",
       "ACCESORIES_1_001_BOS_1     12.7414  2011     9                  0   \n",
       "ACCESORIES_1_001_BOS_1     12.7414  2011    10                  0   \n",
       "ACCESORIES_1_001_BOS_1     12.7414  2011    11                  0   \n",
       "ACCESORIES_1_001_BOS_1     12.7414  2011    12                  0   \n",
       "ACCESORIES_1_001_BOS_1     12.7414  2011    13                  0   \n",
       "ACCESORIES_1_001_BOS_1     12.7414  2011    14                  0   \n",
       "ACCESORIES_1_001_BOS_1     12.7414  2011    15                  0   \n",
       "ACCESORIES_1_001_BOS_1     12.7414  2011    16                  0   \n",
       "ACCESORIES_1_001_BOS_1     12.7414  2011    17                  0   \n",
       "ACCESORIES_1_001_BOS_1     12.7414  2011    18                  0   \n",
       "ACCESORIES_1_001_BOS_1     12.7414  2011    19                  0   \n",
       "ACCESORIES_1_001_BOS_1     12.7414  2011    20                  0   \n",
       "ACCESORIES_1_001_BOS_1     12.7414  2011    21                  0   \n",
       "ACCESORIES_1_001_BOS_1     12.7414  2011    22                  0   \n",
       "ACCESORIES_1_001_BOS_1     12.7414  2011    23                  0   \n",
       "\n",
       "                        item_qty_sold_sum_lag1  item_encoded  \\\n",
       "id                                                             \n",
       "ACCESORIES_1_001_BOS_1                     NaN             0   \n",
       "ACCESORIES_1_001_BOS_1                     0.0             0   \n",
       "ACCESORIES_1_001_BOS_1                     0.0             0   \n",
       "ACCESORIES_1_001_BOS_1                     0.0             0   \n",
       "ACCESORIES_1_001_BOS_1                     0.0             0   \n",
       "ACCESORIES_1_001_BOS_1                     0.0             0   \n",
       "ACCESORIES_1_001_BOS_1                     0.0             0   \n",
       "ACCESORIES_1_001_BOS_1                     0.0             0   \n",
       "ACCESORIES_1_001_BOS_1                     0.0             0   \n",
       "ACCESORIES_1_001_BOS_1                     0.0             0   \n",
       "ACCESORIES_1_001_BOS_1                     0.0             0   \n",
       "ACCESORIES_1_001_BOS_1                     0.0             0   \n",
       "ACCESORIES_1_001_BOS_1                     0.0             0   \n",
       "ACCESORIES_1_001_BOS_1                     0.0             0   \n",
       "ACCESORIES_1_001_BOS_1                     0.0             0   \n",
       "ACCESORIES_1_001_BOS_1                     0.0             0   \n",
       "ACCESORIES_1_001_BOS_1                     0.0             0   \n",
       "ACCESORIES_1_001_BOS_1                     0.0             0   \n",
       "ACCESORIES_1_001_BOS_1                     0.0             0   \n",
       "ACCESORIES_1_001_BOS_1                     0.0             0   \n",
       "\n",
       "                        category_encoded  department_encoded  store_encoded  \\\n",
       "id                                                                            \n",
       "ACCESORIES_1_001_BOS_1                 0                   0              0   \n",
       "ACCESORIES_1_001_BOS_1                 0                   0              0   \n",
       "ACCESORIES_1_001_BOS_1                 0                   0              0   \n",
       "ACCESORIES_1_001_BOS_1                 0                   0              0   \n",
       "ACCESORIES_1_001_BOS_1                 0                   0              0   \n",
       "ACCESORIES_1_001_BOS_1                 0                   0              0   \n",
       "ACCESORIES_1_001_BOS_1                 0                   0              0   \n",
       "ACCESORIES_1_001_BOS_1                 0                   0              0   \n",
       "ACCESORIES_1_001_BOS_1                 0                   0              0   \n",
       "ACCESORIES_1_001_BOS_1                 0                   0              0   \n",
       "ACCESORIES_1_001_BOS_1                 0                   0              0   \n",
       "ACCESORIES_1_001_BOS_1                 0                   0              0   \n",
       "ACCESORIES_1_001_BOS_1                 0                   0              0   \n",
       "ACCESORIES_1_001_BOS_1                 0                   0              0   \n",
       "ACCESORIES_1_001_BOS_1                 0                   0              0   \n",
       "ACCESORIES_1_001_BOS_1                 0                   0              0   \n",
       "ACCESORIES_1_001_BOS_1                 0                   0              0   \n",
       "ACCESORIES_1_001_BOS_1                 0                   0              0   \n",
       "ACCESORIES_1_001_BOS_1                 0                   0              0   \n",
       "ACCESORIES_1_001_BOS_1                 0                   0              0   \n",
       "\n",
       "                        store_code_encoded  region_encoded  event_encoded  \n",
       "id                                                                         \n",
       "ACCESORIES_1_001_BOS_1                   0               0              0  \n",
       "ACCESORIES_1_001_BOS_1                   0               0              0  \n",
       "ACCESORIES_1_001_BOS_1                   0               0              1  \n",
       "ACCESORIES_1_001_BOS_1                   0               0              0  \n",
       "ACCESORIES_1_001_BOS_1                   0               0              0  \n",
       "ACCESORIES_1_001_BOS_1                   0               0              0  \n",
       "ACCESORIES_1_001_BOS_1                   0               0              0  \n",
       "ACCESORIES_1_001_BOS_1                   0               0              0  \n",
       "ACCESORIES_1_001_BOS_1                   0               0              0  \n",
       "ACCESORIES_1_001_BOS_1                   0               0              0  \n",
       "ACCESORIES_1_001_BOS_1                   0               0              0  \n",
       "ACCESORIES_1_001_BOS_1                   0               0              0  \n",
       "ACCESORIES_1_001_BOS_1                   0               0              0  \n",
       "ACCESORIES_1_001_BOS_1                   0               0              0  \n",
       "ACCESORIES_1_001_BOS_1                   0               0              0  \n",
       "ACCESORIES_1_001_BOS_1                   0               0              0  \n",
       "ACCESORIES_1_001_BOS_1                   0               0              0  \n",
       "ACCESORIES_1_001_BOS_1                   0               0              0  \n",
       "ACCESORIES_1_001_BOS_1                   0               0              0  \n",
       "ACCESORIES_1_001_BOS_1                   0               0              0  "
      ]
     },
     "execution_count": 86,
     "metadata": {},
     "output_type": "execute_result"
    }
   ],
   "source": [
    "X_train.head(20) #Comprobamos que esté en orden las fechas"
   ]
  },
  {
   "cell_type": "code",
   "execution_count": 87,
   "metadata": {},
   "outputs": [
    {
     "name": "stdout",
     "output_type": "stream",
     "text": [
      "<class 'pandas.core.frame.DataFrame'>\n",
      "Index: 8110340 entries, ACCESORIES_1_001_BOS_1 to SUPERMARKET_3_827_PHI_3\n",
      "Data columns (total 12 columns):\n",
      " #   Column                  Dtype  \n",
      "---  ------                  -----  \n",
      " 0   sell_price              float64\n",
      " 1   year                    int64  \n",
      " 2   week                    int64  \n",
      " 3   item_qty_sold_sum       int64  \n",
      " 4   item_qty_sold_sum_lag1  float64\n",
      " 5   item_encoded            int64  \n",
      " 6   category_encoded        int64  \n",
      " 7   department_encoded      int64  \n",
      " 8   store_encoded           int64  \n",
      " 9   store_code_encoded      int64  \n",
      " 10  region_encoded          int64  \n",
      " 11  event_encoded           int64  \n",
      "dtypes: float64(2), int64(10)\n",
      "memory usage: 804.4+ MB\n"
     ]
    }
   ],
   "source": [
    "X_train.info()"
   ]
  },
  {
   "cell_type": "code",
   "execution_count": 88,
   "metadata": {},
   "outputs": [
    {
     "name": "stdout",
     "output_type": "stream",
     "text": [
      "<class 'pandas.core.series.Series'>\n",
      "Index: 8110340 entries, ACCESORIES_1_001_BOS_1 to SUPERMARKET_3_827_PHI_3\n",
      "Series name: qty_sold\n",
      "Non-Null Count    Dtype\n",
      "--------------    -----\n",
      "8110340 non-null  int64\n",
      "dtypes: int64(1)\n",
      "memory usage: 123.8+ MB\n"
     ]
    }
   ],
   "source": [
    "Y_train.info()"
   ]
  },
  {
   "cell_type": "code",
   "execution_count": 89,
   "metadata": {},
   "outputs": [
    {
     "name": "stdout",
     "output_type": "stream",
     "text": [
      "<class 'pandas.core.frame.DataFrame'>\n",
      "Index: 30490 entries, ACCESORIES_1_001_BOS_1 to SUPERMARKET_3_827_PHI_3\n",
      "Data columns (total 12 columns):\n",
      " #   Column                  Non-Null Count  Dtype  \n",
      "---  ------                  --------------  -----  \n",
      " 0   sell_price              30490 non-null  float64\n",
      " 1   year                    30490 non-null  int64  \n",
      " 2   week                    30490 non-null  int64  \n",
      " 3   item_qty_sold_sum       30490 non-null  int64  \n",
      " 4   item_qty_sold_sum_lag1  30490 non-null  float64\n",
      " 5   item_encoded            30490 non-null  int64  \n",
      " 6   category_encoded        30490 non-null  int64  \n",
      " 7   department_encoded      30490 non-null  int64  \n",
      " 8   store_encoded           30490 non-null  int64  \n",
      " 9   store_code_encoded      30490 non-null  int64  \n",
      " 10  region_encoded          30490 non-null  int64  \n",
      " 11  event_encoded           30490 non-null  int64  \n",
      "dtypes: float64(2), int64(10)\n",
      "memory usage: 3.0+ MB\n"
     ]
    }
   ],
   "source": [
    "X_valida.info()"
   ]
  },
  {
   "cell_type": "markdown",
   "metadata": {},
   "source": [
    "# Model Train"
   ]
  },
  {
   "cell_type": "markdown",
   "metadata": {},
   "source": [
    "### Torneo de Modelos"
   ]
  },
  {
   "cell_type": "code",
   "execution_count": 90,
   "metadata": {},
   "outputs": [],
   "source": [
    "def RMSE(model,X,y):\n",
    "  model.fit(X,y)\n",
    "  return round(np.sqrt(np.mean((y-model.predict(X))**2)),2)\n",
    "\n",
    "def RMSE_cross_validation(model,X,y):\n",
    "  Kfold_rmse = cross_val_score(model, X, y, cv=4, scoring='neg_root_mean_squared_error')\n",
    "  return round(-Kfold_rmse.mean(),4)"
   ]
  },
  {
   "cell_type": "code",
   "execution_count": 91,
   "metadata": {},
   "outputs": [],
   "source": [
    "# Inicializa resultados\n",
    "label_ = []\n",
    "rmse_train_ = []\n",
    "rmse_valida_ = []\n",
    "\n",
    "# Funcion que devuelve un dataframe con resultados de RMSE Cross Validation\n",
    "def evaluate_regression(model, X, y, label=None):\n",
    "  if label is None:\n",
    "    label = str(model)\n",
    "\n",
    "  rmse_train = RMSE(model,X,y)\n",
    "  rmse_valida = RMSE_cross_validation(model,X,y)\n",
    "\n",
    "  label_.append(label)\n",
    "  rmse_train_.append(rmse_train)\n",
    "  rmse_valida_.append(rmse_valida)\n",
    "\n",
    "  return pd.DataFrame({'Model': label_,\n",
    "                      'RMSE Train': rmse_train_,\n",
    "                      'RMSE Cross-Validation': rmse_valida_\n",
    "                      }).sort_values('RMSE Cross-Validation')"
   ]
  },
  {
   "cell_type": "code",
   "execution_count": 92,
   "metadata": {},
   "outputs": [
    {
     "data": {
      "text/plain": [
       "'evaluate_regression(model = LinearRegression(), #No funciona si el df tiene NA\\n                    X=X_train, y=Y_train)'"
      ]
     },
     "execution_count": 92,
     "metadata": {},
     "output_type": "execute_result"
    }
   ],
   "source": [
    "\"\"\"evaluate_regression(model = LinearRegression(), #No funciona si el df tiene NA\n",
    "                    X=X_train, y=Y_train)\"\"\""
   ]
  },
  {
   "cell_type": "code",
   "execution_count": 93,
   "metadata": {},
   "outputs": [
    {
     "data": {
      "text/plain": [
       "'evaluate_regression(model = Lasso(alpha=1),#No funciona si el df tiene NA\\n                    X=X_train, y=Y_train)'"
      ]
     },
     "execution_count": 93,
     "metadata": {},
     "output_type": "execute_result"
    }
   ],
   "source": [
    "\"\"\"evaluate_regression(model = Lasso(alpha=1),#No funciona si el df tiene NA\n",
    "                    X=X_train, y=Y_train)\"\"\""
   ]
  },
  {
   "cell_type": "code",
   "execution_count": 94,
   "metadata": {},
   "outputs": [
    {
     "data": {
      "text/plain": [
       "'evaluate_regression(model = Ridge(alpha=10), #No funciona si el df tiene NA\\n                    X=X_train, y=Y_train)'"
      ]
     },
     "execution_count": 94,
     "metadata": {},
     "output_type": "execute_result"
    }
   ],
   "source": [
    "\"\"\"evaluate_regression(model = Ridge(alpha=10), #No funciona si el df tiene NA\n",
    "                    X=X_train, y=Y_train)\"\"\""
   ]
  },
  {
   "cell_type": "code",
   "execution_count": 95,
   "metadata": {},
   "outputs": [
    {
     "data": {
      "text/plain": [
       "'evaluate_regression(model = ElasticNet(l1_ratio=0.5), #No funciona si el df tiene NA\\n                    X=X_train, y=Y_train)'"
      ]
     },
     "execution_count": 95,
     "metadata": {},
     "output_type": "execute_result"
    }
   ],
   "source": [
    "\"\"\"evaluate_regression(model = ElasticNet(l1_ratio=0.5), #No funciona si el df tiene NA\n",
    "                    X=X_train, y=Y_train)\"\"\""
   ]
  },
  {
   "cell_type": "code",
   "execution_count": 96,
   "metadata": {},
   "outputs": [
    {
     "data": {
      "text/plain": [
       "\"evaluate_regression(model = XGBRegressor(objective ='reg:squarederror'), #No funciona si el df tiene NA\\n                    X=X_train, y=Y_train)\""
      ]
     },
     "execution_count": 96,
     "metadata": {},
     "output_type": "execute_result"
    }
   ],
   "source": [
    "\"\"\"evaluate_regression(model = XGBRegressor(objective ='reg:squarederror'), #No funciona si el df tiene NA\n",
    "                    X=X_train, y=Y_train)\"\"\""
   ]
  },
  {
   "cell_type": "markdown",
   "metadata": {},
   "source": [
    "Implementamos Modelo ARIMA para ver si nos da mejor!! No se puede implementar por los tiempos de ejecución 5 TS toma alrededor de 50 minutos"
   ]
  },
  {
   "cell_type": "code",
   "execution_count": 97,
   "metadata": {},
   "outputs": [
    {
     "data": {
      "text/plain": [
       "'df.reset_index(inplace=True)\\ndf.set_index(\"yearweek\", inplace=True)\\ndf.sort_index(inplace=True)'"
      ]
     },
     "execution_count": 97,
     "metadata": {},
     "output_type": "execute_result"
    }
   ],
   "source": [
    "#Convertimos Yearweek a Index, ya que lo necesitamos para usar ARIMA y nos aseguramos que siga el orden \n",
    "\"\"\"df.reset_index(inplace=True)\n",
    "df.set_index(\"yearweek\", inplace=True)\n",
    "df.sort_index(inplace=True)\"\"\"\n"
   ]
  },
  {
   "cell_type": "code",
   "execution_count": 98,
   "metadata": {},
   "outputs": [
    {
     "data": {
      "text/plain": [
       "'sample_df = df.sample(n=5, axis=1)'"
      ]
     },
     "execution_count": 98,
     "metadata": {},
     "output_type": "execute_result"
    }
   ],
   "source": [
    "# Supongamos que df es tu DataFrame con muchas series temporales\n",
    "# Seleccionar 5 series temporales al azar\n",
    "\"\"\"sample_df = df.sample(n=5, axis=1)\"\"\"\n"
   ]
  },
  {
   "cell_type": "code",
   "execution_count": 99,
   "metadata": {},
   "outputs": [
    {
     "data": {
      "text/plain": [
       "'sample_df.head()'"
      ]
     },
     "execution_count": 99,
     "metadata": {},
     "output_type": "execute_result"
    }
   ],
   "source": [
    "\"\"\"sample_df.head()\"\"\" #Miramos los \"id\" y seleccionamos uno para ver el resultado de ARIMA"
   ]
  },
  {
   "cell_type": "code",
   "execution_count": 100,
   "metadata": {},
   "outputs": [
    {
     "data": {
      "text/plain": [
       "'results = {}\\nfor col in sample_df.columns:\\n    try:\\n        model = ARIMA(sample_df[col], order=(1,1,1))\\n        result = model.fit()\\n        results[col] = result\\n    except:\\n        results[col] = \"Error al ajustar el modelo\"  # Manejar errores si la serie temporal no es adecuada para ARIMA\\n\\n# Ahora puedes acceder a los resultados de cada serie temporal en el diccionario \\'results\\'\\n# Por ejemplo, para obtener el resumen del modelo ajustado para la primera serie temporal:\\nprint(results[\\'ACCESORIES_1_137_PHI_2\\'].summary())'"
      ]
     },
     "execution_count": 100,
     "metadata": {},
     "output_type": "execute_result"
    }
   ],
   "source": [
    "\"\"\"results = {}\n",
    "for col in sample_df.columns:\n",
    "    try:\n",
    "        model = ARIMA(sample_df[col], order=(1,1,1))\n",
    "        result = model.fit()\n",
    "        results[col] = result\n",
    "    except:\n",
    "        results[col] = \"Error al ajustar el modelo\"  # Manejar errores si la serie temporal no es adecuada para ARIMA\n",
    "\n",
    "# Ahora puedes acceder a los resultados de cada serie temporal en el diccionario 'results'\n",
    "# Por ejemplo, para obtener el resumen del modelo ajustado para la primera serie temporal:\n",
    "print(results['ACCESORIES_1_137_PHI_2'].summary())\"\"\""
   ]
  },
  {
   "cell_type": "code",
   "execution_count": 101,
   "metadata": {},
   "outputs": [
    {
     "name": "stdout",
     "output_type": "stream",
     "text": [
      "[0]\tvalidation_0-rmse:19.12770\tvalidation_1-rmse:17.59320\n",
      "[1]\tvalidation_0-rmse:16.37822\tvalidation_1-rmse:14.97444\n",
      "[2]\tvalidation_0-rmse:14.70431\tvalidation_1-rmse:13.56782\n",
      "[3]\tvalidation_0-rmse:13.70941\tvalidation_1-rmse:12.78159\n",
      "[4]\tvalidation_0-rmse:13.14806\tvalidation_1-rmse:12.39285\n",
      "[5]\tvalidation_0-rmse:12.79660\tvalidation_1-rmse:12.13137\n",
      "[6]\tvalidation_0-rmse:12.56085\tvalidation_1-rmse:11.99638\n",
      "[7]\tvalidation_0-rmse:12.42224\tvalidation_1-rmse:11.91820\n",
      "[8]\tvalidation_0-rmse:12.32368\tvalidation_1-rmse:11.86542\n",
      "[9]\tvalidation_0-rmse:12.28145\tvalidation_1-rmse:11.85215\n",
      "[10]\tvalidation_0-rmse:12.17064\tvalidation_1-rmse:11.79159\n",
      "[11]\tvalidation_0-rmse:12.05515\tvalidation_1-rmse:11.70574\n",
      "[12]\tvalidation_0-rmse:12.03313\tvalidation_1-rmse:11.60781\n",
      "[13]\tvalidation_0-rmse:11.93252\tvalidation_1-rmse:11.61415\n",
      "[14]\tvalidation_0-rmse:11.91098\tvalidation_1-rmse:11.61371\n",
      "[15]\tvalidation_0-rmse:11.86366\tvalidation_1-rmse:11.60166\n",
      "[16]\tvalidation_0-rmse:11.85208\tvalidation_1-rmse:11.59583\n",
      "[17]\tvalidation_0-rmse:11.84231\tvalidation_1-rmse:11.58094\n",
      "[18]\tvalidation_0-rmse:11.80102\tvalidation_1-rmse:11.56276\n",
      "[19]\tvalidation_0-rmse:11.77777\tvalidation_1-rmse:11.54747\n",
      "[20]\tvalidation_0-rmse:11.71866\tvalidation_1-rmse:11.46817\n",
      "[21]\tvalidation_0-rmse:11.66557\tvalidation_1-rmse:11.42175\n",
      "[22]\tvalidation_0-rmse:11.60906\tvalidation_1-rmse:11.37645\n",
      "[23]\tvalidation_0-rmse:11.55274\tvalidation_1-rmse:11.36252\n",
      "[24]\tvalidation_0-rmse:11.53820\tvalidation_1-rmse:11.34745\n",
      "[25]\tvalidation_0-rmse:11.49623\tvalidation_1-rmse:11.27946\n",
      "[26]\tvalidation_0-rmse:11.42926\tvalidation_1-rmse:11.23043\n",
      "[27]\tvalidation_0-rmse:11.41634\tvalidation_1-rmse:11.23961\n",
      "[28]\tvalidation_0-rmse:11.41379\tvalidation_1-rmse:11.24155\n",
      "[29]\tvalidation_0-rmse:11.40352\tvalidation_1-rmse:11.24513\n",
      "[30]\tvalidation_0-rmse:11.37406\tvalidation_1-rmse:11.23088\n",
      "[31]\tvalidation_0-rmse:11.36156\tvalidation_1-rmse:11.21044\n",
      "[32]\tvalidation_0-rmse:11.34051\tvalidation_1-rmse:11.21127\n",
      "[33]\tvalidation_0-rmse:11.33143\tvalidation_1-rmse:11.20459\n",
      "[34]\tvalidation_0-rmse:11.28486\tvalidation_1-rmse:11.12380\n",
      "[35]\tvalidation_0-rmse:11.21326\tvalidation_1-rmse:11.11278\n",
      "[36]\tvalidation_0-rmse:11.14367\tvalidation_1-rmse:11.06720\n",
      "[37]\tvalidation_0-rmse:11.10496\tvalidation_1-rmse:11.02318\n",
      "[38]\tvalidation_0-rmse:11.07236\tvalidation_1-rmse:11.00238\n",
      "[39]\tvalidation_0-rmse:11.05345\tvalidation_1-rmse:10.97381\n",
      "[40]\tvalidation_0-rmse:11.00740\tvalidation_1-rmse:10.92972\n",
      "[41]\tvalidation_0-rmse:10.96944\tvalidation_1-rmse:10.87907\n",
      "[42]\tvalidation_0-rmse:10.90791\tvalidation_1-rmse:10.83480\n",
      "[43]\tvalidation_0-rmse:10.87589\tvalidation_1-rmse:10.82705\n",
      "[44]\tvalidation_0-rmse:10.84076\tvalidation_1-rmse:10.83233\n",
      "[45]\tvalidation_0-rmse:10.81826\tvalidation_1-rmse:10.82345\n",
      "[46]\tvalidation_0-rmse:10.79499\tvalidation_1-rmse:10.81744\n",
      "[47]\tvalidation_0-rmse:10.77215\tvalidation_1-rmse:10.78412\n",
      "[48]\tvalidation_0-rmse:10.74022\tvalidation_1-rmse:10.78591\n",
      "[49]\tvalidation_0-rmse:10.71558\tvalidation_1-rmse:10.75080\n",
      "[50]\tvalidation_0-rmse:10.69899\tvalidation_1-rmse:10.73800\n",
      "[51]\tvalidation_0-rmse:10.68664\tvalidation_1-rmse:10.72314\n",
      "[52]\tvalidation_0-rmse:10.66963\tvalidation_1-rmse:10.72221\n",
      "[53]\tvalidation_0-rmse:10.66440\tvalidation_1-rmse:10.71291\n",
      "[54]\tvalidation_0-rmse:10.66236\tvalidation_1-rmse:10.70346\n",
      "[55]\tvalidation_0-rmse:10.62488\tvalidation_1-rmse:10.67378\n",
      "[56]\tvalidation_0-rmse:10.58057\tvalidation_1-rmse:10.66231\n",
      "[57]\tvalidation_0-rmse:10.55785\tvalidation_1-rmse:10.65112\n",
      "[58]\tvalidation_0-rmse:10.54729\tvalidation_1-rmse:10.64539\n",
      "[59]\tvalidation_0-rmse:10.53946\tvalidation_1-rmse:10.64263\n",
      "[60]\tvalidation_0-rmse:10.52430\tvalidation_1-rmse:10.63365\n",
      "[61]\tvalidation_0-rmse:10.51997\tvalidation_1-rmse:10.63207\n",
      "[62]\tvalidation_0-rmse:10.51813\tvalidation_1-rmse:10.63204\n",
      "[63]\tvalidation_0-rmse:10.50750\tvalidation_1-rmse:10.63215\n",
      "[64]\tvalidation_0-rmse:10.46856\tvalidation_1-rmse:10.60537\n",
      "[65]\tvalidation_0-rmse:10.43756\tvalidation_1-rmse:10.57422\n",
      "[66]\tvalidation_0-rmse:10.42506\tvalidation_1-rmse:10.58424\n",
      "[67]\tvalidation_0-rmse:10.40159\tvalidation_1-rmse:10.57696\n",
      "[68]\tvalidation_0-rmse:10.39798\tvalidation_1-rmse:10.58029\n",
      "[69]\tvalidation_0-rmse:10.39649\tvalidation_1-rmse:10.58034\n",
      "[70]\tvalidation_0-rmse:10.39517\tvalidation_1-rmse:10.57961\n",
      "[71]\tvalidation_0-rmse:10.39156\tvalidation_1-rmse:10.56923\n",
      "[72]\tvalidation_0-rmse:10.39098\tvalidation_1-rmse:10.57030\n",
      "[73]\tvalidation_0-rmse:10.38868\tvalidation_1-rmse:10.56857\n",
      "[74]\tvalidation_0-rmse:10.38637\tvalidation_1-rmse:10.56758\n",
      "[75]\tvalidation_0-rmse:10.38467\tvalidation_1-rmse:10.56020\n",
      "[76]\tvalidation_0-rmse:10.37833\tvalidation_1-rmse:10.54776\n",
      "[77]\tvalidation_0-rmse:10.34168\tvalidation_1-rmse:10.50476\n",
      "[78]\tvalidation_0-rmse:10.32931\tvalidation_1-rmse:10.48328\n",
      "[79]\tvalidation_0-rmse:10.31880\tvalidation_1-rmse:10.47246\n",
      "[80]\tvalidation_0-rmse:10.30107\tvalidation_1-rmse:10.43691\n",
      "[81]\tvalidation_0-rmse:10.28844\tvalidation_1-rmse:10.42522\n",
      "[82]\tvalidation_0-rmse:10.26679\tvalidation_1-rmse:10.41711\n",
      "[83]\tvalidation_0-rmse:10.25132\tvalidation_1-rmse:10.40388\n",
      "[84]\tvalidation_0-rmse:10.23763\tvalidation_1-rmse:10.39683\n",
      "[85]\tvalidation_0-rmse:10.20725\tvalidation_1-rmse:10.35177\n",
      "[86]\tvalidation_0-rmse:10.18708\tvalidation_1-rmse:10.34143\n",
      "[87]\tvalidation_0-rmse:10.18557\tvalidation_1-rmse:10.34119\n",
      "[88]\tvalidation_0-rmse:10.18319\tvalidation_1-rmse:10.33513\n",
      "[89]\tvalidation_0-rmse:10.18236\tvalidation_1-rmse:10.33484\n",
      "[90]\tvalidation_0-rmse:10.18124\tvalidation_1-rmse:10.32547\n",
      "[91]\tvalidation_0-rmse:10.17834\tvalidation_1-rmse:10.32268\n",
      "[92]\tvalidation_0-rmse:10.17801\tvalidation_1-rmse:10.32217\n",
      "[93]\tvalidation_0-rmse:10.17615\tvalidation_1-rmse:10.31972\n",
      "[94]\tvalidation_0-rmse:10.16318\tvalidation_1-rmse:10.30291\n",
      "[95]\tvalidation_0-rmse:10.15590\tvalidation_1-rmse:10.30209\n",
      "[96]\tvalidation_0-rmse:10.13779\tvalidation_1-rmse:10.28467\n",
      "[97]\tvalidation_0-rmse:10.12910\tvalidation_1-rmse:10.27401\n",
      "[98]\tvalidation_0-rmse:10.12352\tvalidation_1-rmse:10.27323\n",
      "[99]\tvalidation_0-rmse:10.11232\tvalidation_1-rmse:10.27995\n"
     ]
    },
    {
     "data": {
      "text/html": [
       "<style>#sk-container-id-1 {color: black;}#sk-container-id-1 pre{padding: 0;}#sk-container-id-1 div.sk-toggleable {background-color: white;}#sk-container-id-1 label.sk-toggleable__label {cursor: pointer;display: block;width: 100%;margin-bottom: 0;padding: 0.3em;box-sizing: border-box;text-align: center;}#sk-container-id-1 label.sk-toggleable__label-arrow:before {content: \"▸\";float: left;margin-right: 0.25em;color: #696969;}#sk-container-id-1 label.sk-toggleable__label-arrow:hover:before {color: black;}#sk-container-id-1 div.sk-estimator:hover label.sk-toggleable__label-arrow:before {color: black;}#sk-container-id-1 div.sk-toggleable__content {max-height: 0;max-width: 0;overflow: hidden;text-align: left;background-color: #f0f8ff;}#sk-container-id-1 div.sk-toggleable__content pre {margin: 0.2em;color: black;border-radius: 0.25em;background-color: #f0f8ff;}#sk-container-id-1 input.sk-toggleable__control:checked~div.sk-toggleable__content {max-height: 200px;max-width: 100%;overflow: auto;}#sk-container-id-1 input.sk-toggleable__control:checked~label.sk-toggleable__label-arrow:before {content: \"▾\";}#sk-container-id-1 div.sk-estimator input.sk-toggleable__control:checked~label.sk-toggleable__label {background-color: #d4ebff;}#sk-container-id-1 div.sk-label input.sk-toggleable__control:checked~label.sk-toggleable__label {background-color: #d4ebff;}#sk-container-id-1 input.sk-hidden--visually {border: 0;clip: rect(1px 1px 1px 1px);clip: rect(1px, 1px, 1px, 1px);height: 1px;margin: -1px;overflow: hidden;padding: 0;position: absolute;width: 1px;}#sk-container-id-1 div.sk-estimator {font-family: monospace;background-color: #f0f8ff;border: 1px dotted black;border-radius: 0.25em;box-sizing: border-box;margin-bottom: 0.5em;}#sk-container-id-1 div.sk-estimator:hover {background-color: #d4ebff;}#sk-container-id-1 div.sk-parallel-item::after {content: \"\";width: 100%;border-bottom: 1px solid gray;flex-grow: 1;}#sk-container-id-1 div.sk-label:hover label.sk-toggleable__label {background-color: #d4ebff;}#sk-container-id-1 div.sk-serial::before {content: \"\";position: absolute;border-left: 1px solid gray;box-sizing: border-box;top: 0;bottom: 0;left: 50%;z-index: 0;}#sk-container-id-1 div.sk-serial {display: flex;flex-direction: column;align-items: center;background-color: white;padding-right: 0.2em;padding-left: 0.2em;position: relative;}#sk-container-id-1 div.sk-item {position: relative;z-index: 1;}#sk-container-id-1 div.sk-parallel {display: flex;align-items: stretch;justify-content: center;background-color: white;position: relative;}#sk-container-id-1 div.sk-item::before, #sk-container-id-1 div.sk-parallel-item::before {content: \"\";position: absolute;border-left: 1px solid gray;box-sizing: border-box;top: 0;bottom: 0;left: 50%;z-index: -1;}#sk-container-id-1 div.sk-parallel-item {display: flex;flex-direction: column;z-index: 1;position: relative;background-color: white;}#sk-container-id-1 div.sk-parallel-item:first-child::after {align-self: flex-end;width: 50%;}#sk-container-id-1 div.sk-parallel-item:last-child::after {align-self: flex-start;width: 50%;}#sk-container-id-1 div.sk-parallel-item:only-child::after {width: 0;}#sk-container-id-1 div.sk-dashed-wrapped {border: 1px dashed gray;margin: 0 0.4em 0.5em 0.4em;box-sizing: border-box;padding-bottom: 0.4em;background-color: white;}#sk-container-id-1 div.sk-label label {font-family: monospace;font-weight: bold;display: inline-block;line-height: 1.2em;}#sk-container-id-1 div.sk-label-container {text-align: center;}#sk-container-id-1 div.sk-container {/* jupyter's `normalize.less` sets `[hidden] { display: none; }` but bootstrap.min.css set `[hidden] { display: none !important; }` so we also need the `!important` here to be able to override the default hidden behavior on the sphinx rendered scikit-learn.org. See: https://github.com/scikit-learn/scikit-learn/issues/21755 */display: inline-block !important;position: relative;}#sk-container-id-1 div.sk-text-repr-fallback {display: none;}</style><div id=\"sk-container-id-1\" class=\"sk-top-container\"><div class=\"sk-text-repr-fallback\"><pre>XGBRegressor(base_score=None, booster=None, callbacks=None,\n",
       "             colsample_bylevel=None, colsample_bynode=None,\n",
       "             colsample_bytree=None, device=None, early_stopping_rounds=None,\n",
       "             enable_categorical=False, eval_metric=&#x27;rmse&#x27;, feature_types=None,\n",
       "             gamma=None, grow_policy=None, importance_type=None,\n",
       "             interaction_constraints=None, learning_rate=None, max_bin=None,\n",
       "             max_cat_threshold=None, max_cat_to_onehot=None,\n",
       "             max_delta_step=None, max_depth=None, max_leaves=None,\n",
       "             min_child_weight=None, missing=nan, monotone_constraints=None,\n",
       "             multi_strategy=None, n_estimators=None, n_jobs=None,\n",
       "             num_parallel_tree=None, random_state=None, ...)</pre><b>In a Jupyter environment, please rerun this cell to show the HTML representation or trust the notebook. <br />On GitHub, the HTML representation is unable to render, please try loading this page with nbviewer.org.</b></div><div class=\"sk-container\" hidden><div class=\"sk-item\"><div class=\"sk-estimator sk-toggleable\"><input class=\"sk-toggleable__control sk-hidden--visually\" id=\"sk-estimator-id-1\" type=\"checkbox\" checked><label for=\"sk-estimator-id-1\" class=\"sk-toggleable__label sk-toggleable__label-arrow\">XGBRegressor</label><div class=\"sk-toggleable__content\"><pre>XGBRegressor(base_score=None, booster=None, callbacks=None,\n",
       "             colsample_bylevel=None, colsample_bynode=None,\n",
       "             colsample_bytree=None, device=None, early_stopping_rounds=None,\n",
       "             enable_categorical=False, eval_metric=&#x27;rmse&#x27;, feature_types=None,\n",
       "             gamma=None, grow_policy=None, importance_type=None,\n",
       "             interaction_constraints=None, learning_rate=None, max_bin=None,\n",
       "             max_cat_threshold=None, max_cat_to_onehot=None,\n",
       "             max_delta_step=None, max_depth=None, max_leaves=None,\n",
       "             min_child_weight=None, missing=nan, monotone_constraints=None,\n",
       "             multi_strategy=None, n_estimators=None, n_jobs=None,\n",
       "             num_parallel_tree=None, random_state=None, ...)</pre></div></div></div></div></div>"
      ],
      "text/plain": [
       "XGBRegressor(base_score=None, booster=None, callbacks=None,\n",
       "             colsample_bylevel=None, colsample_bynode=None,\n",
       "             colsample_bytree=None, device=None, early_stopping_rounds=None,\n",
       "             enable_categorical=False, eval_metric='rmse', feature_types=None,\n",
       "             gamma=None, grow_policy=None, importance_type=None,\n",
       "             interaction_constraints=None, learning_rate=None, max_bin=None,\n",
       "             max_cat_threshold=None, max_cat_to_onehot=None,\n",
       "             max_delta_step=None, max_depth=None, max_leaves=None,\n",
       "             min_child_weight=None, missing=nan, monotone_constraints=None,\n",
       "             multi_strategy=None, n_estimators=None, n_jobs=None,\n",
       "             num_parallel_tree=None, random_state=None, ...)"
      ]
     },
     "execution_count": 101,
     "metadata": {},
     "output_type": "execute_result"
    }
   ],
   "source": [
    "model = xgb.XGBRegressor(eval_metric = \"rmse\", seed = 175)\n",
    "\n",
    "model.fit(X_train, Y_train, eval_set = [(X_train, Y_train), (X_valida, Y_valida)], verbose = True)"
   ]
  },
  {
   "cell_type": "markdown",
   "metadata": {},
   "source": [
    "#  Model Evaluation"
   ]
  },
  {
   "cell_type": "code",
   "execution_count": 102,
   "metadata": {},
   "outputs": [
    {
     "data": {
      "image/png": "[encoded data removed]",
      "text/plain": [
       "<Figure size 1000x1500 with 1 Axes>"
      ]
     },
     "metadata": {},
     "output_type": "display_data"
    }
   ],
   "source": [
    "fig, ax = plt.subplots(figsize = (10, 15))\n",
    "xgb.plot_importance(model, importance_type = \"gain\", ax = ax);"
   ]
  },
  {
   "cell_type": "code",
   "execution_count": 103,
   "metadata": {},
   "outputs": [
    {
     "data": {
      "image/png": "[encoded data removed]",
      "text/plain": [
       "<Figure size 1000x800 with 2 Axes>"
      ]
     },
     "metadata": {},
     "output_type": "display_data"
    }
   ],
   "source": [
    "correlation_matrix = X_train.corr()\n",
    "plt.figure(figsize=(10, 8))\n",
    "sns.heatmap(correlation_matrix, annot=True, cmap=\"coolwarm\")\n",
    "plt.title(\"Mapa de calor de correlación\")\n",
    "plt.show()"
   ]
  },
  {
   "cell_type": "code",
   "execution_count": 104,
   "metadata": {},
   "outputs": [
    {
     "data": {
      "image/png": "[encoded data removed]",
      "text/plain": [
       "<Figure size 1000x600 with 1 Axes>"
      ]
     },
     "metadata": {},
     "output_type": "display_data"
    }
   ],
   "source": [
    "# Obtener métricas\n",
    "results = model.evals_result()\n",
    "# Gráfica de métricas\n",
    "epochs = len(results['validation_0']['rmse'])\n",
    "x_axis = range(0, epochs)\n",
    "# Métricas de entrenamiento\n",
    "plt.plot(x_axis, results['validation_0']['rmse'], label='Train')\n",
    "# Métricas de validação\n",
    "plt.plot(x_axis, results['validation_1']['rmse'], label='Validation')\n",
    "plt.legend()\n",
    "plt.xlabel('Numero de Iteraciones')\n",
    "plt.ylabel('RMSE')\n",
    "plt.title('Desempeño del Modelo - Train vs Validation')\n",
    "plt.show()"
   ]
  },
  {
   "cell_type": "markdown",
   "metadata": {},
   "source": [
    "# Hiperparametrizacion"
   ]
  },
  {
   "cell_type": "code",
   "execution_count": 105,
   "metadata": {},
   "outputs": [],
   "source": [
    "parameters_hp = {\n",
    "    'loss': ['squared_error', 'huber'],  # Reducir a solo dos opciones\n",
    "    'penalty': [None],  # Eliminar l1 y l2\n",
    "    'alpha': [0.0001, 0.1],  # Reducir a dos opciones\n",
    "    'l1_ratio': [0.15],  # Quedarse con un solo valor\n",
    "    'max_iter': [1000, 5000],  # Reducir a dos opciones\n",
    "    'learning_rate': ['invscaling', 'optimal'],  # Reducir a dos opciones\n",
    "    'eta0': [0.01],  # Quedarse con un solo valor\n",
    "    'early_stopping': [True],  # Quedarse con un solo valor\n",
    "    'n_iter_no_change': [5]  # Quedarse con un solo valor\n",
    "}"
   ]
  },
  {
   "cell_type": "code",
   "execution_count": 106,
   "metadata": {},
   "outputs": [],
   "source": [
    "search_hp = RandomizedSearchCV(estimator=SGDRegressor(),\n",
    "                               param_distributions = parameters_hp,\n",
    "                               scoring='neg_root_mean_squared_error',     # metrica a optimizar: RMSE\n",
    "                               cv = 4,                                    # numero de folds para cross-validation\n",
    "                               n_iter = 50,                               # numero de iteraciones, cada una testeara una configuracion distinta\n",
    "                               n_jobs=-1,\n",
    "                               verbose=True)"
   ]
  },
  {
   "cell_type": "code",
   "execution_count": 107,
   "metadata": {},
   "outputs": [
    {
     "data": {
      "text/html": [
       "<div>\n",
       "<style scoped>\n",
       "    .dataframe tbody tr th:only-of-type {\n",
       "        vertical-align: middle;\n",
       "    }\n",
       "\n",
       "    .dataframe tbody tr th {\n",
       "        vertical-align: top;\n",
       "    }\n",
       "\n",
       "    .dataframe thead th {\n",
       "        text-align: right;\n",
       "    }\n",
       "</style>\n",
       "<table border=\"1\" class=\"dataframe\">\n",
       "  <thead>\n",
       "    <tr style=\"text-align: right;\">\n",
       "      <th></th>\n",
       "      <th>sell_price</th>\n",
       "      <th>year</th>\n",
       "      <th>week</th>\n",
       "      <th>item_qty_sold_sum</th>\n",
       "      <th>item_qty_sold_sum_lag1</th>\n",
       "      <th>item_encoded</th>\n",
       "      <th>category_encoded</th>\n",
       "      <th>department_encoded</th>\n",
       "      <th>store_encoded</th>\n",
       "      <th>store_code_encoded</th>\n",
       "      <th>region_encoded</th>\n",
       "      <th>event_encoded</th>\n",
       "    </tr>\n",
       "    <tr>\n",
       "      <th>id</th>\n",
       "      <th></th>\n",
       "      <th></th>\n",
       "      <th></th>\n",
       "      <th></th>\n",
       "      <th></th>\n",
       "      <th></th>\n",
       "      <th></th>\n",
       "      <th></th>\n",
       "      <th></th>\n",
       "      <th></th>\n",
       "      <th></th>\n",
       "      <th></th>\n",
       "    </tr>\n",
       "  </thead>\n",
       "  <tbody>\n",
       "    <tr>\n",
       "      <th>ACCESORIES_1_001_BOS_1</th>\n",
       "      <td>12.7414</td>\n",
       "      <td>2011</td>\n",
       "      <td>4</td>\n",
       "      <td>0</td>\n",
       "      <td>NaN</td>\n",
       "      <td>0</td>\n",
       "      <td>0</td>\n",
       "      <td>0</td>\n",
       "      <td>0</td>\n",
       "      <td>0</td>\n",
       "      <td>0</td>\n",
       "      <td>0</td>\n",
       "    </tr>\n",
       "    <tr>\n",
       "      <th>ACCESORIES_1_001_BOS_1</th>\n",
       "      <td>12.7414</td>\n",
       "      <td>2011</td>\n",
       "      <td>5</td>\n",
       "      <td>0</td>\n",
       "      <td>0.0</td>\n",
       "      <td>0</td>\n",
       "      <td>0</td>\n",
       "      <td>0</td>\n",
       "      <td>0</td>\n",
       "      <td>0</td>\n",
       "      <td>0</td>\n",
       "      <td>0</td>\n",
       "    </tr>\n",
       "    <tr>\n",
       "      <th>ACCESORIES_1_001_BOS_1</th>\n",
       "      <td>12.7414</td>\n",
       "      <td>2011</td>\n",
       "      <td>6</td>\n",
       "      <td>0</td>\n",
       "      <td>0.0</td>\n",
       "      <td>0</td>\n",
       "      <td>0</td>\n",
       "      <td>0</td>\n",
       "      <td>0</td>\n",
       "      <td>0</td>\n",
       "      <td>0</td>\n",
       "      <td>1</td>\n",
       "    </tr>\n",
       "    <tr>\n",
       "      <th>ACCESORIES_1_001_BOS_1</th>\n",
       "      <td>12.7414</td>\n",
       "      <td>2011</td>\n",
       "      <td>7</td>\n",
       "      <td>0</td>\n",
       "      <td>0.0</td>\n",
       "      <td>0</td>\n",
       "      <td>0</td>\n",
       "      <td>0</td>\n",
       "      <td>0</td>\n",
       "      <td>0</td>\n",
       "      <td>0</td>\n",
       "      <td>0</td>\n",
       "    </tr>\n",
       "    <tr>\n",
       "      <th>ACCESORIES_1_001_BOS_1</th>\n",
       "      <td>12.7414</td>\n",
       "      <td>2011</td>\n",
       "      <td>8</td>\n",
       "      <td>0</td>\n",
       "      <td>0.0</td>\n",
       "      <td>0</td>\n",
       "      <td>0</td>\n",
       "      <td>0</td>\n",
       "      <td>0</td>\n",
       "      <td>0</td>\n",
       "      <td>0</td>\n",
       "      <td>0</td>\n",
       "    </tr>\n",
       "  </tbody>\n",
       "</table>\n",
       "</div>"
      ],
      "text/plain": [
       "                        sell_price  year  week  item_qty_sold_sum  \\\n",
       "id                                                                  \n",
       "ACCESORIES_1_001_BOS_1     12.7414  2011     4                  0   \n",
       "ACCESORIES_1_001_BOS_1     12.7414  2011     5                  0   \n",
       "ACCESORIES_1_001_BOS_1     12.7414  2011     6                  0   \n",
       "ACCESORIES_1_001_BOS_1     12.7414  2011     7                  0   \n",
       "ACCESORIES_1_001_BOS_1     12.7414  2011     8                  0   \n",
       "\n",
       "                        item_qty_sold_sum_lag1  item_encoded  \\\n",
       "id                                                             \n",
       "ACCESORIES_1_001_BOS_1                     NaN             0   \n",
       "ACCESORIES_1_001_BOS_1                     0.0             0   \n",
       "ACCESORIES_1_001_BOS_1                     0.0             0   \n",
       "ACCESORIES_1_001_BOS_1                     0.0             0   \n",
       "ACCESORIES_1_001_BOS_1                     0.0             0   \n",
       "\n",
       "                        category_encoded  department_encoded  store_encoded  \\\n",
       "id                                                                            \n",
       "ACCESORIES_1_001_BOS_1                 0                   0              0   \n",
       "ACCESORIES_1_001_BOS_1                 0                   0              0   \n",
       "ACCESORIES_1_001_BOS_1                 0                   0              0   \n",
       "ACCESORIES_1_001_BOS_1                 0                   0              0   \n",
       "ACCESORIES_1_001_BOS_1                 0                   0              0   \n",
       "\n",
       "                        store_code_encoded  region_encoded  event_encoded  \n",
       "id                                                                         \n",
       "ACCESORIES_1_001_BOS_1                   0               0              0  \n",
       "ACCESORIES_1_001_BOS_1                   0               0              0  \n",
       "ACCESORIES_1_001_BOS_1                   0               0              1  \n",
       "ACCESORIES_1_001_BOS_1                   0               0              0  \n",
       "ACCESORIES_1_001_BOS_1                   0               0              0  "
      ]
     },
     "execution_count": 107,
     "metadata": {},
     "output_type": "execute_result"
    }
   ],
   "source": [
    "X_train.head()"
   ]
  },
  {
   "cell_type": "code",
   "execution_count": 108,
   "metadata": {},
   "outputs": [
    {
     "data": {
      "text/plain": [
       "'search_hp.fit(X_train, Y_train)#No funciona si el df tiene NA'"
      ]
     },
     "execution_count": 108,
     "metadata": {},
     "output_type": "execute_result"
    }
   ],
   "source": [
    "\"\"\"search_hp.fit(X_train, Y_train)#No funciona si el df tiene NA\"\"\""
   ]
  },
  {
   "cell_type": "code",
   "execution_count": 109,
   "metadata": {},
   "outputs": [
    {
     "data": {
      "text/plain": [
       "'print(\"---- Results from Random Search -----\" )\\nprint(\"\\n The best estimator across ALL searched params:\", search_hp.best_estimator_)\\nprint(\"\\n The best RMSE:\", -search_hp.best_score_)\\nprint(\"\\n The best parameters across ALL searched params:\\n\", search_hp.best_params_)'"
      ]
     },
     "execution_count": 109,
     "metadata": {},
     "output_type": "execute_result"
    }
   ],
   "source": [
    "\"\"\"print(\"---- Results from Random Search -----\" )\n",
    "print(\"\\n The best estimator across ALL searched params:\", search_hp.best_estimator_)\n",
    "print(\"\\n The best RMSE:\", -search_hp.best_score_)\n",
    "print(\"\\n The best parameters across ALL searched params:\\n\", search_hp.best_params_)\"\"\""
   ]
  },
  {
   "cell_type": "markdown",
   "metadata": {},
   "source": [
    "# Prediction"
   ]
  },
  {
   "cell_type": "code",
   "execution_count": 110,
   "metadata": {},
   "outputs": [],
   "source": [
    "if \"qty_sold\" in X_test.columns:\n",
    "    X_test.drop(\"qty_sold\", axis = 1, inplace = True)\n",
    "    \n",
    "Y_test_predict = model.predict(X_test)\n",
    "X_test[\"qty_sold\"] = Y_test_predict"
   ]
  },
  {
   "cell_type": "code",
   "execution_count": 111,
   "metadata": {},
   "outputs": [],
   "source": [
    "X_test.reset_index(inplace = True)"
   ]
  },
  {
   "cell_type": "code",
   "execution_count": 112,
   "metadata": {},
   "outputs": [],
   "source": [
    "Y_train_predict = model.predict(X_train)\n",
    "Y_valida_predict = model.predict(X_valida)\n",
    "\n",
    "rmse_train = np.sqrt(\n",
    "    mean_squared_error(\n",
    "        y_true = Y_train,\n",
    "        y_pred = Y_train_predict\n",
    "    )\n",
    ")\n",
    "\n",
    "rmse_valida = np.sqrt(\n",
    "    mean_squared_error(\n",
    "        y_true = Y_valida,\n",
    "        y_pred = Y_valida_predict\n",
    "    )\n",
    ")\n",
    "\n",
    "rmse_train= str(round(rmse_train, 3)).replace(\".\", \"_\")\n",
    "rmse_valida = str(round(rmse_valida, 3)).replace(\".\", \"_\")"
   ]
  },
  {
   "cell_type": "code",
   "execution_count": 113,
   "metadata": {},
   "outputs": [
    {
     "name": "stdout",
     "output_type": "stream",
     "text": [
      "Train RMSE: 10_112\n",
      "Validation RMSE: 10_28\n"
     ]
    }
   ],
   "source": [
    "print(f\"Train RMSE: {rmse_train}\")\n",
    "print(f\"Validation RMSE: {rmse_valida}\")"
   ]
  },
  {
   "cell_type": "markdown",
   "metadata": {},
   "source": [
    "# Ensayos"
   ]
  },
  {
   "cell_type": "code",
   "execution_count": 114,
   "metadata": {},
   "outputs": [
    {
     "data": {
      "text/plain": [
       "\"\\nMejor resultado hasta ahora\\nTrain RMSE: 10_112\\nValidation RMSE: 10_28\\n\\nIncluye todas las variables:\\n['yearweek','id','qty_sold','sell_price','year','week','item_qty_sold_sum','item_qty_sold_sum_lag1','item_encoded','category_encoded',\\n'department_encoded','store_encoded',\\n'store_code_encoded','region_encoded','event_encoded']\\n-------------------------------------------------------------------------------------------------\\nEliminando Variables altamente correlacionadas\\nTrain RMSE: 11_442\\nValidation RMSE: 11_505\\n\\nVariables eliminadas:\\n'item_qty_sold_sum', 'store_code_encoded','category_encoded',\\n 'department_encoded',\\n\\n------------------------------------------------------------------------------------------------------\\nEliminando Variables altamente correlacionadas region, department. Rellenando con Fill NA=0 los NA de lag_1\\nTrain RMSE: 13_512\\nValidation RMSE: 12_718\""
      ]
     },
     "execution_count": 114,
     "metadata": {},
     "output_type": "execute_result"
    }
   ],
   "source": [
    "\"\"\"\n",
    "Mejor resultado hasta ahora\n",
    "Train RMSE: 10_112\n",
    "Validation RMSE: 10_28\n",
    "\n",
    "Incluye todas las variables:\n",
    "['yearweek','id','qty_sold','sell_price','year','week','item_qty_sold_sum','item_qty_sold_sum_lag1','item_encoded','category_encoded',\n",
    "'department_encoded','store_encoded',\n",
    "'store_code_encoded','region_encoded','event_encoded']\n",
    "-------------------------------------------------------------------------------------------------\n",
    "Eliminando Variables altamente correlacionadas\n",
    "Train RMSE: 11_442\n",
    "Validation RMSE: 11_505\n",
    "\n",
    "Variables eliminadas:\n",
    "'item_qty_sold_sum', 'store_code_encoded','category_encoded',\n",
    " 'department_encoded',\n",
    "\n",
    "------------------------------------------------------------------------------------------------------\n",
    "Eliminando Variables altamente correlacionadas region, department. Rellenando con Fill NA=0 los NA de lag_1\n",
    "Train RMSE: 13_512\n",
    "Validation RMSE: 12_718\"\"\""
   ]
  }
 ],
 "metadata": {
  "kernelspec": {
   "display_name": "Python 3",
   "language": "python",
   "name": "python3"
  },
  "language_info": {
   "codemirror_mode": {
    "name": "ipython",
    "version": 3
   },
   "file_extension": ".py",
   "mimetype": "text/x-python",
   "name": "python",
   "nbconvert_exporter": "python",
   "pygments_lexer": "ipython3",
   "version": "3.12.0"
  }
 },
 "nbformat": 4,
 "nbformat_minor": 2
}
