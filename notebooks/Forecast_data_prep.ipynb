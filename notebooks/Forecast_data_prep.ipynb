{
 "cells": [
  {
   "cell_type": "code",
   "execution_count": null,
   "metadata": {},
   "outputs": [],
   "source": [
    "# silence warnings\n",
    "import warnings\n",
    "warnings.filterwarnings(\"ignore\")\n",
    "\n",
    "# imports time series\n",
    "import pandas as pd\n",
    "import numpy as np\n",
    "\n",
    "# plots\n",
    "import matplotlib.pyplot as plt\n",
    "import seaborn as sns\n",
    "%matplotlib inline\n",
    "# pip install calmap\n",
    "#import calmap\n",
    "\n",
    "# para calculas métricas del modelo\n",
    "from sklearn.metrics import mean_squared_error\n",
    "\n",
    "# misc\n",
    "import os\n",
    "import datetime\n",
    "import itertools\n",
    "import pickle\n",
    "from datetime import timedelta\n",
    "\n",
    "# apartado ts\n",
    "from statsmodels.graphics.tsaplots import plot_acf, plot_pacf\n",
    "from statsmodels.tsa.seasonal import seasonal_decompose\n",
    "\n",
    "import xgboost as xgb"
   ]
  },
  {
   "cell_type": "code",
   "execution_count": null,
   "metadata": {},
   "outputs": [],
   "source": [
    "# Leemos los ficheros\n",
    "ruta = '../data/'\n",
    "df_forecast = pd.read_csv(ruta+'daily_sales_sample.csv')"
   ]
  },
  {
   "cell_type": "code",
   "execution_count": null,
   "metadata": {},
   "outputs": [],
   "source": [
    "df_forecast.head()"
   ]
  },
  {
   "cell_type": "code",
   "execution_count": null,
   "metadata": {},
   "outputs": [],
   "source": [
    "# Pasamos la variable 'date' a tipo fecha:\n",
    "#df_forecast[\"date\"] = pd.to_datetime(df_forecast[\"date\"], format = \"%Y-%m-%d\")"
   ]
  },
  {
   "cell_type": "code",
   "execution_count": null,
   "metadata": {},
   "outputs": [],
   "source": [
    "# Generamos una nueva columna como 'week_day' para poder utilizarla como index:\n",
    "df_forecast['year'] = df_forecast['yearweek'].astype(str).str[:4]\n",
    "df_forecast['week'] = df_forecast['yearweek'].astype(str).str[4:] \n",
    "df_forecast['week_day'] = pd.to_datetime(df_forecast['year'] + df_forecast['week'] + '-1', format='%Y%U-%w')"
   ]
  },
  {
   "cell_type": "code",
   "execution_count": null,
   "metadata": {},
   "outputs": [],
   "source": [
    "# Borramos aquellas variables que no suman al modelo:\n",
    "df_forecast.drop(['d','date','weekend', 'weekday_int','yearweek'], inplace=True, axis=1)"
   ]
  },
  {
   "cell_type": "code",
   "execution_count": null,
   "metadata": {},
   "outputs": [],
   "source": [
    "# Importo el dataset de test:\n",
    "df_test = pd.read_csv(ruta+'df_test.csv',delimiter=';')"
   ]
  },
  {
   "cell_type": "code",
   "execution_count": null,
   "metadata": {},
   "outputs": [],
   "source": [
    "# Transformo algunas columnas al mismo tipo de dato que el dataset de forecast:\n",
    "df_test['year'] = df_test['year'].astype(str)\n",
    "df_test['week'] = df_test['week'].astype(str)\n",
    "df_test['week_day'] = pd.to_datetime(df_test['year'] + df_test['week'] + '-1', format='%Y%U-%w')"
   ]
  },
  {
   "cell_type": "code",
   "execution_count": null,
   "metadata": {},
   "outputs": [],
   "source": [
    "# Unimos los dos datasets:\n",
    "df_forecast = pd.concat([df_forecast, df_test], ignore_index=True)"
   ]
  },
  {
   "cell_type": "code",
   "execution_count": null,
   "metadata": {},
   "outputs": [],
   "source": [
    "df_forecast.tail()"
   ]
  },
  {
   "cell_type": "markdown",
   "metadata": {},
   "source": [
    "# Asignación de valores numericos a los nulos:"
   ]
  },
  {
   "cell_type": "code",
   "execution_count": null,
   "metadata": {},
   "outputs": [],
   "source": [
    "df_forecast.isnull().sum()"
   ]
  },
  {
   "cell_type": "code",
   "execution_count": null,
   "metadata": {},
   "outputs": [],
   "source": [
    "# Asignamos valores a sell_price:\n",
    "df_forecast['sell_price'] = df_forecast.groupby(['id'])['sell_price'].transform(lambda series: series.bfill().ffill())"
   ]
  },
  {
   "cell_type": "code",
   "execution_count": null,
   "metadata": {},
   "outputs": [],
   "source": [
    "# Reemplazamos los valores NaN de 'qty_sold' con cero, ya que son los valores a predecir:\n",
    "df_forecast['qty_sold'].fillna(0, inplace=True)"
   ]
  },
  {
   "cell_type": "markdown",
   "metadata": {},
   "source": [
    "# Data Transformation: creacion de diccionarios."
   ]
  },
  {
   "cell_type": "code",
   "execution_count": null,
   "metadata": {},
   "outputs": [],
   "source": [
    "store_dict = {\n",
    "\n",
    "    'South_End': 1,\n",
    "    'Roxbury': 2,\n",
    "    'Back_Bay': 3,\n",
    "    'Greenwich_Village': 4,\n",
    "    'Harlem' : 5,\n",
    "    'Tribeca': 6, \n",
    "    'Brooklyn': 7,\n",
    "    'Midtown_Village': 8,\n",
    "    'Yorktown':9, \n",
    "    'Queen_Village': 10\n",
    "\n",
    "}\n",
    "\n",
    "df_forecast[\"store_encode\"]=df_forecast[\"store\"].map(store_dict)"
   ]
  },
  {
   "cell_type": "code",
   "execution_count": null,
   "metadata": {},
   "outputs": [],
   "source": [
    "department_dict = {\n",
    "          \n",
    "    'HOME_&_GARDEN_1' : 1,   \n",
    "    'HOME_&_GARDEN_2' : 2, \n",
    "    'ACCESORIES_1' : 3,      \n",
    "    'ACCESORIES_2': 4,\n",
    "    'SUPERMARKET_1': 5,\n",
    "    'SUPERMARKET_2': 6,  \n",
    "    'SUPERMARKET_3': 7  \n",
    "\n",
    "}\n",
    "\n",
    "df_forecast[\"department_encode\"]=df_forecast[\"department\"].map(department_dict)"
   ]
  },
  {
   "cell_type": "code",
   "execution_count": null,
   "metadata": {},
   "outputs": [],
   "source": [
    "category_dict = {\n",
    "\n",
    "    'SUPERMARKET': 1,\n",
    "    'HOME_&_GARDEN': 2,\n",
    "    'ACCESORIES': 3\n",
    "   \n",
    "}\n",
    "\n",
    "df_forecast[\"category_encode\"]=df_forecast[\"category\"].map(category_dict)"
   ]
  },
  {
   "cell_type": "code",
   "execution_count": null,
   "metadata": {},
   "outputs": [],
   "source": [
    "region_dict ={\n",
    "\n",
    "    'New York': 1,\n",
    "    'Boston': 2,\n",
    "    'Philadelphia':3\n",
    "\n",
    "}\n",
    "\n",
    "df_forecast[\"region_encode\"]=df_forecast[\"region\"].map(region_dict)"
   ]
  },
  {
   "cell_type": "code",
   "execution_count": null,
   "metadata": {},
   "outputs": [],
   "source": [
    "store_code_dict ={\n",
    "\n",
    "    'NYC_1': 1,\n",
    "    'NYC_2': 2,\n",
    "    'NYC_3': 3,\n",
    "    'NYC_4': 4,\n",
    "    'BOS_1': 5,\n",
    "    'BOS_2': 6,\n",
    "    'BOS_3': 7,\n",
    "    'PHI_1': 8,\n",
    "    'PHI_2': 9,\n",
    "    'PHI_3': 10\n",
    "\n",
    "}\n",
    "\n",
    "df_forecast[\"store_code_encode\"]=df_forecast[\"store_code\"].map(store_code_dict)"
   ]
  },
  {
   "cell_type": "code",
   "execution_count": null,
   "metadata": {},
   "outputs": [],
   "source": [
    "df_forecast['item_encoded'] = df_forecast['item'].str[-3:].astype(int)"
   ]
  },
  {
   "cell_type": "code",
   "execution_count": null,
   "metadata": {},
   "outputs": [],
   "source": [
    "df_forecast['year'] = df_forecast['year'].astype(int)\n",
    "df_forecast['week'] = df_forecast['week'].astype(int)"
   ]
  },
  {
   "cell_type": "code",
   "execution_count": null,
   "metadata": {},
   "outputs": [],
   "source": [
    "df_forecast.head(5)"
   ]
  },
  {
   "cell_type": "code",
   "execution_count": null,
   "metadata": {},
   "outputs": [],
   "source": [
    "# Borramos las columnas encodeadas:\n",
    "df_forecast.drop([\n",
    "                    'category',\n",
    "                    'department', \n",
    "                    'region', \n",
    "                    'store', \n",
    "                    'store_code',\n",
    "                    'item'], \n",
    "                    axis=1, inplace=True)"
   ]
  },
  {
   "cell_type": "code",
   "execution_count": null,
   "metadata": {},
   "outputs": [],
   "source": [
    "df_forecast.head()"
   ]
  },
  {
   "cell_type": "code",
   "execution_count": null,
   "metadata": {},
   "outputs": [],
   "source": [
    "# Renombramos 'week_day' como 'date':\n",
    "df_forecast.rename(columns={'week_day': 'date'}, inplace=True)"
   ]
  },
  {
   "cell_type": "code",
   "execution_count": null,
   "metadata": {},
   "outputs": [],
   "source": [
    "df_forecast.info()"
   ]
  },
  {
   "cell_type": "code",
   "execution_count": null,
   "metadata": {},
   "outputs": [],
   "source": [
    "df_forecast['sell_price'] = df_forecast['sell_price'].astype('float32')"
   ]
  },
  {
   "cell_type": "code",
   "execution_count": null,
   "metadata": {},
   "outputs": [],
   "source": [
    "df_forecast['qty_sold'] = df_forecast['qty_sold'].astype('float32')"
   ]
  },
  {
   "cell_type": "code",
   "execution_count": null,
   "metadata": {},
   "outputs": [],
   "source": [
    "df_forecast['holiday'] = df_forecast['holiday'].astype('int32')"
   ]
  },
  {
   "cell_type": "code",
   "execution_count": null,
   "metadata": {},
   "outputs": [],
   "source": [
    "df_forecast['store_encode'] = df_forecast['store_encode'].astype('int32')"
   ]
  },
  {
   "cell_type": "code",
   "execution_count": null,
   "metadata": {},
   "outputs": [],
   "source": [
    "df_forecast['department_encode'] = df_forecast['department_encode'].astype('int32')"
   ]
  },
  {
   "cell_type": "code",
   "execution_count": null,
   "metadata": {},
   "outputs": [],
   "source": [
    "df_forecast['category_encode'] = df_forecast['category_encode'].astype('int32')"
   ]
  },
  {
   "cell_type": "code",
   "execution_count": null,
   "metadata": {},
   "outputs": [],
   "source": [
    "df_forecast['region_encode'] = df_forecast['region_encode'].astype('int32')"
   ]
  },
  {
   "cell_type": "code",
   "execution_count": null,
   "metadata": {},
   "outputs": [],
   "source": [
    "df_forecast['store_code_encode'] = df_forecast['store_code_encode'].astype('int32')"
   ]
  },
  {
   "cell_type": "markdown",
   "metadata": {},
   "source": [
    "## Guardamos el archivo final de Forecasting"
   ]
  },
  {
   "cell_type": "code",
   "execution_count": null,
   "metadata": {},
   "outputs": [],
   "source": [
    "df_forecast.to_csv((ruta+'df_forecast.csv'), index=False)"
   ]
  }
 ],
 "metadata": {
  "language_info": {
   "name": "python"
  }
 },
 "nbformat": 4,
 "nbformat_minor": 2
}
