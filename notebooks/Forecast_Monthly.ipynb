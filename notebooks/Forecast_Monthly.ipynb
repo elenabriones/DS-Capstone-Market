{
 "cells": [
  {
   "cell_type": "markdown",
   "metadata": {},
   "source": [
    "\n",
    "# Importamos Librerias"
   ]
  },
  {
   "cell_type": "code",
   "execution_count": 1,
   "metadata": {},
   "outputs": [],
   "source": [
    "# imports time series\n",
    "import pandas as pd\n",
    "import numpy as np\n",
    "\n",
    "# plots\n",
    "import matplotlib.pyplot as plt\n",
    "%matplotlib inline\n",
    "import seaborn as sns\n",
    "import plotly.express as px\n",
    "from random import random\n",
    "\n",
    "# Preprocessing\n",
    "from sklearn.preprocessing import OrdinalEncoder\n",
    "from sklearn.preprocessing import StandardScaler, PolynomialFeatures\n",
    "from sklearn.feature_selection import VarianceThreshold\n",
    "from scipy import stats\n",
    "from sklearn.preprocessing import LabelEncoder\n",
    "from sklearn.preprocessing import OneHotEncoder\n",
    "\n",
    "# Evaluacion\n",
    "from sklearn.metrics import mean_absolute_error, r2_score\n",
    "from sklearn.model_selection import train_test_split, cross_val_score\n",
    "from sklearn import metrics\n",
    "\n",
    "# misc\n",
    "import os\n",
    "import time\n",
    "import itertools\n",
    "import warnings\n",
    "warnings.filterwarnings(\"ignore\")\n",
    "\n",
    "# apartado ts\n",
    "import statsmodels.api as sm\n",
    "from statsmodels.tsa.stattools import adfuller\n",
    "from statsmodels.tsa.stattools import acf, pacf\n",
    "from statsmodels.graphics.tsaplots import plot_acf, plot_pacf\n",
    "from statsmodels.tsa.seasonal import seasonal_decompose\n",
    "from statsmodels.tsa.holtwinters import SimpleExpSmoothing, ExponentialSmoothing, Holt\n",
    "from statsmodels.tsa.arima.model import ARIMA\n",
    "\n",
    "#Otros Modelos\n",
    "\n",
    "# Modelos ML de Regresion\n",
    "\n",
    "import xgboost as xgb\n",
    "from sklearn.linear_model import LinearRegression, Ridge, Lasso, ElasticNet, SGDRegressor\n",
    "from sklearn.tree import DecisionTreeRegressor\n",
    "from sklearn.neighbors import KNeighborsRegressor\n",
    "from sklearn.ensemble import RandomForestRegressor\n",
    "from sklearn.naive_bayes import GaussianNB\n",
    "from xgboost import XGBRegressor\n",
    "\n",
    "from sklearn.model_selection import cross_val_score\n",
    "from sklearn.linear_model import LinearRegression\n",
    "\n",
    "from prophet import Prophet\n",
    "\n",
    "import pickle\n",
    "import os\n",
    "\n",
    "from datetime import datetime\n",
    "\n",
    "from sklearn.model_selection import RandomizedSearchCV\n",
    "\n",
    "\n",
    "#Tamño default de los plots\n",
    "plt.rcParams[\"figure.figsize\"] = [10,6]\n",
    "\n"
   ]
  },
  {
   "cell_type": "markdown",
   "metadata": {},
   "source": [
    "# Importamos DATASET"
   ]
  },
  {
   "cell_type": "code",
   "execution_count": 2,
   "metadata": {},
   "outputs": [],
   "source": [
    "# Leemos los ficheros\n",
    "DATA_PATH = 'C:/Users/mpgir/Desktop/Data Science/Capstone/DS-Capstone-Market/data/'\n",
    "df= pd.read_csv(DATA_PATH+'daily_sales_cleandata.csv')"
   ]
  },
  {
   "cell_type": "code",
   "execution_count": 3,
   "metadata": {},
   "outputs": [],
   "source": [
    "#Creamos una copia del original para cuando se reinicia el kernel.\n",
    "df_forecast= df.copy()"
   ]
  },
  {
   "cell_type": "code",
   "execution_count": 4,
   "metadata": {},
   "outputs": [
    {
     "name": "stdout",
     "output_type": "stream",
     "text": [
      "<class 'pandas.core.frame.DataFrame'>\n",
      "RangeIndex: 58327370 entries, 0 to 58327369\n",
      "Data columns (total 15 columns):\n",
      " #   Column       Dtype  \n",
      "---  ------       -----  \n",
      " 0   id           object \n",
      " 1   item         object \n",
      " 2   category     object \n",
      " 3   department   object \n",
      " 4   store        object \n",
      " 5   store_code   object \n",
      " 6   region       object \n",
      " 7   d            object \n",
      " 8   qty_sold     int64  \n",
      " 9   date         object \n",
      " 10  weekday_int  int64  \n",
      " 11  holiday      int64  \n",
      " 12  weekend      int64  \n",
      " 13  yearweek     int64  \n",
      " 14  sell_price   float64\n",
      "dtypes: float64(1), int64(5), object(9)\n",
      "memory usage: 6.5+ GB\n"
     ]
    }
   ],
   "source": [
    "#Miramos cuantas filas y columnas tiene el df daily_sales_cleandata\n",
    "df_forecast.info()"
   ]
  },
  {
   "cell_type": "markdown",
   "metadata": {},
   "source": [
    "Agrupamos por mes, para hacer más manejable el dataset, ya que por memoria, no es posible hacerlo por Yearweek"
   ]
  },
  {
   "cell_type": "code",
   "execution_count": 5,
   "metadata": {},
   "outputs": [],
   "source": [
    "#Convertimos la fecha a formato datetime y creamos columnas Month y Year\n",
    "df_forecast['date'] = pd.to_datetime(df_forecast['date'])\n",
    "df_forecast['month'] = df_forecast['date'].dt.month\n",
    "df_forecast['year'] = df_forecast['date'].dt.year\n"
   ]
  },
  {
   "cell_type": "code",
   "execution_count": 6,
   "metadata": {},
   "outputs": [],
   "source": [
    "df_forecast['month_year'] = pd.to_datetime(df_forecast['year'].astype(str) + '-' + df_forecast['month'].astype(str), format='%Y-%m')"
   ]
  },
  {
   "cell_type": "code",
   "execution_count": 7,
   "metadata": {},
   "outputs": [],
   "source": [
    "#Agrupamos las columnas con qty_sold y month\n",
    "df_forecast= (df_forecast\n",
    "                   .groupby(['id', 'item', 'category', 'department', 'store', 'store_code', 'region', 'month_year'], as_index=False)\n",
    "                   .agg({'qty_sold': 'sum', 'sell_price': 'median'})\n",
    "                   )"
   ]
  },
  {
   "cell_type": "code",
   "execution_count": 8,
   "metadata": {},
   "outputs": [
    {
     "data": {
      "text/html": [
       "<div>\n",
       "<style scoped>\n",
       "    .dataframe tbody tr th:only-of-type {\n",
       "        vertical-align: middle;\n",
       "    }\n",
       "\n",
       "    .dataframe tbody tr th {\n",
       "        vertical-align: top;\n",
       "    }\n",
       "\n",
       "    .dataframe thead th {\n",
       "        text-align: right;\n",
       "    }\n",
       "</style>\n",
       "<table border=\"1\" class=\"dataframe\">\n",
       "  <thead>\n",
       "    <tr style=\"text-align: right;\">\n",
       "      <th></th>\n",
       "      <th>id</th>\n",
       "      <th>item</th>\n",
       "      <th>category</th>\n",
       "      <th>department</th>\n",
       "      <th>store</th>\n",
       "      <th>store_code</th>\n",
       "      <th>region</th>\n",
       "      <th>month_year</th>\n",
       "      <th>qty_sold</th>\n",
       "      <th>sell_price</th>\n",
       "    </tr>\n",
       "  </thead>\n",
       "  <tbody>\n",
       "    <tr>\n",
       "      <th>0</th>\n",
       "      <td>ACCESORIES_1_001_BOS_1</td>\n",
       "      <td>ACCESORIES_1_001</td>\n",
       "      <td>ACCESORIES</td>\n",
       "      <td>ACCESORIES_1</td>\n",
       "      <td>South_End</td>\n",
       "      <td>BOS_1</td>\n",
       "      <td>Boston</td>\n",
       "      <td>2011-01-01</td>\n",
       "      <td>0</td>\n",
       "      <td>12.7414</td>\n",
       "    </tr>\n",
       "    <tr>\n",
       "      <th>1</th>\n",
       "      <td>ACCESORIES_1_001_BOS_1</td>\n",
       "      <td>ACCESORIES_1_001</td>\n",
       "      <td>ACCESORIES</td>\n",
       "      <td>ACCESORIES_1</td>\n",
       "      <td>South_End</td>\n",
       "      <td>BOS_1</td>\n",
       "      <td>Boston</td>\n",
       "      <td>2011-02-01</td>\n",
       "      <td>0</td>\n",
       "      <td>12.7414</td>\n",
       "    </tr>\n",
       "    <tr>\n",
       "      <th>2</th>\n",
       "      <td>ACCESORIES_1_001_BOS_1</td>\n",
       "      <td>ACCESORIES_1_001</td>\n",
       "      <td>ACCESORIES</td>\n",
       "      <td>ACCESORIES_1</td>\n",
       "      <td>South_End</td>\n",
       "      <td>BOS_1</td>\n",
       "      <td>Boston</td>\n",
       "      <td>2011-03-01</td>\n",
       "      <td>0</td>\n",
       "      <td>12.7414</td>\n",
       "    </tr>\n",
       "    <tr>\n",
       "      <th>3</th>\n",
       "      <td>ACCESORIES_1_001_BOS_1</td>\n",
       "      <td>ACCESORIES_1_001</td>\n",
       "      <td>ACCESORIES</td>\n",
       "      <td>ACCESORIES_1</td>\n",
       "      <td>South_End</td>\n",
       "      <td>BOS_1</td>\n",
       "      <td>Boston</td>\n",
       "      <td>2011-04-01</td>\n",
       "      <td>0</td>\n",
       "      <td>12.7414</td>\n",
       "    </tr>\n",
       "    <tr>\n",
       "      <th>4</th>\n",
       "      <td>ACCESORIES_1_001_BOS_1</td>\n",
       "      <td>ACCESORIES_1_001</td>\n",
       "      <td>ACCESORIES</td>\n",
       "      <td>ACCESORIES_1</td>\n",
       "      <td>South_End</td>\n",
       "      <td>BOS_1</td>\n",
       "      <td>Boston</td>\n",
       "      <td>2011-05-01</td>\n",
       "      <td>0</td>\n",
       "      <td>12.7414</td>\n",
       "    </tr>\n",
       "  </tbody>\n",
       "</table>\n",
       "</div>"
      ],
      "text/plain": [
       "                       id              item    category    department  \\\n",
       "0  ACCESORIES_1_001_BOS_1  ACCESORIES_1_001  ACCESORIES  ACCESORIES_1   \n",
       "1  ACCESORIES_1_001_BOS_1  ACCESORIES_1_001  ACCESORIES  ACCESORIES_1   \n",
       "2  ACCESORIES_1_001_BOS_1  ACCESORIES_1_001  ACCESORIES  ACCESORIES_1   \n",
       "3  ACCESORIES_1_001_BOS_1  ACCESORIES_1_001  ACCESORIES  ACCESORIES_1   \n",
       "4  ACCESORIES_1_001_BOS_1  ACCESORIES_1_001  ACCESORIES  ACCESORIES_1   \n",
       "\n",
       "       store store_code  region month_year  qty_sold  sell_price  \n",
       "0  South_End      BOS_1  Boston 2011-01-01         0     12.7414  \n",
       "1  South_End      BOS_1  Boston 2011-02-01         0     12.7414  \n",
       "2  South_End      BOS_1  Boston 2011-03-01         0     12.7414  \n",
       "3  South_End      BOS_1  Boston 2011-04-01         0     12.7414  \n",
       "4  South_End      BOS_1  Boston 2011-05-01         0     12.7414  "
      ]
     },
     "execution_count": 8,
     "metadata": {},
     "output_type": "execute_result"
    }
   ],
   "source": [
    "df_forecast.head()"
   ]
  },
  {
   "cell_type": "code",
   "execution_count": 9,
   "metadata": {},
   "outputs": [
    {
     "data": {
      "text/plain": [
       "'#Dejamos sólo las columnas que necesitamos, aquellas que nos dan mayor granularidad las eliminamos.\\ndf_forecast = df_forecast.drop(columns=[\"d\", \"weekday_int\", \"yearweek\", \"holiday\", \"weekend\", \"date\"])'"
      ]
     },
     "execution_count": 9,
     "metadata": {},
     "output_type": "execute_result"
    }
   ],
   "source": [
    "\"\"\"#Dejamos sólo las columnas que necesitamos, aquellas que nos dan mayor granularidad las eliminamos.\n",
    "df_forecast = df_forecast.drop(columns=[\"d\", \"weekday_int\", \"yearweek\", \"holiday\", \"weekend\", \"date\"])\"\"\""
   ]
  },
  {
   "cell_type": "code",
   "execution_count": 10,
   "metadata": {},
   "outputs": [],
   "source": [
    "# 3.363.362 rows × 10 columns registros con venta cero, que son el 40% del total de registros.\n",
    "venta_cero=df_forecast [df_forecast['qty_sold']<=0]"
   ]
  },
  {
   "cell_type": "code",
   "execution_count": 11,
   "metadata": {},
   "outputs": [
    {
     "data": {
      "text/plain": [
       "id\n",
       "HOME_&_GARDEN_1_032_BOS_1    62\n",
       "HOME_&_GARDEN_1_400_NYC_4    62\n",
       "SUPERMARKET_3_778_NYC_2      62\n",
       "HOME_&_GARDEN_1_278_NYC_3    61\n",
       "SUPERMARKET_3_595_NYC_3      61\n",
       "                             ..\n",
       "ACCESORIES_1_164_BOS_1        1\n",
       "ACCESORIES_1_164_NYC_4        1\n",
       "ACCESORIES_1_164_PHI_3        1\n",
       "HOME_&_GARDEN_2_325_BOS_3     1\n",
       "HOME_&_GARDEN_1_327_PHI_3     1\n",
       "Name: count, Length: 28021, dtype: int64"
      ]
     },
     "execution_count": 11,
     "metadata": {},
     "output_type": "execute_result"
    }
   ],
   "source": [
    "venta_cero[\"id\"].value_counts() #vemos que no es un producto en especial, sino varios."
   ]
  },
  {
   "cell_type": "code",
   "execution_count": 12,
   "metadata": {},
   "outputs": [
    {
     "data": {
      "text/plain": [
       "month_year\n",
       "2011-01-01    21039\n",
       "2011-02-01    17688\n",
       "2011-03-01    17313\n",
       "2011-05-01    17052\n",
       "2011-06-01    16997\n",
       "              ...  \n",
       "2015-05-01     2967\n",
       "2015-10-01     2678\n",
       "2016-02-01     2432\n",
       "2016-03-01     1952\n",
       "2016-04-01     1801\n",
       "Name: count, Length: 64, dtype: int64"
      ]
     },
     "execution_count": 12,
     "metadata": {},
     "output_type": "execute_result"
    }
   ],
   "source": [
    "venta_cero[\"month_year\"].value_counts() #también son varios meses y años"
   ]
  },
  {
   "cell_type": "code",
   "execution_count": 13,
   "metadata": {},
   "outputs": [
    {
     "data": {
      "text/plain": [
       "30490"
      ]
     },
     "execution_count": 13,
     "metadata": {},
     "output_type": "execute_result"
    }
   ],
   "source": [
    "#Tenemos 30.490 series temporales\n",
    "df_forecast[\"id\"].nunique()"
   ]
  },
  {
   "cell_type": "code",
   "execution_count": 14,
   "metadata": {},
   "outputs": [],
   "source": [
    "MIN_DATE = df_forecast[\"month_year\"].min()\n",
    "MAX_DATE = df_forecast[\"month_year\"].max()"
   ]
  },
  {
   "cell_type": "code",
   "execution_count": null,
   "metadata": {},
   "outputs": [],
   "source": [
    "MIN_DATE = df_forecast[\"date\"].min()\n",
    "MAX_DATE = df_forecast[\"date\"].max()"
   ]
  },
  {
   "cell_type": "code",
   "execution_count": 15,
   "metadata": {},
   "outputs": [
    {
     "name": "stdout",
     "output_type": "stream",
     "text": [
      "Min date is 2011-01-01 00:00:00\n",
      "Max date is 2016-04-01 00:00:00\n"
     ]
    }
   ],
   "source": [
    "print(f\"Min date is {MIN_DATE}\\nMax date is {MAX_DATE}\") "
   ]
  },
  {
   "cell_type": "code",
   "execution_count": 16,
   "metadata": {},
   "outputs": [
    {
     "data": {
      "text/plain": [
       "id            0\n",
       "item          0\n",
       "category      0\n",
       "department    0\n",
       "store         0\n",
       "store_code    0\n",
       "region        0\n",
       "month_year    0\n",
       "qty_sold      0\n",
       "sell_price    0\n",
       "dtype: int64"
      ]
     },
     "execution_count": 16,
     "metadata": {},
     "output_type": "execute_result"
    }
   ],
   "source": [
    "df_forecast.isnull().sum() #No tenemos nulos porque anteriormente los imputamos con el bfil y ffill en notebook dataclean"
   ]
  },
  {
   "cell_type": "markdown",
   "metadata": {},
   "source": [
    "\n",
    "# Data Imputation\n"
   ]
  },
  {
   "cell_type": "code",
   "execution_count": 17,
   "metadata": {},
   "outputs": [],
   "source": [
    "sample_ts = \"HOME_&_GARDEN_1_020_NYC_3\" # selecionamos una serie temporal, para analizar despues"
   ]
  },
  {
   "cell_type": "code",
   "execution_count": 18,
   "metadata": {},
   "outputs": [
    {
     "data": {
      "text/html": [
       "<div>\n",
       "<style scoped>\n",
       "    .dataframe tbody tr th:only-of-type {\n",
       "        vertical-align: middle;\n",
       "    }\n",
       "\n",
       "    .dataframe tbody tr th {\n",
       "        vertical-align: top;\n",
       "    }\n",
       "\n",
       "    .dataframe thead th {\n",
       "        text-align: right;\n",
       "    }\n",
       "</style>\n",
       "<table border=\"1\" class=\"dataframe\">\n",
       "  <thead>\n",
       "    <tr style=\"text-align: right;\">\n",
       "      <th></th>\n",
       "      <th>id</th>\n",
       "      <th>item</th>\n",
       "      <th>category</th>\n",
       "      <th>department</th>\n",
       "      <th>store</th>\n",
       "      <th>store_code</th>\n",
       "      <th>region</th>\n",
       "      <th>month_year</th>\n",
       "      <th>qty_sold</th>\n",
       "      <th>sell_price</th>\n",
       "    </tr>\n",
       "  </thead>\n",
       "  <tbody>\n",
       "    <tr>\n",
       "      <th>374080</th>\n",
       "      <td>HOME_&amp;_GARDEN_1_020_NYC_3</td>\n",
       "      <td>HOME_&amp;_GARDEN_1_020</td>\n",
       "      <td>HOME_&amp;_GARDEN</td>\n",
       "      <td>HOME_&amp;_GARDEN_1</td>\n",
       "      <td>Tribeca</td>\n",
       "      <td>NYC_3</td>\n",
       "      <td>New York</td>\n",
       "      <td>2011-01-01</td>\n",
       "      <td>0</td>\n",
       "      <td>8.7125</td>\n",
       "    </tr>\n",
       "    <tr>\n",
       "      <th>374081</th>\n",
       "      <td>HOME_&amp;_GARDEN_1_020_NYC_3</td>\n",
       "      <td>HOME_&amp;_GARDEN_1_020</td>\n",
       "      <td>HOME_&amp;_GARDEN</td>\n",
       "      <td>HOME_&amp;_GARDEN_1</td>\n",
       "      <td>Tribeca</td>\n",
       "      <td>NYC_3</td>\n",
       "      <td>New York</td>\n",
       "      <td>2011-02-01</td>\n",
       "      <td>0</td>\n",
       "      <td>8.7125</td>\n",
       "    </tr>\n",
       "    <tr>\n",
       "      <th>374082</th>\n",
       "      <td>HOME_&amp;_GARDEN_1_020_NYC_3</td>\n",
       "      <td>HOME_&amp;_GARDEN_1_020</td>\n",
       "      <td>HOME_&amp;_GARDEN</td>\n",
       "      <td>HOME_&amp;_GARDEN_1</td>\n",
       "      <td>Tribeca</td>\n",
       "      <td>NYC_3</td>\n",
       "      <td>New York</td>\n",
       "      <td>2011-03-01</td>\n",
       "      <td>0</td>\n",
       "      <td>8.7125</td>\n",
       "    </tr>\n",
       "    <tr>\n",
       "      <th>374083</th>\n",
       "      <td>HOME_&amp;_GARDEN_1_020_NYC_3</td>\n",
       "      <td>HOME_&amp;_GARDEN_1_020</td>\n",
       "      <td>HOME_&amp;_GARDEN</td>\n",
       "      <td>HOME_&amp;_GARDEN_1</td>\n",
       "      <td>Tribeca</td>\n",
       "      <td>NYC_3</td>\n",
       "      <td>New York</td>\n",
       "      <td>2011-04-01</td>\n",
       "      <td>0</td>\n",
       "      <td>8.7125</td>\n",
       "    </tr>\n",
       "    <tr>\n",
       "      <th>374084</th>\n",
       "      <td>HOME_&amp;_GARDEN_1_020_NYC_3</td>\n",
       "      <td>HOME_&amp;_GARDEN_1_020</td>\n",
       "      <td>HOME_&amp;_GARDEN</td>\n",
       "      <td>HOME_&amp;_GARDEN_1</td>\n",
       "      <td>Tribeca</td>\n",
       "      <td>NYC_3</td>\n",
       "      <td>New York</td>\n",
       "      <td>2011-05-01</td>\n",
       "      <td>0</td>\n",
       "      <td>8.7125</td>\n",
       "    </tr>\n",
       "    <tr>\n",
       "      <th>...</th>\n",
       "      <td>...</td>\n",
       "      <td>...</td>\n",
       "      <td>...</td>\n",
       "      <td>...</td>\n",
       "      <td>...</td>\n",
       "      <td>...</td>\n",
       "      <td>...</td>\n",
       "      <td>...</td>\n",
       "      <td>...</td>\n",
       "      <td>...</td>\n",
       "    </tr>\n",
       "    <tr>\n",
       "      <th>374139</th>\n",
       "      <td>HOME_&amp;_GARDEN_1_020_NYC_3</td>\n",
       "      <td>HOME_&amp;_GARDEN_1_020</td>\n",
       "      <td>HOME_&amp;_GARDEN</td>\n",
       "      <td>HOME_&amp;_GARDEN_1</td>\n",
       "      <td>Tribeca</td>\n",
       "      <td>NYC_3</td>\n",
       "      <td>New York</td>\n",
       "      <td>2015-12-01</td>\n",
       "      <td>0</td>\n",
       "      <td>8.7125</td>\n",
       "    </tr>\n",
       "    <tr>\n",
       "      <th>374140</th>\n",
       "      <td>HOME_&amp;_GARDEN_1_020_NYC_3</td>\n",
       "      <td>HOME_&amp;_GARDEN_1_020</td>\n",
       "      <td>HOME_&amp;_GARDEN</td>\n",
       "      <td>HOME_&amp;_GARDEN_1</td>\n",
       "      <td>Tribeca</td>\n",
       "      <td>NYC_3</td>\n",
       "      <td>New York</td>\n",
       "      <td>2016-01-01</td>\n",
       "      <td>0</td>\n",
       "      <td>8.7125</td>\n",
       "    </tr>\n",
       "    <tr>\n",
       "      <th>374141</th>\n",
       "      <td>HOME_&amp;_GARDEN_1_020_NYC_3</td>\n",
       "      <td>HOME_&amp;_GARDEN_1_020</td>\n",
       "      <td>HOME_&amp;_GARDEN</td>\n",
       "      <td>HOME_&amp;_GARDEN_1</td>\n",
       "      <td>Tribeca</td>\n",
       "      <td>NYC_3</td>\n",
       "      <td>New York</td>\n",
       "      <td>2016-02-01</td>\n",
       "      <td>0</td>\n",
       "      <td>8.7125</td>\n",
       "    </tr>\n",
       "    <tr>\n",
       "      <th>374142</th>\n",
       "      <td>HOME_&amp;_GARDEN_1_020_NYC_3</td>\n",
       "      <td>HOME_&amp;_GARDEN_1_020</td>\n",
       "      <td>HOME_&amp;_GARDEN</td>\n",
       "      <td>HOME_&amp;_GARDEN_1</td>\n",
       "      <td>Tribeca</td>\n",
       "      <td>NYC_3</td>\n",
       "      <td>New York</td>\n",
       "      <td>2016-03-01</td>\n",
       "      <td>5</td>\n",
       "      <td>8.7125</td>\n",
       "    </tr>\n",
       "    <tr>\n",
       "      <th>374143</th>\n",
       "      <td>HOME_&amp;_GARDEN_1_020_NYC_3</td>\n",
       "      <td>HOME_&amp;_GARDEN_1_020</td>\n",
       "      <td>HOME_&amp;_GARDEN</td>\n",
       "      <td>HOME_&amp;_GARDEN_1</td>\n",
       "      <td>Tribeca</td>\n",
       "      <td>NYC_3</td>\n",
       "      <td>New York</td>\n",
       "      <td>2016-04-01</td>\n",
       "      <td>4</td>\n",
       "      <td>8.7125</td>\n",
       "    </tr>\n",
       "  </tbody>\n",
       "</table>\n",
       "<p>64 rows × 10 columns</p>\n",
       "</div>"
      ],
      "text/plain": [
       "                               id                 item       category  \\\n",
       "374080  HOME_&_GARDEN_1_020_NYC_3  HOME_&_GARDEN_1_020  HOME_&_GARDEN   \n",
       "374081  HOME_&_GARDEN_1_020_NYC_3  HOME_&_GARDEN_1_020  HOME_&_GARDEN   \n",
       "374082  HOME_&_GARDEN_1_020_NYC_3  HOME_&_GARDEN_1_020  HOME_&_GARDEN   \n",
       "374083  HOME_&_GARDEN_1_020_NYC_3  HOME_&_GARDEN_1_020  HOME_&_GARDEN   \n",
       "374084  HOME_&_GARDEN_1_020_NYC_3  HOME_&_GARDEN_1_020  HOME_&_GARDEN   \n",
       "...                           ...                  ...            ...   \n",
       "374139  HOME_&_GARDEN_1_020_NYC_3  HOME_&_GARDEN_1_020  HOME_&_GARDEN   \n",
       "374140  HOME_&_GARDEN_1_020_NYC_3  HOME_&_GARDEN_1_020  HOME_&_GARDEN   \n",
       "374141  HOME_&_GARDEN_1_020_NYC_3  HOME_&_GARDEN_1_020  HOME_&_GARDEN   \n",
       "374142  HOME_&_GARDEN_1_020_NYC_3  HOME_&_GARDEN_1_020  HOME_&_GARDEN   \n",
       "374143  HOME_&_GARDEN_1_020_NYC_3  HOME_&_GARDEN_1_020  HOME_&_GARDEN   \n",
       "\n",
       "             department    store store_code    region month_year  qty_sold  \\\n",
       "374080  HOME_&_GARDEN_1  Tribeca      NYC_3  New York 2011-01-01         0   \n",
       "374081  HOME_&_GARDEN_1  Tribeca      NYC_3  New York 2011-02-01         0   \n",
       "374082  HOME_&_GARDEN_1  Tribeca      NYC_3  New York 2011-03-01         0   \n",
       "374083  HOME_&_GARDEN_1  Tribeca      NYC_3  New York 2011-04-01         0   \n",
       "374084  HOME_&_GARDEN_1  Tribeca      NYC_3  New York 2011-05-01         0   \n",
       "...                 ...      ...        ...       ...        ...       ...   \n",
       "374139  HOME_&_GARDEN_1  Tribeca      NYC_3  New York 2015-12-01         0   \n",
       "374140  HOME_&_GARDEN_1  Tribeca      NYC_3  New York 2016-01-01         0   \n",
       "374141  HOME_&_GARDEN_1  Tribeca      NYC_3  New York 2016-02-01         0   \n",
       "374142  HOME_&_GARDEN_1  Tribeca      NYC_3  New York 2016-03-01         5   \n",
       "374143  HOME_&_GARDEN_1  Tribeca      NYC_3  New York 2016-04-01         4   \n",
       "\n",
       "        sell_price  \n",
       "374080      8.7125  \n",
       "374081      8.7125  \n",
       "374082      8.7125  \n",
       "374083      8.7125  \n",
       "374084      8.7125  \n",
       "...            ...  \n",
       "374139      8.7125  \n",
       "374140      8.7125  \n",
       "374141      8.7125  \n",
       "374142      8.7125  \n",
       "374143      8.7125  \n",
       "\n",
       "[64 rows x 10 columns]"
      ]
     },
     "execution_count": 18,
     "metadata": {},
     "output_type": "execute_result"
    }
   ],
   "source": [
    "df_forecast[df_forecast[\"id\"] == sample_ts]"
   ]
  },
  {
   "cell_type": "code",
   "execution_count": 19,
   "metadata": {},
   "outputs": [],
   "source": [
    "# Ordenar el DataFrame por las columnas \"id\" y \"month\"\n",
    "df_forecast.sort_values([\"id\", \"month_year\"], ascending=True, inplace=True)"
   ]
  },
  {
   "cell_type": "code",
   "execution_count": 20,
   "metadata": {},
   "outputs": [
    {
     "data": {
      "text/html": [
       "<div>\n",
       "<style scoped>\n",
       "    .dataframe tbody tr th:only-of-type {\n",
       "        vertical-align: middle;\n",
       "    }\n",
       "\n",
       "    .dataframe tbody tr th {\n",
       "        vertical-align: top;\n",
       "    }\n",
       "\n",
       "    .dataframe thead th {\n",
       "        text-align: right;\n",
       "    }\n",
       "</style>\n",
       "<table border=\"1\" class=\"dataframe\">\n",
       "  <thead>\n",
       "    <tr style=\"text-align: right;\">\n",
       "      <th></th>\n",
       "      <th>id</th>\n",
       "      <th>item</th>\n",
       "      <th>category</th>\n",
       "      <th>department</th>\n",
       "      <th>store</th>\n",
       "      <th>store_code</th>\n",
       "      <th>region</th>\n",
       "      <th>month_year</th>\n",
       "      <th>qty_sold</th>\n",
       "      <th>sell_price</th>\n",
       "    </tr>\n",
       "  </thead>\n",
       "  <tbody>\n",
       "    <tr>\n",
       "      <th>0</th>\n",
       "      <td>ACCESORIES_1_001_BOS_1</td>\n",
       "      <td>ACCESORIES_1_001</td>\n",
       "      <td>ACCESORIES</td>\n",
       "      <td>ACCESORIES_1</td>\n",
       "      <td>South_End</td>\n",
       "      <td>BOS_1</td>\n",
       "      <td>Boston</td>\n",
       "      <td>2011-01-01</td>\n",
       "      <td>0</td>\n",
       "      <td>12.7414</td>\n",
       "    </tr>\n",
       "    <tr>\n",
       "      <th>1</th>\n",
       "      <td>ACCESORIES_1_001_BOS_1</td>\n",
       "      <td>ACCESORIES_1_001</td>\n",
       "      <td>ACCESORIES</td>\n",
       "      <td>ACCESORIES_1</td>\n",
       "      <td>South_End</td>\n",
       "      <td>BOS_1</td>\n",
       "      <td>Boston</td>\n",
       "      <td>2011-02-01</td>\n",
       "      <td>0</td>\n",
       "      <td>12.7414</td>\n",
       "    </tr>\n",
       "    <tr>\n",
       "      <th>2</th>\n",
       "      <td>ACCESORIES_1_001_BOS_1</td>\n",
       "      <td>ACCESORIES_1_001</td>\n",
       "      <td>ACCESORIES</td>\n",
       "      <td>ACCESORIES_1</td>\n",
       "      <td>South_End</td>\n",
       "      <td>BOS_1</td>\n",
       "      <td>Boston</td>\n",
       "      <td>2011-03-01</td>\n",
       "      <td>0</td>\n",
       "      <td>12.7414</td>\n",
       "    </tr>\n",
       "    <tr>\n",
       "      <th>3</th>\n",
       "      <td>ACCESORIES_1_001_BOS_1</td>\n",
       "      <td>ACCESORIES_1_001</td>\n",
       "      <td>ACCESORIES</td>\n",
       "      <td>ACCESORIES_1</td>\n",
       "      <td>South_End</td>\n",
       "      <td>BOS_1</td>\n",
       "      <td>Boston</td>\n",
       "      <td>2011-04-01</td>\n",
       "      <td>0</td>\n",
       "      <td>12.7414</td>\n",
       "    </tr>\n",
       "    <tr>\n",
       "      <th>4</th>\n",
       "      <td>ACCESORIES_1_001_BOS_1</td>\n",
       "      <td>ACCESORIES_1_001</td>\n",
       "      <td>ACCESORIES</td>\n",
       "      <td>ACCESORIES_1</td>\n",
       "      <td>South_End</td>\n",
       "      <td>BOS_1</td>\n",
       "      <td>Boston</td>\n",
       "      <td>2011-05-01</td>\n",
       "      <td>0</td>\n",
       "      <td>12.7414</td>\n",
       "    </tr>\n",
       "  </tbody>\n",
       "</table>\n",
       "</div>"
      ],
      "text/plain": [
       "                       id              item    category    department  \\\n",
       "0  ACCESORIES_1_001_BOS_1  ACCESORIES_1_001  ACCESORIES  ACCESORIES_1   \n",
       "1  ACCESORIES_1_001_BOS_1  ACCESORIES_1_001  ACCESORIES  ACCESORIES_1   \n",
       "2  ACCESORIES_1_001_BOS_1  ACCESORIES_1_001  ACCESORIES  ACCESORIES_1   \n",
       "3  ACCESORIES_1_001_BOS_1  ACCESORIES_1_001  ACCESORIES  ACCESORIES_1   \n",
       "4  ACCESORIES_1_001_BOS_1  ACCESORIES_1_001  ACCESORIES  ACCESORIES_1   \n",
       "\n",
       "       store store_code  region month_year  qty_sold  sell_price  \n",
       "0  South_End      BOS_1  Boston 2011-01-01         0     12.7414  \n",
       "1  South_End      BOS_1  Boston 2011-02-01         0     12.7414  \n",
       "2  South_End      BOS_1  Boston 2011-03-01         0     12.7414  \n",
       "3  South_End      BOS_1  Boston 2011-04-01         0     12.7414  \n",
       "4  South_End      BOS_1  Boston 2011-05-01         0     12.7414  "
      ]
     },
     "execution_count": 20,
     "metadata": {},
     "output_type": "execute_result"
    }
   ],
   "source": [
    "df_forecast.head()"
   ]
  },
  {
   "cell_type": "code",
   "execution_count": 21,
   "metadata": {},
   "outputs": [
    {
     "name": "stdout",
     "output_type": "stream",
     "text": [
      "<class 'pandas.core.frame.DataFrame'>\n",
      "RangeIndex: 1951360 entries, 0 to 1951359\n",
      "Data columns (total 10 columns):\n",
      " #   Column      Dtype         \n",
      "---  ------      -----         \n",
      " 0   id          object        \n",
      " 1   item        object        \n",
      " 2   category    object        \n",
      " 3   department  object        \n",
      " 4   store       object        \n",
      " 5   store_code  object        \n",
      " 6   region      object        \n",
      " 7   month_year  datetime64[ns]\n",
      " 8   qty_sold    int64         \n",
      " 9   sell_price  float64       \n",
      "dtypes: datetime64[ns](1), float64(1), int64(1), object(7)\n",
      "memory usage: 148.9+ MB\n"
     ]
    }
   ],
   "source": [
    "df_forecast.info()"
   ]
  },
  {
   "cell_type": "code",
   "execution_count": 22,
   "metadata": {},
   "outputs": [],
   "source": [
    "month_column = df_forecast.pop(\"month_year\")\n",
    "id_column = df_forecast.pop('id')\n",
    "df_forecast.insert(0, 'month_year', month_column)\n",
    "df_forecast.insert(1, 'id', id_column)"
   ]
  },
  {
   "cell_type": "code",
   "execution_count": 23,
   "metadata": {},
   "outputs": [
    {
     "data": {
      "text/html": [
       "<div>\n",
       "<style scoped>\n",
       "    .dataframe tbody tr th:only-of-type {\n",
       "        vertical-align: middle;\n",
       "    }\n",
       "\n",
       "    .dataframe tbody tr th {\n",
       "        vertical-align: top;\n",
       "    }\n",
       "\n",
       "    .dataframe thead th {\n",
       "        text-align: right;\n",
       "    }\n",
       "</style>\n",
       "<table border=\"1\" class=\"dataframe\">\n",
       "  <thead>\n",
       "    <tr style=\"text-align: right;\">\n",
       "      <th></th>\n",
       "      <th>month_year</th>\n",
       "      <th>id</th>\n",
       "      <th>item</th>\n",
       "      <th>category</th>\n",
       "      <th>department</th>\n",
       "      <th>store</th>\n",
       "      <th>store_code</th>\n",
       "      <th>region</th>\n",
       "      <th>qty_sold</th>\n",
       "      <th>sell_price</th>\n",
       "    </tr>\n",
       "  </thead>\n",
       "  <tbody>\n",
       "    <tr>\n",
       "      <th>374080</th>\n",
       "      <td>2011-01-01</td>\n",
       "      <td>HOME_&amp;_GARDEN_1_020_NYC_3</td>\n",
       "      <td>HOME_&amp;_GARDEN_1_020</td>\n",
       "      <td>HOME_&amp;_GARDEN</td>\n",
       "      <td>HOME_&amp;_GARDEN_1</td>\n",
       "      <td>Tribeca</td>\n",
       "      <td>NYC_3</td>\n",
       "      <td>New York</td>\n",
       "      <td>0</td>\n",
       "      <td>8.7125</td>\n",
       "    </tr>\n",
       "    <tr>\n",
       "      <th>374081</th>\n",
       "      <td>2011-02-01</td>\n",
       "      <td>HOME_&amp;_GARDEN_1_020_NYC_3</td>\n",
       "      <td>HOME_&amp;_GARDEN_1_020</td>\n",
       "      <td>HOME_&amp;_GARDEN</td>\n",
       "      <td>HOME_&amp;_GARDEN_1</td>\n",
       "      <td>Tribeca</td>\n",
       "      <td>NYC_3</td>\n",
       "      <td>New York</td>\n",
       "      <td>0</td>\n",
       "      <td>8.7125</td>\n",
       "    </tr>\n",
       "    <tr>\n",
       "      <th>374082</th>\n",
       "      <td>2011-03-01</td>\n",
       "      <td>HOME_&amp;_GARDEN_1_020_NYC_3</td>\n",
       "      <td>HOME_&amp;_GARDEN_1_020</td>\n",
       "      <td>HOME_&amp;_GARDEN</td>\n",
       "      <td>HOME_&amp;_GARDEN_1</td>\n",
       "      <td>Tribeca</td>\n",
       "      <td>NYC_3</td>\n",
       "      <td>New York</td>\n",
       "      <td>0</td>\n",
       "      <td>8.7125</td>\n",
       "    </tr>\n",
       "    <tr>\n",
       "      <th>374083</th>\n",
       "      <td>2011-04-01</td>\n",
       "      <td>HOME_&amp;_GARDEN_1_020_NYC_3</td>\n",
       "      <td>HOME_&amp;_GARDEN_1_020</td>\n",
       "      <td>HOME_&amp;_GARDEN</td>\n",
       "      <td>HOME_&amp;_GARDEN_1</td>\n",
       "      <td>Tribeca</td>\n",
       "      <td>NYC_3</td>\n",
       "      <td>New York</td>\n",
       "      <td>0</td>\n",
       "      <td>8.7125</td>\n",
       "    </tr>\n",
       "    <tr>\n",
       "      <th>374084</th>\n",
       "      <td>2011-05-01</td>\n",
       "      <td>HOME_&amp;_GARDEN_1_020_NYC_3</td>\n",
       "      <td>HOME_&amp;_GARDEN_1_020</td>\n",
       "      <td>HOME_&amp;_GARDEN</td>\n",
       "      <td>HOME_&amp;_GARDEN_1</td>\n",
       "      <td>Tribeca</td>\n",
       "      <td>NYC_3</td>\n",
       "      <td>New York</td>\n",
       "      <td>0</td>\n",
       "      <td>8.7125</td>\n",
       "    </tr>\n",
       "    <tr>\n",
       "      <th>...</th>\n",
       "      <td>...</td>\n",
       "      <td>...</td>\n",
       "      <td>...</td>\n",
       "      <td>...</td>\n",
       "      <td>...</td>\n",
       "      <td>...</td>\n",
       "      <td>...</td>\n",
       "      <td>...</td>\n",
       "      <td>...</td>\n",
       "      <td>...</td>\n",
       "    </tr>\n",
       "    <tr>\n",
       "      <th>374139</th>\n",
       "      <td>2015-12-01</td>\n",
       "      <td>HOME_&amp;_GARDEN_1_020_NYC_3</td>\n",
       "      <td>HOME_&amp;_GARDEN_1_020</td>\n",
       "      <td>HOME_&amp;_GARDEN</td>\n",
       "      <td>HOME_&amp;_GARDEN_1</td>\n",
       "      <td>Tribeca</td>\n",
       "      <td>NYC_3</td>\n",
       "      <td>New York</td>\n",
       "      <td>0</td>\n",
       "      <td>8.7125</td>\n",
       "    </tr>\n",
       "    <tr>\n",
       "      <th>374140</th>\n",
       "      <td>2016-01-01</td>\n",
       "      <td>HOME_&amp;_GARDEN_1_020_NYC_3</td>\n",
       "      <td>HOME_&amp;_GARDEN_1_020</td>\n",
       "      <td>HOME_&amp;_GARDEN</td>\n",
       "      <td>HOME_&amp;_GARDEN_1</td>\n",
       "      <td>Tribeca</td>\n",
       "      <td>NYC_3</td>\n",
       "      <td>New York</td>\n",
       "      <td>0</td>\n",
       "      <td>8.7125</td>\n",
       "    </tr>\n",
       "    <tr>\n",
       "      <th>374141</th>\n",
       "      <td>2016-02-01</td>\n",
       "      <td>HOME_&amp;_GARDEN_1_020_NYC_3</td>\n",
       "      <td>HOME_&amp;_GARDEN_1_020</td>\n",
       "      <td>HOME_&amp;_GARDEN</td>\n",
       "      <td>HOME_&amp;_GARDEN_1</td>\n",
       "      <td>Tribeca</td>\n",
       "      <td>NYC_3</td>\n",
       "      <td>New York</td>\n",
       "      <td>0</td>\n",
       "      <td>8.7125</td>\n",
       "    </tr>\n",
       "    <tr>\n",
       "      <th>374142</th>\n",
       "      <td>2016-03-01</td>\n",
       "      <td>HOME_&amp;_GARDEN_1_020_NYC_3</td>\n",
       "      <td>HOME_&amp;_GARDEN_1_020</td>\n",
       "      <td>HOME_&amp;_GARDEN</td>\n",
       "      <td>HOME_&amp;_GARDEN_1</td>\n",
       "      <td>Tribeca</td>\n",
       "      <td>NYC_3</td>\n",
       "      <td>New York</td>\n",
       "      <td>5</td>\n",
       "      <td>8.7125</td>\n",
       "    </tr>\n",
       "    <tr>\n",
       "      <th>374143</th>\n",
       "      <td>2016-04-01</td>\n",
       "      <td>HOME_&amp;_GARDEN_1_020_NYC_3</td>\n",
       "      <td>HOME_&amp;_GARDEN_1_020</td>\n",
       "      <td>HOME_&amp;_GARDEN</td>\n",
       "      <td>HOME_&amp;_GARDEN_1</td>\n",
       "      <td>Tribeca</td>\n",
       "      <td>NYC_3</td>\n",
       "      <td>New York</td>\n",
       "      <td>4</td>\n",
       "      <td>8.7125</td>\n",
       "    </tr>\n",
       "  </tbody>\n",
       "</table>\n",
       "<p>64 rows × 10 columns</p>\n",
       "</div>"
      ],
      "text/plain": [
       "       month_year                         id                 item  \\\n",
       "374080 2011-01-01  HOME_&_GARDEN_1_020_NYC_3  HOME_&_GARDEN_1_020   \n",
       "374081 2011-02-01  HOME_&_GARDEN_1_020_NYC_3  HOME_&_GARDEN_1_020   \n",
       "374082 2011-03-01  HOME_&_GARDEN_1_020_NYC_3  HOME_&_GARDEN_1_020   \n",
       "374083 2011-04-01  HOME_&_GARDEN_1_020_NYC_3  HOME_&_GARDEN_1_020   \n",
       "374084 2011-05-01  HOME_&_GARDEN_1_020_NYC_3  HOME_&_GARDEN_1_020   \n",
       "...           ...                        ...                  ...   \n",
       "374139 2015-12-01  HOME_&_GARDEN_1_020_NYC_3  HOME_&_GARDEN_1_020   \n",
       "374140 2016-01-01  HOME_&_GARDEN_1_020_NYC_3  HOME_&_GARDEN_1_020   \n",
       "374141 2016-02-01  HOME_&_GARDEN_1_020_NYC_3  HOME_&_GARDEN_1_020   \n",
       "374142 2016-03-01  HOME_&_GARDEN_1_020_NYC_3  HOME_&_GARDEN_1_020   \n",
       "374143 2016-04-01  HOME_&_GARDEN_1_020_NYC_3  HOME_&_GARDEN_1_020   \n",
       "\n",
       "             category       department    store store_code    region  \\\n",
       "374080  HOME_&_GARDEN  HOME_&_GARDEN_1  Tribeca      NYC_3  New York   \n",
       "374081  HOME_&_GARDEN  HOME_&_GARDEN_1  Tribeca      NYC_3  New York   \n",
       "374082  HOME_&_GARDEN  HOME_&_GARDEN_1  Tribeca      NYC_3  New York   \n",
       "374083  HOME_&_GARDEN  HOME_&_GARDEN_1  Tribeca      NYC_3  New York   \n",
       "374084  HOME_&_GARDEN  HOME_&_GARDEN_1  Tribeca      NYC_3  New York   \n",
       "...               ...              ...      ...        ...       ...   \n",
       "374139  HOME_&_GARDEN  HOME_&_GARDEN_1  Tribeca      NYC_3  New York   \n",
       "374140  HOME_&_GARDEN  HOME_&_GARDEN_1  Tribeca      NYC_3  New York   \n",
       "374141  HOME_&_GARDEN  HOME_&_GARDEN_1  Tribeca      NYC_3  New York   \n",
       "374142  HOME_&_GARDEN  HOME_&_GARDEN_1  Tribeca      NYC_3  New York   \n",
       "374143  HOME_&_GARDEN  HOME_&_GARDEN_1  Tribeca      NYC_3  New York   \n",
       "\n",
       "        qty_sold  sell_price  \n",
       "374080         0      8.7125  \n",
       "374081         0      8.7125  \n",
       "374082         0      8.7125  \n",
       "374083         0      8.7125  \n",
       "374084         0      8.7125  \n",
       "...          ...         ...  \n",
       "374139         0      8.7125  \n",
       "374140         0      8.7125  \n",
       "374141         0      8.7125  \n",
       "374142         5      8.7125  \n",
       "374143         4      8.7125  \n",
       "\n",
       "[64 rows x 10 columns]"
      ]
     },
     "execution_count": 23,
     "metadata": {},
     "output_type": "execute_result"
    }
   ],
   "source": [
    "df_forecast[df_forecast[\"id\"] == sample_ts]"
   ]
  },
  {
   "cell_type": "markdown",
   "metadata": {},
   "source": [
    "# EDA"
   ]
  },
  {
   "cell_type": "markdown",
   "metadata": {},
   "source": [
    "### --> 1. EDA: Global Sales"
   ]
  },
  {
   "cell_type": "code",
   "execution_count": 24,
   "metadata": {},
   "outputs": [],
   "source": [
    "def plot_ts_acf_pacf(y, title):\n",
    "    '''\n",
    "    Plots the ts you pass and the acf and pacf.\n",
    "    '''\n",
    "    fig = plt.figure(figsize = (12, 10))\n",
    "    ax1, ax2, ax3 = fig.subplots(3, 1)\n",
    "\n",
    "    ax1.plot(y)\n",
    "    plot_acf(x = y, ax = ax2, lags = 14)\n",
    "    plot_pacf(x = y, ax = ax3, lags = 14)\n",
    "\n",
    "    plt.suptitle(t = title, fontsize = 20)\n",
    "    "
   ]
  },
  {
   "cell_type": "code",
   "execution_count": 25,
   "metadata": {},
   "outputs": [
    {
     "data": {
      "text/plain": [
       "\"df_forecast['month_year'] = df_forecast['month'].dt.to_timestamp()\""
      ]
     },
     "execution_count": 25,
     "metadata": {},
     "output_type": "execute_result"
    }
   ],
   "source": [
    "\"\"\"df_forecast['month_year'] = df_forecast['month'].dt.to_timestamp()\"\"\""
   ]
  },
  {
   "cell_type": "code",
   "execution_count": 55,
   "metadata": {},
   "outputs": [],
   "source": [
    "y = df_forecast.groupby(\"month_year\")[\"qty_sold\"].sum()"
   ]
  },
  {
   "cell_type": "code",
   "execution_count": 56,
   "metadata": {},
   "outputs": [],
   "source": [
    "y = y.iloc[:-2]"
   ]
  },
  {
   "cell_type": "code",
   "execution_count": 57,
   "metadata": {},
   "outputs": [
    {
     "data": {
      "image/png": "[encoded data removed]",
      "text/plain": [
       "<Figure size 1200x1000 with 3 Axes>"
      ]
     },
     "metadata": {},
     "output_type": "display_data"
    }
   ],
   "source": [
    "plot_ts_acf_pacf(y = y, title = \"Monthly Sales for all items in all shops\");"
   ]
  },
  {
   "cell_type": "markdown",
   "metadata": {},
   "source": [
    "Analizamos los peaks en ventas del 2016. probablemente Reyes!!"
   ]
  },
  {
   "cell_type": "code",
   "execution_count": 58,
   "metadata": {},
   "outputs": [
    {
     "data": {
      "text/plain": [
       "<Axes: xlabel='month_year'>"
      ]
     },
     "execution_count": 58,
     "metadata": {},
     "output_type": "execute_result"
    },
    {
     "data": {
      "image/png": "[encoded data removed]",
      "text/plain": [
       "<Figure size 1200x400 with 1 Axes>"
      ]
     },
     "metadata": {},
     "output_type": "display_data"
    }
   ],
   "source": [
    "(df_forecast[(df_forecast[\"month_year\"].dt.year == 2015) | (df_forecast['month_year'].dt.year == 2016)]\n",
    " .groupby([\"month_year\"])[\"qty_sold\"].sum()\n",
    " .sort_index()  # Ordena en orden cronológico\n",
    " .plot(kind=\"bar\", figsize=(12, 4))\n",
    ")"
   ]
  },
  {
   "cell_type": "code",
   "execution_count": 59,
   "metadata": {},
   "outputs": [
    {
     "data": {
      "text/html": [
       "<div>\n",
       "<style scoped>\n",
       "    .dataframe tbody tr th:only-of-type {\n",
       "        vertical-align: middle;\n",
       "    }\n",
       "\n",
       "    .dataframe tbody tr th {\n",
       "        vertical-align: top;\n",
       "    }\n",
       "\n",
       "    .dataframe thead th {\n",
       "        text-align: right;\n",
       "    }\n",
       "</style>\n",
       "<table border=\"1\" class=\"dataframe\">\n",
       "  <thead>\n",
       "    <tr style=\"text-align: right;\">\n",
       "      <th></th>\n",
       "      <th>month_year</th>\n",
       "      <th>id</th>\n",
       "      <th>item</th>\n",
       "      <th>category</th>\n",
       "      <th>department</th>\n",
       "      <th>store</th>\n",
       "      <th>store_code</th>\n",
       "      <th>region</th>\n",
       "      <th>qty_sold</th>\n",
       "      <th>sell_price</th>\n",
       "      <th>qty_sold_lag1</th>\n",
       "    </tr>\n",
       "  </thead>\n",
       "  <tbody>\n",
       "    <tr>\n",
       "      <th>1500540</th>\n",
       "      <td>2016-01-01</td>\n",
       "      <td>SUPERMARKET_3_120_NYC_3</td>\n",
       "      <td>SUPERMARKET_3_120</td>\n",
       "      <td>SUPERMARKET</td>\n",
       "      <td>SUPERMARKET_3</td>\n",
       "      <td>Tribeca</td>\n",
       "      <td>NYC_3</td>\n",
       "      <td>New York</td>\n",
       "      <td>2474</td>\n",
       "      <td>5.976</td>\n",
       "      <td>2142.0</td>\n",
       "    </tr>\n",
       "    <tr>\n",
       "      <th>1481340</th>\n",
       "      <td>2016-01-01</td>\n",
       "      <td>SUPERMARKET_3_090_NYC_3</td>\n",
       "      <td>SUPERMARKET_3_090</td>\n",
       "      <td>SUPERMARKET</td>\n",
       "      <td>SUPERMARKET_3</td>\n",
       "      <td>Tribeca</td>\n",
       "      <td>NYC_3</td>\n",
       "      <td>New York</td>\n",
       "      <td>2379</td>\n",
       "      <td>1.920</td>\n",
       "      <td>202.0</td>\n",
       "    </tr>\n",
       "    <tr>\n",
       "      <th>1798524</th>\n",
       "      <td>2016-01-01</td>\n",
       "      <td>SUPERMARKET_3_586_BOS_2</td>\n",
       "      <td>SUPERMARKET_3_586</td>\n",
       "      <td>SUPERMARKET</td>\n",
       "      <td>SUPERMARKET_3</td>\n",
       "      <td>Roxbury</td>\n",
       "      <td>BOS_2</td>\n",
       "      <td>Boston</td>\n",
       "      <td>2205</td>\n",
       "      <td>2.016</td>\n",
       "      <td>3159.0</td>\n",
       "    </tr>\n",
       "    <tr>\n",
       "      <th>1481596</th>\n",
       "      <td>2016-01-01</td>\n",
       "      <td>SUPERMARKET_3_090_PHI_3</td>\n",
       "      <td>SUPERMARKET_3_090</td>\n",
       "      <td>SUPERMARKET</td>\n",
       "      <td>SUPERMARKET_3</td>\n",
       "      <td>Queen_Village</td>\n",
       "      <td>PHI_3</td>\n",
       "      <td>Philadelphia</td>\n",
       "      <td>2082</td>\n",
       "      <td>1.656</td>\n",
       "      <td>147.0</td>\n",
       "    </tr>\n",
       "    <tr>\n",
       "      <th>1798588</th>\n",
       "      <td>2016-01-01</td>\n",
       "      <td>SUPERMARKET_3_586_BOS_3</td>\n",
       "      <td>SUPERMARKET_3_586</td>\n",
       "      <td>SUPERMARKET</td>\n",
       "      <td>SUPERMARKET_3</td>\n",
       "      <td>Back_Bay</td>\n",
       "      <td>BOS_3</td>\n",
       "      <td>Boston</td>\n",
       "      <td>1926</td>\n",
       "      <td>2.016</td>\n",
       "      <td>2507.0</td>\n",
       "    </tr>\n",
       "    <tr>\n",
       "      <th>...</th>\n",
       "      <td>...</td>\n",
       "      <td>...</td>\n",
       "      <td>...</td>\n",
       "      <td>...</td>\n",
       "      <td>...</td>\n",
       "      <td>...</td>\n",
       "      <td>...</td>\n",
       "      <td>...</td>\n",
       "      <td>...</td>\n",
       "      <td>...</td>\n",
       "      <td>...</td>\n",
       "    </tr>\n",
       "    <tr>\n",
       "      <th>1810684</th>\n",
       "      <td>2016-01-01</td>\n",
       "      <td>SUPERMARKET_3_605_BOS_2</td>\n",
       "      <td>SUPERMARKET_3_605</td>\n",
       "      <td>SUPERMARKET</td>\n",
       "      <td>SUPERMARKET_3</td>\n",
       "      <td>Roxbury</td>\n",
       "      <td>BOS_2</td>\n",
       "      <td>Boston</td>\n",
       "      <td>0</td>\n",
       "      <td>3.216</td>\n",
       "      <td>0.0</td>\n",
       "    </tr>\n",
       "    <tr>\n",
       "      <th>1810748</th>\n",
       "      <td>2016-01-01</td>\n",
       "      <td>SUPERMARKET_3_605_BOS_3</td>\n",
       "      <td>SUPERMARKET_3_605</td>\n",
       "      <td>SUPERMARKET</td>\n",
       "      <td>SUPERMARKET_3</td>\n",
       "      <td>Back_Bay</td>\n",
       "      <td>BOS_3</td>\n",
       "      <td>Boston</td>\n",
       "      <td>0</td>\n",
       "      <td>3.216</td>\n",
       "      <td>0.0</td>\n",
       "    </tr>\n",
       "    <tr>\n",
       "      <th>1810812</th>\n",
       "      <td>2016-01-01</td>\n",
       "      <td>SUPERMARKET_3_605_NYC_1</td>\n",
       "      <td>SUPERMARKET_3_605</td>\n",
       "      <td>SUPERMARKET</td>\n",
       "      <td>SUPERMARKET_3</td>\n",
       "      <td>Greenwich_Village</td>\n",
       "      <td>NYC_1</td>\n",
       "      <td>New York</td>\n",
       "      <td>0</td>\n",
       "      <td>3.216</td>\n",
       "      <td>0.0</td>\n",
       "    </tr>\n",
       "    <tr>\n",
       "      <th>1810876</th>\n",
       "      <td>2016-01-01</td>\n",
       "      <td>SUPERMARKET_3_605_NYC_2</td>\n",
       "      <td>SUPERMARKET_3_605</td>\n",
       "      <td>SUPERMARKET</td>\n",
       "      <td>SUPERMARKET_3</td>\n",
       "      <td>Harlem</td>\n",
       "      <td>NYC_2</td>\n",
       "      <td>New York</td>\n",
       "      <td>0</td>\n",
       "      <td>3.216</td>\n",
       "      <td>0.0</td>\n",
       "    </tr>\n",
       "    <tr>\n",
       "      <th>1562172</th>\n",
       "      <td>2016-01-01</td>\n",
       "      <td>SUPERMARKET_3_216_PHI_2</td>\n",
       "      <td>SUPERMARKET_3_216</td>\n",
       "      <td>SUPERMARKET</td>\n",
       "      <td>SUPERMARKET_3</td>\n",
       "      <td>Yorktown</td>\n",
       "      <td>PHI_2</td>\n",
       "      <td>Philadelphia</td>\n",
       "      <td>0</td>\n",
       "      <td>3.000</td>\n",
       "      <td>0.0</td>\n",
       "    </tr>\n",
       "  </tbody>\n",
       "</table>\n",
       "<p>30490 rows × 11 columns</p>\n",
       "</div>"
      ],
      "text/plain": [
       "        month_year                       id               item     category  \\\n",
       "1500540 2016-01-01  SUPERMARKET_3_120_NYC_3  SUPERMARKET_3_120  SUPERMARKET   \n",
       "1481340 2016-01-01  SUPERMARKET_3_090_NYC_3  SUPERMARKET_3_090  SUPERMARKET   \n",
       "1798524 2016-01-01  SUPERMARKET_3_586_BOS_2  SUPERMARKET_3_586  SUPERMARKET   \n",
       "1481596 2016-01-01  SUPERMARKET_3_090_PHI_3  SUPERMARKET_3_090  SUPERMARKET   \n",
       "1798588 2016-01-01  SUPERMARKET_3_586_BOS_3  SUPERMARKET_3_586  SUPERMARKET   \n",
       "...            ...                      ...                ...          ...   \n",
       "1810684 2016-01-01  SUPERMARKET_3_605_BOS_2  SUPERMARKET_3_605  SUPERMARKET   \n",
       "1810748 2016-01-01  SUPERMARKET_3_605_BOS_3  SUPERMARKET_3_605  SUPERMARKET   \n",
       "1810812 2016-01-01  SUPERMARKET_3_605_NYC_1  SUPERMARKET_3_605  SUPERMARKET   \n",
       "1810876 2016-01-01  SUPERMARKET_3_605_NYC_2  SUPERMARKET_3_605  SUPERMARKET   \n",
       "1562172 2016-01-01  SUPERMARKET_3_216_PHI_2  SUPERMARKET_3_216  SUPERMARKET   \n",
       "\n",
       "            department              store store_code        region  qty_sold  \\\n",
       "1500540  SUPERMARKET_3            Tribeca      NYC_3      New York      2474   \n",
       "1481340  SUPERMARKET_3            Tribeca      NYC_3      New York      2379   \n",
       "1798524  SUPERMARKET_3            Roxbury      BOS_2        Boston      2205   \n",
       "1481596  SUPERMARKET_3      Queen_Village      PHI_3  Philadelphia      2082   \n",
       "1798588  SUPERMARKET_3           Back_Bay      BOS_3        Boston      1926   \n",
       "...                ...                ...        ...           ...       ...   \n",
       "1810684  SUPERMARKET_3            Roxbury      BOS_2        Boston         0   \n",
       "1810748  SUPERMARKET_3           Back_Bay      BOS_3        Boston         0   \n",
       "1810812  SUPERMARKET_3  Greenwich_Village      NYC_1      New York         0   \n",
       "1810876  SUPERMARKET_3             Harlem      NYC_2      New York         0   \n",
       "1562172  SUPERMARKET_3           Yorktown      PHI_2  Philadelphia         0   \n",
       "\n",
       "         sell_price  qty_sold_lag1  \n",
       "1500540       5.976         2142.0  \n",
       "1481340       1.920          202.0  \n",
       "1798524       2.016         3159.0  \n",
       "1481596       1.656          147.0  \n",
       "1798588       2.016         2507.0  \n",
       "...             ...            ...  \n",
       "1810684       3.216            0.0  \n",
       "1810748       3.216            0.0  \n",
       "1810812       3.216            0.0  \n",
       "1810876       3.216            0.0  \n",
       "1562172       3.000            0.0  \n",
       "\n",
       "[30490 rows x 11 columns]"
      ]
     },
     "execution_count": 59,
     "metadata": {},
     "output_type": "execute_result"
    }
   ],
   "source": [
    "df_forecast[df_forecast[\"month_year\"]== \"2016-01-01\"].sort_values (by=\"qty_sold\", ascending=False)\n"
   ]
  },
  {
   "cell_type": "code",
   "execution_count": 60,
   "metadata": {},
   "outputs": [
    {
     "data": {
      "text/plain": [
       "<Axes: xlabel='month_year,item'>"
      ]
     },
     "execution_count": 60,
     "metadata": {},
     "output_type": "execute_result"
    },
    {
     "data": {
      "image/png": "[encoded data removed]",
      "text/plain": [
       "<Figure size 1200x400 with 1 Axes>"
      ]
     },
     "metadata": {},
     "output_type": "display_data"
    }
   ],
   "source": [
    "(df_forecast[(df_forecast['month_year'].dt.year == 2016) & (df_forecast['item'] == \"SUPERMARKET_3_120\")]\n",
    "               .groupby([\"month_year\", \"item\"])[\"qty_sold\"].sum()\n",
    "               .sort_index()  # Ordena en orden cronológico\n",
    "               .plot(kind=\"bar\", figsize=(12, 4))\n",
    "              )\n",
    "#Miramos este producto como ejemplo, venta por semanas y evolución de precio"
   ]
  },
  {
   "cell_type": "code",
   "execution_count": 61,
   "metadata": {},
   "outputs": [
    {
     "data": {
      "text/plain": [
       "<Axes: xlabel='id'>"
      ]
     },
     "execution_count": 61,
     "metadata": {},
     "output_type": "execute_result"
    },
    {
     "data": {
      "image/png": "[encoded data removed]",
      "text/plain": [
       "<Figure size 1200x400 with 1 Axes>"
      ]
     },
     "metadata": {},
     "output_type": "display_data"
    }
   ],
   "source": [
    "top_10_items = (df_forecast[df_forecast['month_year'].dt.year == 2016]\n",
    "                .groupby([\"id\"])[\"qty_sold\"].sum()\n",
    "                .sort_values(ascending=False)  # Ordena en orden descendente\n",
    "                .head(10)  # Selecciona los top 10\n",
    "               )\n",
    "top_10_items.plot(kind=\"bar\", figsize=(12, 4))"
   ]
  },
  {
   "cell_type": "markdown",
   "metadata": {},
   "source": [
    "### --> 2. EDA: Top 3 Stores"
   ]
  },
  {
   "cell_type": "code",
   "execution_count": 62,
   "metadata": {},
   "outputs": [
    {
     "data": {
      "image/png": "[encoded data removed]",
      "text/plain": [
       "<Figure size 1200x400 with 1 Axes>"
      ]
     },
     "metadata": {},
     "output_type": "display_data"
    }
   ],
   "source": [
    "(\n",
    "    df_forecast.\n",
    "    groupby([\"store\"])\n",
    "    [\"qty_sold\"].sum()\n",
    "    .sort_values(ascending = False)\n",
    "    .plot(kind = \"bar\", figsize = (12, 4))\n",
    ");"
   ]
  },
  {
   "cell_type": "code",
   "execution_count": 63,
   "metadata": {},
   "outputs": [
    {
     "data": {
      "text/plain": [
       "store\n",
       "South_End            195136\n",
       "Roxbury              195136\n",
       "Back_Bay             195136\n",
       "Greenwich_Village    195136\n",
       "Harlem               195136\n",
       "Tribeca              195136\n",
       "Brooklyn             195136\n",
       "Midtown_Village      195136\n",
       "Yorktown             195136\n",
       "Queen_Village        195136\n",
       "Name: count, dtype: int64"
      ]
     },
     "execution_count": 63,
     "metadata": {},
     "output_type": "execute_result"
    }
   ],
   "source": [
    "df_forecast[\"store\"].value_counts() #10 tiendas"
   ]
  },
  {
   "cell_type": "code",
   "execution_count": 64,
   "metadata": {},
   "outputs": [
    {
     "data": {
      "text/plain": [
       "item\n",
       "ACCESORIES_1_001       640\n",
       "SUPERMARKET_2_210      640\n",
       "SUPERMARKET_2_201      640\n",
       "SUPERMARKET_2_202      640\n",
       "SUPERMARKET_2_203      640\n",
       "                      ... \n",
       "HOME_&_GARDEN_1_464    640\n",
       "HOME_&_GARDEN_1_465    640\n",
       "HOME_&_GARDEN_1_466    640\n",
       "HOME_&_GARDEN_1_467    640\n",
       "SUPERMARKET_3_827      640\n",
       "Name: count, Length: 3049, dtype: int64"
      ]
     },
     "execution_count": 64,
     "metadata": {},
     "output_type": "execute_result"
    }
   ],
   "source": [
    "df_forecast[\"item\"].value_counts() #3049 ítems"
   ]
  },
  {
   "cell_type": "markdown",
   "metadata": {},
   "source": [
    "\n",
    "### --> 3. EDA: Top 3 Departments\n"
   ]
  },
  {
   "cell_type": "code",
   "execution_count": 65,
   "metadata": {},
   "outputs": [
    {
     "data": {
      "image/png": "[encoded data removed]",
      "text/plain": [
       "<Figure size 1200x400 with 1 Axes>"
      ]
     },
     "metadata": {},
     "output_type": "display_data"
    }
   ],
   "source": [
    "(\n",
    "    df_forecast.\n",
    "    groupby([\"department\"])\n",
    "    [\"qty_sold\"].sum()\n",
    "    .sort_values(ascending = False)\n",
    "    .plot(kind = \"bar\", figsize = (12, 4))\n",
    ");"
   ]
  },
  {
   "cell_type": "markdown",
   "metadata": {},
   "source": [
    "# Build Time Series Features"
   ]
  },
  {
   "cell_type": "code",
   "execution_count": 66,
   "metadata": {},
   "outputs": [],
   "source": [
    "df_forecast['qty_sold_lag1'] = df_forecast['qty_sold'].shift(1)"
   ]
  },
  {
   "cell_type": "code",
   "execution_count": 67,
   "metadata": {},
   "outputs": [
    {
     "data": {
      "text/plain": [
       "\"df_forecast.groupby('item')['qty_sold_lag1'].sum().reset_index()\""
      ]
     },
     "execution_count": 67,
     "metadata": {},
     "output_type": "execute_result"
    }
   ],
   "source": [
    "\"\"\"df_forecast.groupby('item')['qty_sold_lag1'].sum().reset_index()\"\"\""
   ]
  },
  {
   "cell_type": "code",
   "execution_count": 69,
   "metadata": {},
   "outputs": [
    {
     "data": {
      "text/plain": [
       "'def build_ts_vars(df, gb_list, target_column, agg_func, agg_func_name):\\n    \\n    assert \"month_year\" in df.columns.tolist(), \"month_year must be in df columns\"\\n    \\n    new_name = \"_\".join(gb_list + [target_column] + [agg_func_name])\\n\\n    gb_df_ = (\\n        df_forecast\\n        .set_index(\"month_year\")\\n        .groupby(gb_list)\\n        .resample(\"Y\")[target_column]\\n        .apply(agg_func)\\n        .to_frame()\\n        .reset_index()\\n        .rename(\\n            columns = {\\n                target_column : new_name\\n            }\\n        )\\n    )\\n        \\n    gb_df_[f\"{new_name}_lag1\"] = gb_df_.groupby(gb_list)[new_name].transform(\\n        lambda series: series.shift(1)\\n    )\\n    \\n   print(f\"Dropping columns that might cause target leakage {new_name}\")\\n    gb_df_.drop(new_name, inplace = True, axis = 1)\\n    \\n    return gb_df_'"
      ]
     },
     "execution_count": 69,
     "metadata": {},
     "output_type": "execute_result"
    }
   ],
   "source": [
    "\"\"\"def build_ts_vars(df, gb_list, target_column, agg_func, agg_func_name):\n",
    "    \n",
    "    assert \"month_year\" in df.columns.tolist(), \"month_year must be in df columns\"\n",
    "    \n",
    "    new_name = \"_\".join(gb_list + [target_column] + [agg_func_name])\n",
    "\n",
    "    gb_df_ = (\n",
    "        df_forecast\n",
    "        .set_index(\"month_year\")\n",
    "        .groupby(gb_list)\n",
    "        .resample(\"Y\")[target_column]\n",
    "        .apply(agg_func)\n",
    "        .to_frame()\n",
    "        .reset_index()\n",
    "        .rename(\n",
    "            columns = {\n",
    "                target_column : new_name\n",
    "            }\n",
    "        )\n",
    "    )\n",
    "        \n",
    "    gb_df_[f\"{new_name}_lag1\"] = gb_df_.groupby(gb_list)[new_name].transform(\n",
    "        lambda series: series.shift(1)\n",
    "    )\n",
    "    \n",
    "   print(f\"Dropping columns that might cause target leakage {new_name}\")\n",
    "    gb_df_.drop(new_name, inplace = True, axis = 1)\n",
    "    \n",
    "    return gb_df_\"\"\""
   ]
  },
  {
   "cell_type": "code",
   "execution_count": 70,
   "metadata": {},
   "outputs": [
    {
     "data": {
      "text/plain": [
       "'GB_LIST = [\"item\"]\\nTARGET_COLUMN = \"qty_sold\"\\nAGG_FUNC = np.sum\\nAGG_FUNC_NAME = \"sum\"\\n\\nvars_ts_ = build_ts_vars(\\n    df = df_forecast,\\n    gb_list = GB_LIST,\\n    target_column = TARGET_COLUMN,\\n    agg_func = AGG_FUNC,\\n    agg_func_name =  AGG_FUNC_NAME\\n    \\n)\\n\\nvars_ts_.head()'"
      ]
     },
     "execution_count": 70,
     "metadata": {},
     "output_type": "execute_result"
    }
   ],
   "source": [
    "\"\"\"GB_LIST = [\"item\"]\n",
    "TARGET_COLUMN = \"qty_sold\"\n",
    "AGG_FUNC = np.sum\n",
    "AGG_FUNC_NAME = \"sum\"\n",
    "\n",
    "vars_ts_ = build_ts_vars(\n",
    "    df = df_forecast,\n",
    "    gb_list = GB_LIST,\n",
    "    target_column = TARGET_COLUMN,\n",
    "    agg_func = AGG_FUNC,\n",
    "    agg_func_name =  AGG_FUNC_NAME\n",
    "    \n",
    ")\n",
    "\n",
    "vars_ts_.head()\"\"\""
   ]
  },
  {
   "cell_type": "markdown",
   "metadata": {},
   "source": [
    "### Join TS Features"
   ]
  },
  {
   "cell_type": "code",
   "execution_count": 71,
   "metadata": {},
   "outputs": [
    {
     "data": {
      "text/plain": [
       "'print(df_forecast.shape)\\n\\ndf = pd.merge(df_forecast, vars_ts_, on = [\"month_year\"] + GB_LIST, how = \"left\")\\n\\nprint(df.shape)'"
      ]
     },
     "execution_count": 71,
     "metadata": {},
     "output_type": "execute_result"
    }
   ],
   "source": [
    "\"\"\"print(df_forecast.shape)\n",
    "\n",
    "df = pd.merge(df_forecast, vars_ts_, on = [\"month_year\"] + GB_LIST, how = \"left\")\n",
    "\n",
    "print(df.shape)\"\"\""
   ]
  },
  {
   "cell_type": "code",
   "execution_count": 72,
   "metadata": {},
   "outputs": [],
   "source": [
    "df=df_forecast.copy()"
   ]
  },
  {
   "cell_type": "code",
   "execution_count": 73,
   "metadata": {},
   "outputs": [
    {
     "name": "stdout",
     "output_type": "stream",
     "text": [
      "<class 'pandas.core.frame.DataFrame'>\n",
      "RangeIndex: 1951360 entries, 0 to 1951359\n",
      "Data columns (total 11 columns):\n",
      " #   Column         Dtype         \n",
      "---  ------         -----         \n",
      " 0   month_year     datetime64[ns]\n",
      " 1   id             object        \n",
      " 2   item           object        \n",
      " 3   category       object        \n",
      " 4   department     object        \n",
      " 5   store          object        \n",
      " 6   store_code     object        \n",
      " 7   region         object        \n",
      " 8   qty_sold       int64         \n",
      " 9   sell_price     float64       \n",
      " 10  qty_sold_lag1  float64       \n",
      "dtypes: datetime64[ns](1), float64(2), int64(1), object(7)\n",
      "memory usage: 163.8+ MB\n"
     ]
    }
   ],
   "source": [
    "df.info()"
   ]
  },
  {
   "cell_type": "code",
   "execution_count": 74,
   "metadata": {},
   "outputs": [
    {
     "data": {
      "text/plain": [
       "month_year       0\n",
       "id               0\n",
       "item             0\n",
       "category         0\n",
       "department       0\n",
       "store            0\n",
       "store_code       0\n",
       "region           0\n",
       "qty_sold         0\n",
       "sell_price       0\n",
       "qty_sold_lag1    1\n",
       "dtype: int64"
      ]
     },
     "execution_count": 74,
     "metadata": {},
     "output_type": "execute_result"
    }
   ],
   "source": [
    "df.isnull().sum() #Revisamos Nulos, que solo tienen que estar en el registro 1 de nuestro dataset"
   ]
  },
  {
   "cell_type": "code",
   "execution_count": 75,
   "metadata": {},
   "outputs": [
    {
     "data": {
      "text/plain": [
       "'df[\"item_qty_sold_sum_lag1\"].fillna(-999, inplace = True)\\ndf[\"item_qty_sold_sum_lag2\"].fillna(-999, inplace = True)\\ndf[\"item_qty_sold_sum_lag3\"].fillna(-999, inplace = True)'"
      ]
     },
     "execution_count": 75,
     "metadata": {},
     "output_type": "execute_result"
    }
   ],
   "source": [
    "\"\"\"df[\"item_qty_sold_sum_lag1\"].fillna(-999, inplace = True)\n",
    "df[\"item_qty_sold_sum_lag2\"].fillna(-999, inplace = True)\n",
    "df[\"item_qty_sold_sum_lag3\"].fillna(-999, inplace = True)\"\"\""
   ]
  },
  {
   "cell_type": "code",
   "execution_count": 76,
   "metadata": {},
   "outputs": [
    {
     "data": {
      "text/html": [
       "<div>\n",
       "<style scoped>\n",
       "    .dataframe tbody tr th:only-of-type {\n",
       "        vertical-align: middle;\n",
       "    }\n",
       "\n",
       "    .dataframe tbody tr th {\n",
       "        vertical-align: top;\n",
       "    }\n",
       "\n",
       "    .dataframe thead th {\n",
       "        text-align: right;\n",
       "    }\n",
       "</style>\n",
       "<table border=\"1\" class=\"dataframe\">\n",
       "  <thead>\n",
       "    <tr style=\"text-align: right;\">\n",
       "      <th></th>\n",
       "      <th>month_year</th>\n",
       "      <th>id</th>\n",
       "      <th>item</th>\n",
       "      <th>category</th>\n",
       "      <th>department</th>\n",
       "      <th>store</th>\n",
       "      <th>store_code</th>\n",
       "      <th>region</th>\n",
       "      <th>qty_sold</th>\n",
       "      <th>sell_price</th>\n",
       "      <th>qty_sold_lag1</th>\n",
       "    </tr>\n",
       "  </thead>\n",
       "  <tbody>\n",
       "    <tr>\n",
       "      <th>0</th>\n",
       "      <td>2011-01-01</td>\n",
       "      <td>ACCESORIES_1_001_BOS_1</td>\n",
       "      <td>ACCESORIES_1_001</td>\n",
       "      <td>ACCESORIES</td>\n",
       "      <td>ACCESORIES_1</td>\n",
       "      <td>South_End</td>\n",
       "      <td>BOS_1</td>\n",
       "      <td>Boston</td>\n",
       "      <td>0</td>\n",
       "      <td>12.7414</td>\n",
       "      <td>NaN</td>\n",
       "    </tr>\n",
       "    <tr>\n",
       "      <th>1</th>\n",
       "      <td>2011-02-01</td>\n",
       "      <td>ACCESORIES_1_001_BOS_1</td>\n",
       "      <td>ACCESORIES_1_001</td>\n",
       "      <td>ACCESORIES</td>\n",
       "      <td>ACCESORIES_1</td>\n",
       "      <td>South_End</td>\n",
       "      <td>BOS_1</td>\n",
       "      <td>Boston</td>\n",
       "      <td>0</td>\n",
       "      <td>12.7414</td>\n",
       "      <td>0.0</td>\n",
       "    </tr>\n",
       "    <tr>\n",
       "      <th>2</th>\n",
       "      <td>2011-03-01</td>\n",
       "      <td>ACCESORIES_1_001_BOS_1</td>\n",
       "      <td>ACCESORIES_1_001</td>\n",
       "      <td>ACCESORIES</td>\n",
       "      <td>ACCESORIES_1</td>\n",
       "      <td>South_End</td>\n",
       "      <td>BOS_1</td>\n",
       "      <td>Boston</td>\n",
       "      <td>0</td>\n",
       "      <td>12.7414</td>\n",
       "      <td>0.0</td>\n",
       "    </tr>\n",
       "    <tr>\n",
       "      <th>3</th>\n",
       "      <td>2011-04-01</td>\n",
       "      <td>ACCESORIES_1_001_BOS_1</td>\n",
       "      <td>ACCESORIES_1_001</td>\n",
       "      <td>ACCESORIES</td>\n",
       "      <td>ACCESORIES_1</td>\n",
       "      <td>South_End</td>\n",
       "      <td>BOS_1</td>\n",
       "      <td>Boston</td>\n",
       "      <td>0</td>\n",
       "      <td>12.7414</td>\n",
       "      <td>0.0</td>\n",
       "    </tr>\n",
       "    <tr>\n",
       "      <th>4</th>\n",
       "      <td>2011-05-01</td>\n",
       "      <td>ACCESORIES_1_001_BOS_1</td>\n",
       "      <td>ACCESORIES_1_001</td>\n",
       "      <td>ACCESORIES</td>\n",
       "      <td>ACCESORIES_1</td>\n",
       "      <td>South_End</td>\n",
       "      <td>BOS_1</td>\n",
       "      <td>Boston</td>\n",
       "      <td>0</td>\n",
       "      <td>12.7414</td>\n",
       "      <td>0.0</td>\n",
       "    </tr>\n",
       "  </tbody>\n",
       "</table>\n",
       "</div>"
      ],
      "text/plain": [
       "  month_year                      id              item    category  \\\n",
       "0 2011-01-01  ACCESORIES_1_001_BOS_1  ACCESORIES_1_001  ACCESORIES   \n",
       "1 2011-02-01  ACCESORIES_1_001_BOS_1  ACCESORIES_1_001  ACCESORIES   \n",
       "2 2011-03-01  ACCESORIES_1_001_BOS_1  ACCESORIES_1_001  ACCESORIES   \n",
       "3 2011-04-01  ACCESORIES_1_001_BOS_1  ACCESORIES_1_001  ACCESORIES   \n",
       "4 2011-05-01  ACCESORIES_1_001_BOS_1  ACCESORIES_1_001  ACCESORIES   \n",
       "\n",
       "     department      store store_code  region  qty_sold  sell_price  \\\n",
       "0  ACCESORIES_1  South_End      BOS_1  Boston         0     12.7414   \n",
       "1  ACCESORIES_1  South_End      BOS_1  Boston         0     12.7414   \n",
       "2  ACCESORIES_1  South_End      BOS_1  Boston         0     12.7414   \n",
       "3  ACCESORIES_1  South_End      BOS_1  Boston         0     12.7414   \n",
       "4  ACCESORIES_1  South_End      BOS_1  Boston         0     12.7414   \n",
       "\n",
       "   qty_sold_lag1  \n",
       "0            NaN  \n",
       "1            0.0  \n",
       "2            0.0  \n",
       "3            0.0  \n",
       "4            0.0  "
      ]
     },
     "execution_count": 76,
     "metadata": {},
     "output_type": "execute_result"
    }
   ],
   "source": [
    "df.head()"
   ]
  },
  {
   "cell_type": "markdown",
   "metadata": {},
   "source": [
    "Para hacer el subsample, teniendo en cuenta los últimos 2 años y medio de los productos que hacen el 60% de la venta"
   ]
  },
  {
   "cell_type": "code",
   "execution_count": 77,
   "metadata": {},
   "outputs": [],
   "source": [
    "#Definimos fecha máx. calculamos ultimos 2 años y medio recientes y aplicamos fórmula cumsum\n",
    "max_month_year = df['month_year'].max()\n",
    "df_2years = max_month_year - pd.DateOffset(years=2, months=6)\n",
    "df_2MAT= df[df['month_year']>= df_2years]"
   ]
  },
  {
   "cell_type": "code",
   "execution_count": 78,
   "metadata": {},
   "outputs": [],
   "source": [
    "# Aplica la lógica existente para obtener los productos que representan el 60% de las ventas\n",
    "df_sample_id= df_2MAT.groupby(\"id\")[\"qty_sold\"].sum().sort_values(ascending=False).cumsum().div(df_2MAT[\"qty_sold\"].sum()).loc[lambda x: x <= 0.6].index"
   ]
  },
  {
   "cell_type": "code",
   "execution_count": 79,
   "metadata": {},
   "outputs": [],
   "source": [
    "df_sample_top60 = df[df[\"id\"].isin(df_sample_id)]"
   ]
  },
  {
   "cell_type": "code",
   "execution_count": 80,
   "metadata": {},
   "outputs": [
    {
     "data": {
      "text/html": [
       "<div>\n",
       "<style scoped>\n",
       "    .dataframe tbody tr th:only-of-type {\n",
       "        vertical-align: middle;\n",
       "    }\n",
       "\n",
       "    .dataframe tbody tr th {\n",
       "        vertical-align: top;\n",
       "    }\n",
       "\n",
       "    .dataframe thead th {\n",
       "        text-align: right;\n",
       "    }\n",
       "</style>\n",
       "<table border=\"1\" class=\"dataframe\">\n",
       "  <thead>\n",
       "    <tr style=\"text-align: right;\">\n",
       "      <th></th>\n",
       "      <th>month_year</th>\n",
       "      <th>id</th>\n",
       "      <th>item</th>\n",
       "      <th>category</th>\n",
       "      <th>department</th>\n",
       "      <th>store</th>\n",
       "      <th>store_code</th>\n",
       "      <th>region</th>\n",
       "      <th>qty_sold</th>\n",
       "      <th>sell_price</th>\n",
       "      <th>qty_sold_lag1</th>\n",
       "    </tr>\n",
       "  </thead>\n",
       "  <tbody>\n",
       "    <tr>\n",
       "      <th>2112</th>\n",
       "      <td>2011-01-01</td>\n",
       "      <td>ACCESORIES_1_004_NYC_1</td>\n",
       "      <td>ACCESORIES_1_004</td>\n",
       "      <td>ACCESORIES</td>\n",
       "      <td>ACCESORIES_1</td>\n",
       "      <td>Greenwich_Village</td>\n",
       "      <td>NYC_1</td>\n",
       "      <td>New York</td>\n",
       "      <td>0</td>\n",
       "      <td>5.7722</td>\n",
       "      <td>23.0</td>\n",
       "    </tr>\n",
       "    <tr>\n",
       "      <th>2113</th>\n",
       "      <td>2011-02-01</td>\n",
       "      <td>ACCESORIES_1_004_NYC_1</td>\n",
       "      <td>ACCESORIES_1_004</td>\n",
       "      <td>ACCESORIES</td>\n",
       "      <td>ACCESORIES_1</td>\n",
       "      <td>Greenwich_Village</td>\n",
       "      <td>NYC_1</td>\n",
       "      <td>New York</td>\n",
       "      <td>0</td>\n",
       "      <td>5.7722</td>\n",
       "      <td>0.0</td>\n",
       "    </tr>\n",
       "    <tr>\n",
       "      <th>2114</th>\n",
       "      <td>2011-03-01</td>\n",
       "      <td>ACCESORIES_1_004_NYC_1</td>\n",
       "      <td>ACCESORIES_1_004</td>\n",
       "      <td>ACCESORIES</td>\n",
       "      <td>ACCESORIES_1</td>\n",
       "      <td>Greenwich_Village</td>\n",
       "      <td>NYC_1</td>\n",
       "      <td>New York</td>\n",
       "      <td>17</td>\n",
       "      <td>5.7722</td>\n",
       "      <td>0.0</td>\n",
       "    </tr>\n",
       "    <tr>\n",
       "      <th>2115</th>\n",
       "      <td>2011-04-01</td>\n",
       "      <td>ACCESORIES_1_004_NYC_1</td>\n",
       "      <td>ACCESORIES_1_004</td>\n",
       "      <td>ACCESORIES</td>\n",
       "      <td>ACCESORIES_1</td>\n",
       "      <td>Greenwich_Village</td>\n",
       "      <td>NYC_1</td>\n",
       "      <td>New York</td>\n",
       "      <td>23</td>\n",
       "      <td>5.7722</td>\n",
       "      <td>17.0</td>\n",
       "    </tr>\n",
       "    <tr>\n",
       "      <th>2116</th>\n",
       "      <td>2011-05-01</td>\n",
       "      <td>ACCESORIES_1_004_NYC_1</td>\n",
       "      <td>ACCESORIES_1_004</td>\n",
       "      <td>ACCESORIES</td>\n",
       "      <td>ACCESORIES_1</td>\n",
       "      <td>Greenwich_Village</td>\n",
       "      <td>NYC_1</td>\n",
       "      <td>New York</td>\n",
       "      <td>34</td>\n",
       "      <td>5.7722</td>\n",
       "      <td>23.0</td>\n",
       "    </tr>\n",
       "  </tbody>\n",
       "</table>\n",
       "</div>"
      ],
      "text/plain": [
       "     month_year                      id              item    category  \\\n",
       "2112 2011-01-01  ACCESORIES_1_004_NYC_1  ACCESORIES_1_004  ACCESORIES   \n",
       "2113 2011-02-01  ACCESORIES_1_004_NYC_1  ACCESORIES_1_004  ACCESORIES   \n",
       "2114 2011-03-01  ACCESORIES_1_004_NYC_1  ACCESORIES_1_004  ACCESORIES   \n",
       "2115 2011-04-01  ACCESORIES_1_004_NYC_1  ACCESORIES_1_004  ACCESORIES   \n",
       "2116 2011-05-01  ACCESORIES_1_004_NYC_1  ACCESORIES_1_004  ACCESORIES   \n",
       "\n",
       "        department              store store_code    region  qty_sold  \\\n",
       "2112  ACCESORIES_1  Greenwich_Village      NYC_1  New York         0   \n",
       "2113  ACCESORIES_1  Greenwich_Village      NYC_1  New York         0   \n",
       "2114  ACCESORIES_1  Greenwich_Village      NYC_1  New York        17   \n",
       "2115  ACCESORIES_1  Greenwich_Village      NYC_1  New York        23   \n",
       "2116  ACCESORIES_1  Greenwich_Village      NYC_1  New York        34   \n",
       "\n",
       "      sell_price  qty_sold_lag1  \n",
       "2112      5.7722           23.0  \n",
       "2113      5.7722            0.0  \n",
       "2114      5.7722            0.0  \n",
       "2115      5.7722           17.0  \n",
       "2116      5.7722           23.0  "
      ]
     },
     "execution_count": 80,
     "metadata": {},
     "output_type": "execute_result"
    }
   ],
   "source": [
    "df_sample_top60.head()"
   ]
  },
  {
   "cell_type": "code",
   "execution_count": 81,
   "metadata": {},
   "outputs": [
    {
     "name": "stdout",
     "output_type": "stream",
     "text": [
      "<class 'pandas.core.frame.DataFrame'>\n",
      "Index: 276928 entries, 2112 to 1951231\n",
      "Data columns (total 11 columns):\n",
      " #   Column         Non-Null Count   Dtype         \n",
      "---  ------         --------------   -----         \n",
      " 0   month_year     276928 non-null  datetime64[ns]\n",
      " 1   id             276928 non-null  object        \n",
      " 2   item           276928 non-null  object        \n",
      " 3   category       276928 non-null  object        \n",
      " 4   department     276928 non-null  object        \n",
      " 5   store          276928 non-null  object        \n",
      " 6   store_code     276928 non-null  object        \n",
      " 7   region         276928 non-null  object        \n",
      " 8   qty_sold       276928 non-null  int64         \n",
      " 9   sell_price     276928 non-null  float64       \n",
      " 10  qty_sold_lag1  276928 non-null  float64       \n",
      "dtypes: datetime64[ns](1), float64(2), int64(1), object(7)\n",
      "memory usage: 25.4+ MB\n"
     ]
    }
   ],
   "source": [
    "df_sample_top60.info()"
   ]
  },
  {
   "cell_type": "code",
   "execution_count": 82,
   "metadata": {},
   "outputs": [
    {
     "data": {
      "text/plain": [
       "(276928, 11)"
      ]
     },
     "execution_count": 82,
     "metadata": {},
     "output_type": "execute_result"
    }
   ],
   "source": [
    "df_sample_top60.shape"
   ]
  },
  {
   "cell_type": "code",
   "execution_count": 83,
   "metadata": {},
   "outputs": [],
   "source": [
    "df_encoded = df_sample_top60.copy()"
   ]
  },
  {
   "cell_type": "code",
   "execution_count": 84,
   "metadata": {},
   "outputs": [
    {
     "data": {
      "text/plain": [
       "item\n",
       "SUPERMARKET_1_110      640\n",
       "SUPERMARKET_3_393      640\n",
       "SUPERMARKET_3_090      640\n",
       "SUPERMARKET_3_064      640\n",
       "SUPERMARKET_3_234      640\n",
       "                      ... \n",
       "HOME_&_GARDEN_1_449     64\n",
       "HOME_&_GARDEN_1_440     64\n",
       "HOME_&_GARDEN_1_431     64\n",
       "HOME_&_GARDEN_1_413     64\n",
       "HOME_&_GARDEN_1_287     64\n",
       "Name: count, Length: 972, dtype: int64"
      ]
     },
     "execution_count": 84,
     "metadata": {},
     "output_type": "execute_result"
    }
   ],
   "source": [
    "df_encoded[\"item\"].value_counts()"
   ]
  },
  {
   "cell_type": "markdown",
   "metadata": {},
   "source": [
    "# Encoding categoricos"
   ]
  },
  {
   "cell_type": "code",
   "execution_count": 91,
   "metadata": {},
   "outputs": [
    {
     "data": {
      "text/plain": [
       "['id', 'item', 'category', 'department', 'store', 'store_code', 'region']"
      ]
     },
     "execution_count": 91,
     "metadata": {},
     "output_type": "execute_result"
    }
   ],
   "source": [
    "# Print categoricos\n",
    "cat_cols = list(df_encoded.select_dtypes(include=['object','category']).columns)\n",
    "cat_cols"
   ]
  },
  {
   "cell_type": "code",
   "execution_count": 92,
   "metadata": {},
   "outputs": [
    {
     "name": "stdout",
     "output_type": "stream",
     "text": [
      "        month_year  qty_sold  sell_price  qty_sold_lag1  id_encoded  \\\n",
      "2112    2011-01-01         0      5.7722           23.0           0   \n",
      "2113    2011-02-01         0      5.7722            0.0           0   \n",
      "2114    2011-03-01        17      5.7722            0.0           0   \n",
      "2115    2011-04-01        23      5.7722           17.0           0   \n",
      "2116    2011-05-01        34      5.7722           23.0           0   \n",
      "...            ...       ...         ...            ...         ...   \n",
      "1951227 2015-12-01        84      1.2000           95.0        4326   \n",
      "1951228 2016-01-01       109      1.2000           84.0        4326   \n",
      "1951229 2016-02-01       107      1.2000          109.0        4326   \n",
      "1951230 2016-03-01       130      1.2000          107.0        4326   \n",
      "1951231 2016-04-01        75      1.2000          130.0        4326   \n",
      "\n",
      "         item_encoded  category_encoded  department_encoded  store_encoded  \\\n",
      "2112                0                 0                   0              2   \n",
      "2113                0                 0                   0              2   \n",
      "2114                0                 0                   0              2   \n",
      "2115                0                 0                   0              2   \n",
      "2116                0                 0                   0              2   \n",
      "...               ...               ...                 ...            ...   \n",
      "1951227           971                 2                   6              4   \n",
      "1951228           971                 2                   6              4   \n",
      "1951229           971                 2                   6              4   \n",
      "1951230           971                 2                   6              4   \n",
      "1951231           971                 2                   6              4   \n",
      "\n",
      "         store_code_encoded  region_encoded  \n",
      "2112                      3               1  \n",
      "2113                      3               1  \n",
      "2114                      3               1  \n",
      "2115                      3               1  \n",
      "2116                      3               1  \n",
      "...                     ...             ...  \n",
      "1951227                   7               2  \n",
      "1951228                   7               2  \n",
      "1951229                   7               2  \n",
      "1951230                   7               2  \n",
      "1951231                   7               2  \n",
      "\n",
      "[276928 rows x 11 columns]\n"
     ]
    }
   ],
   "source": [
    "# Inicializamos el codificador de etiquetas\n",
    "label_encoder = LabelEncoder()\n",
    "\n",
    "# Iteramos sobre todas las columnas categóricas y aplicamos el Label Encoding\n",
    "for col in cat_cols:\n",
    "    df_encoded[col + '_encoded'] = label_encoder.fit_transform(df_encoded[col])\n",
    "\n",
    "# Eliminamos las columnas categóricas originales si es necesario\n",
    "df_encoded.drop(columns=cat_cols, inplace=True)\n",
    "\n",
    "# Imprimimos el DataFrame resultante\n",
    "print(df_encoded)\n"
   ]
  },
  {
   "cell_type": "code",
   "execution_count": 93,
   "metadata": {},
   "outputs": [
    {
     "data": {
      "text/plain": [
       "'df_encoded = pd.get_dummies(df_encoded, columns=cat_cols)'"
      ]
     },
     "execution_count": 93,
     "metadata": {},
     "output_type": "execute_result"
    }
   ],
   "source": [
    "\"\"\"df_encoded = pd.get_dummies(df_encoded, columns=cat_cols)\"\"\""
   ]
  },
  {
   "cell_type": "code",
   "execution_count": 94,
   "metadata": {},
   "outputs": [
    {
     "name": "stdout",
     "output_type": "stream",
     "text": [
      "<class 'pandas.core.frame.DataFrame'>\n",
      "Index: 276928 entries, 2112 to 1951231\n",
      "Data columns (total 11 columns):\n",
      " #   Column              Non-Null Count   Dtype         \n",
      "---  ------              --------------   -----         \n",
      " 0   month_year          276928 non-null  datetime64[ns]\n",
      " 1   qty_sold            276928 non-null  int64         \n",
      " 2   sell_price          276928 non-null  float64       \n",
      " 3   qty_sold_lag1       276928 non-null  float64       \n",
      " 4   id_encoded          276928 non-null  int32         \n",
      " 5   item_encoded        276928 non-null  int32         \n",
      " 6   category_encoded    276928 non-null  int32         \n",
      " 7   department_encoded  276928 non-null  int32         \n",
      " 8   store_encoded       276928 non-null  int32         \n",
      " 9   store_code_encoded  276928 non-null  int32         \n",
      " 10  region_encoded      276928 non-null  int32         \n",
      "dtypes: datetime64[ns](1), float64(2), int32(7), int64(1)\n",
      "memory usage: 18.0 MB\n"
     ]
    }
   ],
   "source": [
    "df_encoded.info()"
   ]
  },
  {
   "cell_type": "code",
   "execution_count": 95,
   "metadata": {},
   "outputs": [
    {
     "data": {
      "text/plain": [
       "(276928, 11)"
      ]
     },
     "execution_count": 95,
     "metadata": {},
     "output_type": "execute_result"
    }
   ],
   "source": [
    "df_encoded.shape"
   ]
  },
  {
   "cell_type": "markdown",
   "metadata": {},
   "source": [
    "# Eliminamos Alta correlación"
   ]
  },
  {
   "cell_type": "markdown",
   "metadata": {},
   "source": [
    "# Eliminamos Baja Varianza"
   ]
  },
  {
   "cell_type": "markdown",
   "metadata": {},
   "source": [
    "# Train Test Split"
   ]
  },
  {
   "cell_type": "code",
   "execution_count": 96,
   "metadata": {},
   "outputs": [],
   "source": [
    "df2=df_encoded.copy()"
   ]
  },
  {
   "cell_type": "code",
   "execution_count": null,
   "metadata": {},
   "outputs": [],
   "source": [
    "#df2.fillna(0, inplace=True)"
   ]
  },
  {
   "cell_type": "code",
   "execution_count": 97,
   "metadata": {},
   "outputs": [
    {
     "data": {
      "text/html": [
       "<div>\n",
       "<style scoped>\n",
       "    .dataframe tbody tr th:only-of-type {\n",
       "        vertical-align: middle;\n",
       "    }\n",
       "\n",
       "    .dataframe tbody tr th {\n",
       "        vertical-align: top;\n",
       "    }\n",
       "\n",
       "    .dataframe thead th {\n",
       "        text-align: right;\n",
       "    }\n",
       "</style>\n",
       "<table border=\"1\" class=\"dataframe\">\n",
       "  <thead>\n",
       "    <tr style=\"text-align: right;\">\n",
       "      <th></th>\n",
       "      <th>month_year</th>\n",
       "      <th>qty_sold</th>\n",
       "      <th>sell_price</th>\n",
       "      <th>qty_sold_lag1</th>\n",
       "      <th>id_encoded</th>\n",
       "      <th>item_encoded</th>\n",
       "      <th>category_encoded</th>\n",
       "      <th>department_encoded</th>\n",
       "      <th>store_encoded</th>\n",
       "      <th>store_code_encoded</th>\n",
       "      <th>region_encoded</th>\n",
       "    </tr>\n",
       "  </thead>\n",
       "  <tbody>\n",
       "    <tr>\n",
       "      <th>2112</th>\n",
       "      <td>2011-01-01</td>\n",
       "      <td>0</td>\n",
       "      <td>5.7722</td>\n",
       "      <td>23.0</td>\n",
       "      <td>0</td>\n",
       "      <td>0</td>\n",
       "      <td>0</td>\n",
       "      <td>0</td>\n",
       "      <td>2</td>\n",
       "      <td>3</td>\n",
       "      <td>1</td>\n",
       "    </tr>\n",
       "    <tr>\n",
       "      <th>2113</th>\n",
       "      <td>2011-02-01</td>\n",
       "      <td>0</td>\n",
       "      <td>5.7722</td>\n",
       "      <td>0.0</td>\n",
       "      <td>0</td>\n",
       "      <td>0</td>\n",
       "      <td>0</td>\n",
       "      <td>0</td>\n",
       "      <td>2</td>\n",
       "      <td>3</td>\n",
       "      <td>1</td>\n",
       "    </tr>\n",
       "    <tr>\n",
       "      <th>2114</th>\n",
       "      <td>2011-03-01</td>\n",
       "      <td>17</td>\n",
       "      <td>5.7722</td>\n",
       "      <td>0.0</td>\n",
       "      <td>0</td>\n",
       "      <td>0</td>\n",
       "      <td>0</td>\n",
       "      <td>0</td>\n",
       "      <td>2</td>\n",
       "      <td>3</td>\n",
       "      <td>1</td>\n",
       "    </tr>\n",
       "    <tr>\n",
       "      <th>2115</th>\n",
       "      <td>2011-04-01</td>\n",
       "      <td>23</td>\n",
       "      <td>5.7722</td>\n",
       "      <td>17.0</td>\n",
       "      <td>0</td>\n",
       "      <td>0</td>\n",
       "      <td>0</td>\n",
       "      <td>0</td>\n",
       "      <td>2</td>\n",
       "      <td>3</td>\n",
       "      <td>1</td>\n",
       "    </tr>\n",
       "    <tr>\n",
       "      <th>2116</th>\n",
       "      <td>2011-05-01</td>\n",
       "      <td>34</td>\n",
       "      <td>5.7722</td>\n",
       "      <td>23.0</td>\n",
       "      <td>0</td>\n",
       "      <td>0</td>\n",
       "      <td>0</td>\n",
       "      <td>0</td>\n",
       "      <td>2</td>\n",
       "      <td>3</td>\n",
       "      <td>1</td>\n",
       "    </tr>\n",
       "  </tbody>\n",
       "</table>\n",
       "</div>"
      ],
      "text/plain": [
       "     month_year  qty_sold  sell_price  qty_sold_lag1  id_encoded  \\\n",
       "2112 2011-01-01         0      5.7722           23.0           0   \n",
       "2113 2011-02-01         0      5.7722            0.0           0   \n",
       "2114 2011-03-01        17      5.7722            0.0           0   \n",
       "2115 2011-04-01        23      5.7722           17.0           0   \n",
       "2116 2011-05-01        34      5.7722           23.0           0   \n",
       "\n",
       "      item_encoded  category_encoded  department_encoded  store_encoded  \\\n",
       "2112             0                 0                   0              2   \n",
       "2113             0                 0                   0              2   \n",
       "2114             0                 0                   0              2   \n",
       "2115             0                 0                   0              2   \n",
       "2116             0                 0                   0              2   \n",
       "\n",
       "      store_code_encoded  region_encoded  \n",
       "2112                   3               1  \n",
       "2113                   3               1  \n",
       "2114                   3               1  \n",
       "2115                   3               1  \n",
       "2116                   3               1  "
      ]
     },
     "execution_count": 97,
     "metadata": {},
     "output_type": "execute_result"
    }
   ],
   "source": [
    "df2.head()"
   ]
  },
  {
   "cell_type": "code",
   "execution_count": 98,
   "metadata": {},
   "outputs": [
    {
     "data": {
      "text/plain": [
       "(276928, 11)"
      ]
     },
     "execution_count": 98,
     "metadata": {},
     "output_type": "execute_result"
    }
   ],
   "source": [
    "df2.shape"
   ]
  },
  {
   "cell_type": "code",
   "execution_count": 99,
   "metadata": {},
   "outputs": [
    {
     "data": {
      "text/plain": [
       "['month_year',\n",
       " 'qty_sold',\n",
       " 'sell_price',\n",
       " 'qty_sold_lag1',\n",
       " 'id_encoded',\n",
       " 'item_encoded',\n",
       " 'category_encoded',\n",
       " 'department_encoded',\n",
       " 'store_encoded',\n",
       " 'store_code_encoded',\n",
       " 'region_encoded']"
      ]
     },
     "execution_count": 99,
     "metadata": {},
     "output_type": "execute_result"
    }
   ],
   "source": [
    "df2.columns.tolist()"
   ]
  },
  {
   "cell_type": "code",
   "execution_count": 100,
   "metadata": {},
   "outputs": [],
   "source": [
    "COLUMNS_TO_DROP = [ \n",
    "]\n",
    "df2.drop(COLUMNS_TO_DROP, inplace = True, axis = 1)"
   ]
  },
  {
   "cell_type": "code",
   "execution_count": 101,
   "metadata": {},
   "outputs": [
    {
     "name": "stdout",
     "output_type": "stream",
     "text": [
      "<class 'pandas.core.frame.DataFrame'>\n",
      "Index: 276928 entries, 2112 to 1951231\n",
      "Data columns (total 11 columns):\n",
      " #   Column              Non-Null Count   Dtype         \n",
      "---  ------              --------------   -----         \n",
      " 0   month_year          276928 non-null  datetime64[ns]\n",
      " 1   qty_sold            276928 non-null  int64         \n",
      " 2   sell_price          276928 non-null  float64       \n",
      " 3   qty_sold_lag1       276928 non-null  float64       \n",
      " 4   id_encoded          276928 non-null  int32         \n",
      " 5   item_encoded        276928 non-null  int32         \n",
      " 6   category_encoded    276928 non-null  int32         \n",
      " 7   department_encoded  276928 non-null  int32         \n",
      " 8   store_encoded       276928 non-null  int32         \n",
      " 9   store_code_encoded  276928 non-null  int32         \n",
      " 10  region_encoded      276928 non-null  int32         \n",
      "dtypes: datetime64[ns](1), float64(2), int32(7), int64(1)\n",
      "memory usage: 18.0 MB\n"
     ]
    }
   ],
   "source": [
    "df2.info()"
   ]
  },
  {
   "cell_type": "code",
   "execution_count": 102,
   "metadata": {},
   "outputs": [
    {
     "data": {
      "text/plain": [
       "(276928, 11)"
      ]
     },
     "execution_count": 102,
     "metadata": {},
     "output_type": "execute_result"
    }
   ],
   "source": [
    "df2.shape"
   ]
  },
  {
   "cell_type": "code",
   "execution_count": 103,
   "metadata": {},
   "outputs": [],
   "source": [
    "train_index = sorted(list(df2[\"month_year\"].unique()))[:-2]\n",
    "\n",
    "valida_index = [sorted(list(df2[\"month_year\"].unique()))[-2]]\n",
    "\n",
    "test_index = [sorted(list(df2[\"month_year\"].unique()))[-1]]"
   ]
  },
  {
   "cell_type": "code",
   "execution_count": 104,
   "metadata": {},
   "outputs": [
    {
     "data": {
      "text/plain": [
       "[Timestamp('2016-03-01 00:00:00')]"
      ]
     },
     "execution_count": 104,
     "metadata": {},
     "output_type": "execute_result"
    }
   ],
   "source": [
    "valida_index"
   ]
  },
  {
   "cell_type": "code",
   "execution_count": 105,
   "metadata": {},
   "outputs": [
    {
     "name": "stdout",
     "output_type": "stream",
     "text": [
      "Our train index is [Timestamp('2011-01-01 00:00:00'), Timestamp('2011-02-01 00:00:00')] - ... - [Timestamp('2016-01-01 00:00:00'), Timestamp('2016-02-01 00:00:00')]\n",
      "\n",
      "Our validation index is [Timestamp('2016-03-01 00:00:00')]\n",
      "\n",
      "Our test/prediction index is [Timestamp('2016-04-01 00:00:00')]\n",
      "\n"
     ]
    }
   ],
   "source": [
    "print(f\"Our train index is {train_index[:2]} - ... - {train_index[-2:]}\\n\")\n",
    "print(f\"Our validation index is {valida_index}\\n\")\n",
    "print(f\"Our test/prediction index is {test_index}\\n\")"
   ]
  },
  {
   "cell_type": "code",
   "execution_count": 106,
   "metadata": {},
   "outputs": [],
   "source": [
    "X_train = df2[df2[\"month_year\"].isin(train_index)].drop(['qty_sold', \"month_year\"], axis=1)\n",
    "Y_train = df2[df2[\"month_year\"].isin(train_index)]['qty_sold']\n",
    "\n",
    "X_valida = df2[df2[\"month_year\"].isin(valida_index)].drop(['qty_sold', \"month_year\"], axis=1)\n",
    "Y_valida = df2[df2[\"month_year\"].isin(valida_index)]['qty_sold']\n",
    "\n",
    "X_test = df2[df2[\"month_year\"].isin(test_index)].drop(['qty_sold', \"month_year\"], axis = 1)\n",
    "Y_test = df2[df2[\"month_year\"].isin(test_index)]['qty_sold']"
   ]
  },
  {
   "cell_type": "code",
   "execution_count": 107,
   "metadata": {},
   "outputs": [
    {
     "data": {
      "text/html": [
       "<div>\n",
       "<style scoped>\n",
       "    .dataframe tbody tr th:only-of-type {\n",
       "        vertical-align: middle;\n",
       "    }\n",
       "\n",
       "    .dataframe tbody tr th {\n",
       "        vertical-align: top;\n",
       "    }\n",
       "\n",
       "    .dataframe thead th {\n",
       "        text-align: right;\n",
       "    }\n",
       "</style>\n",
       "<table border=\"1\" class=\"dataframe\">\n",
       "  <thead>\n",
       "    <tr style=\"text-align: right;\">\n",
       "      <th></th>\n",
       "      <th>sell_price</th>\n",
       "      <th>qty_sold_lag1</th>\n",
       "      <th>id_encoded</th>\n",
       "      <th>item_encoded</th>\n",
       "      <th>category_encoded</th>\n",
       "      <th>department_encoded</th>\n",
       "      <th>store_encoded</th>\n",
       "      <th>store_code_encoded</th>\n",
       "      <th>region_encoded</th>\n",
       "    </tr>\n",
       "  </thead>\n",
       "  <tbody>\n",
       "    <tr>\n",
       "      <th>2112</th>\n",
       "      <td>5.7722</td>\n",
       "      <td>23.0</td>\n",
       "      <td>0</td>\n",
       "      <td>0</td>\n",
       "      <td>0</td>\n",
       "      <td>0</td>\n",
       "      <td>2</td>\n",
       "      <td>3</td>\n",
       "      <td>1</td>\n",
       "    </tr>\n",
       "    <tr>\n",
       "      <th>2113</th>\n",
       "      <td>5.7722</td>\n",
       "      <td>0.0</td>\n",
       "      <td>0</td>\n",
       "      <td>0</td>\n",
       "      <td>0</td>\n",
       "      <td>0</td>\n",
       "      <td>2</td>\n",
       "      <td>3</td>\n",
       "      <td>1</td>\n",
       "    </tr>\n",
       "    <tr>\n",
       "      <th>2114</th>\n",
       "      <td>5.7722</td>\n",
       "      <td>0.0</td>\n",
       "      <td>0</td>\n",
       "      <td>0</td>\n",
       "      <td>0</td>\n",
       "      <td>0</td>\n",
       "      <td>2</td>\n",
       "      <td>3</td>\n",
       "      <td>1</td>\n",
       "    </tr>\n",
       "    <tr>\n",
       "      <th>2115</th>\n",
       "      <td>5.7722</td>\n",
       "      <td>17.0</td>\n",
       "      <td>0</td>\n",
       "      <td>0</td>\n",
       "      <td>0</td>\n",
       "      <td>0</td>\n",
       "      <td>2</td>\n",
       "      <td>3</td>\n",
       "      <td>1</td>\n",
       "    </tr>\n",
       "    <tr>\n",
       "      <th>2116</th>\n",
       "      <td>5.7722</td>\n",
       "      <td>23.0</td>\n",
       "      <td>0</td>\n",
       "      <td>0</td>\n",
       "      <td>0</td>\n",
       "      <td>0</td>\n",
       "      <td>2</td>\n",
       "      <td>3</td>\n",
       "      <td>1</td>\n",
       "    </tr>\n",
       "    <tr>\n",
       "      <th>2117</th>\n",
       "      <td>5.7722</td>\n",
       "      <td>34.0</td>\n",
       "      <td>0</td>\n",
       "      <td>0</td>\n",
       "      <td>0</td>\n",
       "      <td>0</td>\n",
       "      <td>2</td>\n",
       "      <td>3</td>\n",
       "      <td>1</td>\n",
       "    </tr>\n",
       "    <tr>\n",
       "      <th>2118</th>\n",
       "      <td>5.7722</td>\n",
       "      <td>28.0</td>\n",
       "      <td>0</td>\n",
       "      <td>0</td>\n",
       "      <td>0</td>\n",
       "      <td>0</td>\n",
       "      <td>2</td>\n",
       "      <td>3</td>\n",
       "      <td>1</td>\n",
       "    </tr>\n",
       "    <tr>\n",
       "      <th>2119</th>\n",
       "      <td>5.7722</td>\n",
       "      <td>60.0</td>\n",
       "      <td>0</td>\n",
       "      <td>0</td>\n",
       "      <td>0</td>\n",
       "      <td>0</td>\n",
       "      <td>2</td>\n",
       "      <td>3</td>\n",
       "      <td>1</td>\n",
       "    </tr>\n",
       "    <tr>\n",
       "      <th>2120</th>\n",
       "      <td>5.7722</td>\n",
       "      <td>55.0</td>\n",
       "      <td>0</td>\n",
       "      <td>0</td>\n",
       "      <td>0</td>\n",
       "      <td>0</td>\n",
       "      <td>2</td>\n",
       "      <td>3</td>\n",
       "      <td>1</td>\n",
       "    </tr>\n",
       "    <tr>\n",
       "      <th>2121</th>\n",
       "      <td>5.7722</td>\n",
       "      <td>53.0</td>\n",
       "      <td>0</td>\n",
       "      <td>0</td>\n",
       "      <td>0</td>\n",
       "      <td>0</td>\n",
       "      <td>2</td>\n",
       "      <td>3</td>\n",
       "      <td>1</td>\n",
       "    </tr>\n",
       "    <tr>\n",
       "      <th>2122</th>\n",
       "      <td>5.7722</td>\n",
       "      <td>55.0</td>\n",
       "      <td>0</td>\n",
       "      <td>0</td>\n",
       "      <td>0</td>\n",
       "      <td>0</td>\n",
       "      <td>2</td>\n",
       "      <td>3</td>\n",
       "      <td>1</td>\n",
       "    </tr>\n",
       "    <tr>\n",
       "      <th>2123</th>\n",
       "      <td>5.7722</td>\n",
       "      <td>47.0</td>\n",
       "      <td>0</td>\n",
       "      <td>0</td>\n",
       "      <td>0</td>\n",
       "      <td>0</td>\n",
       "      <td>2</td>\n",
       "      <td>3</td>\n",
       "      <td>1</td>\n",
       "    </tr>\n",
       "    <tr>\n",
       "      <th>2124</th>\n",
       "      <td>5.7722</td>\n",
       "      <td>53.0</td>\n",
       "      <td>0</td>\n",
       "      <td>0</td>\n",
       "      <td>0</td>\n",
       "      <td>0</td>\n",
       "      <td>2</td>\n",
       "      <td>3</td>\n",
       "      <td>1</td>\n",
       "    </tr>\n",
       "    <tr>\n",
       "      <th>2125</th>\n",
       "      <td>5.7722</td>\n",
       "      <td>48.0</td>\n",
       "      <td>0</td>\n",
       "      <td>0</td>\n",
       "      <td>0</td>\n",
       "      <td>0</td>\n",
       "      <td>2</td>\n",
       "      <td>3</td>\n",
       "      <td>1</td>\n",
       "    </tr>\n",
       "    <tr>\n",
       "      <th>2126</th>\n",
       "      <td>5.7722</td>\n",
       "      <td>39.0</td>\n",
       "      <td>0</td>\n",
       "      <td>0</td>\n",
       "      <td>0</td>\n",
       "      <td>0</td>\n",
       "      <td>2</td>\n",
       "      <td>3</td>\n",
       "      <td>1</td>\n",
       "    </tr>\n",
       "    <tr>\n",
       "      <th>2127</th>\n",
       "      <td>5.7722</td>\n",
       "      <td>51.0</td>\n",
       "      <td>0</td>\n",
       "      <td>0</td>\n",
       "      <td>0</td>\n",
       "      <td>0</td>\n",
       "      <td>2</td>\n",
       "      <td>3</td>\n",
       "      <td>1</td>\n",
       "    </tr>\n",
       "    <tr>\n",
       "      <th>2128</th>\n",
       "      <td>5.7722</td>\n",
       "      <td>31.0</td>\n",
       "      <td>0</td>\n",
       "      <td>0</td>\n",
       "      <td>0</td>\n",
       "      <td>0</td>\n",
       "      <td>2</td>\n",
       "      <td>3</td>\n",
       "      <td>1</td>\n",
       "    </tr>\n",
       "    <tr>\n",
       "      <th>2129</th>\n",
       "      <td>5.7722</td>\n",
       "      <td>32.0</td>\n",
       "      <td>0</td>\n",
       "      <td>0</td>\n",
       "      <td>0</td>\n",
       "      <td>0</td>\n",
       "      <td>2</td>\n",
       "      <td>3</td>\n",
       "      <td>1</td>\n",
       "    </tr>\n",
       "    <tr>\n",
       "      <th>2130</th>\n",
       "      <td>5.7722</td>\n",
       "      <td>30.0</td>\n",
       "      <td>0</td>\n",
       "      <td>0</td>\n",
       "      <td>0</td>\n",
       "      <td>0</td>\n",
       "      <td>2</td>\n",
       "      <td>3</td>\n",
       "      <td>1</td>\n",
       "    </tr>\n",
       "    <tr>\n",
       "      <th>2131</th>\n",
       "      <td>5.7722</td>\n",
       "      <td>27.0</td>\n",
       "      <td>0</td>\n",
       "      <td>0</td>\n",
       "      <td>0</td>\n",
       "      <td>0</td>\n",
       "      <td>2</td>\n",
       "      <td>3</td>\n",
       "      <td>1</td>\n",
       "    </tr>\n",
       "  </tbody>\n",
       "</table>\n",
       "</div>"
      ],
      "text/plain": [
       "      sell_price  qty_sold_lag1  id_encoded  item_encoded  category_encoded  \\\n",
       "2112      5.7722           23.0           0             0                 0   \n",
       "2113      5.7722            0.0           0             0                 0   \n",
       "2114      5.7722            0.0           0             0                 0   \n",
       "2115      5.7722           17.0           0             0                 0   \n",
       "2116      5.7722           23.0           0             0                 0   \n",
       "2117      5.7722           34.0           0             0                 0   \n",
       "2118      5.7722           28.0           0             0                 0   \n",
       "2119      5.7722           60.0           0             0                 0   \n",
       "2120      5.7722           55.0           0             0                 0   \n",
       "2121      5.7722           53.0           0             0                 0   \n",
       "2122      5.7722           55.0           0             0                 0   \n",
       "2123      5.7722           47.0           0             0                 0   \n",
       "2124      5.7722           53.0           0             0                 0   \n",
       "2125      5.7722           48.0           0             0                 0   \n",
       "2126      5.7722           39.0           0             0                 0   \n",
       "2127      5.7722           51.0           0             0                 0   \n",
       "2128      5.7722           31.0           0             0                 0   \n",
       "2129      5.7722           32.0           0             0                 0   \n",
       "2130      5.7722           30.0           0             0                 0   \n",
       "2131      5.7722           27.0           0             0                 0   \n",
       "\n",
       "      department_encoded  store_encoded  store_code_encoded  region_encoded  \n",
       "2112                   0              2                   3               1  \n",
       "2113                   0              2                   3               1  \n",
       "2114                   0              2                   3               1  \n",
       "2115                   0              2                   3               1  \n",
       "2116                   0              2                   3               1  \n",
       "2117                   0              2                   3               1  \n",
       "2118                   0              2                   3               1  \n",
       "2119                   0              2                   3               1  \n",
       "2120                   0              2                   3               1  \n",
       "2121                   0              2                   3               1  \n",
       "2122                   0              2                   3               1  \n",
       "2123                   0              2                   3               1  \n",
       "2124                   0              2                   3               1  \n",
       "2125                   0              2                   3               1  \n",
       "2126                   0              2                   3               1  \n",
       "2127                   0              2                   3               1  \n",
       "2128                   0              2                   3               1  \n",
       "2129                   0              2                   3               1  \n",
       "2130                   0              2                   3               1  \n",
       "2131                   0              2                   3               1  "
      ]
     },
     "execution_count": 107,
     "metadata": {},
     "output_type": "execute_result"
    }
   ],
   "source": [
    "X_train.head(20) #Comprobamos que esté en orden las fechas"
   ]
  },
  {
   "cell_type": "code",
   "execution_count": 108,
   "metadata": {},
   "outputs": [
    {
     "name": "stdout",
     "output_type": "stream",
     "text": [
      "<class 'pandas.core.frame.DataFrame'>\n",
      "Index: 268274 entries, 2112 to 1951229\n",
      "Data columns (total 9 columns):\n",
      " #   Column              Non-Null Count   Dtype  \n",
      "---  ------              --------------   -----  \n",
      " 0   sell_price          268274 non-null  float64\n",
      " 1   qty_sold_lag1       268274 non-null  float64\n",
      " 2   id_encoded          268274 non-null  int32  \n",
      " 3   item_encoded        268274 non-null  int32  \n",
      " 4   category_encoded    268274 non-null  int32  \n",
      " 5   department_encoded  268274 non-null  int32  \n",
      " 6   store_encoded       268274 non-null  int32  \n",
      " 7   store_code_encoded  268274 non-null  int32  \n",
      " 8   region_encoded      268274 non-null  int32  \n",
      "dtypes: float64(2), int32(7)\n",
      "memory usage: 13.3 MB\n"
     ]
    }
   ],
   "source": [
    "X_train.info()"
   ]
  },
  {
   "cell_type": "code",
   "execution_count": 109,
   "metadata": {},
   "outputs": [
    {
     "name": "stdout",
     "output_type": "stream",
     "text": [
      "<class 'pandas.core.series.Series'>\n",
      "Index: 268274 entries, 2112 to 1951229\n",
      "Series name: qty_sold\n",
      "Non-Null Count   Dtype\n",
      "--------------   -----\n",
      "268274 non-null  int64\n",
      "dtypes: int64(1)\n",
      "memory usage: 4.1 MB\n"
     ]
    }
   ],
   "source": [
    "Y_train.info()"
   ]
  },
  {
   "cell_type": "code",
   "execution_count": 110,
   "metadata": {},
   "outputs": [
    {
     "name": "stdout",
     "output_type": "stream",
     "text": [
      "<class 'pandas.core.frame.DataFrame'>\n",
      "Index: 4327 entries, 2174 to 1951230\n",
      "Data columns (total 9 columns):\n",
      " #   Column              Non-Null Count  Dtype  \n",
      "---  ------              --------------  -----  \n",
      " 0   sell_price          4327 non-null   float64\n",
      " 1   qty_sold_lag1       4327 non-null   float64\n",
      " 2   id_encoded          4327 non-null   int32  \n",
      " 3   item_encoded        4327 non-null   int32  \n",
      " 4   category_encoded    4327 non-null   int32  \n",
      " 5   department_encoded  4327 non-null   int32  \n",
      " 6   store_encoded       4327 non-null   int32  \n",
      " 7   store_code_encoded  4327 non-null   int32  \n",
      " 8   region_encoded      4327 non-null   int32  \n",
      "dtypes: float64(2), int32(7)\n",
      "memory usage: 219.7 KB\n"
     ]
    }
   ],
   "source": [
    "X_valida.info()"
   ]
  },
  {
   "cell_type": "markdown",
   "metadata": {},
   "source": [
    "# Model Train"
   ]
  },
  {
   "cell_type": "markdown",
   "metadata": {},
   "source": [
    "### Torneo de Modelos"
   ]
  },
  {
   "cell_type": "code",
   "execution_count": 111,
   "metadata": {},
   "outputs": [],
   "source": [
    "def RMSE(model,X,y):\n",
    "  model.fit(X,y)\n",
    "  return round(np.sqrt(np.mean((y-model.predict(X))**2)),2)\n",
    "\n",
    "def RMSE_cross_validation(model,X,y):\n",
    "  Kfold_rmse = cross_val_score(model, X, y, cv=4, scoring='neg_root_mean_squared_error')\n",
    "  return round(-Kfold_rmse.mean(),4)"
   ]
  },
  {
   "cell_type": "code",
   "execution_count": 113,
   "metadata": {},
   "outputs": [],
   "source": [
    "# Inicializa resultados\n",
    "label_ = []\n",
    "rmse_train_ = []\n",
    "rmse_valida_ = []\n",
    "\n",
    "# Funcion que devuelve un dataframe con resultados de RMSE Cross Validation\n",
    "def evaluate_regression(model, X, y, label=None):\n",
    "  if label is None:\n",
    "    label = str(model)\n",
    "\n",
    "  rmse_train = RMSE(model,X,y)\n",
    "  rmse_valida = RMSE_cross_validation(model,X,y)\n",
    "\n",
    "  label_.append(label)\n",
    "  rmse_train_.append(rmse_train)\n",
    "  rmse_valida_.append(rmse_valida)\n",
    "\n",
    "  return pd.DataFrame({'Model': label_,\n",
    "                      'RMSE Train': rmse_train_,\n",
    "                      'RMSE Cross-Validation': rmse_valida_\n",
    "                      }).sort_values('RMSE Cross-Validation')"
   ]
  },
  {
   "cell_type": "code",
   "execution_count": 114,
   "metadata": {},
   "outputs": [
    {
     "data": {
      "text/html": [
       "<div>\n",
       "<style scoped>\n",
       "    .dataframe tbody tr th:only-of-type {\n",
       "        vertical-align: middle;\n",
       "    }\n",
       "\n",
       "    .dataframe tbody tr th {\n",
       "        vertical-align: top;\n",
       "    }\n",
       "\n",
       "    .dataframe thead th {\n",
       "        text-align: right;\n",
       "    }\n",
       "</style>\n",
       "<table border=\"1\" class=\"dataframe\">\n",
       "  <thead>\n",
       "    <tr style=\"text-align: right;\">\n",
       "      <th></th>\n",
       "      <th>Model</th>\n",
       "      <th>RMSE Train</th>\n",
       "      <th>RMSE Cross-Validation</th>\n",
       "    </tr>\n",
       "  </thead>\n",
       "  <tbody>\n",
       "    <tr>\n",
       "      <th>0</th>\n",
       "      <td>LinearRegression()</td>\n",
       "      <td>101.11</td>\n",
       "      <td>95.161</td>\n",
       "    </tr>\n",
       "  </tbody>\n",
       "</table>\n",
       "</div>"
      ],
      "text/plain": [
       "                Model  RMSE Train  RMSE Cross-Validation\n",
       "0  LinearRegression()      101.11                 95.161"
      ]
     },
     "execution_count": 114,
     "metadata": {},
     "output_type": "execute_result"
    }
   ],
   "source": [
    "evaluate_regression(model = LinearRegression(),\n",
    "                    X=X_train, y=Y_train)"
   ]
  },
  {
   "cell_type": "code",
   "execution_count": 115,
   "metadata": {},
   "outputs": [
    {
     "data": {
      "text/html": [
       "<div>\n",
       "<style scoped>\n",
       "    .dataframe tbody tr th:only-of-type {\n",
       "        vertical-align: middle;\n",
       "    }\n",
       "\n",
       "    .dataframe tbody tr th {\n",
       "        vertical-align: top;\n",
       "    }\n",
       "\n",
       "    .dataframe thead th {\n",
       "        text-align: right;\n",
       "    }\n",
       "</style>\n",
       "<table border=\"1\" class=\"dataframe\">\n",
       "  <thead>\n",
       "    <tr style=\"text-align: right;\">\n",
       "      <th></th>\n",
       "      <th>Model</th>\n",
       "      <th>RMSE Train</th>\n",
       "      <th>RMSE Cross-Validation</th>\n",
       "    </tr>\n",
       "  </thead>\n",
       "  <tbody>\n",
       "    <tr>\n",
       "      <th>0</th>\n",
       "      <td>LinearRegression()</td>\n",
       "      <td>101.11</td>\n",
       "      <td>95.1610</td>\n",
       "    </tr>\n",
       "    <tr>\n",
       "      <th>1</th>\n",
       "      <td>Lasso(alpha=1)</td>\n",
       "      <td>101.12</td>\n",
       "      <td>95.1706</td>\n",
       "    </tr>\n",
       "  </tbody>\n",
       "</table>\n",
       "</div>"
      ],
      "text/plain": [
       "                Model  RMSE Train  RMSE Cross-Validation\n",
       "0  LinearRegression()      101.11                95.1610\n",
       "1      Lasso(alpha=1)      101.12                95.1706"
      ]
     },
     "execution_count": 115,
     "metadata": {},
     "output_type": "execute_result"
    }
   ],
   "source": [
    "evaluate_regression(model = Lasso(alpha=1),\n",
    "                    X=X_train, y=Y_train)"
   ]
  },
  {
   "cell_type": "code",
   "execution_count": 116,
   "metadata": {},
   "outputs": [
    {
     "data": {
      "text/html": [
       "<div>\n",
       "<style scoped>\n",
       "    .dataframe tbody tr th:only-of-type {\n",
       "        vertical-align: middle;\n",
       "    }\n",
       "\n",
       "    .dataframe tbody tr th {\n",
       "        vertical-align: top;\n",
       "    }\n",
       "\n",
       "    .dataframe thead th {\n",
       "        text-align: right;\n",
       "    }\n",
       "</style>\n",
       "<table border=\"1\" class=\"dataframe\">\n",
       "  <thead>\n",
       "    <tr style=\"text-align: right;\">\n",
       "      <th></th>\n",
       "      <th>Model</th>\n",
       "      <th>RMSE Train</th>\n",
       "      <th>RMSE Cross-Validation</th>\n",
       "    </tr>\n",
       "  </thead>\n",
       "  <tbody>\n",
       "    <tr>\n",
       "      <th>0</th>\n",
       "      <td>LinearRegression()</td>\n",
       "      <td>101.11</td>\n",
       "      <td>95.1610</td>\n",
       "    </tr>\n",
       "    <tr>\n",
       "      <th>2</th>\n",
       "      <td>Ridge(alpha=10)</td>\n",
       "      <td>101.11</td>\n",
       "      <td>95.1610</td>\n",
       "    </tr>\n",
       "    <tr>\n",
       "      <th>1</th>\n",
       "      <td>Lasso(alpha=1)</td>\n",
       "      <td>101.12</td>\n",
       "      <td>95.1706</td>\n",
       "    </tr>\n",
       "  </tbody>\n",
       "</table>\n",
       "</div>"
      ],
      "text/plain": [
       "                Model  RMSE Train  RMSE Cross-Validation\n",
       "0  LinearRegression()      101.11                95.1610\n",
       "2     Ridge(alpha=10)      101.11                95.1610\n",
       "1      Lasso(alpha=1)      101.12                95.1706"
      ]
     },
     "execution_count": 116,
     "metadata": {},
     "output_type": "execute_result"
    }
   ],
   "source": [
    "evaluate_regression(model = Ridge(alpha=10),\n",
    "                    X=X_train, y=Y_train)"
   ]
  },
  {
   "cell_type": "code",
   "execution_count": 117,
   "metadata": {},
   "outputs": [
    {
     "data": {
      "text/html": [
       "<div>\n",
       "<style scoped>\n",
       "    .dataframe tbody tr th:only-of-type {\n",
       "        vertical-align: middle;\n",
       "    }\n",
       "\n",
       "    .dataframe tbody tr th {\n",
       "        vertical-align: top;\n",
       "    }\n",
       "\n",
       "    .dataframe thead th {\n",
       "        text-align: right;\n",
       "    }\n",
       "</style>\n",
       "<table border=\"1\" class=\"dataframe\">\n",
       "  <thead>\n",
       "    <tr style=\"text-align: right;\">\n",
       "      <th></th>\n",
       "      <th>Model</th>\n",
       "      <th>RMSE Train</th>\n",
       "      <th>RMSE Cross-Validation</th>\n",
       "    </tr>\n",
       "  </thead>\n",
       "  <tbody>\n",
       "    <tr>\n",
       "      <th>0</th>\n",
       "      <td>LinearRegression()</td>\n",
       "      <td>101.11</td>\n",
       "      <td>95.1610</td>\n",
       "    </tr>\n",
       "    <tr>\n",
       "      <th>2</th>\n",
       "      <td>Ridge(alpha=10)</td>\n",
       "      <td>101.11</td>\n",
       "      <td>95.1610</td>\n",
       "    </tr>\n",
       "    <tr>\n",
       "      <th>3</th>\n",
       "      <td>ElasticNet()</td>\n",
       "      <td>101.12</td>\n",
       "      <td>95.1683</td>\n",
       "    </tr>\n",
       "    <tr>\n",
       "      <th>1</th>\n",
       "      <td>Lasso(alpha=1)</td>\n",
       "      <td>101.12</td>\n",
       "      <td>95.1706</td>\n",
       "    </tr>\n",
       "  </tbody>\n",
       "</table>\n",
       "</div>"
      ],
      "text/plain": [
       "                Model  RMSE Train  RMSE Cross-Validation\n",
       "0  LinearRegression()      101.11                95.1610\n",
       "2     Ridge(alpha=10)      101.11                95.1610\n",
       "3        ElasticNet()      101.12                95.1683\n",
       "1      Lasso(alpha=1)      101.12                95.1706"
      ]
     },
     "execution_count": 117,
     "metadata": {},
     "output_type": "execute_result"
    }
   ],
   "source": [
    "evaluate_regression(model = ElasticNet(l1_ratio=0.5),\n",
    "                    X=X_train, y=Y_train)"
   ]
  },
  {
   "cell_type": "code",
   "execution_count": 118,
   "metadata": {},
   "outputs": [
    {
     "name": "stdout",
     "output_type": "stream",
     "text": [
      "[0]\tvalidation_0-rmse:173.52775\tvalidation_1-rmse:147.79596\n",
      "[1]\tvalidation_0-rmse:142.00604\tvalidation_1-rmse:117.66239\n",
      "[2]\tvalidation_0-rmse:123.37492\tvalidation_1-rmse:100.28173\n",
      "[3]\tvalidation_0-rmse:112.72787\tvalidation_1-rmse:90.52174\n",
      "[4]\tvalidation_0-rmse:106.65025\tvalidation_1-rmse:84.86559\n",
      "[5]\tvalidation_0-rmse:103.52802\tvalidation_1-rmse:82.02995\n",
      "[6]\tvalidation_0-rmse:101.75912\tvalidation_1-rmse:80.56338\n",
      "[7]\tvalidation_0-rmse:100.43842\tvalidation_1-rmse:80.01320\n",
      "[8]\tvalidation_0-rmse:99.50155\tvalidation_1-rmse:79.44610\n",
      "[9]\tvalidation_0-rmse:98.83275\tvalidation_1-rmse:79.21793\n",
      "[10]\tvalidation_0-rmse:98.33619\tvalidation_1-rmse:79.02619\n",
      "[11]\tvalidation_0-rmse:98.01028\tvalidation_1-rmse:79.15137\n",
      "[12]\tvalidation_0-rmse:97.32514\tvalidation_1-rmse:79.13921\n",
      "[13]\tvalidation_0-rmse:97.13142\tvalidation_1-rmse:79.07619\n",
      "[14]\tvalidation_0-rmse:96.89875\tvalidation_1-rmse:79.10658\n",
      "[15]\tvalidation_0-rmse:96.59556\tvalidation_1-rmse:78.94520\n",
      "[16]\tvalidation_0-rmse:96.12367\tvalidation_1-rmse:78.73692\n",
      "[17]\tvalidation_0-rmse:96.06749\tvalidation_1-rmse:78.77180\n",
      "[18]\tvalidation_0-rmse:95.91668\tvalidation_1-rmse:78.83364\n",
      "[19]\tvalidation_0-rmse:95.67383\tvalidation_1-rmse:78.79883\n",
      "[20]\tvalidation_0-rmse:95.20058\tvalidation_1-rmse:78.94088\n",
      "[21]\tvalidation_0-rmse:95.15641\tvalidation_1-rmse:78.96902\n",
      "[22]\tvalidation_0-rmse:95.07518\tvalidation_1-rmse:79.01635\n",
      "[23]\tvalidation_0-rmse:94.96315\tvalidation_1-rmse:79.10207\n",
      "[24]\tvalidation_0-rmse:94.72970\tvalidation_1-rmse:79.14075\n",
      "[25]\tvalidation_0-rmse:94.66787\tvalidation_1-rmse:79.13422\n",
      "[26]\tvalidation_0-rmse:94.60111\tvalidation_1-rmse:79.15365\n",
      "[27]\tvalidation_0-rmse:94.41124\tvalidation_1-rmse:78.97040\n",
      "[28]\tvalidation_0-rmse:94.32793\tvalidation_1-rmse:78.95907\n",
      "[29]\tvalidation_0-rmse:94.21434\tvalidation_1-rmse:78.98881\n",
      "[30]\tvalidation_0-rmse:94.19872\tvalidation_1-rmse:79.05281\n",
      "[31]\tvalidation_0-rmse:94.04562\tvalidation_1-rmse:79.07019\n",
      "[32]\tvalidation_0-rmse:93.90829\tvalidation_1-rmse:78.93590\n",
      "[33]\tvalidation_0-rmse:93.73914\tvalidation_1-rmse:79.00242\n",
      "[34]\tvalidation_0-rmse:93.63344\tvalidation_1-rmse:79.02979\n",
      "[35]\tvalidation_0-rmse:93.50424\tvalidation_1-rmse:78.95661\n",
      "[36]\tvalidation_0-rmse:93.36471\tvalidation_1-rmse:79.03651\n",
      "[37]\tvalidation_0-rmse:93.17567\tvalidation_1-rmse:79.11391\n",
      "[38]\tvalidation_0-rmse:92.97210\tvalidation_1-rmse:79.16670\n",
      "[39]\tvalidation_0-rmse:92.76702\tvalidation_1-rmse:79.26208\n",
      "[40]\tvalidation_0-rmse:92.71662\tvalidation_1-rmse:79.24033\n",
      "[41]\tvalidation_0-rmse:92.68477\tvalidation_1-rmse:79.32835\n",
      "[42]\tvalidation_0-rmse:92.60136\tvalidation_1-rmse:79.53903\n",
      "[43]\tvalidation_0-rmse:92.48387\tvalidation_1-rmse:79.47154\n",
      "[44]\tvalidation_0-rmse:92.36461\tvalidation_1-rmse:79.48575\n",
      "[45]\tvalidation_0-rmse:92.16515\tvalidation_1-rmse:79.51652\n",
      "[46]\tvalidation_0-rmse:91.97730\tvalidation_1-rmse:79.50273\n",
      "[47]\tvalidation_0-rmse:91.84143\tvalidation_1-rmse:79.45462\n",
      "[48]\tvalidation_0-rmse:91.67020\tvalidation_1-rmse:79.46757\n",
      "[49]\tvalidation_0-rmse:91.60375\tvalidation_1-rmse:79.43187\n",
      "[50]\tvalidation_0-rmse:91.54199\tvalidation_1-rmse:79.51487\n",
      "[51]\tvalidation_0-rmse:91.47469\tvalidation_1-rmse:79.52410\n",
      "[52]\tvalidation_0-rmse:91.38653\tvalidation_1-rmse:79.49466\n",
      "[53]\tvalidation_0-rmse:91.34807\tvalidation_1-rmse:79.53124\n",
      "[54]\tvalidation_0-rmse:91.28189\tvalidation_1-rmse:79.65640\n",
      "[55]\tvalidation_0-rmse:90.95138\tvalidation_1-rmse:79.68632\n",
      "[56]\tvalidation_0-rmse:90.90236\tvalidation_1-rmse:79.72639\n",
      "[57]\tvalidation_0-rmse:90.81489\tvalidation_1-rmse:79.71713\n",
      "[58]\tvalidation_0-rmse:90.76970\tvalidation_1-rmse:79.69610\n",
      "[59]\tvalidation_0-rmse:90.61649\tvalidation_1-rmse:79.52674\n",
      "[60]\tvalidation_0-rmse:90.53946\tvalidation_1-rmse:79.54022\n",
      "[61]\tvalidation_0-rmse:90.34460\tvalidation_1-rmse:79.46002\n",
      "[62]\tvalidation_0-rmse:90.26118\tvalidation_1-rmse:79.51446\n",
      "[63]\tvalidation_0-rmse:90.18571\tvalidation_1-rmse:79.51722\n",
      "[64]\tvalidation_0-rmse:90.13149\tvalidation_1-rmse:79.54608\n",
      "[65]\tvalidation_0-rmse:90.06268\tvalidation_1-rmse:79.54684\n",
      "[66]\tvalidation_0-rmse:90.01509\tvalidation_1-rmse:79.55403\n",
      "[67]\tvalidation_0-rmse:89.99626\tvalidation_1-rmse:79.53582\n",
      "[68]\tvalidation_0-rmse:89.92106\tvalidation_1-rmse:79.52197\n",
      "[69]\tvalidation_0-rmse:89.79368\tvalidation_1-rmse:79.47304\n",
      "[70]\tvalidation_0-rmse:89.77437\tvalidation_1-rmse:79.47941\n",
      "[71]\tvalidation_0-rmse:89.76531\tvalidation_1-rmse:79.49357\n",
      "[72]\tvalidation_0-rmse:89.74559\tvalidation_1-rmse:79.47667\n",
      "[73]\tvalidation_0-rmse:89.68662\tvalidation_1-rmse:79.11630\n",
      "[74]\tvalidation_0-rmse:89.63503\tvalidation_1-rmse:79.01082\n",
      "[75]\tvalidation_0-rmse:89.58698\tvalidation_1-rmse:78.97500\n",
      "[76]\tvalidation_0-rmse:89.53321\tvalidation_1-rmse:78.97545\n",
      "[77]\tvalidation_0-rmse:89.45622\tvalidation_1-rmse:78.98559\n",
      "[78]\tvalidation_0-rmse:89.43223\tvalidation_1-rmse:78.92742\n",
      "[79]\tvalidation_0-rmse:89.38015\tvalidation_1-rmse:78.88833\n",
      "[80]\tvalidation_0-rmse:89.33570\tvalidation_1-rmse:78.99019\n",
      "[81]\tvalidation_0-rmse:89.30631\tvalidation_1-rmse:79.01630\n",
      "[82]\tvalidation_0-rmse:89.25699\tvalidation_1-rmse:79.04384\n",
      "[83]\tvalidation_0-rmse:89.23317\tvalidation_1-rmse:79.03727\n",
      "[84]\tvalidation_0-rmse:89.17988\tvalidation_1-rmse:79.02294\n",
      "[85]\tvalidation_0-rmse:89.12153\tvalidation_1-rmse:79.03963\n",
      "[86]\tvalidation_0-rmse:89.07938\tvalidation_1-rmse:79.07702\n",
      "[87]\tvalidation_0-rmse:89.04473\tvalidation_1-rmse:79.03507\n",
      "[88]\tvalidation_0-rmse:89.00220\tvalidation_1-rmse:79.05232\n",
      "[89]\tvalidation_0-rmse:88.96837\tvalidation_1-rmse:79.04748\n",
      "[90]\tvalidation_0-rmse:88.93831\tvalidation_1-rmse:79.04906\n",
      "[91]\tvalidation_0-rmse:88.89598\tvalidation_1-rmse:79.06171\n",
      "[92]\tvalidation_0-rmse:88.83272\tvalidation_1-rmse:79.06627\n",
      "[93]\tvalidation_0-rmse:88.76011\tvalidation_1-rmse:79.03970\n",
      "[94]\tvalidation_0-rmse:88.67557\tvalidation_1-rmse:79.02636\n",
      "[95]\tvalidation_0-rmse:88.62426\tvalidation_1-rmse:79.04123\n",
      "[96]\tvalidation_0-rmse:88.54169\tvalidation_1-rmse:78.94471\n",
      "[97]\tvalidation_0-rmse:88.49567\tvalidation_1-rmse:78.97936\n",
      "[98]\tvalidation_0-rmse:88.47552\tvalidation_1-rmse:78.98850\n",
      "[99]\tvalidation_0-rmse:88.41937\tvalidation_1-rmse:79.00249\n"
     ]
    },
    {
     "data": {
      "text/html": [
       "<style>#sk-container-id-1 {color: black;}#sk-container-id-1 pre{padding: 0;}#sk-container-id-1 div.sk-toggleable {background-color: white;}#sk-container-id-1 label.sk-toggleable__label {cursor: pointer;display: block;width: 100%;margin-bottom: 0;padding: 0.3em;box-sizing: border-box;text-align: center;}#sk-container-id-1 label.sk-toggleable__label-arrow:before {content: \"▸\";float: left;margin-right: 0.25em;color: #696969;}#sk-container-id-1 label.sk-toggleable__label-arrow:hover:before {color: black;}#sk-container-id-1 div.sk-estimator:hover label.sk-toggleable__label-arrow:before {color: black;}#sk-container-id-1 div.sk-toggleable__content {max-height: 0;max-width: 0;overflow: hidden;text-align: left;background-color: #f0f8ff;}#sk-container-id-1 div.sk-toggleable__content pre {margin: 0.2em;color: black;border-radius: 0.25em;background-color: #f0f8ff;}#sk-container-id-1 input.sk-toggleable__control:checked~div.sk-toggleable__content {max-height: 200px;max-width: 100%;overflow: auto;}#sk-container-id-1 input.sk-toggleable__control:checked~label.sk-toggleable__label-arrow:before {content: \"▾\";}#sk-container-id-1 div.sk-estimator input.sk-toggleable__control:checked~label.sk-toggleable__label {background-color: #d4ebff;}#sk-container-id-1 div.sk-label input.sk-toggleable__control:checked~label.sk-toggleable__label {background-color: #d4ebff;}#sk-container-id-1 input.sk-hidden--visually {border: 0;clip: rect(1px 1px 1px 1px);clip: rect(1px, 1px, 1px, 1px);height: 1px;margin: -1px;overflow: hidden;padding: 0;position: absolute;width: 1px;}#sk-container-id-1 div.sk-estimator {font-family: monospace;background-color: #f0f8ff;border: 1px dotted black;border-radius: 0.25em;box-sizing: border-box;margin-bottom: 0.5em;}#sk-container-id-1 div.sk-estimator:hover {background-color: #d4ebff;}#sk-container-id-1 div.sk-parallel-item::after {content: \"\";width: 100%;border-bottom: 1px solid gray;flex-grow: 1;}#sk-container-id-1 div.sk-label:hover label.sk-toggleable__label {background-color: #d4ebff;}#sk-container-id-1 div.sk-serial::before {content: \"\";position: absolute;border-left: 1px solid gray;box-sizing: border-box;top: 0;bottom: 0;left: 50%;z-index: 0;}#sk-container-id-1 div.sk-serial {display: flex;flex-direction: column;align-items: center;background-color: white;padding-right: 0.2em;padding-left: 0.2em;position: relative;}#sk-container-id-1 div.sk-item {position: relative;z-index: 1;}#sk-container-id-1 div.sk-parallel {display: flex;align-items: stretch;justify-content: center;background-color: white;position: relative;}#sk-container-id-1 div.sk-item::before, #sk-container-id-1 div.sk-parallel-item::before {content: \"\";position: absolute;border-left: 1px solid gray;box-sizing: border-box;top: 0;bottom: 0;left: 50%;z-index: -1;}#sk-container-id-1 div.sk-parallel-item {display: flex;flex-direction: column;z-index: 1;position: relative;background-color: white;}#sk-container-id-1 div.sk-parallel-item:first-child::after {align-self: flex-end;width: 50%;}#sk-container-id-1 div.sk-parallel-item:last-child::after {align-self: flex-start;width: 50%;}#sk-container-id-1 div.sk-parallel-item:only-child::after {width: 0;}#sk-container-id-1 div.sk-dashed-wrapped {border: 1px dashed gray;margin: 0 0.4em 0.5em 0.4em;box-sizing: border-box;padding-bottom: 0.4em;background-color: white;}#sk-container-id-1 div.sk-label label {font-family: monospace;font-weight: bold;display: inline-block;line-height: 1.2em;}#sk-container-id-1 div.sk-label-container {text-align: center;}#sk-container-id-1 div.sk-container {/* jupyter's `normalize.less` sets `[hidden] { display: none; }` but bootstrap.min.css set `[hidden] { display: none !important; }` so we also need the `!important` here to be able to override the default hidden behavior on the sphinx rendered scikit-learn.org. See: https://github.com/scikit-learn/scikit-learn/issues/21755 */display: inline-block !important;position: relative;}#sk-container-id-1 div.sk-text-repr-fallback {display: none;}</style><div id=\"sk-container-id-1\" class=\"sk-top-container\"><div class=\"sk-text-repr-fallback\"><pre>XGBRegressor(base_score=None, booster=None, callbacks=None,\n",
       "             colsample_bylevel=None, colsample_bynode=None,\n",
       "             colsample_bytree=None, device=None, early_stopping_rounds=None,\n",
       "             enable_categorical=False, eval_metric=&#x27;rmse&#x27;, feature_types=None,\n",
       "             gamma=None, grow_policy=None, importance_type=None,\n",
       "             interaction_constraints=None, learning_rate=None, max_bin=None,\n",
       "             max_cat_threshold=None, max_cat_to_onehot=None,\n",
       "             max_delta_step=None, max_depth=None, max_leaves=None,\n",
       "             min_child_weight=None, missing=nan, monotone_constraints=None,\n",
       "             multi_strategy=None, n_estimators=None, n_jobs=None,\n",
       "             num_parallel_tree=None, random_state=None, ...)</pre><b>In a Jupyter environment, please rerun this cell to show the HTML representation or trust the notebook. <br />On GitHub, the HTML representation is unable to render, please try loading this page with nbviewer.org.</b></div><div class=\"sk-container\" hidden><div class=\"sk-item\"><div class=\"sk-estimator sk-toggleable\"><input class=\"sk-toggleable__control sk-hidden--visually\" id=\"sk-estimator-id-1\" type=\"checkbox\" checked><label for=\"sk-estimator-id-1\" class=\"sk-toggleable__label sk-toggleable__label-arrow\">XGBRegressor</label><div class=\"sk-toggleable__content\"><pre>XGBRegressor(base_score=None, booster=None, callbacks=None,\n",
       "             colsample_bylevel=None, colsample_bynode=None,\n",
       "             colsample_bytree=None, device=None, early_stopping_rounds=None,\n",
       "             enable_categorical=False, eval_metric=&#x27;rmse&#x27;, feature_types=None,\n",
       "             gamma=None, grow_policy=None, importance_type=None,\n",
       "             interaction_constraints=None, learning_rate=None, max_bin=None,\n",
       "             max_cat_threshold=None, max_cat_to_onehot=None,\n",
       "             max_delta_step=None, max_depth=None, max_leaves=None,\n",
       "             min_child_weight=None, missing=nan, monotone_constraints=None,\n",
       "             multi_strategy=None, n_estimators=None, n_jobs=None,\n",
       "             num_parallel_tree=None, random_state=None, ...)</pre></div></div></div></div></div>"
      ],
      "text/plain": [
       "XGBRegressor(base_score=None, booster=None, callbacks=None,\n",
       "             colsample_bylevel=None, colsample_bynode=None,\n",
       "             colsample_bytree=None, device=None, early_stopping_rounds=None,\n",
       "             enable_categorical=False, eval_metric='rmse', feature_types=None,\n",
       "             gamma=None, grow_policy=None, importance_type=None,\n",
       "             interaction_constraints=None, learning_rate=None, max_bin=None,\n",
       "             max_cat_threshold=None, max_cat_to_onehot=None,\n",
       "             max_delta_step=None, max_depth=None, max_leaves=None,\n",
       "             min_child_weight=None, missing=nan, monotone_constraints=None,\n",
       "             multi_strategy=None, n_estimators=None, n_jobs=None,\n",
       "             num_parallel_tree=None, random_state=None, ...)"
      ]
     },
     "execution_count": 118,
     "metadata": {},
     "output_type": "execute_result"
    }
   ],
   "source": [
    "model = xgb.XGBRegressor(eval_metric = \"rmse\", seed = 175)\n",
    "\n",
    "model.fit(X_train, Y_train, eval_set = [(X_train, Y_train), (X_valida, Y_valida)], verbose = True)"
   ]
  },
  {
   "cell_type": "code",
   "execution_count": 119,
   "metadata": {},
   "outputs": [
    {
     "data": {
      "text/html": [
       "<div>\n",
       "<style scoped>\n",
       "    .dataframe tbody tr th:only-of-type {\n",
       "        vertical-align: middle;\n",
       "    }\n",
       "\n",
       "    .dataframe tbody tr th {\n",
       "        vertical-align: top;\n",
       "    }\n",
       "\n",
       "    .dataframe thead th {\n",
       "        text-align: right;\n",
       "    }\n",
       "</style>\n",
       "<table border=\"1\" class=\"dataframe\">\n",
       "  <thead>\n",
       "    <tr style=\"text-align: right;\">\n",
       "      <th></th>\n",
       "      <th>Model</th>\n",
       "      <th>RMSE Train</th>\n",
       "      <th>RMSE Cross-Validation</th>\n",
       "    </tr>\n",
       "  </thead>\n",
       "  <tbody>\n",
       "    <tr>\n",
       "      <th>0</th>\n",
       "      <td>LinearRegression()</td>\n",
       "      <td>101.11</td>\n",
       "      <td>95.1610</td>\n",
       "    </tr>\n",
       "    <tr>\n",
       "      <th>2</th>\n",
       "      <td>Ridge(alpha=10)</td>\n",
       "      <td>101.11</td>\n",
       "      <td>95.1610</td>\n",
       "    </tr>\n",
       "    <tr>\n",
       "      <th>3</th>\n",
       "      <td>ElasticNet()</td>\n",
       "      <td>101.12</td>\n",
       "      <td>95.1683</td>\n",
       "    </tr>\n",
       "    <tr>\n",
       "      <th>1</th>\n",
       "      <td>Lasso(alpha=1)</td>\n",
       "      <td>101.12</td>\n",
       "      <td>95.1706</td>\n",
       "    </tr>\n",
       "    <tr>\n",
       "      <th>4</th>\n",
       "      <td>XGBRegressor(base_score=None, booster=None, ca...</td>\n",
       "      <td>88.42</td>\n",
       "      <td>131.6997</td>\n",
       "    </tr>\n",
       "  </tbody>\n",
       "</table>\n",
       "</div>"
      ],
      "text/plain": [
       "                                               Model  RMSE Train  \\\n",
       "0                                 LinearRegression()      101.11   \n",
       "2                                    Ridge(alpha=10)      101.11   \n",
       "3                                       ElasticNet()      101.12   \n",
       "1                                     Lasso(alpha=1)      101.12   \n",
       "4  XGBRegressor(base_score=None, booster=None, ca...       88.42   \n",
       "\n",
       "   RMSE Cross-Validation  \n",
       "0                95.1610  \n",
       "2                95.1610  \n",
       "3                95.1683  \n",
       "1                95.1706  \n",
       "4               131.6997  "
      ]
     },
     "execution_count": 119,
     "metadata": {},
     "output_type": "execute_result"
    }
   ],
   "source": [
    "evaluate_regression(model = XGBRegressor(objective ='reg:squarederror'),\n",
    "                    X=X_train, y=Y_train)"
   ]
  },
  {
   "cell_type": "markdown",
   "metadata": {},
   "source": [
    "Implementamos Modelo ARIMA para ver si nos da mejor!! No se puede implementar por los tiempos de ejecución 5 TS toma alrededor de 50 minutos"
   ]
  },
  {
   "cell_type": "code",
   "execution_count": null,
   "metadata": {},
   "outputs": [],
   "source": [
    "#Convertimos Yearweek a Index, ya que lo necesitamos para usar ARIMA y nos aseguramos que siga el orden \n",
    "\"\"\"df.reset_index(inplace=True)\n",
    "df.set_index(\"yearweek\", inplace=True)\n",
    "df.sort_index(inplace=True)\"\"\"\n"
   ]
  },
  {
   "cell_type": "code",
   "execution_count": null,
   "metadata": {},
   "outputs": [],
   "source": [
    "# Supongamos que df es tu DataFrame con muchas series temporales\n",
    "# Seleccionar 5 series temporales al azar\n",
    "\"\"\"sample_df = df.sample(n=5, axis=1)\"\"\"\n"
   ]
  },
  {
   "cell_type": "code",
   "execution_count": null,
   "metadata": {},
   "outputs": [
    {
     "data": {
      "text/html": [
       "<div>\n",
       "<style scoped>\n",
       "    .dataframe tbody tr th:only-of-type {\n",
       "        vertical-align: middle;\n",
       "    }\n",
       "\n",
       "    .dataframe tbody tr th {\n",
       "        vertical-align: top;\n",
       "    }\n",
       "\n",
       "    .dataframe thead th {\n",
       "        text-align: right;\n",
       "    }\n",
       "</style>\n",
       "<table border=\"1\" class=\"dataframe\">\n",
       "  <thead>\n",
       "    <tr style=\"text-align: right;\">\n",
       "      <th></th>\n",
       "      <th>week</th>\n",
       "      <th>qty_sold</th>\n",
       "      <th>year</th>\n",
       "      <th>sell_price</th>\n",
       "      <th>id</th>\n",
       "    </tr>\n",
       "    <tr>\n",
       "      <th>yearweek</th>\n",
       "      <th></th>\n",
       "      <th></th>\n",
       "      <th></th>\n",
       "      <th></th>\n",
       "      <th></th>\n",
       "    </tr>\n",
       "  </thead>\n",
       "  <tbody>\n",
       "    <tr>\n",
       "      <th>2016-04-24</th>\n",
       "      <td>16</td>\n",
       "      <td>7</td>\n",
       "      <td>2016</td>\n",
       "      <td>1.200</td>\n",
       "      <td>SUPERMARKET_2_199_NYC_4</td>\n",
       "    </tr>\n",
       "    <tr>\n",
       "      <th>2016-04-24</th>\n",
       "      <td>16</td>\n",
       "      <td>11</td>\n",
       "      <td>2016</td>\n",
       "      <td>1.200</td>\n",
       "      <td>SUPERMARKET_2_199_PHI_1</td>\n",
       "    </tr>\n",
       "    <tr>\n",
       "      <th>2016-04-24</th>\n",
       "      <td>16</td>\n",
       "      <td>7</td>\n",
       "      <td>2016</td>\n",
       "      <td>1.200</td>\n",
       "      <td>SUPERMARKET_2_199_PHI_2</td>\n",
       "    </tr>\n",
       "    <tr>\n",
       "      <th>2016-04-24</th>\n",
       "      <td>16</td>\n",
       "      <td>2</td>\n",
       "      <td>2016</td>\n",
       "      <td>10.776</td>\n",
       "      <td>SUPERMARKET_2_198_NYC_4</td>\n",
       "    </tr>\n",
       "    <tr>\n",
       "      <th>2016-04-24</th>\n",
       "      <td>16</td>\n",
       "      <td>0</td>\n",
       "      <td>2016</td>\n",
       "      <td>1.200</td>\n",
       "      <td>SUPERMARKET_3_827_PHI_3</td>\n",
       "    </tr>\n",
       "  </tbody>\n",
       "</table>\n",
       "</div>"
      ],
      "text/plain": [
       "            week  qty_sold  year  sell_price                       id\n",
       "yearweek                                                             \n",
       "2016-04-24    16         7  2016       1.200  SUPERMARKET_2_199_NYC_4\n",
       "2016-04-24    16        11  2016       1.200  SUPERMARKET_2_199_PHI_1\n",
       "2016-04-24    16         7  2016       1.200  SUPERMARKET_2_199_PHI_2\n",
       "2016-04-24    16         2  2016      10.776  SUPERMARKET_2_198_NYC_4\n",
       "2016-04-24    16         0  2016       1.200  SUPERMARKET_3_827_PHI_3"
      ]
     },
     "execution_count": 229,
     "metadata": {},
     "output_type": "execute_result"
    }
   ],
   "source": [
    "\"\"\"sample_df.head()\"\"\" #Miramos los \"id\" y seleccionamos uno para ver el resultado de ARIMA"
   ]
  },
  {
   "cell_type": "code",
   "execution_count": null,
   "metadata": {},
   "outputs": [],
   "source": [
    "\"\"\"results = {}\n",
    "for col in sample_df.columns:\n",
    "    try:\n",
    "        model = ARIMA(sample_df[col], order=(1,1,1))\n",
    "        result = model.fit()\n",
    "        results[col] = result\n",
    "    except:\n",
    "        results[col] = \"Error al ajustar el modelo\"  # Manejar errores si la serie temporal no es adecuada para ARIMA\n",
    "\n",
    "# Ahora puedes acceder a los resultados de cada serie temporal en el diccionario 'results'\n",
    "# Por ejemplo, para obtener el resumen del modelo ajustado para la primera serie temporal:\n",
    "print(results['ACCESORIES_1_137_PHI_2'].summary())\"\"\""
   ]
  },
  {
   "cell_type": "code",
   "execution_count": null,
   "metadata": {},
   "outputs": [],
   "source": [
    "model = xgb.XGBRegressor(eval_metric = \"rmse\", seed = 175)\n",
    "\n",
    "model.fit(X_train, Y_train, eval_set = [(X_train, Y_train), (X_valida, Y_valida)], verbose = True)"
   ]
  },
  {
   "cell_type": "markdown",
   "metadata": {},
   "source": [
    "#  Model Evaluation"
   ]
  },
  {
   "cell_type": "code",
   "execution_count": null,
   "metadata": {},
   "outputs": [],
   "source": [
    "fig, ax = plt.subplots(figsize = (10, 15))\n",
    "xgb.plot_importance(model, importance_type = \"gain\", ax = ax);"
   ]
  },
  {
   "cell_type": "code",
   "execution_count": null,
   "metadata": {},
   "outputs": [],
   "source": [
    "correlation_matrix = X_train.corr()\n",
    "plt.figure(figsize=(10, 8))\n",
    "sns.heatmap(correlation_matrix, annot=True, cmap=\"coolwarm\")\n",
    "plt.title(\"Mapa de calor de correlación\")\n",
    "plt.show()"
   ]
  },
  {
   "cell_type": "code",
   "execution_count": null,
   "metadata": {},
   "outputs": [],
   "source": [
    "# Obtener métricas\n",
    "results = model.evals_result()\n",
    "# Gráfica de métricas\n",
    "epochs = len(results['validation_0']['rmse'])\n",
    "x_axis = range(0, epochs)\n",
    "# Métricas de entrenamiento\n",
    "plt.plot(x_axis, results['validation_0']['rmse'], label='Train')\n",
    "# Métricas de validação\n",
    "plt.plot(x_axis, results['validation_1']['rmse'], label='Validation')\n",
    "plt.legend()\n",
    "plt.xlabel('Numero de Iteraciones')\n",
    "plt.ylabel('RMSE')\n",
    "plt.title('Desempeño del Modelo - Train vs Validation')\n",
    "plt.show()"
   ]
  },
  {
   "cell_type": "markdown",
   "metadata": {},
   "source": [
    "# Hiperparametrizacion"
   ]
  },
  {
   "cell_type": "code",
   "execution_count": null,
   "metadata": {},
   "outputs": [],
   "source": [
    "parameters_hp = {\n",
    "    'loss': ['squared_error', 'huber', 'epsilon_insensitive'],\n",
    "    'penalty': [None,'l1','l2'],\n",
    "    'alpha': [0.0001, 0.01, 0.1,0.3,0.5],\n",
    "    'l1_ratio': [0.15, 0.5],\n",
    "    'max_iter': [1000, 5000, 10000],\n",
    "    'learning_rate': ['invscaling', 'optimal', 'adaptative'],\n",
    "    'eta0': [0.01,0.05,0.1],\n",
    "    'early_stopping': [True, False],\n",
    "    'n_iter_no_change': [5,10,30]\n",
    "}"
   ]
  },
  {
   "cell_type": "code",
   "execution_count": null,
   "metadata": {},
   "outputs": [],
   "source": [
    "search_hp = RandomizedSearchCV(estimator=SGDRegressor(),\n",
    "                               param_distributions = parameters_hp,\n",
    "                               scoring='neg_root_mean_squared_error',     # metrica a optimizar: RMSE\n",
    "                               cv = 4,                                    # numero de folds para cross-validation\n",
    "                               n_iter = 50,                               # numero de iteraciones, cada una testeara una configuracion distinta\n",
    "                               n_jobs=-1,\n",
    "                               verbose=True)"
   ]
  },
  {
   "cell_type": "code",
   "execution_count": null,
   "metadata": {},
   "outputs": [],
   "source": []
  },
  {
   "cell_type": "markdown",
   "metadata": {},
   "source": [
    "# Prediction"
   ]
  },
  {
   "cell_type": "code",
   "execution_count": null,
   "metadata": {},
   "outputs": [],
   "source": [
    "if \"qty_sold\" in X_test.columns:\n",
    "    X_test.drop(\"qty_sold\", axis = 1, inplace = True)\n",
    "    \n",
    "Y_test_predict = model.predict(X_test)\n",
    "X_test[\"qty_sold\"] = Y_test_predict"
   ]
  },
  {
   "cell_type": "code",
   "execution_count": null,
   "metadata": {},
   "outputs": [],
   "source": [
    "X_test.reset_index(inplace = True)"
   ]
  },
  {
   "cell_type": "code",
   "execution_count": null,
   "metadata": {},
   "outputs": [],
   "source": [
    "Y_train_predict = model.predict(X_train)\n",
    "Y_valida_predict = model.predict(X_valida)\n",
    "\n",
    "rmse_train = np.sqrt(\n",
    "    mean_squared_error(\n",
    "        y_true = Y_train,\n",
    "        y_pred = Y_train_predict\n",
    "    )\n",
    ")\n",
    "\n",
    "rmse_valida = np.sqrt(\n",
    "    mean_squared_error(\n",
    "        y_true = Y_valida,\n",
    "        y_pred = Y_valida_predict\n",
    "    )\n",
    ")\n",
    "\n",
    "rmse_train= str(round(rmse_train, 3)).replace(\".\", \"_\")\n",
    "rmse_valida = str(round(rmse_valida, 3)).replace(\".\", \"_\")"
   ]
  }
 ],
 "metadata": {
  "kernelspec": {
   "display_name": "Python 3",
   "language": "python",
   "name": "python3"
  },
  "language_info": {
   "codemirror_mode": {
    "name": "ipython",
    "version": 3
   },
   "file_extension": ".py",
   "mimetype": "text/x-python",
   "name": "python",
   "nbconvert_exporter": "python",
   "pygments_lexer": "ipython3",
   "version": "3.12.0"
  }
 },
 "nbformat": 4,
 "nbformat_minor": 2
}
