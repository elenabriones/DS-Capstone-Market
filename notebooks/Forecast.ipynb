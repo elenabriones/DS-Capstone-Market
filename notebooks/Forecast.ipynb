{
 "cells": [
  {
   "cell_type": "markdown",
   "metadata": {},
   "source": [
    "# Config & Import Libraries"
   ]
  },
  {
   "cell_type": "code",
   "execution_count": 1,
   "metadata": {},
   "outputs": [],
   "source": [
    "# silence warnings\n",
    "import warnings\n",
    "warnings.filterwarnings(\"ignore\")\n",
    "\n",
    "# imports time series\n",
    "import pandas as pd\n",
    "import numpy as np\n",
    "\n",
    "# plots\n",
    "import matplotlib.pyplot as plt\n",
    "import seaborn as sns\n",
    "%matplotlib inline\n",
    "# pip install calmap\n",
    "#import calmap\n",
    "\n",
    "# para calculas métricas del modelo\n",
    "from sklearn.metrics import mean_squared_error\n",
    "\n",
    "# misc\n",
    "import os\n",
    "import datetime\n",
    "import itertools\n",
    "import pickle\n",
    "\n",
    "# apartado ts\n",
    "from statsmodels.graphics.tsaplots import plot_acf, plot_pacf\n",
    "from statsmodels.tsa.seasonal import seasonal_decompose\n",
    "import xgboost as xgb"
   ]
  },
  {
   "cell_type": "markdown",
   "metadata": {},
   "source": [
    "# Data Loading"
   ]
  },
  {
   "cell_type": "code",
   "execution_count": 2,
   "metadata": {},
   "outputs": [],
   "source": [
    "# Leemos los ficheros\n",
    "ruta = '../data/'\n",
    "df_forecast = pd.read_csv(ruta+'daily_sales_cleandata.csv')"
   ]
  },
  {
   "cell_type": "code",
   "execution_count": 3,
   "metadata": {},
   "outputs": [
    {
     "data": {
      "text/html": [
       "<div>\n",
       "<style scoped>\n",
       "    .dataframe tbody tr th:only-of-type {\n",
       "        vertical-align: middle;\n",
       "    }\n",
       "\n",
       "    .dataframe tbody tr th {\n",
       "        vertical-align: top;\n",
       "    }\n",
       "\n",
       "    .dataframe thead th {\n",
       "        text-align: right;\n",
       "    }\n",
       "</style>\n",
       "<table border=\"1\" class=\"dataframe\">\n",
       "  <thead>\n",
       "    <tr style=\"text-align: right;\">\n",
       "      <th></th>\n",
       "      <th>id</th>\n",
       "      <th>item</th>\n",
       "      <th>category</th>\n",
       "      <th>department</th>\n",
       "      <th>store</th>\n",
       "      <th>store_code</th>\n",
       "      <th>region</th>\n",
       "      <th>d</th>\n",
       "      <th>qty_sold</th>\n",
       "      <th>date</th>\n",
       "      <th>weekday_int</th>\n",
       "      <th>holiday</th>\n",
       "      <th>weekend</th>\n",
       "      <th>yearweek</th>\n",
       "      <th>sell_price</th>\n",
       "    </tr>\n",
       "  </thead>\n",
       "  <tbody>\n",
       "    <tr>\n",
       "      <th>0</th>\n",
       "      <td>ACCESORIES_1_001_NYC_1</td>\n",
       "      <td>ACCESORIES_1_001</td>\n",
       "      <td>ACCESORIES</td>\n",
       "      <td>ACCESORIES_1</td>\n",
       "      <td>Greenwich_Village</td>\n",
       "      <td>NYC_1</td>\n",
       "      <td>New York</td>\n",
       "      <td>d_1</td>\n",
       "      <td>0</td>\n",
       "      <td>2011-01-29</td>\n",
       "      <td>5</td>\n",
       "      <td>0</td>\n",
       "      <td>1</td>\n",
       "      <td>201104</td>\n",
       "      <td>12.7414</td>\n",
       "    </tr>\n",
       "    <tr>\n",
       "      <th>1</th>\n",
       "      <td>ACCESORIES_1_002_NYC_1</td>\n",
       "      <td>ACCESORIES_1_002</td>\n",
       "      <td>ACCESORIES</td>\n",
       "      <td>ACCESORIES_1</td>\n",
       "      <td>Greenwich_Village</td>\n",
       "      <td>NYC_1</td>\n",
       "      <td>New York</td>\n",
       "      <td>d_1</td>\n",
       "      <td>0</td>\n",
       "      <td>2011-01-29</td>\n",
       "      <td>5</td>\n",
       "      <td>0</td>\n",
       "      <td>1</td>\n",
       "      <td>201104</td>\n",
       "      <td>5.2801</td>\n",
       "    </tr>\n",
       "    <tr>\n",
       "      <th>2</th>\n",
       "      <td>ACCESORIES_1_003_NYC_1</td>\n",
       "      <td>ACCESORIES_1_003</td>\n",
       "      <td>ACCESORIES</td>\n",
       "      <td>ACCESORIES_1</td>\n",
       "      <td>Greenwich_Village</td>\n",
       "      <td>NYC_1</td>\n",
       "      <td>New York</td>\n",
       "      <td>d_1</td>\n",
       "      <td>0</td>\n",
       "      <td>2011-01-29</td>\n",
       "      <td>5</td>\n",
       "      <td>0</td>\n",
       "      <td>1</td>\n",
       "      <td>201104</td>\n",
       "      <td>3.9501</td>\n",
       "    </tr>\n",
       "    <tr>\n",
       "      <th>3</th>\n",
       "      <td>ACCESORIES_1_004_NYC_1</td>\n",
       "      <td>ACCESORIES_1_004</td>\n",
       "      <td>ACCESORIES</td>\n",
       "      <td>ACCESORIES_1</td>\n",
       "      <td>Greenwich_Village</td>\n",
       "      <td>NYC_1</td>\n",
       "      <td>New York</td>\n",
       "      <td>d_1</td>\n",
       "      <td>0</td>\n",
       "      <td>2011-01-29</td>\n",
       "      <td>5</td>\n",
       "      <td>0</td>\n",
       "      <td>1</td>\n",
       "      <td>201104</td>\n",
       "      <td>5.7722</td>\n",
       "    </tr>\n",
       "    <tr>\n",
       "      <th>4</th>\n",
       "      <td>ACCESORIES_1_005_NYC_1</td>\n",
       "      <td>ACCESORIES_1_005</td>\n",
       "      <td>ACCESORIES</td>\n",
       "      <td>ACCESORIES_1</td>\n",
       "      <td>Greenwich_Village</td>\n",
       "      <td>NYC_1</td>\n",
       "      <td>New York</td>\n",
       "      <td>d_1</td>\n",
       "      <td>0</td>\n",
       "      <td>2011-01-29</td>\n",
       "      <td>5</td>\n",
       "      <td>0</td>\n",
       "      <td>1</td>\n",
       "      <td>201104</td>\n",
       "      <td>3.9634</td>\n",
       "    </tr>\n",
       "  </tbody>\n",
       "</table>\n",
       "</div>"
      ],
      "text/plain": [
       "                       id              item    category    department  \\\n",
       "0  ACCESORIES_1_001_NYC_1  ACCESORIES_1_001  ACCESORIES  ACCESORIES_1   \n",
       "1  ACCESORIES_1_002_NYC_1  ACCESORIES_1_002  ACCESORIES  ACCESORIES_1   \n",
       "2  ACCESORIES_1_003_NYC_1  ACCESORIES_1_003  ACCESORIES  ACCESORIES_1   \n",
       "3  ACCESORIES_1_004_NYC_1  ACCESORIES_1_004  ACCESORIES  ACCESORIES_1   \n",
       "4  ACCESORIES_1_005_NYC_1  ACCESORIES_1_005  ACCESORIES  ACCESORIES_1   \n",
       "\n",
       "               store store_code    region    d  qty_sold        date  \\\n",
       "0  Greenwich_Village      NYC_1  New York  d_1         0  2011-01-29   \n",
       "1  Greenwich_Village      NYC_1  New York  d_1         0  2011-01-29   \n",
       "2  Greenwich_Village      NYC_1  New York  d_1         0  2011-01-29   \n",
       "3  Greenwich_Village      NYC_1  New York  d_1         0  2011-01-29   \n",
       "4  Greenwich_Village      NYC_1  New York  d_1         0  2011-01-29   \n",
       "\n",
       "   weekday_int  holiday  weekend  yearweek  sell_price  \n",
       "0            5        0        1    201104     12.7414  \n",
       "1            5        0        1    201104      5.2801  \n",
       "2            5        0        1    201104      3.9501  \n",
       "3            5        0        1    201104      5.7722  \n",
       "4            5        0        1    201104      3.9634  "
      ]
     },
     "execution_count": 3,
     "metadata": {},
     "output_type": "execute_result"
    }
   ],
   "source": [
    "df_forecast.head()"
   ]
  },
  {
   "cell_type": "code",
   "execution_count": 4,
   "metadata": {},
   "outputs": [],
   "source": [
    "# Pasamos la variable 'date' a tipo fecha:\n",
    "#df_forecast[\"date\"] = pd.to_datetime(df_forecast[\"date\"], format = \"%Y-%m-%d\")"
   ]
  },
  {
   "cell_type": "code",
   "execution_count": 5,
   "metadata": {},
   "outputs": [],
   "source": [
    "# Generamos una nueva columna como 'week_day' para poder utilizarla como index:\n",
    "df_forecast['year'] = df_forecast['yearweek'].astype(str).str[:4]\n",
    "df_forecast['week'] = df_forecast['yearweek'].astype(str).str[4:] \n",
    "df_forecast['week_day'] = pd.to_datetime(df_forecast['year'] + df_forecast['week'] + '-1', format='%Y%U-%w')"
   ]
  },
  {
   "cell_type": "code",
   "execution_count": 6,
   "metadata": {},
   "outputs": [],
   "source": [
    "#df_forecast.to_csv(ruta+'df_forecast.csv', index=False)"
   ]
  },
  {
   "cell_type": "code",
   "execution_count": 7,
   "metadata": {},
   "outputs": [],
   "source": [
    "# Borramos aquellas variables que no suman al modelo:\n",
    "df_forecast.drop(['d','date','weekend', 'weekday_int','yearweek'], inplace=True, axis=1)"
   ]
  },
  {
   "cell_type": "code",
   "execution_count": 8,
   "metadata": {},
   "outputs": [
    {
     "data": {
      "text/html": [
       "<div>\n",
       "<style scoped>\n",
       "    .dataframe tbody tr th:only-of-type {\n",
       "        vertical-align: middle;\n",
       "    }\n",
       "\n",
       "    .dataframe tbody tr th {\n",
       "        vertical-align: top;\n",
       "    }\n",
       "\n",
       "    .dataframe thead th {\n",
       "        text-align: right;\n",
       "    }\n",
       "</style>\n",
       "<table border=\"1\" class=\"dataframe\">\n",
       "  <thead>\n",
       "    <tr style=\"text-align: right;\">\n",
       "      <th></th>\n",
       "      <th>qty_sold</th>\n",
       "    </tr>\n",
       "    <tr>\n",
       "      <th>id</th>\n",
       "      <th></th>\n",
       "    </tr>\n",
       "  </thead>\n",
       "  <tbody>\n",
       "    <tr>\n",
       "      <th>SUPERMARKET_3_090_NYC_3</th>\n",
       "      <td>250502</td>\n",
       "    </tr>\n",
       "    <tr>\n",
       "      <th>SUPERMARKET_3_586_BOS_2</th>\n",
       "      <td>192835</td>\n",
       "    </tr>\n",
       "    <tr>\n",
       "      <th>SUPERMARKET_3_586_BOS_3</th>\n",
       "      <td>150122</td>\n",
       "    </tr>\n",
       "    <tr>\n",
       "      <th>SUPERMARKET_3_586_NYC_3</th>\n",
       "      <td>134386</td>\n",
       "    </tr>\n",
       "    <tr>\n",
       "      <th>SUPERMARKET_3_090_NYC_1</th>\n",
       "      <td>127203</td>\n",
       "    </tr>\n",
       "    <tr>\n",
       "      <th>...</th>\n",
       "      <td>...</td>\n",
       "    </tr>\n",
       "    <tr>\n",
       "      <th>SUPERMARKET_2_057_PHI_2</th>\n",
       "      <td>16</td>\n",
       "    </tr>\n",
       "    <tr>\n",
       "      <th>SUPERMARKET_2_071_BOS_3</th>\n",
       "      <td>16</td>\n",
       "    </tr>\n",
       "    <tr>\n",
       "      <th>ACCESORIES_1_170_PHI_3</th>\n",
       "      <td>13</td>\n",
       "    </tr>\n",
       "    <tr>\n",
       "      <th>SUPERMARKET_3_778_NYC_2</th>\n",
       "      <td>12</td>\n",
       "    </tr>\n",
       "    <tr>\n",
       "      <th>HOME_&amp;_GARDEN_1_020_NYC_3</th>\n",
       "      <td>10</td>\n",
       "    </tr>\n",
       "  </tbody>\n",
       "</table>\n",
       "<p>30490 rows × 1 columns</p>\n",
       "</div>"
      ],
      "text/plain": [
       "                           qty_sold\n",
       "id                                 \n",
       "SUPERMARKET_3_090_NYC_3      250502\n",
       "SUPERMARKET_3_586_BOS_2      192835\n",
       "SUPERMARKET_3_586_BOS_3      150122\n",
       "SUPERMARKET_3_586_NYC_3      134386\n",
       "SUPERMARKET_3_090_NYC_1      127203\n",
       "...                             ...\n",
       "SUPERMARKET_2_057_PHI_2          16\n",
       "SUPERMARKET_2_071_BOS_3          16\n",
       "ACCESORIES_1_170_PHI_3           13\n",
       "SUPERMARKET_3_778_NYC_2          12\n",
       "HOME_&_GARDEN_1_020_NYC_3        10\n",
       "\n",
       "[30490 rows x 1 columns]"
      ]
     },
     "execution_count": 8,
     "metadata": {},
     "output_type": "execute_result"
    }
   ],
   "source": [
    "df_forecast.groupby(['id'])['qty_sold'].sum().to_frame().sort_values(by='qty_sold', ascending=False)"
   ]
  },
  {
   "cell_type": "code",
   "execution_count": 9,
   "metadata": {},
   "outputs": [
    {
     "data": {
      "text/plain": [
       "('store', 'store_code', 'region')"
      ]
     },
     "execution_count": 9,
     "metadata": {},
     "output_type": "execute_result"
    }
   ],
   "source": [
    "'store','store_code','region'"
   ]
  },
  {
   "cell_type": "code",
   "execution_count": 10,
   "metadata": {},
   "outputs": [],
   "source": [
    "# Importo el dataset de test:\n",
    "df_test = pd.read_csv(ruta+'df_test.csv',delimiter=';')"
   ]
  },
  {
   "cell_type": "code",
   "execution_count": 11,
   "metadata": {},
   "outputs": [],
   "source": [
    "# Transformo algunas columnas al mismo tipo de dato que el dataset de forecast:\n",
    "df_test['year'] = df_test['year'].astype(str)\n",
    "df_test['week'] = df_test['week'].astype(str)\n",
    "df_test['week_day'] = pd.to_datetime(df_test['year'] + df_test['week'] + '-1', format='%Y%U-%w')"
   ]
  },
  {
   "cell_type": "code",
   "execution_count": 12,
   "metadata": {},
   "outputs": [],
   "source": [
    "# Unimos los dos datasets:\n",
    "df_forecast = pd.concat([df_forecast, df_test], ignore_index=True)"
   ]
  },
  {
   "cell_type": "code",
   "execution_count": 13,
   "metadata": {},
   "outputs": [
    {
     "data": {
      "text/html": [
       "<div>\n",
       "<style scoped>\n",
       "    .dataframe tbody tr th:only-of-type {\n",
       "        vertical-align: middle;\n",
       "    }\n",
       "\n",
       "    .dataframe tbody tr th {\n",
       "        vertical-align: top;\n",
       "    }\n",
       "\n",
       "    .dataframe thead th {\n",
       "        text-align: right;\n",
       "    }\n",
       "</style>\n",
       "<table border=\"1\" class=\"dataframe\">\n",
       "  <thead>\n",
       "    <tr style=\"text-align: right;\">\n",
       "      <th></th>\n",
       "      <th>id</th>\n",
       "      <th>item</th>\n",
       "      <th>category</th>\n",
       "      <th>department</th>\n",
       "      <th>store</th>\n",
       "      <th>store_code</th>\n",
       "      <th>region</th>\n",
       "      <th>qty_sold</th>\n",
       "      <th>holiday</th>\n",
       "      <th>sell_price</th>\n",
       "      <th>year</th>\n",
       "      <th>week</th>\n",
       "      <th>week_day</th>\n",
       "    </tr>\n",
       "  </thead>\n",
       "  <tbody>\n",
       "    <tr>\n",
       "      <th>58449325</th>\n",
       "      <td>SUPERMARKET_3_827_NYC_3</td>\n",
       "      <td>SUPERMARKET_3_827</td>\n",
       "      <td>SUPERMARKET</td>\n",
       "      <td>SUPERMARKET_3</td>\n",
       "      <td>Tribeca</td>\n",
       "      <td>NYC_3</td>\n",
       "      <td>New York</td>\n",
       "      <td>NaN</td>\n",
       "      <td>0</td>\n",
       "      <td>NaN</td>\n",
       "      <td>2016</td>\n",
       "      <td>20</td>\n",
       "      <td>2016-05-16</td>\n",
       "    </tr>\n",
       "    <tr>\n",
       "      <th>58449326</th>\n",
       "      <td>SUPERMARKET_3_827_NYC_4</td>\n",
       "      <td>SUPERMARKET_3_827</td>\n",
       "      <td>SUPERMARKET</td>\n",
       "      <td>SUPERMARKET_3</td>\n",
       "      <td>Brooklyn</td>\n",
       "      <td>NYC_4</td>\n",
       "      <td>New York</td>\n",
       "      <td>NaN</td>\n",
       "      <td>0</td>\n",
       "      <td>NaN</td>\n",
       "      <td>2016</td>\n",
       "      <td>20</td>\n",
       "      <td>2016-05-16</td>\n",
       "    </tr>\n",
       "    <tr>\n",
       "      <th>58449327</th>\n",
       "      <td>SUPERMARKET_3_827_PHI_1</td>\n",
       "      <td>SUPERMARKET_3_827</td>\n",
       "      <td>SUPERMARKET</td>\n",
       "      <td>SUPERMARKET_3</td>\n",
       "      <td>Midtown_Village</td>\n",
       "      <td>PHI_1</td>\n",
       "      <td>Philadelphia</td>\n",
       "      <td>NaN</td>\n",
       "      <td>0</td>\n",
       "      <td>NaN</td>\n",
       "      <td>2016</td>\n",
       "      <td>20</td>\n",
       "      <td>2016-05-16</td>\n",
       "    </tr>\n",
       "    <tr>\n",
       "      <th>58449328</th>\n",
       "      <td>SUPERMARKET_3_827_PHI_2</td>\n",
       "      <td>SUPERMARKET_3_827</td>\n",
       "      <td>SUPERMARKET</td>\n",
       "      <td>SUPERMARKET_3</td>\n",
       "      <td>Yorktown</td>\n",
       "      <td>PHI_2</td>\n",
       "      <td>Philadelphia</td>\n",
       "      <td>NaN</td>\n",
       "      <td>0</td>\n",
       "      <td>NaN</td>\n",
       "      <td>2016</td>\n",
       "      <td>20</td>\n",
       "      <td>2016-05-16</td>\n",
       "    </tr>\n",
       "    <tr>\n",
       "      <th>58449329</th>\n",
       "      <td>SUPERMARKET_3_827_PHI_3</td>\n",
       "      <td>SUPERMARKET_3_827</td>\n",
       "      <td>SUPERMARKET</td>\n",
       "      <td>SUPERMARKET_3</td>\n",
       "      <td>Queen_Village</td>\n",
       "      <td>PHI_3</td>\n",
       "      <td>Philadelphia</td>\n",
       "      <td>NaN</td>\n",
       "      <td>0</td>\n",
       "      <td>NaN</td>\n",
       "      <td>2016</td>\n",
       "      <td>20</td>\n",
       "      <td>2016-05-16</td>\n",
       "    </tr>\n",
       "  </tbody>\n",
       "</table>\n",
       "</div>"
      ],
      "text/plain": [
       "                               id               item     category  \\\n",
       "58449325  SUPERMARKET_3_827_NYC_3  SUPERMARKET_3_827  SUPERMARKET   \n",
       "58449326  SUPERMARKET_3_827_NYC_4  SUPERMARKET_3_827  SUPERMARKET   \n",
       "58449327  SUPERMARKET_3_827_PHI_1  SUPERMARKET_3_827  SUPERMARKET   \n",
       "58449328  SUPERMARKET_3_827_PHI_2  SUPERMARKET_3_827  SUPERMARKET   \n",
       "58449329  SUPERMARKET_3_827_PHI_3  SUPERMARKET_3_827  SUPERMARKET   \n",
       "\n",
       "             department            store store_code        region  qty_sold  \\\n",
       "58449325  SUPERMARKET_3          Tribeca      NYC_3      New York       NaN   \n",
       "58449326  SUPERMARKET_3         Brooklyn      NYC_4      New York       NaN   \n",
       "58449327  SUPERMARKET_3  Midtown_Village      PHI_1  Philadelphia       NaN   \n",
       "58449328  SUPERMARKET_3         Yorktown      PHI_2  Philadelphia       NaN   \n",
       "58449329  SUPERMARKET_3    Queen_Village      PHI_3  Philadelphia       NaN   \n",
       "\n",
       "          holiday  sell_price  year week   week_day  \n",
       "58449325        0         NaN  2016   20 2016-05-16  \n",
       "58449326        0         NaN  2016   20 2016-05-16  \n",
       "58449327        0         NaN  2016   20 2016-05-16  \n",
       "58449328        0         NaN  2016   20 2016-05-16  \n",
       "58449329        0         NaN  2016   20 2016-05-16  "
      ]
     },
     "execution_count": 13,
     "metadata": {},
     "output_type": "execute_result"
    }
   ],
   "source": [
    "df_forecast.tail()"
   ]
  },
  {
   "cell_type": "markdown",
   "metadata": {},
   "source": [
    "# Asignación de valores numericos a los nulos:"
   ]
  },
  {
   "cell_type": "code",
   "execution_count": 14,
   "metadata": {},
   "outputs": [
    {
     "data": {
      "text/plain": [
       "id                 0\n",
       "item               0\n",
       "category           0\n",
       "department         0\n",
       "store              0\n",
       "store_code         0\n",
       "region             0\n",
       "qty_sold      121960\n",
       "holiday            0\n",
       "sell_price    121960\n",
       "year               0\n",
       "week               0\n",
       "week_day           0\n",
       "dtype: int64"
      ]
     },
     "execution_count": 14,
     "metadata": {},
     "output_type": "execute_result"
    }
   ],
   "source": [
    "df_forecast.isnull().sum()"
   ]
  },
  {
   "cell_type": "code",
   "execution_count": 15,
   "metadata": {},
   "outputs": [],
   "source": [
    "# Asignamos valores a sell_price:\n",
    "df_forecast['sell_price'] = df_forecast.groupby(['id'])['sell_price'].transform(lambda series: series.bfill().ffill())"
   ]
  },
  {
   "cell_type": "code",
   "execution_count": 16,
   "metadata": {},
   "outputs": [],
   "source": [
    "# Reemplazamos los valores NaN de 'qty_sold' con cero, ya que son los valores a predecir:\n",
    "df_forecast['qty_sold'].fillna(0, inplace=True)"
   ]
  },
  {
   "cell_type": "markdown",
   "metadata": {},
   "source": [
    "# Data Transformation: creacion de diccionarios."
   ]
  },
  {
   "cell_type": "code",
   "execution_count": 17,
   "metadata": {},
   "outputs": [],
   "source": [
    "store_dict = {\n",
    "\n",
    "    'South_End': 1,\n",
    "    'Roxbury': 2,\n",
    "    'Back_Bay': 3,\n",
    "    'Greenwich_Village': 4,\n",
    "    'Harlem' : 5,\n",
    "    'Tribeca': 6, \n",
    "    'Brooklyn': 7,\n",
    "    'Midtown_Village': 8,\n",
    "    'Yorktown':9, \n",
    "    'Queen_Village': 10\n",
    "\n",
    "}\n",
    "\n",
    "df_forecast[\"store_encode\"]=df_forecast[\"store\"].map(store_dict)"
   ]
  },
  {
   "cell_type": "code",
   "execution_count": 18,
   "metadata": {},
   "outputs": [],
   "source": [
    "department_dict = {\n",
    "\n",
    "    'SUPERMARKET_3': 1,      \n",
    "    'HOME_&_GARDEN_1' : 2,   \n",
    "    'HOME_&_GARDEN_2' :3, \n",
    "    'ACCESORIES_1' :4,      \n",
    "    'SUPERMARKET_2': 5,  \n",
    "    'SUPERMARKET_1':6,       \n",
    "    'ACCESORIES_2':7       \n",
    "\n",
    "}\n",
    "\n",
    "df_forecast[\"department_encode\"]=df_forecast[\"department\"].map(department_dict)"
   ]
  },
  {
   "cell_type": "code",
   "execution_count": 19,
   "metadata": {},
   "outputs": [],
   "source": [
    "category_dict = {\n",
    "\n",
    "    'SUPERMARKET': 1,\n",
    "    'HOME_&_GARDEN': 2,\n",
    "    'ACCESORIES': 3\n",
    "   \n",
    "}\n",
    "\n",
    "df_forecast[\"category_encode\"]=df_forecast[\"category\"].map(category_dict)"
   ]
  },
  {
   "cell_type": "code",
   "execution_count": 20,
   "metadata": {},
   "outputs": [],
   "source": [
    "region_dict ={\n",
    "\n",
    "    'New York': 1,\n",
    "    'Boston': 2,\n",
    "    'Philadelphia':3\n",
    "\n",
    "}\n",
    "\n",
    "df_forecast[\"region_encode\"]=df_forecast[\"region\"].map(region_dict)"
   ]
  },
  {
   "cell_type": "code",
   "execution_count": 21,
   "metadata": {},
   "outputs": [],
   "source": [
    "# Borramos las columnas encodeadas:\n",
    "df_forecast.drop([\n",
    "                    'category',\n",
    "                    'department', \n",
    "                    'region', \n",
    "                    'store', \n",
    "                    'store_code',\n",
    "                    'item'], \n",
    "                    axis=1, inplace=True)"
   ]
  },
  {
   "cell_type": "code",
   "execution_count": 22,
   "metadata": {},
   "outputs": [
    {
     "data": {
      "text/html": [
       "<div>\n",
       "<style scoped>\n",
       "    .dataframe tbody tr th:only-of-type {\n",
       "        vertical-align: middle;\n",
       "    }\n",
       "\n",
       "    .dataframe tbody tr th {\n",
       "        vertical-align: top;\n",
       "    }\n",
       "\n",
       "    .dataframe thead th {\n",
       "        text-align: right;\n",
       "    }\n",
       "</style>\n",
       "<table border=\"1\" class=\"dataframe\">\n",
       "  <thead>\n",
       "    <tr style=\"text-align: right;\">\n",
       "      <th></th>\n",
       "      <th>id</th>\n",
       "      <th>qty_sold</th>\n",
       "      <th>holiday</th>\n",
       "      <th>sell_price</th>\n",
       "      <th>year</th>\n",
       "      <th>week</th>\n",
       "      <th>week_day</th>\n",
       "      <th>store_encode</th>\n",
       "      <th>department_encode</th>\n",
       "      <th>category_encode</th>\n",
       "      <th>region_encode</th>\n",
       "    </tr>\n",
       "  </thead>\n",
       "  <tbody>\n",
       "    <tr>\n",
       "      <th>0</th>\n",
       "      <td>ACCESORIES_1_001_NYC_1</td>\n",
       "      <td>0.0</td>\n",
       "      <td>0</td>\n",
       "      <td>12.7414</td>\n",
       "      <td>2011</td>\n",
       "      <td>04</td>\n",
       "      <td>2011-01-24</td>\n",
       "      <td>4</td>\n",
       "      <td>4</td>\n",
       "      <td>3</td>\n",
       "      <td>1</td>\n",
       "    </tr>\n",
       "    <tr>\n",
       "      <th>1</th>\n",
       "      <td>ACCESORIES_1_002_NYC_1</td>\n",
       "      <td>0.0</td>\n",
       "      <td>0</td>\n",
       "      <td>5.2801</td>\n",
       "      <td>2011</td>\n",
       "      <td>04</td>\n",
       "      <td>2011-01-24</td>\n",
       "      <td>4</td>\n",
       "      <td>4</td>\n",
       "      <td>3</td>\n",
       "      <td>1</td>\n",
       "    </tr>\n",
       "    <tr>\n",
       "      <th>2</th>\n",
       "      <td>ACCESORIES_1_003_NYC_1</td>\n",
       "      <td>0.0</td>\n",
       "      <td>0</td>\n",
       "      <td>3.9501</td>\n",
       "      <td>2011</td>\n",
       "      <td>04</td>\n",
       "      <td>2011-01-24</td>\n",
       "      <td>4</td>\n",
       "      <td>4</td>\n",
       "      <td>3</td>\n",
       "      <td>1</td>\n",
       "    </tr>\n",
       "    <tr>\n",
       "      <th>3</th>\n",
       "      <td>ACCESORIES_1_004_NYC_1</td>\n",
       "      <td>0.0</td>\n",
       "      <td>0</td>\n",
       "      <td>5.7722</td>\n",
       "      <td>2011</td>\n",
       "      <td>04</td>\n",
       "      <td>2011-01-24</td>\n",
       "      <td>4</td>\n",
       "      <td>4</td>\n",
       "      <td>3</td>\n",
       "      <td>1</td>\n",
       "    </tr>\n",
       "    <tr>\n",
       "      <th>4</th>\n",
       "      <td>ACCESORIES_1_005_NYC_1</td>\n",
       "      <td>0.0</td>\n",
       "      <td>0</td>\n",
       "      <td>3.9634</td>\n",
       "      <td>2011</td>\n",
       "      <td>04</td>\n",
       "      <td>2011-01-24</td>\n",
       "      <td>4</td>\n",
       "      <td>4</td>\n",
       "      <td>3</td>\n",
       "      <td>1</td>\n",
       "    </tr>\n",
       "  </tbody>\n",
       "</table>\n",
       "</div>"
      ],
      "text/plain": [
       "                       id  qty_sold  holiday  sell_price  year week  \\\n",
       "0  ACCESORIES_1_001_NYC_1       0.0        0     12.7414  2011   04   \n",
       "1  ACCESORIES_1_002_NYC_1       0.0        0      5.2801  2011   04   \n",
       "2  ACCESORIES_1_003_NYC_1       0.0        0      3.9501  2011   04   \n",
       "3  ACCESORIES_1_004_NYC_1       0.0        0      5.7722  2011   04   \n",
       "4  ACCESORIES_1_005_NYC_1       0.0        0      3.9634  2011   04   \n",
       "\n",
       "    week_day  store_encode  department_encode  category_encode  region_encode  \n",
       "0 2011-01-24             4                  4                3              1  \n",
       "1 2011-01-24             4                  4                3              1  \n",
       "2 2011-01-24             4                  4                3              1  \n",
       "3 2011-01-24             4                  4                3              1  \n",
       "4 2011-01-24             4                  4                3              1  "
      ]
     },
     "execution_count": 22,
     "metadata": {},
     "output_type": "execute_result"
    }
   ],
   "source": [
    "df_forecast.head()"
   ]
  },
  {
   "cell_type": "code",
   "execution_count": 23,
   "metadata": {},
   "outputs": [],
   "source": [
    "# Renombramos 'week_day' como 'date':\n",
    "df_forecast.rename(columns={'week_day': 'date'}, inplace=True)"
   ]
  },
  {
   "cell_type": "markdown",
   "metadata": {},
   "source": [
    "# Visualizamos las ventas"
   ]
  },
  {
   "cell_type": "code",
   "execution_count": 24,
   "metadata": {},
   "outputs": [],
   "source": [
    "df = df_forecast.copy()"
   ]
  },
  {
   "cell_type": "code",
   "execution_count": 25,
   "metadata": {},
   "outputs": [
    {
     "data": {
      "text/plain": [
       "<matplotlib.legend.Legend at 0x1d27bb57470>"
      ]
     },
     "execution_count": 25,
     "metadata": {},
     "output_type": "execute_result"
    },
    {
     "data": {
      "image/png": "[encoded data removed]",
      "text/plain": [
       "<Figure size 2000x600 with 1 Axes>"
      ]
     },
     "metadata": {},
     "output_type": "display_data"
    }
   ],
   "source": [
    "# Consultamos las ventas mensuales:\n",
    "x= df[['date', \"qty_sold\"]].set_index('date').resample(\"M\").sum()\n",
    "\n",
    "# Vemos la evolución de las ventas mensuales:\n",
    "plt.figure(figsize = (20, 6))\n",
    "plt.plot(x, color = \"blue\", label = \"Monthly sales\")\n",
    "plt.title(\"Monthly sales\")\n",
    "plt.legend()"
   ]
  },
  {
   "cell_type": "code",
   "execution_count": 26,
   "metadata": {},
   "outputs": [
    {
     "data": {
      "text/plain": [
       "<matplotlib.legend.Legend at 0x1d22f650950>"
      ]
     },
     "execution_count": 26,
     "metadata": {},
     "output_type": "execute_result"
    },
    {
     "data": {
      "image/png": "[encoded data removed]",
      "text/plain": [
       "<Figure size 2000x600 with 1 Axes>"
      ]
     },
     "metadata": {},
     "output_type": "display_data"
    }
   ],
   "source": [
    "# Consultamos las ventas semanales:\n",
    "x= df[['date', \"qty_sold\"]].set_index('date').resample(\"W\").sum()\n",
    "\n",
    "# Vemos la evolución de las ventas semanales:\n",
    "plt.figure(figsize = (20, 6))\n",
    "plt.plot(x, color = \"red\", label = \"Weekly sales\")\n",
    "plt.title(\"Weekly sales\")\n",
    "plt.legend()"
   ]
  },
  {
   "cell_type": "markdown",
   "metadata": {},
   "source": [
    "### EDA: Global Sales"
   ]
  },
  {
   "cell_type": "code",
   "execution_count": 27,
   "metadata": {},
   "outputs": [],
   "source": [
    "def plot_ts_acf_pacf(y, title):\n",
    "    '''\n",
    "    Plots the ts you pass and the acf and pacf.\n",
    "    '''\n",
    "    fig = plt.figure(figsize = (12, 10))\n",
    "    ax1, ax2, ax3 = fig.subplots(3, 1)\n",
    "\n",
    "    ax1.plot(y)\n",
    "    plot_acf(x = y, ax = ax2, lags = 14)\n",
    "    plot_pacf(x = y, ax = ax3, lags = 14)\n",
    "\n",
    "    plt.suptitle(t = title, fontsize = 20)"
   ]
  },
  {
   "cell_type": "code",
   "execution_count": 28,
   "metadata": {},
   "outputs": [
    {
     "data": {
      "image/png": "[encoded data removed]",
      "text/plain": [
       "<Figure size 1200x1000 with 3 Axes>"
      ]
     },
     "metadata": {},
     "output_type": "display_data"
    }
   ],
   "source": [
    "y = df.set_index(\"date\").resample(\"W\")[\"qty_sold\"].sum()[:-4] # quitamos los registros de las ultimas cuatro semanas.\n",
    "plot_ts_acf_pacf(y = y, title = \"Weekly Sales for all items in all shops\")"
   ]
  },
  {
   "cell_type": "markdown",
   "metadata": {},
   "source": [
    "## · Building Time Series Features:"
   ]
  },
  {
   "cell_type": "code",
   "execution_count": 29,
   "metadata": {},
   "outputs": [],
   "source": [
    "def build_ts_vars(df, gb_list, target_column, agg_func, agg_func_name):\n",
    "\n",
    "    assert \"date\" in df.columns.tolist(), \"Date must be in df columns\"\n",
    "\n",
    "    new_name = \"_\".join(gb_list + [target_column] + [agg_func_name])\n",
    "\n",
    "    gb_df_ = (\n",
    "        df\n",
    "        .set_index(\"date\")\n",
    "        .groupby(gb_list)\n",
    "        .resample(\"W\")[target_column]\n",
    "        .apply(agg_func)\n",
    "        .to_frame()\n",
    "        .reset_index()\n",
    "        .rename(\n",
    "            columns = {\n",
    "                target_column : new_name\n",
    "            }\n",
    "        )\n",
    "    )\n",
    "\n",
    "    gb_df_[f\"{new_name}_lag1\"] = gb_df_.groupby(gb_list)[new_name].transform(\n",
    "        lambda series: series.shift(1)\n",
    "    )\n",
    "    gb_df_[f\"{new_name}_ma3\"] = gb_df_.groupby(gb_list)[new_name].transform(\n",
    "        lambda series: series.shift(1).rolling(3).mean()\n",
    "    )\n",
    "    print(f\"Dropping columns that might cause target leakage {new_name}\")\n",
    "    gb_df_.drop(new_name, inplace = True, axis = 1)\n",
    "\n",
    "    return gb_df_"
   ]
  },
  {
   "cell_type": "code",
   "execution_count": 30,
   "metadata": {},
   "outputs": [
    {
     "data": {
      "text/html": [
       "<div>\n",
       "<style scoped>\n",
       "    .dataframe tbody tr th:only-of-type {\n",
       "        vertical-align: middle;\n",
       "    }\n",
       "\n",
       "    .dataframe tbody tr th {\n",
       "        vertical-align: top;\n",
       "    }\n",
       "\n",
       "    .dataframe thead th {\n",
       "        text-align: right;\n",
       "    }\n",
       "</style>\n",
       "<table border=\"1\" class=\"dataframe\">\n",
       "  <thead>\n",
       "    <tr style=\"text-align: right;\">\n",
       "      <th></th>\n",
       "      <th>id</th>\n",
       "      <th>qty_sold</th>\n",
       "      <th>holiday</th>\n",
       "      <th>sell_price</th>\n",
       "      <th>year</th>\n",
       "      <th>week</th>\n",
       "      <th>date</th>\n",
       "      <th>store_encode</th>\n",
       "      <th>department_encode</th>\n",
       "      <th>category_encode</th>\n",
       "      <th>region_encode</th>\n",
       "    </tr>\n",
       "  </thead>\n",
       "  <tbody>\n",
       "    <tr>\n",
       "      <th>0</th>\n",
       "      <td>ACCESORIES_1_001_NYC_1</td>\n",
       "      <td>0.0</td>\n",
       "      <td>0</td>\n",
       "      <td>12.7414</td>\n",
       "      <td>2011</td>\n",
       "      <td>04</td>\n",
       "      <td>2011-01-24</td>\n",
       "      <td>4</td>\n",
       "      <td>4</td>\n",
       "      <td>3</td>\n",
       "      <td>1</td>\n",
       "    </tr>\n",
       "    <tr>\n",
       "      <th>1</th>\n",
       "      <td>ACCESORIES_1_002_NYC_1</td>\n",
       "      <td>0.0</td>\n",
       "      <td>0</td>\n",
       "      <td>5.2801</td>\n",
       "      <td>2011</td>\n",
       "      <td>04</td>\n",
       "      <td>2011-01-24</td>\n",
       "      <td>4</td>\n",
       "      <td>4</td>\n",
       "      <td>3</td>\n",
       "      <td>1</td>\n",
       "    </tr>\n",
       "    <tr>\n",
       "      <th>2</th>\n",
       "      <td>ACCESORIES_1_003_NYC_1</td>\n",
       "      <td>0.0</td>\n",
       "      <td>0</td>\n",
       "      <td>3.9501</td>\n",
       "      <td>2011</td>\n",
       "      <td>04</td>\n",
       "      <td>2011-01-24</td>\n",
       "      <td>4</td>\n",
       "      <td>4</td>\n",
       "      <td>3</td>\n",
       "      <td>1</td>\n",
       "    </tr>\n",
       "    <tr>\n",
       "      <th>3</th>\n",
       "      <td>ACCESORIES_1_004_NYC_1</td>\n",
       "      <td>0.0</td>\n",
       "      <td>0</td>\n",
       "      <td>5.7722</td>\n",
       "      <td>2011</td>\n",
       "      <td>04</td>\n",
       "      <td>2011-01-24</td>\n",
       "      <td>4</td>\n",
       "      <td>4</td>\n",
       "      <td>3</td>\n",
       "      <td>1</td>\n",
       "    </tr>\n",
       "    <tr>\n",
       "      <th>4</th>\n",
       "      <td>ACCESORIES_1_005_NYC_1</td>\n",
       "      <td>0.0</td>\n",
       "      <td>0</td>\n",
       "      <td>3.9634</td>\n",
       "      <td>2011</td>\n",
       "      <td>04</td>\n",
       "      <td>2011-01-24</td>\n",
       "      <td>4</td>\n",
       "      <td>4</td>\n",
       "      <td>3</td>\n",
       "      <td>1</td>\n",
       "    </tr>\n",
       "  </tbody>\n",
       "</table>\n",
       "</div>"
      ],
      "text/plain": [
       "                       id  qty_sold  holiday  sell_price  year week  \\\n",
       "0  ACCESORIES_1_001_NYC_1       0.0        0     12.7414  2011   04   \n",
       "1  ACCESORIES_1_002_NYC_1       0.0        0      5.2801  2011   04   \n",
       "2  ACCESORIES_1_003_NYC_1       0.0        0      3.9501  2011   04   \n",
       "3  ACCESORIES_1_004_NYC_1       0.0        0      5.7722  2011   04   \n",
       "4  ACCESORIES_1_005_NYC_1       0.0        0      3.9634  2011   04   \n",
       "\n",
       "        date  store_encode  department_encode  category_encode  region_encode  \n",
       "0 2011-01-24             4                  4                3              1  \n",
       "1 2011-01-24             4                  4                3              1  \n",
       "2 2011-01-24             4                  4                3              1  \n",
       "3 2011-01-24             4                  4                3              1  \n",
       "4 2011-01-24             4                  4                3              1  "
      ]
     },
     "execution_count": 30,
     "metadata": {},
     "output_type": "execute_result"
    }
   ],
   "source": [
    "df.head()"
   ]
  },
  {
   "cell_type": "code",
   "execution_count": 31,
   "metadata": {},
   "outputs": [
    {
     "data": {
      "text/plain": [
       "'GB_LIST = [\\'store_encode\\',\\'id\\']          #,\"item_id\"\\nTARGET_COLUMN = \"qty_sold\"\\nAGG_FUNC = np.sum\\nAGG_FUNC_NAME = \"sum\"\\n\\nvars_ts_ = build_ts_vars(\\n    df = df,\\n    gb_list = GB_LIST,\\n    target_column = TARGET_COLUMN,\\n    agg_func = AGG_FUNC,\\n    agg_func_name =  AGG_FUNC_NAME\\n\\n)\\n\\nvars_ts_.head(10)\\n\\nprint(df.shape)\\ndf = pd.merge(df, vars_ts_, on = [\"date\"] + GB_LIST, how = \"left\")\\nprint(df.shape)'"
      ]
     },
     "execution_count": 31,
     "metadata": {},
     "output_type": "execute_result"
    }
   ],
   "source": [
    "'''GB_LIST = ['store_encode','id']          #,\"item_id\"\n",
    "TARGET_COLUMN = \"qty_sold\"\n",
    "AGG_FUNC = np.sum\n",
    "AGG_FUNC_NAME = \"sum\"\n",
    "\n",
    "vars_ts_ = build_ts_vars(\n",
    "    df = df,\n",
    "    gb_list = GB_LIST,\n",
    "    target_column = TARGET_COLUMN,\n",
    "    agg_func = AGG_FUNC,\n",
    "    agg_func_name =  AGG_FUNC_NAME\n",
    "\n",
    ")\n",
    "\n",
    "vars_ts_.head(10)\n",
    "\n",
    "print(df.shape)\n",
    "df = pd.merge(df, vars_ts_, on = [\"date\"] + GB_LIST, how = \"left\")\n",
    "print(df.shape)'''"
   ]
  },
  {
   "cell_type": "code",
   "execution_count": 32,
   "metadata": {},
   "outputs": [
    {
     "data": {
      "text/plain": [
       "'GB_LIST = [\\'store_encode\\',\\'id\\']          # ,\"item_id\"\\nTARGET_COLUMN = \"sell_price\"\\nAGG_FUNC = np.sum\\nAGG_FUNC_NAME = \"sum\"\\n\\nvars_ts_ = build_ts_vars(\\n    df = df,\\n    gb_list = GB_LIST,\\n    target_column = TARGET_COLUMN,\\n    agg_func = AGG_FUNC,\\n    agg_func_name =  AGG_FUNC_NAME\\n\\n)\\n\\nvars_ts_.head(10)\\n\\nprint(df.shape)\\ndf = pd.merge(df, vars_ts_, on = [\"date\"] + GB_LIST, how = \"left\")\\nprint(df.shape)'"
      ]
     },
     "execution_count": 32,
     "metadata": {},
     "output_type": "execute_result"
    }
   ],
   "source": [
    "'''GB_LIST = ['store_encode','id']          # ,\"item_id\"\n",
    "TARGET_COLUMN = \"sell_price\"\n",
    "AGG_FUNC = np.sum\n",
    "AGG_FUNC_NAME = \"sum\"\n",
    "\n",
    "vars_ts_ = build_ts_vars(\n",
    "    df = df,\n",
    "    gb_list = GB_LIST,\n",
    "    target_column = TARGET_COLUMN,\n",
    "    agg_func = AGG_FUNC,\n",
    "    agg_func_name =  AGG_FUNC_NAME\n",
    "\n",
    ")\n",
    "\n",
    "vars_ts_.head(10)\n",
    "\n",
    "print(df.shape)\n",
    "df = pd.merge(df, vars_ts_, on = [\"date\"] + GB_LIST, how = \"left\")\n",
    "print(df.shape)'''"
   ]
  },
  {
   "cell_type": "code",
   "execution_count": 33,
   "metadata": {},
   "outputs": [],
   "source": [
    "#df['sales_mean_rolling'] = df.groupby(['id']).resample('W')['qty_sold'].transform(lambda series: series.shift(1).rolling(window = 2).mean())"
   ]
  },
  {
   "cell_type": "code",
   "execution_count": 34,
   "metadata": {},
   "outputs": [
    {
     "data": {
      "text/html": [
       "<div>\n",
       "<style scoped>\n",
       "    .dataframe tbody tr th:only-of-type {\n",
       "        vertical-align: middle;\n",
       "    }\n",
       "\n",
       "    .dataframe tbody tr th {\n",
       "        vertical-align: top;\n",
       "    }\n",
       "\n",
       "    .dataframe thead th {\n",
       "        text-align: right;\n",
       "    }\n",
       "</style>\n",
       "<table border=\"1\" class=\"dataframe\">\n",
       "  <thead>\n",
       "    <tr style=\"text-align: right;\">\n",
       "      <th></th>\n",
       "      <th>id</th>\n",
       "      <th>qty_sold</th>\n",
       "      <th>holiday</th>\n",
       "      <th>sell_price</th>\n",
       "      <th>year</th>\n",
       "      <th>week</th>\n",
       "      <th>date</th>\n",
       "      <th>store_encode</th>\n",
       "      <th>department_encode</th>\n",
       "      <th>category_encode</th>\n",
       "      <th>region_encode</th>\n",
       "    </tr>\n",
       "  </thead>\n",
       "  <tbody>\n",
       "    <tr>\n",
       "      <th>0</th>\n",
       "      <td>ACCESORIES_1_001_NYC_1</td>\n",
       "      <td>0.0</td>\n",
       "      <td>0</td>\n",
       "      <td>12.7414</td>\n",
       "      <td>2011</td>\n",
       "      <td>04</td>\n",
       "      <td>2011-01-24</td>\n",
       "      <td>4</td>\n",
       "      <td>4</td>\n",
       "      <td>3</td>\n",
       "      <td>1</td>\n",
       "    </tr>\n",
       "    <tr>\n",
       "      <th>1</th>\n",
       "      <td>ACCESORIES_1_002_NYC_1</td>\n",
       "      <td>0.0</td>\n",
       "      <td>0</td>\n",
       "      <td>5.2801</td>\n",
       "      <td>2011</td>\n",
       "      <td>04</td>\n",
       "      <td>2011-01-24</td>\n",
       "      <td>4</td>\n",
       "      <td>4</td>\n",
       "      <td>3</td>\n",
       "      <td>1</td>\n",
       "    </tr>\n",
       "    <tr>\n",
       "      <th>2</th>\n",
       "      <td>ACCESORIES_1_003_NYC_1</td>\n",
       "      <td>0.0</td>\n",
       "      <td>0</td>\n",
       "      <td>3.9501</td>\n",
       "      <td>2011</td>\n",
       "      <td>04</td>\n",
       "      <td>2011-01-24</td>\n",
       "      <td>4</td>\n",
       "      <td>4</td>\n",
       "      <td>3</td>\n",
       "      <td>1</td>\n",
       "    </tr>\n",
       "  </tbody>\n",
       "</table>\n",
       "</div>"
      ],
      "text/plain": [
       "                       id  qty_sold  holiday  sell_price  year week  \\\n",
       "0  ACCESORIES_1_001_NYC_1       0.0        0     12.7414  2011   04   \n",
       "1  ACCESORIES_1_002_NYC_1       0.0        0      5.2801  2011   04   \n",
       "2  ACCESORIES_1_003_NYC_1       0.0        0      3.9501  2011   04   \n",
       "\n",
       "        date  store_encode  department_encode  category_encode  region_encode  \n",
       "0 2011-01-24             4                  4                3              1  \n",
       "1 2011-01-24             4                  4                3              1  \n",
       "2 2011-01-24             4                  4                3              1  "
      ]
     },
     "execution_count": 34,
     "metadata": {},
     "output_type": "execute_result"
    }
   ],
   "source": [
    "df.head(3)"
   ]
  },
  {
   "cell_type": "markdown",
   "metadata": {},
   "source": [
    "### Train Test Split"
   ]
  },
  {
   "cell_type": "code",
   "execution_count": 35,
   "metadata": {},
   "outputs": [
    {
     "data": {
      "text/plain": [
       "['id',\n",
       " 'qty_sold',\n",
       " 'holiday',\n",
       " 'sell_price',\n",
       " 'year',\n",
       " 'week',\n",
       " 'date',\n",
       " 'store_encode',\n",
       " 'department_encode',\n",
       " 'category_encode',\n",
       " 'region_encode']"
      ]
     },
     "execution_count": 35,
     "metadata": {},
     "output_type": "execute_result"
    }
   ],
   "source": [
    "df.columns.tolist()"
   ]
  },
  {
   "cell_type": "code",
   "execution_count": 36,
   "metadata": {},
   "outputs": [],
   "source": [
    "COLUMNS_TO_DROP = ['year','week'\n",
    "]\n",
    "\n",
    "df.drop(COLUMNS_TO_DROP, inplace = True, axis = 1)"
   ]
  },
  {
   "cell_type": "code",
   "execution_count": 37,
   "metadata": {},
   "outputs": [],
   "source": [
    "df.set_index(\"id\", inplace = True)"
   ]
  },
  {
   "cell_type": "code",
   "execution_count": 38,
   "metadata": {},
   "outputs": [
    {
     "data": {
      "text/html": [
       "<div>\n",
       "<style scoped>\n",
       "    .dataframe tbody tr th:only-of-type {\n",
       "        vertical-align: middle;\n",
       "    }\n",
       "\n",
       "    .dataframe tbody tr th {\n",
       "        vertical-align: top;\n",
       "    }\n",
       "\n",
       "    .dataframe thead th {\n",
       "        text-align: right;\n",
       "    }\n",
       "</style>\n",
       "<table border=\"1\" class=\"dataframe\">\n",
       "  <thead>\n",
       "    <tr style=\"text-align: right;\">\n",
       "      <th></th>\n",
       "      <th>qty_sold</th>\n",
       "      <th>holiday</th>\n",
       "      <th>sell_price</th>\n",
       "      <th>date</th>\n",
       "      <th>store_encode</th>\n",
       "      <th>department_encode</th>\n",
       "      <th>category_encode</th>\n",
       "      <th>region_encode</th>\n",
       "    </tr>\n",
       "    <tr>\n",
       "      <th>id</th>\n",
       "      <th></th>\n",
       "      <th></th>\n",
       "      <th></th>\n",
       "      <th></th>\n",
       "      <th></th>\n",
       "      <th></th>\n",
       "      <th></th>\n",
       "      <th></th>\n",
       "    </tr>\n",
       "  </thead>\n",
       "  <tbody>\n",
       "    <tr>\n",
       "      <th>SUPERMARKET_3_082_PHI_3</th>\n",
       "      <td>5.0</td>\n",
       "      <td>0</td>\n",
       "      <td>2.3760</td>\n",
       "      <td>2015-03-09</td>\n",
       "      <td>10</td>\n",
       "      <td>1</td>\n",
       "      <td>1</td>\n",
       "      <td>3</td>\n",
       "    </tr>\n",
       "    <tr>\n",
       "      <th>HOME_&amp;_GARDEN_2_390_NYC_3</th>\n",
       "      <td>2.0</td>\n",
       "      <td>0</td>\n",
       "      <td>7.0875</td>\n",
       "      <td>2011-05-16</td>\n",
       "      <td>6</td>\n",
       "      <td>3</td>\n",
       "      <td>2</td>\n",
       "      <td>1</td>\n",
       "    </tr>\n",
       "    <tr>\n",
       "      <th>SUPERMARKET_3_045_PHI_1</th>\n",
       "      <td>0.0</td>\n",
       "      <td>0</td>\n",
       "      <td>4.7760</td>\n",
       "      <td>2016-01-04</td>\n",
       "      <td>8</td>\n",
       "      <td>1</td>\n",
       "      <td>1</td>\n",
       "      <td>3</td>\n",
       "    </tr>\n",
       "    <tr>\n",
       "      <th>HOME_&amp;_GARDEN_1_501_NYC_1</th>\n",
       "      <td>0.0</td>\n",
       "      <td>0</td>\n",
       "      <td>4.9500</td>\n",
       "      <td>2015-11-02</td>\n",
       "      <td>4</td>\n",
       "      <td>2</td>\n",
       "      <td>2</td>\n",
       "      <td>1</td>\n",
       "    </tr>\n",
       "    <tr>\n",
       "      <th>SUPERMARKET_2_264_NYC_2</th>\n",
       "      <td>0.0</td>\n",
       "      <td>0</td>\n",
       "      <td>4.7640</td>\n",
       "      <td>2013-10-14</td>\n",
       "      <td>5</td>\n",
       "      <td>5</td>\n",
       "      <td>1</td>\n",
       "      <td>1</td>\n",
       "    </tr>\n",
       "  </tbody>\n",
       "</table>\n",
       "</div>"
      ],
      "text/plain": [
       "                           qty_sold  holiday  sell_price       date  \\\n",
       "id                                                                    \n",
       "SUPERMARKET_3_082_PHI_3         5.0        0      2.3760 2015-03-09   \n",
       "HOME_&_GARDEN_2_390_NYC_3       2.0        0      7.0875 2011-05-16   \n",
       "SUPERMARKET_3_045_PHI_1         0.0        0      4.7760 2016-01-04   \n",
       "HOME_&_GARDEN_1_501_NYC_1       0.0        0      4.9500 2015-11-02   \n",
       "SUPERMARKET_2_264_NYC_2         0.0        0      4.7640 2013-10-14   \n",
       "\n",
       "                           store_encode  department_encode  category_encode  \\\n",
       "id                                                                            \n",
       "SUPERMARKET_3_082_PHI_3              10                  1                1   \n",
       "HOME_&_GARDEN_2_390_NYC_3             6                  3                2   \n",
       "SUPERMARKET_3_045_PHI_1               8                  1                1   \n",
       "HOME_&_GARDEN_1_501_NYC_1             4                  2                2   \n",
       "SUPERMARKET_2_264_NYC_2               5                  5                1   \n",
       "\n",
       "                           region_encode  \n",
       "id                                        \n",
       "SUPERMARKET_3_082_PHI_3                3  \n",
       "HOME_&_GARDEN_2_390_NYC_3              1  \n",
       "SUPERMARKET_3_045_PHI_1                3  \n",
       "HOME_&_GARDEN_1_501_NYC_1              1  \n",
       "SUPERMARKET_2_264_NYC_2                1  "
      ]
     },
     "execution_count": 38,
     "metadata": {},
     "output_type": "execute_result"
    }
   ],
   "source": [
    "df.sample(5)"
   ]
  },
  {
   "cell_type": "code",
   "execution_count": 42,
   "metadata": {},
   "outputs": [],
   "source": [
    "train_index = sorted(list(df[\"date\"].unique()))[:-5]      #:-8\n",
    "\n",
    "valida_index = [sorted(list(df[\"date\"].unique()))[-5]]    # -8:-4\n",
    "\n",
    "test_index = [sorted(list(df[\"date\"].unique()))[-4]]    #-4:"
   ]
  },
  {
   "cell_type": "code",
   "execution_count": 43,
   "metadata": {},
   "outputs": [
    {
     "name": "stdout",
     "output_type": "stream",
     "text": [
      "Our train index is [Timestamp('2011-01-24 00:00:00')] - ... - [Timestamp('2016-04-11 00:00:00')]\n",
      "\n",
      "Our validation index is [Timestamp('2016-04-18 00:00:00')]\n",
      "\n",
      "Our test/prediction index is [Timestamp('2016-04-25 00:00:00')]\n",
      "\n"
     ]
    }
   ],
   "source": [
    "print(f\"Our train index is {train_index[:1]} - ... - {train_index[-1:]}\\n\")\n",
    "print(f\"Our validation index is {valida_index}\\n\")\n",
    "print(f\"Our test/prediction index is {test_index}\\n\")"
   ]
  },
  {
   "cell_type": "code",
   "execution_count": 44,
   "metadata": {},
   "outputs": [],
   "source": [
    "X_train = df[df[\"date\"].isin(train_index)].drop(['qty_sold', \"date\"], axis=1)\n",
    "Y_train = df[df[\"date\"].isin(train_index)]['qty_sold']\n",
    "\n",
    "X_valida = df[df[\"date\"].isin(valida_index)].drop(['qty_sold', \"date\"], axis=1)\n",
    "Y_valida = df[df[\"date\"].isin(valida_index)]['qty_sold']\n",
    "\n",
    "X_test = df[df[\"date\"].isin(test_index)].drop(['qty_sold', \"date\"], axis = 1)\n",
    "Y_test = df[df[\"date\"].isin(test_index)]['qty_sold']"
   ]
  },
  {
   "cell_type": "code",
   "execution_count": 45,
   "metadata": {},
   "outputs": [
    {
     "data": {
      "text/html": [
       "<div>\n",
       "<style scoped>\n",
       "    .dataframe tbody tr th:only-of-type {\n",
       "        vertical-align: middle;\n",
       "    }\n",
       "\n",
       "    .dataframe tbody tr th {\n",
       "        vertical-align: top;\n",
       "    }\n",
       "\n",
       "    .dataframe thead th {\n",
       "        text-align: right;\n",
       "    }\n",
       "</style>\n",
       "<table border=\"1\" class=\"dataframe\">\n",
       "  <thead>\n",
       "    <tr style=\"text-align: right;\">\n",
       "      <th></th>\n",
       "      <th>holiday</th>\n",
       "      <th>sell_price</th>\n",
       "      <th>store_encode</th>\n",
       "      <th>department_encode</th>\n",
       "      <th>category_encode</th>\n",
       "      <th>region_encode</th>\n",
       "    </tr>\n",
       "    <tr>\n",
       "      <th>id</th>\n",
       "      <th></th>\n",
       "      <th></th>\n",
       "      <th></th>\n",
       "      <th></th>\n",
       "      <th></th>\n",
       "      <th></th>\n",
       "    </tr>\n",
       "  </thead>\n",
       "  <tbody>\n",
       "    <tr>\n",
       "      <th>ACCESORIES_1_001_NYC_1</th>\n",
       "      <td>0</td>\n",
       "      <td>12.7414</td>\n",
       "      <td>4</td>\n",
       "      <td>4</td>\n",
       "      <td>3</td>\n",
       "      <td>1</td>\n",
       "    </tr>\n",
       "    <tr>\n",
       "      <th>ACCESORIES_1_002_NYC_1</th>\n",
       "      <td>0</td>\n",
       "      <td>5.2801</td>\n",
       "      <td>4</td>\n",
       "      <td>4</td>\n",
       "      <td>3</td>\n",
       "      <td>1</td>\n",
       "    </tr>\n",
       "    <tr>\n",
       "      <th>ACCESORIES_1_003_NYC_1</th>\n",
       "      <td>0</td>\n",
       "      <td>3.9501</td>\n",
       "      <td>4</td>\n",
       "      <td>4</td>\n",
       "      <td>3</td>\n",
       "      <td>1</td>\n",
       "    </tr>\n",
       "  </tbody>\n",
       "</table>\n",
       "</div>"
      ],
      "text/plain": [
       "                        holiday  sell_price  store_encode  department_encode  \\\n",
       "id                                                                             \n",
       "ACCESORIES_1_001_NYC_1        0     12.7414             4                  4   \n",
       "ACCESORIES_1_002_NYC_1        0      5.2801             4                  4   \n",
       "ACCESORIES_1_003_NYC_1        0      3.9501             4                  4   \n",
       "\n",
       "                        category_encode  region_encode  \n",
       "id                                                      \n",
       "ACCESORIES_1_001_NYC_1                3              1  \n",
       "ACCESORIES_1_002_NYC_1                3              1  \n",
       "ACCESORIES_1_003_NYC_1                3              1  "
      ]
     },
     "execution_count": 45,
     "metadata": {},
     "output_type": "execute_result"
    }
   ],
   "source": [
    "X_train.head(3)"
   ]
  },
  {
   "cell_type": "code",
   "execution_count": 46,
   "metadata": {},
   "outputs": [
    {
     "data": {
      "text/plain": [
       "id\n",
       "SUPERMARKET_3_825_PHI_3    0.0\n",
       "SUPERMARKET_3_826_PHI_3    1.0\n",
       "SUPERMARKET_3_827_PHI_3    0.0\n",
       "Name: qty_sold, dtype: float64"
      ]
     },
     "execution_count": 46,
     "metadata": {},
     "output_type": "execute_result"
    }
   ],
   "source": [
    "Y_train.tail(3)"
   ]
  },
  {
   "cell_type": "code",
   "execution_count": 47,
   "metadata": {},
   "outputs": [
    {
     "data": {
      "text/html": [
       "<div>\n",
       "<style scoped>\n",
       "    .dataframe tbody tr th:only-of-type {\n",
       "        vertical-align: middle;\n",
       "    }\n",
       "\n",
       "    .dataframe tbody tr th {\n",
       "        vertical-align: top;\n",
       "    }\n",
       "\n",
       "    .dataframe thead th {\n",
       "        text-align: right;\n",
       "    }\n",
       "</style>\n",
       "<table border=\"1\" class=\"dataframe\">\n",
       "  <thead>\n",
       "    <tr style=\"text-align: right;\">\n",
       "      <th></th>\n",
       "      <th>holiday</th>\n",
       "      <th>sell_price</th>\n",
       "      <th>store_encode</th>\n",
       "      <th>department_encode</th>\n",
       "      <th>category_encode</th>\n",
       "      <th>region_encode</th>\n",
       "    </tr>\n",
       "    <tr>\n",
       "      <th>id</th>\n",
       "      <th></th>\n",
       "      <th></th>\n",
       "      <th></th>\n",
       "      <th></th>\n",
       "      <th></th>\n",
       "      <th></th>\n",
       "    </tr>\n",
       "  </thead>\n",
       "  <tbody>\n",
       "    <tr>\n",
       "      <th>SUPERMARKET_3_823_PHI_3</th>\n",
       "      <td>0</td>\n",
       "      <td>3.576</td>\n",
       "      <td>10</td>\n",
       "      <td>1</td>\n",
       "      <td>1</td>\n",
       "      <td>3</td>\n",
       "    </tr>\n",
       "    <tr>\n",
       "      <th>SUPERMARKET_3_824_PHI_3</th>\n",
       "      <td>0</td>\n",
       "      <td>2.976</td>\n",
       "      <td>10</td>\n",
       "      <td>1</td>\n",
       "      <td>1</td>\n",
       "      <td>3</td>\n",
       "    </tr>\n",
       "    <tr>\n",
       "      <th>SUPERMARKET_3_825_PHI_3</th>\n",
       "      <td>0</td>\n",
       "      <td>4.776</td>\n",
       "      <td>10</td>\n",
       "      <td>1</td>\n",
       "      <td>1</td>\n",
       "      <td>3</td>\n",
       "    </tr>\n",
       "    <tr>\n",
       "      <th>SUPERMARKET_3_826_PHI_3</th>\n",
       "      <td>0</td>\n",
       "      <td>1.536</td>\n",
       "      <td>10</td>\n",
       "      <td>1</td>\n",
       "      <td>1</td>\n",
       "      <td>3</td>\n",
       "    </tr>\n",
       "    <tr>\n",
       "      <th>SUPERMARKET_3_827_PHI_3</th>\n",
       "      <td>0</td>\n",
       "      <td>1.200</td>\n",
       "      <td>10</td>\n",
       "      <td>1</td>\n",
       "      <td>1</td>\n",
       "      <td>3</td>\n",
       "    </tr>\n",
       "  </tbody>\n",
       "</table>\n",
       "</div>"
      ],
      "text/plain": [
       "                         holiday  sell_price  store_encode  department_encode  \\\n",
       "id                                                                              \n",
       "SUPERMARKET_3_823_PHI_3        0       3.576            10                  1   \n",
       "SUPERMARKET_3_824_PHI_3        0       2.976            10                  1   \n",
       "SUPERMARKET_3_825_PHI_3        0       4.776            10                  1   \n",
       "SUPERMARKET_3_826_PHI_3        0       1.536            10                  1   \n",
       "SUPERMARKET_3_827_PHI_3        0       1.200            10                  1   \n",
       "\n",
       "                         category_encode  region_encode  \n",
       "id                                                       \n",
       "SUPERMARKET_3_823_PHI_3                1              3  \n",
       "SUPERMARKET_3_824_PHI_3                1              3  \n",
       "SUPERMARKET_3_825_PHI_3                1              3  \n",
       "SUPERMARKET_3_826_PHI_3                1              3  \n",
       "SUPERMARKET_3_827_PHI_3                1              3  "
      ]
     },
     "execution_count": 47,
     "metadata": {},
     "output_type": "execute_result"
    }
   ],
   "source": [
    "X_valida.tail(3)"
   ]
  },
  {
   "cell_type": "code",
   "execution_count": 48,
   "metadata": {},
   "outputs": [
    {
     "data": {
      "text/html": [
       "<div>\n",
       "<style scoped>\n",
       "    .dataframe tbody tr th:only-of-type {\n",
       "        vertical-align: middle;\n",
       "    }\n",
       "\n",
       "    .dataframe tbody tr th {\n",
       "        vertical-align: top;\n",
       "    }\n",
       "\n",
       "    .dataframe thead th {\n",
       "        text-align: right;\n",
       "    }\n",
       "</style>\n",
       "<table border=\"1\" class=\"dataframe\">\n",
       "  <thead>\n",
       "    <tr style=\"text-align: right;\">\n",
       "      <th></th>\n",
       "      <th>holiday</th>\n",
       "      <th>sell_price</th>\n",
       "      <th>store_encode</th>\n",
       "      <th>department_encode</th>\n",
       "      <th>category_encode</th>\n",
       "      <th>region_encode</th>\n",
       "    </tr>\n",
       "    <tr>\n",
       "      <th>id</th>\n",
       "      <th></th>\n",
       "      <th></th>\n",
       "      <th></th>\n",
       "      <th></th>\n",
       "      <th></th>\n",
       "      <th></th>\n",
       "    </tr>\n",
       "  </thead>\n",
       "  <tbody>\n",
       "    <tr>\n",
       "      <th>ACCESORIES_1_001_BOS_1</th>\n",
       "      <td>0</td>\n",
       "      <td>10.9858</td>\n",
       "      <td>1</td>\n",
       "      <td>4</td>\n",
       "      <td>3</td>\n",
       "      <td>2</td>\n",
       "    </tr>\n",
       "    <tr>\n",
       "      <th>ACCESORIES_1_001_BOS_2</th>\n",
       "      <td>0</td>\n",
       "      <td>10.9858</td>\n",
       "      <td>2</td>\n",
       "      <td>4</td>\n",
       "      <td>3</td>\n",
       "      <td>2</td>\n",
       "    </tr>\n",
       "    <tr>\n",
       "      <th>ACCESORIES_1_001_BOS_3</th>\n",
       "      <td>0</td>\n",
       "      <td>10.9858</td>\n",
       "      <td>3</td>\n",
       "      <td>4</td>\n",
       "      <td>3</td>\n",
       "      <td>2</td>\n",
       "    </tr>\n",
       "    <tr>\n",
       "      <th>ACCESORIES_1_001_NYC_1</th>\n",
       "      <td>0</td>\n",
       "      <td>11.1454</td>\n",
       "      <td>4</td>\n",
       "      <td>4</td>\n",
       "      <td>3</td>\n",
       "      <td>1</td>\n",
       "    </tr>\n",
       "    <tr>\n",
       "      <th>ACCESORIES_1_001_NYC_2</th>\n",
       "      <td>0</td>\n",
       "      <td>11.1454</td>\n",
       "      <td>5</td>\n",
       "      <td>4</td>\n",
       "      <td>3</td>\n",
       "      <td>1</td>\n",
       "    </tr>\n",
       "  </tbody>\n",
       "</table>\n",
       "</div>"
      ],
      "text/plain": [
       "                        holiday  sell_price  store_encode  department_encode  \\\n",
       "id                                                                             \n",
       "ACCESORIES_1_001_BOS_1        0     10.9858             1                  4   \n",
       "ACCESORIES_1_001_BOS_2        0     10.9858             2                  4   \n",
       "ACCESORIES_1_001_BOS_3        0     10.9858             3                  4   \n",
       "ACCESORIES_1_001_NYC_1        0     11.1454             4                  4   \n",
       "ACCESORIES_1_001_NYC_2        0     11.1454             5                  4   \n",
       "\n",
       "                        category_encode  region_encode  \n",
       "id                                                      \n",
       "ACCESORIES_1_001_BOS_1                3              2  \n",
       "ACCESORIES_1_001_BOS_2                3              2  \n",
       "ACCESORIES_1_001_BOS_3                3              2  \n",
       "ACCESORIES_1_001_NYC_1                3              1  \n",
       "ACCESORIES_1_001_NYC_2                3              1  "
      ]
     },
     "execution_count": 48,
     "metadata": {},
     "output_type": "execute_result"
    }
   ],
   "source": [
    "X_test.head(3)"
   ]
  },
  {
   "cell_type": "markdown",
   "metadata": {},
   "source": [
    "# Hiper-parametrizacion"
   ]
  },
  {
   "cell_type": "code",
   "execution_count": 49,
   "metadata": {},
   "outputs": [
    {
     "data": {
      "text/plain": [
       "\"from sklearn.model_selection import GridSearchCV\\n\\nparam_grid = {\\n    'n_estimators': [50, 75, 100, 150],\\n    'max_depth': [5, 6, 7],\\n    'gamma' : [0, 0.1, 0.2],\\n#    'reg_alpha' : [0, 0.1, 0.01],\\n#    'reg_lambda': [0.9, 1, 1.1],\\n    'learning_rate' : [0.1, 0.25, 0.3]\\n}\\n\\ngrid_search = GridSearchCV(xgb.XGBRegressor(), param_grid, cv=3, scoring='neg_mean_squared_error')\\ngrid_search.fit(X_train, Y_train, eval_set = [(X_train, Y_train), (X_valida, Y_valida)], verbose = False)\\n\\nmodel = grid_search.best_estimator_\""
      ]
     },
     "execution_count": 49,
     "metadata": {},
     "output_type": "execute_result"
    }
   ],
   "source": [
    "'''from sklearn.model_selection import GridSearchCV\n",
    "\n",
    "param_grid = {\n",
    "    'n_estimators': [50, 75, 100, 150],\n",
    "    'max_depth': [5, 6, 7],\n",
    "    'gamma' : [0, 0.1, 0.2],\n",
    "#    'reg_alpha' : [0, 0.1, 0.01],\n",
    "#    'reg_lambda': [0.9, 1, 1.1],\n",
    "    'learning_rate' : [0.1, 0.25, 0.3]\n",
    "}\n",
    "\n",
    "grid_search = GridSearchCV(xgb.XGBRegressor(), param_grid, cv=3, scoring='neg_mean_squared_error')\n",
    "grid_search.fit(X_train, Y_train, eval_set = [(X_train, Y_train), (X_valida, Y_valida)], verbose = False)\n",
    "\n",
    "model = grid_search.best_estimator_'''"
   ]
  },
  {
   "cell_type": "code",
   "execution_count": 50,
   "metadata": {},
   "outputs": [
    {
     "data": {
      "text/plain": [
       "'print(\"---- Results from Random Search -----\" )\\nprint(\"\\n The best estimator across ALL searched params:\", grid_search.best_estimator_)\\nprint(\"\\n The best RMSE:\", grid_search.best_score_)\\nprint(\"\\n The best parameters across ALL searched params:\\n\", grid_search.best_params_)'"
      ]
     },
     "execution_count": 50,
     "metadata": {},
     "output_type": "execute_result"
    }
   ],
   "source": [
    "'''print(\"---- Results from Random Search -----\" )\n",
    "print(\"\\n The best estimator across ALL searched params:\", grid_search.best_estimator_)\n",
    "print(\"\\n The best RMSE:\", grid_search.best_score_)\n",
    "print(\"\\n The best parameters across ALL searched params:\\n\", grid_search.best_params_)'''"
   ]
  },
  {
   "cell_type": "markdown",
   "metadata": {},
   "source": [
    "# Model Train"
   ]
  },
  {
   "cell_type": "code",
   "execution_count": 51,
   "metadata": {},
   "outputs": [
    {
     "name": "stdout",
     "output_type": "stream",
     "text": [
      "[0]\tvalidation_0-rmse:3.74636\tvalidation_1-rmse:3.26283\n",
      "[10]\tvalidation_0-rmse:3.57965\tvalidation_1-rmse:3.11972\n",
      "[20]\tvalidation_0-rmse:3.56874\tvalidation_1-rmse:3.11508\n",
      "[30]\tvalidation_0-rmse:3.56291\tvalidation_1-rmse:3.10882\n",
      "[40]\tvalidation_0-rmse:3.55888\tvalidation_1-rmse:3.10536\n",
      "[50]\tvalidation_0-rmse:3.55487\tvalidation_1-rmse:3.10395\n",
      "[60]\tvalidation_0-rmse:3.55279\tvalidation_1-rmse:3.10391\n",
      "[70]\tvalidation_0-rmse:3.55067\tvalidation_1-rmse:3.09711\n",
      "[80]\tvalidation_0-rmse:3.54848\tvalidation_1-rmse:3.09311\n",
      "[90]\tvalidation_0-rmse:3.54748\tvalidation_1-rmse:3.09277\n",
      "[99]\tvalidation_0-rmse:3.54655\tvalidation_1-rmse:3.09141\n"
     ]
    },
    {
     "data": {
      "text/html": [
       "<style>#sk-container-id-1 {color: black;}#sk-container-id-1 pre{padding: 0;}#sk-container-id-1 div.sk-toggleable {background-color: white;}#sk-container-id-1 label.sk-toggleable__label {cursor: pointer;display: block;width: 100%;margin-bottom: 0;padding: 0.3em;box-sizing: border-box;text-align: center;}#sk-container-id-1 label.sk-toggleable__label-arrow:before {content: \"▸\";float: left;margin-right: 0.25em;color: #696969;}#sk-container-id-1 label.sk-toggleable__label-arrow:hover:before {color: black;}#sk-container-id-1 div.sk-estimator:hover label.sk-toggleable__label-arrow:before {color: black;}#sk-container-id-1 div.sk-toggleable__content {max-height: 0;max-width: 0;overflow: hidden;text-align: left;background-color: #f0f8ff;}#sk-container-id-1 div.sk-toggleable__content pre {margin: 0.2em;color: black;border-radius: 0.25em;background-color: #f0f8ff;}#sk-container-id-1 input.sk-toggleable__control:checked~div.sk-toggleable__content {max-height: 200px;max-width: 100%;overflow: auto;}#sk-container-id-1 input.sk-toggleable__control:checked~label.sk-toggleable__label-arrow:before {content: \"▾\";}#sk-container-id-1 div.sk-estimator input.sk-toggleable__control:checked~label.sk-toggleable__label {background-color: #d4ebff;}#sk-container-id-1 div.sk-label input.sk-toggleable__control:checked~label.sk-toggleable__label {background-color: #d4ebff;}#sk-container-id-1 input.sk-hidden--visually {border: 0;clip: rect(1px 1px 1px 1px);clip: rect(1px, 1px, 1px, 1px);height: 1px;margin: -1px;overflow: hidden;padding: 0;position: absolute;width: 1px;}#sk-container-id-1 div.sk-estimator {font-family: monospace;background-color: #f0f8ff;border: 1px dotted black;border-radius: 0.25em;box-sizing: border-box;margin-bottom: 0.5em;}#sk-container-id-1 div.sk-estimator:hover {background-color: #d4ebff;}#sk-container-id-1 div.sk-parallel-item::after {content: \"\";width: 100%;border-bottom: 1px solid gray;flex-grow: 1;}#sk-container-id-1 div.sk-label:hover label.sk-toggleable__label {background-color: #d4ebff;}#sk-container-id-1 div.sk-serial::before {content: \"\";position: absolute;border-left: 1px solid gray;box-sizing: border-box;top: 0;bottom: 0;left: 50%;z-index: 0;}#sk-container-id-1 div.sk-serial {display: flex;flex-direction: column;align-items: center;background-color: white;padding-right: 0.2em;padding-left: 0.2em;position: relative;}#sk-container-id-1 div.sk-item {position: relative;z-index: 1;}#sk-container-id-1 div.sk-parallel {display: flex;align-items: stretch;justify-content: center;background-color: white;position: relative;}#sk-container-id-1 div.sk-item::before, #sk-container-id-1 div.sk-parallel-item::before {content: \"\";position: absolute;border-left: 1px solid gray;box-sizing: border-box;top: 0;bottom: 0;left: 50%;z-index: -1;}#sk-container-id-1 div.sk-parallel-item {display: flex;flex-direction: column;z-index: 1;position: relative;background-color: white;}#sk-container-id-1 div.sk-parallel-item:first-child::after {align-self: flex-end;width: 50%;}#sk-container-id-1 div.sk-parallel-item:last-child::after {align-self: flex-start;width: 50%;}#sk-container-id-1 div.sk-parallel-item:only-child::after {width: 0;}#sk-container-id-1 div.sk-dashed-wrapped {border: 1px dashed gray;margin: 0 0.4em 0.5em 0.4em;box-sizing: border-box;padding-bottom: 0.4em;background-color: white;}#sk-container-id-1 div.sk-label label {font-family: monospace;font-weight: bold;display: inline-block;line-height: 1.2em;}#sk-container-id-1 div.sk-label-container {text-align: center;}#sk-container-id-1 div.sk-container {/* jupyter's `normalize.less` sets `[hidden] { display: none; }` but bootstrap.min.css set `[hidden] { display: none !important; }` so we also need the `!important` here to be able to override the default hidden behavior on the sphinx rendered scikit-learn.org. See: https://github.com/scikit-learn/scikit-learn/issues/21755 */display: inline-block !important;position: relative;}#sk-container-id-1 div.sk-text-repr-fallback {display: none;}</style><div id=\"sk-container-id-1\" class=\"sk-top-container\"><div class=\"sk-text-repr-fallback\"><pre>XGBRegressor(base_score=None, booster=None, callbacks=None,\n",
       "             colsample_bylevel=None, colsample_bynode=None,\n",
       "             colsample_bytree=None, device=None, early_stopping_rounds=None,\n",
       "             enable_categorical=False, eval_metric=&#x27;rmse&#x27;, feature_types=None,\n",
       "             gamma=None, grow_policy=None, importance_type=None,\n",
       "             interaction_constraints=None, learning_rate=None, max_bin=None,\n",
       "             max_cat_threshold=None, max_cat_to_onehot=None,\n",
       "             max_delta_step=None, max_depth=None, max_leaves=None,\n",
       "             min_child_weight=None, missing=nan, monotone_constraints=None,\n",
       "             multi_strategy=None, n_estimators=None, n_jobs=None,\n",
       "             num_parallel_tree=None, random_state=None, ...)</pre><b>In a Jupyter environment, please rerun this cell to show the HTML representation or trust the notebook. <br />On GitHub, the HTML representation is unable to render, please try loading this page with nbviewer.org.</b></div><div class=\"sk-container\" hidden><div class=\"sk-item\"><div class=\"sk-estimator sk-toggleable\"><input class=\"sk-toggleable__control sk-hidden--visually\" id=\"sk-estimator-id-1\" type=\"checkbox\" checked><label for=\"sk-estimator-id-1\" class=\"sk-toggleable__label sk-toggleable__label-arrow\">XGBRegressor</label><div class=\"sk-toggleable__content\"><pre>XGBRegressor(base_score=None, booster=None, callbacks=None,\n",
       "             colsample_bylevel=None, colsample_bynode=None,\n",
       "             colsample_bytree=None, device=None, early_stopping_rounds=None,\n",
       "             enable_categorical=False, eval_metric=&#x27;rmse&#x27;, feature_types=None,\n",
       "             gamma=None, grow_policy=None, importance_type=None,\n",
       "             interaction_constraints=None, learning_rate=None, max_bin=None,\n",
       "             max_cat_threshold=None, max_cat_to_onehot=None,\n",
       "             max_delta_step=None, max_depth=None, max_leaves=None,\n",
       "             min_child_weight=None, missing=nan, monotone_constraints=None,\n",
       "             multi_strategy=None, n_estimators=None, n_jobs=None,\n",
       "             num_parallel_tree=None, random_state=None, ...)</pre></div></div></div></div></div>"
      ],
      "text/plain": [
       "XGBRegressor(base_score=None, booster=None, callbacks=None,\n",
       "             colsample_bylevel=None, colsample_bynode=None,\n",
       "             colsample_bytree=None, device=None, early_stopping_rounds=None,\n",
       "             enable_categorical=False, eval_metric='rmse', feature_types=None,\n",
       "             gamma=None, grow_policy=None, importance_type=None,\n",
       "             interaction_constraints=None, learning_rate=None, max_bin=None,\n",
       "             max_cat_threshold=None, max_cat_to_onehot=None,\n",
       "             max_delta_step=None, max_depth=None, max_leaves=None,\n",
       "             min_child_weight=None, missing=nan, monotone_constraints=None,\n",
       "             multi_strategy=None, n_estimators=None, n_jobs=None,\n",
       "             num_parallel_tree=None, random_state=None, ...)"
      ]
     },
     "execution_count": 51,
     "metadata": {},
     "output_type": "execute_result"
    }
   ],
   "source": [
    "model = xgb.XGBRegressor(\n",
    "              eval_metric = \"rmse\",\n",
    "              seed = 175\n",
    "#              , n_estimators = 75\n",
    "#              , max_depth = 6\n",
    "#              , gamma = 0\n",
    "#              , reg_alpha =0\n",
    "#              , reg_lambda = 1\n",
    "#              , learning_rate = 0.1\n",
    "              )\n",
    "\n",
    "model.fit(X_train, Y_train, eval_set = [(X_train, Y_train), (X_valida, Y_valida)], verbose = 10)"
   ]
  },
  {
   "cell_type": "markdown",
   "metadata": {},
   "source": [
    "### >> Model Evaluation"
   ]
  },
  {
   "cell_type": "code",
   "execution_count": 52,
   "metadata": {},
   "outputs": [
    {
     "data": {
      "text/plain": [
       "<Axes: title={'center': 'Feature importance'}, xlabel='F score', ylabel='Features'>"
      ]
     },
     "execution_count": 52,
     "metadata": {},
     "output_type": "execute_result"
    },
    {
     "data": {
      "image/png": "[encoded data removed]",
      "text/plain": [
       "<Figure size 1000x1500 with 1 Axes>"
      ]
     },
     "metadata": {},
     "output_type": "display_data"
    }
   ],
   "source": [
    "fig, ax = plt.subplots(figsize = (10, 15))\n",
    "xgb.plot_importance(model, importance_type = \"gain\", ax = ax)"
   ]
  },
  {
   "cell_type": "markdown",
   "metadata": {},
   "source": [
    "# Prediction"
   ]
  },
  {
   "cell_type": "code",
   "execution_count": 53,
   "metadata": {},
   "outputs": [],
   "source": [
    "if \"qty_sold\" in X_test.columns:\n",
    "    X_test.drop(\"qty_sold\", axis = 1, inplace = True)\n",
    "\n",
    "Y_test_predict = model.predict(X_test)\n",
    "X_test[\"qty_sold\"] = Y_test_predict"
   ]
  },
  {
   "cell_type": "code",
   "execution_count": 54,
   "metadata": {},
   "outputs": [],
   "source": [
    "X_test.reset_index(inplace = True)"
   ]
  },
  {
   "cell_type": "code",
   "execution_count": 55,
   "metadata": {},
   "outputs": [
    {
     "data": {
      "text/html": [
       "<div>\n",
       "<style scoped>\n",
       "    .dataframe tbody tr th:only-of-type {\n",
       "        vertical-align: middle;\n",
       "    }\n",
       "\n",
       "    .dataframe tbody tr th {\n",
       "        vertical-align: top;\n",
       "    }\n",
       "\n",
       "    .dataframe thead th {\n",
       "        text-align: right;\n",
       "    }\n",
       "</style>\n",
       "<table border=\"1\" class=\"dataframe\">\n",
       "  <thead>\n",
       "    <tr style=\"text-align: right;\">\n",
       "      <th></th>\n",
       "      <th>id</th>\n",
       "      <th>holiday</th>\n",
       "      <th>sell_price</th>\n",
       "      <th>store_encode</th>\n",
       "      <th>department_encode</th>\n",
       "      <th>category_encode</th>\n",
       "      <th>region_encode</th>\n",
       "      <th>qty_sold</th>\n",
       "    </tr>\n",
       "  </thead>\n",
       "  <tbody>\n",
       "    <tr>\n",
       "      <th>0</th>\n",
       "      <td>ACCESORIES_1_001_BOS_1</td>\n",
       "      <td>0</td>\n",
       "      <td>10.9858</td>\n",
       "      <td>1</td>\n",
       "      <td>4</td>\n",
       "      <td>3</td>\n",
       "      <td>2</td>\n",
       "      <td>0.357899</td>\n",
       "    </tr>\n",
       "    <tr>\n",
       "      <th>1</th>\n",
       "      <td>ACCESORIES_1_001_BOS_2</td>\n",
       "      <td>0</td>\n",
       "      <td>10.9858</td>\n",
       "      <td>2</td>\n",
       "      <td>4</td>\n",
       "      <td>3</td>\n",
       "      <td>2</td>\n",
       "      <td>0.507800</td>\n",
       "    </tr>\n",
       "    <tr>\n",
       "      <th>2</th>\n",
       "      <td>ACCESORIES_1_001_BOS_3</td>\n",
       "      <td>0</td>\n",
       "      <td>10.9858</td>\n",
       "      <td>3</td>\n",
       "      <td>4</td>\n",
       "      <td>3</td>\n",
       "      <td>2</td>\n",
       "      <td>0.463741</td>\n",
       "    </tr>\n",
       "    <tr>\n",
       "      <th>3</th>\n",
       "      <td>ACCESORIES_1_001_NYC_1</td>\n",
       "      <td>0</td>\n",
       "      <td>11.1454</td>\n",
       "      <td>4</td>\n",
       "      <td>4</td>\n",
       "      <td>3</td>\n",
       "      <td>1</td>\n",
       "      <td>0.669493</td>\n",
       "    </tr>\n",
       "    <tr>\n",
       "      <th>4</th>\n",
       "      <td>ACCESORIES_1_001_NYC_2</td>\n",
       "      <td>0</td>\n",
       "      <td>11.1454</td>\n",
       "      <td>5</td>\n",
       "      <td>4</td>\n",
       "      <td>3</td>\n",
       "      <td>1</td>\n",
       "      <td>0.562683</td>\n",
       "    </tr>\n",
       "  </tbody>\n",
       "</table>\n",
       "</div>"
      ],
      "text/plain": [
       "                       id  holiday  sell_price  store_encode  \\\n",
       "0  ACCESORIES_1_001_BOS_1        0     10.9858             1   \n",
       "1  ACCESORIES_1_001_BOS_2        0     10.9858             2   \n",
       "2  ACCESORIES_1_001_BOS_3        0     10.9858             3   \n",
       "3  ACCESORIES_1_001_NYC_1        0     11.1454             4   \n",
       "4  ACCESORIES_1_001_NYC_2        0     11.1454             5   \n",
       "\n",
       "   department_encode  category_encode  region_encode  qty_sold  \n",
       "0                  4                3              2  0.357899  \n",
       "1                  4                3              2  0.507800  \n",
       "2                  4                3              2  0.463741  \n",
       "3                  4                3              1  0.669493  \n",
       "4                  4                3              1  0.562683  "
      ]
     },
     "execution_count": 55,
     "metadata": {},
     "output_type": "execute_result"
    }
   ],
   "source": [
    "X_test.head()"
   ]
  },
  {
   "cell_type": "code",
   "execution_count": 56,
   "metadata": {},
   "outputs": [],
   "source": [
    "Y_train_predict = model.predict(X_train)\n",
    "Y_valida_predict = model.predict(X_valida)\n",
    "\n",
    "rmse_train = np.sqrt(\n",
    "    mean_squared_error(\n",
    "        y_true = Y_train,\n",
    "        y_pred = Y_train_predict\n",
    "    )\n",
    ")\n",
    "\n",
    "rmse_valida = np.sqrt(\n",
    "    mean_squared_error(\n",
    "        y_true = Y_valida,\n",
    "        y_pred = Y_valida_predict\n",
    "    )\n",
    ")\n",
    "\n",
    "rmse_train= str(round(rmse_train, 3)).replace(\".\", \"_\")\n",
    "rmse_valida = str(round(rmse_valida, 3)).replace(\".\", \"_\")"
   ]
  },
  {
   "cell_type": "code",
   "execution_count": 57,
   "metadata": {},
   "outputs": [
    {
     "name": "stdout",
     "output_type": "stream",
     "text": [
      "Train RMSE: 3_547\n",
      "Validation RMSE: 3_091\n"
     ]
    }
   ],
   "source": [
    "print(f\"Train RMSE: {rmse_train}\")\n",
    "print(f\"Validation RMSE: {rmse_valida}\")"
   ]
  },
  {
   "cell_type": "code",
   "execution_count": 58,
   "metadata": {},
   "outputs": [
    {
     "data": {
      "image/png": "[encoded data removed]",
      "text/plain": [
       "<Figure size 640x480 with 1 Axes>"
      ]
     },
     "metadata": {},
     "output_type": "display_data"
    }
   ],
   "source": [
    "# Obtener métricas\n",
    "results = model.evals_result()\n",
    "# Gráfica de métricas\n",
    "epochs = len(results['validation_0']['rmse'])\n",
    "x_axis = range(0, epochs)\n",
    "# Métricas de entrenamiento\n",
    "plt.plot(x_axis, results['validation_0']['rmse'], label='Train')\n",
    "# Métricas de validação\n",
    "plt.plot(x_axis, results['validation_1']['rmse'], label='Validation')\n",
    "plt.legend()\n",
    "plt.xlabel('Numero de Iteraciones')\n",
    "plt.ylabel('RMSE')\n",
    "plt.title('Desempeño del Modelo - Train vs Validation')\n",
    "plt.show()"
   ]
  },
  {
   "cell_type": "code",
   "execution_count": 59,
   "metadata": {},
   "outputs": [
    {
     "data": {
      "text/html": [
       "<div>\n",
       "<style scoped>\n",
       "    .dataframe tbody tr th:only-of-type {\n",
       "        vertical-align: middle;\n",
       "    }\n",
       "\n",
       "    .dataframe tbody tr th {\n",
       "        vertical-align: top;\n",
       "    }\n",
       "\n",
       "    .dataframe thead th {\n",
       "        text-align: right;\n",
       "    }\n",
       "</style>\n",
       "<table border=\"1\" class=\"dataframe\">\n",
       "  <thead>\n",
       "    <tr style=\"text-align: right;\">\n",
       "      <th></th>\n",
       "      <th>id</th>\n",
       "      <th>qty_sold</th>\n",
       "    </tr>\n",
       "  </thead>\n",
       "  <tbody>\n",
       "    <tr>\n",
       "      <th>0</th>\n",
       "      <td>ACCESORIES_1_001_BOS_1</td>\n",
       "      <td>0.357899</td>\n",
       "    </tr>\n",
       "    <tr>\n",
       "      <th>1</th>\n",
       "      <td>ACCESORIES_1_001_BOS_2</td>\n",
       "      <td>0.507800</td>\n",
       "    </tr>\n",
       "    <tr>\n",
       "      <th>2</th>\n",
       "      <td>ACCESORIES_1_001_BOS_3</td>\n",
       "      <td>0.463741</td>\n",
       "    </tr>\n",
       "    <tr>\n",
       "      <th>3</th>\n",
       "      <td>ACCESORIES_1_001_NYC_1</td>\n",
       "      <td>0.669493</td>\n",
       "    </tr>\n",
       "    <tr>\n",
       "      <th>4</th>\n",
       "      <td>ACCESORIES_1_001_NYC_2</td>\n",
       "      <td>0.562683</td>\n",
       "    </tr>\n",
       "    <tr>\n",
       "      <th>...</th>\n",
       "      <td>...</td>\n",
       "      <td>...</td>\n",
       "    </tr>\n",
       "    <tr>\n",
       "      <th>30485</th>\n",
       "      <td>SUPERMARKET_3_827_NYC_3</td>\n",
       "      <td>7.273420</td>\n",
       "    </tr>\n",
       "    <tr>\n",
       "      <th>30486</th>\n",
       "      <td>SUPERMARKET_3_827_NYC_4</td>\n",
       "      <td>2.058007</td>\n",
       "    </tr>\n",
       "    <tr>\n",
       "      <th>30487</th>\n",
       "      <td>SUPERMARKET_3_827_PHI_1</td>\n",
       "      <td>2.623773</td>\n",
       "    </tr>\n",
       "    <tr>\n",
       "      <th>30488</th>\n",
       "      <td>SUPERMARKET_3_827_PHI_2</td>\n",
       "      <td>3.561929</td>\n",
       "    </tr>\n",
       "    <tr>\n",
       "      <th>30489</th>\n",
       "      <td>SUPERMARKET_3_827_PHI_3</td>\n",
       "      <td>4.424783</td>\n",
       "    </tr>\n",
       "  </tbody>\n",
       "</table>\n",
       "<p>30490 rows × 2 columns</p>\n",
       "</div>"
      ],
      "text/plain": [
       "                            id  qty_sold\n",
       "0       ACCESORIES_1_001_BOS_1  0.357899\n",
       "1       ACCESORIES_1_001_BOS_2  0.507800\n",
       "2       ACCESORIES_1_001_BOS_3  0.463741\n",
       "3       ACCESORIES_1_001_NYC_1  0.669493\n",
       "4       ACCESORIES_1_001_NYC_2  0.562683\n",
       "...                        ...       ...\n",
       "30485  SUPERMARKET_3_827_NYC_3  7.273420\n",
       "30486  SUPERMARKET_3_827_NYC_4  2.058007\n",
       "30487  SUPERMARKET_3_827_PHI_1  2.623773\n",
       "30488  SUPERMARKET_3_827_PHI_2  3.561929\n",
       "30489  SUPERMARKET_3_827_PHI_3  4.424783\n",
       "\n",
       "[30490 rows x 2 columns]"
      ]
     },
     "execution_count": 59,
     "metadata": {},
     "output_type": "execute_result"
    }
   ],
   "source": [
    "# Subimos a Kaggle un fichero con este formato:\n",
    "X_test[['date','id','qty_sold']]"
   ]
  },
  {
   "cell_type": "code",
   "execution_count": null,
   "metadata": {},
   "outputs": [],
   "source": []
  }
 ],
 "metadata": {
  "kernelspec": {
   "display_name": "Python 3",
   "language": "python",
   "name": "python3"
  },
  "language_info": {
   "codemirror_mode": {
    "name": "ipython",
    "version": 3
   },
   "file_extension": ".py",
   "mimetype": "text/x-python",
   "name": "python",
   "nbconvert_exporter": "python",
   "pygments_lexer": "ipython3",
   "version": "3.12.0"
  }
 },
 "nbformat": 4,
 "nbformat_minor": 2
}
